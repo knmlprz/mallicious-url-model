{
 "cells": [
  {
   "cell_type": "markdown",
   "metadata": {
    "collapsed": true,
    "pycharm": {
     "name": "#%% md\n"
    }
   },
   "source": [
    "# Good URLs extractor\n",
    "\n",
    "---\n",
    "\n",
    "This notebook explains what exactly was kept and what was deleted from original\n",
    "datasets"
   ]
  },
  {
   "cell_type": "code",
   "execution_count": 1,
   "outputs": [
    {
     "name": "stdout",
     "output_type": "stream",
     "text": [
      "Populating the interactive namespace from numpy and matplotlib\n"
     ]
    }
   ],
   "source": [
    "%pylab inline\n",
    "import pandas as pd\n",
    "from IPython.display import display\n",
    "\n",
    "# URLs-good\n",
    "ALEXA1M_PATH = \"Data/URLs-good/alexa1m.csv\"\n",
    "ISCX_BENIGN_PATH = \"Data/URLs-good/ISCX_benign.csv\"\n",
    "POLAND100_PATH = \"Data/URLs-good/poland100.csv\"\n",
    "MOZ500_PATH = \"Data/URLs-good/Moz500.csv\"\n",
    "CATEGORIZED_DFE_PATH = \"Data/URLs-good/categorized_dfe.csv\"\n",
    "GOV_POLAND_PATH = \"Data/URLs-good/gov_poland.csv\"\n",
    "\n",
    "# URLs-mixed\n",
    "KAGGLE_LABELED_PATH = \"Data/URLs-mixed/kaggle_labeled.csv\"\n",
    "MENDELEY_LABEL1M_PATH = \"Data/URLs-mixed/mendeley_label1m_s.csv\"\n",
    "MENDELEY_LABEL300K_PATH = \"Data/URLs-mixed/mendeley_label300k_s.csv\"\n",
    "PHISH_STORM_PATH = \"Data/URLs-mixed/phish_storm.csv\""
   ],
   "metadata": {
    "collapsed": false,
    "pycharm": {
     "name": "#%%\n"
    }
   }
  },
  {
   "cell_type": "code",
   "source": [
    "print('Alexa top 641k:')\n",
    "alexa1m = pd.read_csv(\n",
    "    ALEXA1M_PATH,\n",
    "    names=['iD','domain'],\n",
    "    usecols=[1]\n",
    ")\n",
    "alexa1m.head(6)"
   ],
   "metadata": {
    "collapsed": false,
    "pycharm": {
     "name": "#%%\n"
    }
   },
   "execution_count": 2,
   "outputs": [
    {
     "name": "stdout",
     "output_type": "stream",
     "text": [
      "Alexa top 641k:\n"
     ]
    },
    {
     "data": {
      "text/plain": "        domain\n0   google.com\n1  youtube.com\n2    tmall.com\n3    baidu.com\n4       qq.com\n5     sohu.com",
      "text/html": "<div>\n<style scoped>\n    .dataframe tbody tr th:only-of-type {\n        vertical-align: middle;\n    }\n\n    .dataframe tbody tr th {\n        vertical-align: top;\n    }\n\n    .dataframe thead th {\n        text-align: right;\n    }\n</style>\n<table border=\"1\" class=\"dataframe\">\n  <thead>\n    <tr style=\"text-align: right;\">\n      <th></th>\n      <th>domain</th>\n    </tr>\n  </thead>\n  <tbody>\n    <tr>\n      <th>0</th>\n      <td>google.com</td>\n    </tr>\n    <tr>\n      <th>1</th>\n      <td>youtube.com</td>\n    </tr>\n    <tr>\n      <th>2</th>\n      <td>tmall.com</td>\n    </tr>\n    <tr>\n      <th>3</th>\n      <td>baidu.com</td>\n    </tr>\n    <tr>\n      <th>4</th>\n      <td>qq.com</td>\n    </tr>\n    <tr>\n      <th>5</th>\n      <td>sohu.com</td>\n    </tr>\n  </tbody>\n</table>\n</div>"
     },
     "execution_count": 2,
     "metadata": {},
     "output_type": "execute_result"
    }
   ]
  },
  {
   "cell_type": "code",
   "execution_count": 3,
   "outputs": [
    {
     "name": "stdout",
     "output_type": "stream",
     "text": [
      "ISCX2016 benign 35k:\n"
     ]
    },
    {
     "data": {
      "text/plain": "                                              domain\n0  http://1337x.to/torrent/1048648/American-Snipe...\n1  http://1337x.to/torrent/1110018/Blackhat-2015-...\n2  http://1337x.to/torrent/1122940/Blackhat-2015-...\n3  http://1337x.to/torrent/1124395/Fast-and-Furio...\n4  http://1337x.to/torrent/1145504/Avengers-Age-o...\n5  http://1337x.to/torrent/1160078/Avengers-age-o...",
      "text/html": "<div>\n<style scoped>\n    .dataframe tbody tr th:only-of-type {\n        vertical-align: middle;\n    }\n\n    .dataframe tbody tr th {\n        vertical-align: top;\n    }\n\n    .dataframe thead th {\n        text-align: right;\n    }\n</style>\n<table border=\"1\" class=\"dataframe\">\n  <thead>\n    <tr style=\"text-align: right;\">\n      <th></th>\n      <th>domain</th>\n    </tr>\n  </thead>\n  <tbody>\n    <tr>\n      <th>0</th>\n      <td>http://1337x.to/torrent/1048648/American-Snipe...</td>\n    </tr>\n    <tr>\n      <th>1</th>\n      <td>http://1337x.to/torrent/1110018/Blackhat-2015-...</td>\n    </tr>\n    <tr>\n      <th>2</th>\n      <td>http://1337x.to/torrent/1122940/Blackhat-2015-...</td>\n    </tr>\n    <tr>\n      <th>3</th>\n      <td>http://1337x.to/torrent/1124395/Fast-and-Furio...</td>\n    </tr>\n    <tr>\n      <th>4</th>\n      <td>http://1337x.to/torrent/1145504/Avengers-Age-o...</td>\n    </tr>\n    <tr>\n      <th>5</th>\n      <td>http://1337x.to/torrent/1160078/Avengers-age-o...</td>\n    </tr>\n  </tbody>\n</table>\n</div>"
     },
     "execution_count": 3,
     "metadata": {},
     "output_type": "execute_result"
    }
   ],
   "source": [
    "print('ISCX2016 benign 35k:')\n",
    "iscx_benign = pd.read_csv(\n",
    "    ISCX_BENIGN_PATH,\n",
    "    names=['domain']\n",
    ")\n",
    "iscx_benign.head(6)"
   ],
   "metadata": {
    "collapsed": false,
    "pycharm": {
     "name": "#%%\n"
    }
   }
  },
  {
   "cell_type": "code",
   "execution_count": 4,
   "outputs": [
    {
     "name": "stdout",
     "output_type": "stream",
     "text": [
      "Poland top 100:\n",
      "\n",
      "Dropped columns:\n",
      " ['Type'] \n",
      "\n",
      "'Domain' renamed to 'domain'\n",
      "\n"
     ]
    },
    {
     "data": {
      "text/plain": "                                                Type        Domain\n0  YouTube.com – druga pozycja też pokrywa się z ...   youtube.com\n1  Facebook.com – serwis społecznościowy służący ...  facebook.com\n2  Allegro.pl – rodzimy serwis aukcyjny i najpopu...    allegro.pl\n3     Google.pl – polska wersja wyszukiwarki Google.     google.pl\n4                         Wp.pl – portal internetowy         wp.pl\n5       Onet.pl – serwis internetowy z wiadomościami       onet.pl",
      "text/html": "<div>\n<style scoped>\n    .dataframe tbody tr th:only-of-type {\n        vertical-align: middle;\n    }\n\n    .dataframe tbody tr th {\n        vertical-align: top;\n    }\n\n    .dataframe thead th {\n        text-align: right;\n    }\n</style>\n<table border=\"1\" class=\"dataframe\">\n  <thead>\n    <tr style=\"text-align: right;\">\n      <th></th>\n      <th>Type</th>\n      <th>Domain</th>\n    </tr>\n  </thead>\n  <tbody>\n    <tr>\n      <th>0</th>\n      <td>YouTube.com – druga pozycja też pokrywa się z ...</td>\n      <td>youtube.com</td>\n    </tr>\n    <tr>\n      <th>1</th>\n      <td>Facebook.com – serwis społecznościowy służący ...</td>\n      <td>facebook.com</td>\n    </tr>\n    <tr>\n      <th>2</th>\n      <td>Allegro.pl – rodzimy serwis aukcyjny i najpopu...</td>\n      <td>allegro.pl</td>\n    </tr>\n    <tr>\n      <th>3</th>\n      <td>Google.pl – polska wersja wyszukiwarki Google.</td>\n      <td>google.pl</td>\n    </tr>\n    <tr>\n      <th>4</th>\n      <td>Wp.pl – portal internetowy</td>\n      <td>wp.pl</td>\n    </tr>\n    <tr>\n      <th>5</th>\n      <td>Onet.pl – serwis internetowy z wiadomościami</td>\n      <td>onet.pl</td>\n    </tr>\n  </tbody>\n</table>\n</div>"
     },
     "metadata": {},
     "output_type": "display_data"
    }
   ],
   "source": [
    "print('Poland top 100:')\n",
    "poland100_chaste = pd.read_csv(\n",
    "    POLAND100_PATH,\n",
    "    index_col=0\n",
    ")\n",
    "\n",
    "drop_list = ['Type']\n",
    "poland100 = poland100_chaste.drop(drop_list, axis='columns')\n",
    "poland100.columns = ['domain']\n",
    "\n",
    "print(\n",
    "    \"\\nDropped columns:\\n\",\n",
    "    drop_list,\n",
    "    \"\\n\\n'Domain' renamed to 'domain'\\n\"\n",
    ")\n",
    "display(poland100_chaste.head(6))\n",
    "del poland100_chaste, drop_list"
   ],
   "metadata": {
    "collapsed": false,
    "pycharm": {
     "name": "#%%\n"
    }
   }
  },
  {
   "cell_type": "code",
   "execution_count": 5,
   "outputs": [
    {
     "name": "stdout",
     "output_type": "stream",
     "text": [
      "MOZ top 500:\n",
      "\n",
      "Dropped columns:\n",
      " ['Rank', 'Linking Root Domains', 'Domain Authority'] \n",
      "\n",
      "'Root Domain' renamed to 'domain'\n",
      "\n"
     ]
    },
    {
     "data": {
      "text/plain": "   Rank         Root Domain Linking Root Domains  Domain Authority\n0     1         youtube.com           18,657,325               100\n1     2           apple.com            5,518,034               100\n2     3      www.google.com           12,442,787               100\n3     4        linkedin.com            9,511,419                99\n4     5     play.google.com            3,395,675                99\n5     6  support.google.com            4,593,245                99",
      "text/html": "<div>\n<style scoped>\n    .dataframe tbody tr th:only-of-type {\n        vertical-align: middle;\n    }\n\n    .dataframe tbody tr th {\n        vertical-align: top;\n    }\n\n    .dataframe thead th {\n        text-align: right;\n    }\n</style>\n<table border=\"1\" class=\"dataframe\">\n  <thead>\n    <tr style=\"text-align: right;\">\n      <th></th>\n      <th>Rank</th>\n      <th>Root Domain</th>\n      <th>Linking Root Domains</th>\n      <th>Domain Authority</th>\n    </tr>\n  </thead>\n  <tbody>\n    <tr>\n      <th>0</th>\n      <td>1</td>\n      <td>youtube.com</td>\n      <td>18,657,325</td>\n      <td>100</td>\n    </tr>\n    <tr>\n      <th>1</th>\n      <td>2</td>\n      <td>apple.com</td>\n      <td>5,518,034</td>\n      <td>100</td>\n    </tr>\n    <tr>\n      <th>2</th>\n      <td>3</td>\n      <td>www.google.com</td>\n      <td>12,442,787</td>\n      <td>100</td>\n    </tr>\n    <tr>\n      <th>3</th>\n      <td>4</td>\n      <td>linkedin.com</td>\n      <td>9,511,419</td>\n      <td>99</td>\n    </tr>\n    <tr>\n      <th>4</th>\n      <td>5</td>\n      <td>play.google.com</td>\n      <td>3,395,675</td>\n      <td>99</td>\n    </tr>\n    <tr>\n      <th>5</th>\n      <td>6</td>\n      <td>support.google.com</td>\n      <td>4,593,245</td>\n      <td>99</td>\n    </tr>\n  </tbody>\n</table>\n</div>"
     },
     "metadata": {},
     "output_type": "display_data"
    }
   ],
   "source": [
    "print('MOZ top 500:')\n",
    "moz500_chaste = pd.read_csv(\n",
    "    MOZ500_PATH\n",
    ")\n",
    "\n",
    "drop_list = ['Rank', 'Linking Root Domains', 'Domain Authority']\n",
    "moz500 = moz500_chaste.drop(drop_list, axis='columns')\n",
    "moz500.columns = ['domain']\n",
    "\n",
    "print(\n",
    "    \"\\nDropped columns:\\n\",\n",
    "    drop_list,\n",
    "    \"\\n\\n'Root Domain' renamed to 'domain'\\n\"\n",
    ")\n",
    "display(moz500_chaste.head(6))\n",
    "del moz500_chaste, drop_list"
   ],
   "metadata": {
    "collapsed": false,
    "pycharm": {
     "name": "#%%\n"
    }
   }
  },
  {
   "cell_type": "code",
   "execution_count": 6,
   "outputs": [
    {
     "name": "stdout",
     "output_type": "stream",
     "text": [
      "Categorization dataset 31k:\n",
      "\n",
      "Kept columns:\n",
      " ['main_category', 'main_category_confidence', 'url'] \n",
      "\n",
      "'url' renamed to 'domain'\n",
      "\n"
     ]
    },
    {
     "name": "stderr",
     "output_type": "stream",
     "text": [
      "c:\\users\\vital\\appdata\\local\\programs\\python\\python39\\lib\\site-packages\\IPython\\core\\interactiveshell.py:3165: DtypeWarning: Columns (25) have mixed types.Specify dtype option on import or set low_memory=False.\n",
      "  has_raised = await self.run_ast_nodes(code_ast.body, cell_name,\n"
     ]
    },
    {
     "data": {
      "text/plain": "     unit_id  golden unit_state  trusted_judgments     last_judgment_at  \\\n0  765574675   False  finalized                  5  2015-08-04T07:47:00   \n1  765574676   False  finalized                  5  2015-08-03T22:50:00   \n2  765574677   False  finalized                  5  2015-08-04T00:31:00   \n3  765574678   False  finalized                  5  2015-08-04T14:43:00   \n4  765574679   False  finalized                  5  2015-08-03T18:52:00   \n5  765574680   False  finalized                  5  2015-08-03T22:34:00   \n\n          main_category  main_category_confidence  \\\n0  Internet_and_Telecom                    0.5581   \n1           Not_working                    0.6544   \n2           Not_working                    0.6565   \n3  Career_and_Education                    1.0000   \n4           Not_working                    1.0000   \n5        News_and_Media                    0.5524   \n\n  sub_category_arts_and_entertainment  \\\n0                                 NaN   \n1                                 NaN   \n2                                 NaN   \n3                                 NaN   \n4                                 NaN   \n5                                 NaN   \n\n   sub_category_arts_and_entertainment_confidence  \\\n0                                             0.0   \n1                                             0.0   \n2                                             0.0   \n3                                             0.0   \n4                                             0.0   \n5                                             0.0   \n\n  sub_category_autos_and_vehicles  ...  sub_category_news_and_media_gold  \\\n0                             NaN  ...                               NaN   \n1                             NaN  ...                               NaN   \n2                             NaN  ...                               NaN   \n3                             NaN  ...                               NaN   \n4                             NaN  ...                               NaN   \n5                             NaN  ...                               NaN   \n\n  sub_category_people_and_society_gold  sub_category_pets_and_animals_gold  \\\n0                                  NaN                                 NaN   \n1                                  NaN                                 NaN   \n2                                  NaN                                 NaN   \n3                                  NaN                                 NaN   \n4                                  NaN                                 NaN   \n5                                  NaN                                 NaN   \n\n  sub_category_recreation_and_hobbies_gold  sub_category_reference_gold  \\\n0                                      NaN                          NaN   \n1                                      NaN                          NaN   \n2                                      NaN                          NaN   \n3                                      NaN                          NaN   \n4                                      NaN                          NaN   \n5                                      NaN                          NaN   \n\n  sub_category_science_gold  sub_category_shopping_gold  \\\n0                       NaN                         NaN   \n1                       NaN                         NaN   \n2                       NaN                         NaN   \n3                       NaN                         NaN   \n4                       NaN                         NaN   \n5                       NaN                         NaN   \n\n  sub_category_sports_gold  sub_category_travel_gold               url  \n0                      NaN                       NaN    000webhost.com  \n1                      NaN                       NaN         007go.com  \n2                      NaN                       NaN           010.com  \n3                      NaN                       NaN  022menchuang.net  \n4                      NaN                       NaN     050anshin.com  \n5                      NaN                       NaN     055firenze.it  \n\n[6 rows x 81 columns]",
      "text/html": "<div>\n<style scoped>\n    .dataframe tbody tr th:only-of-type {\n        vertical-align: middle;\n    }\n\n    .dataframe tbody tr th {\n        vertical-align: top;\n    }\n\n    .dataframe thead th {\n        text-align: right;\n    }\n</style>\n<table border=\"1\" class=\"dataframe\">\n  <thead>\n    <tr style=\"text-align: right;\">\n      <th></th>\n      <th>unit_id</th>\n      <th>golden</th>\n      <th>unit_state</th>\n      <th>trusted_judgments</th>\n      <th>last_judgment_at</th>\n      <th>main_category</th>\n      <th>main_category_confidence</th>\n      <th>sub_category_arts_and_entertainment</th>\n      <th>sub_category_arts_and_entertainment_confidence</th>\n      <th>sub_category_autos_and_vehicles</th>\n      <th>...</th>\n      <th>sub_category_news_and_media_gold</th>\n      <th>sub_category_people_and_society_gold</th>\n      <th>sub_category_pets_and_animals_gold</th>\n      <th>sub_category_recreation_and_hobbies_gold</th>\n      <th>sub_category_reference_gold</th>\n      <th>sub_category_science_gold</th>\n      <th>sub_category_shopping_gold</th>\n      <th>sub_category_sports_gold</th>\n      <th>sub_category_travel_gold</th>\n      <th>url</th>\n    </tr>\n  </thead>\n  <tbody>\n    <tr>\n      <th>0</th>\n      <td>765574675</td>\n      <td>False</td>\n      <td>finalized</td>\n      <td>5</td>\n      <td>2015-08-04T07:47:00</td>\n      <td>Internet_and_Telecom</td>\n      <td>0.5581</td>\n      <td>NaN</td>\n      <td>0.0</td>\n      <td>NaN</td>\n      <td>...</td>\n      <td>NaN</td>\n      <td>NaN</td>\n      <td>NaN</td>\n      <td>NaN</td>\n      <td>NaN</td>\n      <td>NaN</td>\n      <td>NaN</td>\n      <td>NaN</td>\n      <td>NaN</td>\n      <td>000webhost.com</td>\n    </tr>\n    <tr>\n      <th>1</th>\n      <td>765574676</td>\n      <td>False</td>\n      <td>finalized</td>\n      <td>5</td>\n      <td>2015-08-03T22:50:00</td>\n      <td>Not_working</td>\n      <td>0.6544</td>\n      <td>NaN</td>\n      <td>0.0</td>\n      <td>NaN</td>\n      <td>...</td>\n      <td>NaN</td>\n      <td>NaN</td>\n      <td>NaN</td>\n      <td>NaN</td>\n      <td>NaN</td>\n      <td>NaN</td>\n      <td>NaN</td>\n      <td>NaN</td>\n      <td>NaN</td>\n      <td>007go.com</td>\n    </tr>\n    <tr>\n      <th>2</th>\n      <td>765574677</td>\n      <td>False</td>\n      <td>finalized</td>\n      <td>5</td>\n      <td>2015-08-04T00:31:00</td>\n      <td>Not_working</td>\n      <td>0.6565</td>\n      <td>NaN</td>\n      <td>0.0</td>\n      <td>NaN</td>\n      <td>...</td>\n      <td>NaN</td>\n      <td>NaN</td>\n      <td>NaN</td>\n      <td>NaN</td>\n      <td>NaN</td>\n      <td>NaN</td>\n      <td>NaN</td>\n      <td>NaN</td>\n      <td>NaN</td>\n      <td>010.com</td>\n    </tr>\n    <tr>\n      <th>3</th>\n      <td>765574678</td>\n      <td>False</td>\n      <td>finalized</td>\n      <td>5</td>\n      <td>2015-08-04T14:43:00</td>\n      <td>Career_and_Education</td>\n      <td>1.0000</td>\n      <td>NaN</td>\n      <td>0.0</td>\n      <td>NaN</td>\n      <td>...</td>\n      <td>NaN</td>\n      <td>NaN</td>\n      <td>NaN</td>\n      <td>NaN</td>\n      <td>NaN</td>\n      <td>NaN</td>\n      <td>NaN</td>\n      <td>NaN</td>\n      <td>NaN</td>\n      <td>022menchuang.net</td>\n    </tr>\n    <tr>\n      <th>4</th>\n      <td>765574679</td>\n      <td>False</td>\n      <td>finalized</td>\n      <td>5</td>\n      <td>2015-08-03T18:52:00</td>\n      <td>Not_working</td>\n      <td>1.0000</td>\n      <td>NaN</td>\n      <td>0.0</td>\n      <td>NaN</td>\n      <td>...</td>\n      <td>NaN</td>\n      <td>NaN</td>\n      <td>NaN</td>\n      <td>NaN</td>\n      <td>NaN</td>\n      <td>NaN</td>\n      <td>NaN</td>\n      <td>NaN</td>\n      <td>NaN</td>\n      <td>050anshin.com</td>\n    </tr>\n    <tr>\n      <th>5</th>\n      <td>765574680</td>\n      <td>False</td>\n      <td>finalized</td>\n      <td>5</td>\n      <td>2015-08-03T22:34:00</td>\n      <td>News_and_Media</td>\n      <td>0.5524</td>\n      <td>NaN</td>\n      <td>0.0</td>\n      <td>NaN</td>\n      <td>...</td>\n      <td>NaN</td>\n      <td>NaN</td>\n      <td>NaN</td>\n      <td>NaN</td>\n      <td>NaN</td>\n      <td>NaN</td>\n      <td>NaN</td>\n      <td>NaN</td>\n      <td>NaN</td>\n      <td>055firenze.it</td>\n    </tr>\n  </tbody>\n</table>\n<p>6 rows × 81 columns</p>\n</div>"
     },
     "metadata": {},
     "output_type": "display_data"
    }
   ],
   "source": [
    "print('Categorization dataset 31k:')\n",
    "categorized_dfe_chaste = pd.read_csv(\n",
    "    CATEGORIZED_DFE_PATH\n",
    ")\n",
    "\n",
    "kept_list = ['main_category', 'main_category_confidence', 'url']\n",
    "categorized_dfe = categorized_dfe_chaste[kept_list]\n",
    "categorized_dfe.columns = ['main_category', 'main_category_confidence', 'domain']\n",
    "\n",
    "print(\n",
    "    \"\\nKept columns:\\n\",\n",
    "    kept_list,\n",
    "    \"\\n\\n'url' renamed to 'domain'\\n\"\n",
    ")\n",
    "\n",
    "display(categorized_dfe_chaste.head(6))\n",
    "del categorized_dfe_chaste, kept_list"
   ],
   "metadata": {
    "collapsed": false,
    "pycharm": {
     "name": "#%%\n"
    }
   }
  },
  {
   "cell_type": "code",
   "execution_count": 7,
   "outputs": [
    {
     "name": "stdout",
     "output_type": "stream",
     "text": [
      "Poland government pages dataset 69k:\n",
      "\n",
      "Dropped columns:\n",
      " ['Nazwa podmiotu publicznego'] \n",
      "\n",
      "'Adres strony internetowej' renamed to 'domain'\n",
      "\n"
     ]
    },
    {
     "data": {
      "text/plain": "                          Nazwa podmiotu publicznego  \\\n0  „EKSPLOATATOR\" SPÓŁKA Z OGRANICZONĄ ODPOWIEDZI...   \n1                                 1 BATALION CZOŁGÓW   \n2                         1 BATALION DROGOWO-MOSTOWY   \n3                 1 BATALION STRZELCÓW PODHALAŃSKICH   \n4  1 LICEUM OGÓLNOKSZTAŁCĄCE IM. KS. ADAMA JERZEG...   \n5  1 LICEUM OGÓLNOKSZTAŁCĄCE IM. WOJCIECHA KĘTRZY...   \n\n          Adres strony internetowej  \n0           eksploatator.bip.gov.pl  \n1             http://1bcz.wp.mil.pl  \n2  http://1bdm.wp.mil.pl/pl/28.html  \n3                www.1bsp.wp.mil.pl  \n4               pulawypz.6.e-bip.pl  \n5       https://lo1.gizycko.edu.pl/  ",
      "text/html": "<div>\n<style scoped>\n    .dataframe tbody tr th:only-of-type {\n        vertical-align: middle;\n    }\n\n    .dataframe tbody tr th {\n        vertical-align: top;\n    }\n\n    .dataframe thead th {\n        text-align: right;\n    }\n</style>\n<table border=\"1\" class=\"dataframe\">\n  <thead>\n    <tr style=\"text-align: right;\">\n      <th></th>\n      <th>Nazwa podmiotu publicznego</th>\n      <th>Adres strony internetowej</th>\n    </tr>\n  </thead>\n  <tbody>\n    <tr>\n      <th>0</th>\n      <td>„EKSPLOATATOR\" SPÓŁKA Z OGRANICZONĄ ODPOWIEDZI...</td>\n      <td>eksploatator.bip.gov.pl</td>\n    </tr>\n    <tr>\n      <th>1</th>\n      <td>1 BATALION CZOŁGÓW</td>\n      <td>http://1bcz.wp.mil.pl</td>\n    </tr>\n    <tr>\n      <th>2</th>\n      <td>1 BATALION DROGOWO-MOSTOWY</td>\n      <td>http://1bdm.wp.mil.pl/pl/28.html</td>\n    </tr>\n    <tr>\n      <th>3</th>\n      <td>1 BATALION STRZELCÓW PODHALAŃSKICH</td>\n      <td>www.1bsp.wp.mil.pl</td>\n    </tr>\n    <tr>\n      <th>4</th>\n      <td>1 LICEUM OGÓLNOKSZTAŁCĄCE IM. KS. ADAMA JERZEG...</td>\n      <td>pulawypz.6.e-bip.pl</td>\n    </tr>\n    <tr>\n      <th>5</th>\n      <td>1 LICEUM OGÓLNOKSZTAŁCĄCE IM. WOJCIECHA KĘTRZY...</td>\n      <td>https://lo1.gizycko.edu.pl/</td>\n    </tr>\n  </tbody>\n</table>\n</div>"
     },
     "metadata": {},
     "output_type": "display_data"
    }
   ],
   "source": [
    "print('Poland government pages dataset 69k:')\n",
    "gov_poland_chaste = pd.read_csv(\n",
    "    GOV_POLAND_PATH,\n",
    "    delimiter=';'\n",
    ")\n",
    "\n",
    "drop_list = ['Nazwa podmiotu publicznego']\n",
    "gov_poland = gov_poland_chaste.drop(drop_list, axis='columns')\n",
    "gov_poland.columns = ['domain']\n",
    "\n",
    "print(\n",
    "    \"\\nDropped columns:\\n\",\n",
    "    drop_list,\n",
    "    \"\\n\\n'Adres strony internetowej' renamed to 'domain'\\n\"\n",
    ")\n",
    "\n",
    "display(gov_poland_chaste.head(6))\n",
    "del gov_poland_chaste, drop_list"
   ],
   "metadata": {
    "collapsed": false,
    "pycharm": {
     "name": "#%%\n"
    }
   }
  },
  {
   "cell_type": "code",
   "execution_count": 8,
   "outputs": [
    {
     "name": "stdout",
     "output_type": "stream",
     "text": [
      "Kaggle labeled 345k:\n",
      "\n",
      "All rows with 'bad' label were dropped. \n",
      "'label' column was also dropped.\n",
      "\n",
      "'url' renamed to 'domain'\n",
      "\n"
     ]
    },
    {
     "data": {
      "text/plain": "                      url label\n0  diaryofagameaddict.com   bad\n1        espdesign.com.au   bad\n2      iamagameaddict.com   bad\n3           kalantzis.net   bad\n4   slightlyoffcenter.net   bad\n5        toddscarwash.com   bad",
      "text/html": "<div>\n<style scoped>\n    .dataframe tbody tr th:only-of-type {\n        vertical-align: middle;\n    }\n\n    .dataframe tbody tr th {\n        vertical-align: top;\n    }\n\n    .dataframe thead th {\n        text-align: right;\n    }\n</style>\n<table border=\"1\" class=\"dataframe\">\n  <thead>\n    <tr style=\"text-align: right;\">\n      <th></th>\n      <th>url</th>\n      <th>label</th>\n    </tr>\n  </thead>\n  <tbody>\n    <tr>\n      <th>0</th>\n      <td>diaryofagameaddict.com</td>\n      <td>bad</td>\n    </tr>\n    <tr>\n      <th>1</th>\n      <td>espdesign.com.au</td>\n      <td>bad</td>\n    </tr>\n    <tr>\n      <th>2</th>\n      <td>iamagameaddict.com</td>\n      <td>bad</td>\n    </tr>\n    <tr>\n      <th>3</th>\n      <td>kalantzis.net</td>\n      <td>bad</td>\n    </tr>\n    <tr>\n      <th>4</th>\n      <td>slightlyoffcenter.net</td>\n      <td>bad</td>\n    </tr>\n    <tr>\n      <th>5</th>\n      <td>toddscarwash.com</td>\n      <td>bad</td>\n    </tr>\n  </tbody>\n</table>\n</div>"
     },
     "metadata": {},
     "output_type": "display_data"
    }
   ],
   "source": [
    "print('Kaggle labeled 345k:')\n",
    "kaggle_labeled_chaste = pd.read_csv(\n",
    "    KAGGLE_LABELED_PATH\n",
    ")\n",
    "\n",
    "kaggle_labeled = kaggle_labeled_chaste[kaggle_labeled_chaste.label != 'bad']\\\n",
    "    .drop('label', axis='columns')\n",
    "kaggle_labeled.reset_index(drop=True,\n",
    "                           inplace=True)\n",
    "kaggle_labeled.columns = ['domain']\n",
    "\n",
    "print(\n",
    "    \"\\nAll rows with 'bad' label were dropped.\",\n",
    "    \"\\n'label' column was also dropped.\"\n",
    "    \"\\n\\n'url' renamed to 'domain'\\n\"\n",
    ")\n",
    "\n",
    "display(kaggle_labeled_chaste.head(6))\n",
    "del kaggle_labeled_chaste"
   ],
   "metadata": {
    "collapsed": false,
    "pycharm": {
     "name": "#%%\n"
    }
   }
  },
  {
   "cell_type": "code",
   "execution_count": 9,
   "outputs": [
    {
     "name": "stdout",
     "output_type": "stream",
     "text": [
      "Mendeley labeled 1.2m:\n"
     ]
    },
    {
     "name": "stderr",
     "output_type": "stream",
     "text": [
      "c:\\users\\vital\\appdata\\local\\programs\\python\\python39\\lib\\site-packages\\numpy\\lib\\arraysetops.py:583: FutureWarning: elementwise comparison failed; returning scalar instead, but in the future will perform elementwise comparison\n",
      "  mask |= (ar1 == a)\n"
     ]
    },
    {
     "name": "stdout",
     "output_type": "stream",
     "text": [
      "\n",
      "All rows with 'bad' label were dropped. \n",
      "\n",
      "The following columns were dropped: ['label'] \n",
      "\n",
      "'url' renamed to 'domain'\n",
      "\n"
     ]
    },
    {
     "data": {
      "text/plain": "                                        url         ip_add        geo_loc  \\\n0  http://members.tripod.com/russiastation/  42.77.221.155         Taiwan   \n1          http://www.ddj.com/cpp/184403822  3.211.202.180  United States   \n2                  http://www.naef-usa.com/   24.232.54.41      Argentina   \n3                     http://www.ff-b2b.de/   147.22.38.45  United States   \n4       http://us.imdb.com/title/tt0176269/  205.30.239.85  United States   \n5  http://efilmcritic.com/hbs.cgi?movie=311    8.28.167.23  United States   \n\n  who_is  js_len  js_obf_len label  \n0      +    58.0         0.0     +  \n1      +    52.5         0.0     +  \n2      +   103.5         0.0     +  \n3      -   720.0       532.8     -  \n4      +    46.5         0.0     +  \n5      +    39.5         0.0     +  ",
      "text/html": "<div>\n<style scoped>\n    .dataframe tbody tr th:only-of-type {\n        vertical-align: middle;\n    }\n\n    .dataframe tbody tr th {\n        vertical-align: top;\n    }\n\n    .dataframe thead th {\n        text-align: right;\n    }\n</style>\n<table border=\"1\" class=\"dataframe\">\n  <thead>\n    <tr style=\"text-align: right;\">\n      <th></th>\n      <th>url</th>\n      <th>ip_add</th>\n      <th>geo_loc</th>\n      <th>who_is</th>\n      <th>js_len</th>\n      <th>js_obf_len</th>\n      <th>label</th>\n    </tr>\n  </thead>\n  <tbody>\n    <tr>\n      <th>0</th>\n      <td>http://members.tripod.com/russiastation/</td>\n      <td>42.77.221.155</td>\n      <td>Taiwan</td>\n      <td>+</td>\n      <td>58.0</td>\n      <td>0.0</td>\n      <td>+</td>\n    </tr>\n    <tr>\n      <th>1</th>\n      <td>http://www.ddj.com/cpp/184403822</td>\n      <td>3.211.202.180</td>\n      <td>United States</td>\n      <td>+</td>\n      <td>52.5</td>\n      <td>0.0</td>\n      <td>+</td>\n    </tr>\n    <tr>\n      <th>2</th>\n      <td>http://www.naef-usa.com/</td>\n      <td>24.232.54.41</td>\n      <td>Argentina</td>\n      <td>+</td>\n      <td>103.5</td>\n      <td>0.0</td>\n      <td>+</td>\n    </tr>\n    <tr>\n      <th>3</th>\n      <td>http://www.ff-b2b.de/</td>\n      <td>147.22.38.45</td>\n      <td>United States</td>\n      <td>-</td>\n      <td>720.0</td>\n      <td>532.8</td>\n      <td>-</td>\n    </tr>\n    <tr>\n      <th>4</th>\n      <td>http://us.imdb.com/title/tt0176269/</td>\n      <td>205.30.239.85</td>\n      <td>United States</td>\n      <td>+</td>\n      <td>46.5</td>\n      <td>0.0</td>\n      <td>+</td>\n    </tr>\n    <tr>\n      <th>5</th>\n      <td>http://efilmcritic.com/hbs.cgi?movie=311</td>\n      <td>8.28.167.23</td>\n      <td>United States</td>\n      <td>+</td>\n      <td>39.5</td>\n      <td>0.0</td>\n      <td>+</td>\n    </tr>\n  </tbody>\n</table>\n</div>"
     },
     "metadata": {},
     "output_type": "display_data"
    }
   ],
   "source": [
    "print('Mendeley labeled 1.2m:')\n",
    "mendeley_label1m_chaste = pd.read_csv(\n",
    "    MENDELEY_LABEL1M_PATH,\n",
    "    index_col=0\n",
    ")\n",
    "\n",
    "mendeley_label1m = mendeley_label1m_chaste.rename(columns = {'url':'domain'})\n",
    "mendeley_label1m = mendeley_label1m[mendeley_label1m.label != '-']\n",
    "drop_list = ['label'] # + 'content', 'tld', 'https', 'url_len'\n",
    "mendeley_label1m.drop(\n",
    "    drop_list,\n",
    "    axis='columns',\n",
    "    inplace=True\n",
    ")\n",
    "mendeley_label1m.reset_index(drop=True,\n",
    "                             inplace=True)\n",
    "print(\n",
    "    \"\\nAll rows with 'bad' label were dropped.\",\n",
    "    \"\\n\\nThe following columns were dropped:\",\n",
    "    drop_list,\n",
    "    \"\\n\\n'url' renamed to 'domain'\\n\"\n",
    ")\n",
    "display(mendeley_label1m_chaste.head(6))\n",
    "del mendeley_label1m_chaste"
   ],
   "metadata": {
    "collapsed": false,
    "pycharm": {
     "name": "#%%\n"
    }
   }
  },
  {
   "cell_type": "code",
   "execution_count": 10,
   "outputs": [
    {
     "name": "stdout",
     "output_type": "stream",
     "text": [
      "Mendeley labeled 300k:\n",
      "\n",
      "All rows with 'bad' label were dropped. \n",
      "\n",
      "The following columns were dropped: ['label'] \n",
      "\n",
      "'url' renamed to 'domain'\n",
      "\n"
     ]
    },
    {
     "data": {
      "text/plain": "                                                 url           ip_add  \\\n0               http://www.dutchthewiz.com/freeware/    175.67.214.68   \n1                   http://www.collectiblejewels.com  188.120.171.121   \n2                        http://www.deadlinedata.com     193.51.170.1   \n3  http://www.mil.fi/maavoimat/kalustoesittely/00...     13.237.35.44   \n4           http://www.avclub.com/content/node/24539    220.193.62.89   \n5                 http://www.yellowstone.net/baptist    13.122.80.132   \n\n         geo_loc who_is  js_len  js_obf_len label  \n0          China      +    38.5         0.0     +  \n1         Sweden      -   187.0         0.0     +  \n2         France      +    31.0         0.0     +  \n3      Australia      +   152.0         0.0     +  \n4          China      +   150.0         0.0     +  \n5  United States      +   140.5         0.0     +  ",
      "text/html": "<div>\n<style scoped>\n    .dataframe tbody tr th:only-of-type {\n        vertical-align: middle;\n    }\n\n    .dataframe tbody tr th {\n        vertical-align: top;\n    }\n\n    .dataframe thead th {\n        text-align: right;\n    }\n</style>\n<table border=\"1\" class=\"dataframe\">\n  <thead>\n    <tr style=\"text-align: right;\">\n      <th></th>\n      <th>url</th>\n      <th>ip_add</th>\n      <th>geo_loc</th>\n      <th>who_is</th>\n      <th>js_len</th>\n      <th>js_obf_len</th>\n      <th>label</th>\n    </tr>\n  </thead>\n  <tbody>\n    <tr>\n      <th>0</th>\n      <td>http://www.dutchthewiz.com/freeware/</td>\n      <td>175.67.214.68</td>\n      <td>China</td>\n      <td>+</td>\n      <td>38.5</td>\n      <td>0.0</td>\n      <td>+</td>\n    </tr>\n    <tr>\n      <th>1</th>\n      <td>http://www.collectiblejewels.com</td>\n      <td>188.120.171.121</td>\n      <td>Sweden</td>\n      <td>-</td>\n      <td>187.0</td>\n      <td>0.0</td>\n      <td>+</td>\n    </tr>\n    <tr>\n      <th>2</th>\n      <td>http://www.deadlinedata.com</td>\n      <td>193.51.170.1</td>\n      <td>France</td>\n      <td>+</td>\n      <td>31.0</td>\n      <td>0.0</td>\n      <td>+</td>\n    </tr>\n    <tr>\n      <th>3</th>\n      <td>http://www.mil.fi/maavoimat/kalustoesittely/00...</td>\n      <td>13.237.35.44</td>\n      <td>Australia</td>\n      <td>+</td>\n      <td>152.0</td>\n      <td>0.0</td>\n      <td>+</td>\n    </tr>\n    <tr>\n      <th>4</th>\n      <td>http://www.avclub.com/content/node/24539</td>\n      <td>220.193.62.89</td>\n      <td>China</td>\n      <td>+</td>\n      <td>150.0</td>\n      <td>0.0</td>\n      <td>+</td>\n    </tr>\n    <tr>\n      <th>5</th>\n      <td>http://www.yellowstone.net/baptist</td>\n      <td>13.122.80.132</td>\n      <td>United States</td>\n      <td>+</td>\n      <td>140.5</td>\n      <td>0.0</td>\n      <td>+</td>\n    </tr>\n  </tbody>\n</table>\n</div>"
     },
     "metadata": {},
     "output_type": "display_data"
    }
   ],
   "source": [
    "print('Mendeley labeled 300k:')\n",
    "mendeley_label300k_chaste = pd.read_csv(\n",
    "    MENDELEY_LABEL300K_PATH,\n",
    "    index_col=0\n",
    ")\n",
    "\n",
    "mendeley_label300k = mendeley_label300k_chaste.rename(columns = {'url':'domain'})\n",
    "mendeley_label300k = mendeley_label300k[mendeley_label300k.label != '-']\n",
    "drop_list = ['label'] # + 'content', 'tld', 'https', 'url_len'\n",
    "mendeley_label300k.drop(\n",
    "    drop_list,\n",
    "    axis='columns',\n",
    "    inplace=True\n",
    ")\n",
    "mendeley_label300k.reset_index(drop=True,\n",
    "                             inplace=True)\n",
    "print(\n",
    "    \"\\nAll rows with 'bad' label were dropped.\",\n",
    "    \"\\n\\nThe following columns were dropped:\",\n",
    "    drop_list,\n",
    "    \"\\n\\n'url' renamed to 'domain'\\n\"\n",
    ")\n",
    "display(mendeley_label300k_chaste.head(6))\n",
    "del mendeley_label300k_chaste, drop_list"
   ],
   "metadata": {
    "collapsed": false,
    "pycharm": {
     "name": "#%%\n"
    }
   }
  },
  {
   "cell_type": "code",
   "execution_count": 11,
   "outputs": [
    {
     "name": "stdout",
     "output_type": "stream",
     "text": [
      "PhisStorm data 96k:\n",
      "\n",
      "All rows with '1.0' label were dropped. \n",
      "\n",
      "The following columns were dropped: ['label', 'ranking']\n"
     ]
    },
    {
     "data": {
      "text/plain": "                                              domain   ranking  mld_res  \\\n0  nobell.it/70ffb52d079109dca5664cce6f317373782/...  10000000      1.0   \n1  www.dghjdgf.com/paypal.co.uk/cycgi-bin/webscrc...  10000000      0.0   \n2  serviciosbys.com/paypal.cgi.bin.get-into.herf....  10000000      0.0   \n3  mail.printakid.com/www.online.americanexpress....  10000000      0.0   \n4  thewhiskeydregs.com/wp-content/themes/widescre...  10000000      0.0   \n5               smilesvoegol.servebbs.org/voegol.php  10000000      0.0   \n\n   mld.ps_res  card_rem  ratio_Rrem  ratio_Arem  jaccard_RR  jaccard_RA  \\\n0         0.0        18  107.611111  107.277778         0.0         0.0   \n1         0.0        11  150.636364  152.272727         0.0         0.0   \n2         0.0        14   73.500000   72.642857         0.0         0.0   \n3         0.0         6  562.000000  590.666667         0.0         0.0   \n4         0.0         8   29.000000   24.125000         0.0         0.0   \n5         0.0         2  223.500000  234.000000         0.0         0.0   \n\n   jaccard_AR  jaccard_AA  jaccard_ARrd  jaccard_ARrem  label  \n0         0.0         0.0           0.8       0.795729    1.0  \n1         0.0         0.0           0.0       0.768577    1.0  \n2         0.0         0.0           0.0       0.726582    1.0  \n3         0.0         0.0           0.0       0.859640    1.0  \n4         0.0         0.0           0.0       0.748971    1.0  \n5         0.0         0.0           0.0       0.852227    1.0  ",
      "text/html": "<div>\n<style scoped>\n    .dataframe tbody tr th:only-of-type {\n        vertical-align: middle;\n    }\n\n    .dataframe tbody tr th {\n        vertical-align: top;\n    }\n\n    .dataframe thead th {\n        text-align: right;\n    }\n</style>\n<table border=\"1\" class=\"dataframe\">\n  <thead>\n    <tr style=\"text-align: right;\">\n      <th></th>\n      <th>domain</th>\n      <th>ranking</th>\n      <th>mld_res</th>\n      <th>mld.ps_res</th>\n      <th>card_rem</th>\n      <th>ratio_Rrem</th>\n      <th>ratio_Arem</th>\n      <th>jaccard_RR</th>\n      <th>jaccard_RA</th>\n      <th>jaccard_AR</th>\n      <th>jaccard_AA</th>\n      <th>jaccard_ARrd</th>\n      <th>jaccard_ARrem</th>\n      <th>label</th>\n    </tr>\n  </thead>\n  <tbody>\n    <tr>\n      <th>0</th>\n      <td>nobell.it/70ffb52d079109dca5664cce6f317373782/...</td>\n      <td>10000000</td>\n      <td>1.0</td>\n      <td>0.0</td>\n      <td>18</td>\n      <td>107.611111</td>\n      <td>107.277778</td>\n      <td>0.0</td>\n      <td>0.0</td>\n      <td>0.0</td>\n      <td>0.0</td>\n      <td>0.8</td>\n      <td>0.795729</td>\n      <td>1.0</td>\n    </tr>\n    <tr>\n      <th>1</th>\n      <td>www.dghjdgf.com/paypal.co.uk/cycgi-bin/webscrc...</td>\n      <td>10000000</td>\n      <td>0.0</td>\n      <td>0.0</td>\n      <td>11</td>\n      <td>150.636364</td>\n      <td>152.272727</td>\n      <td>0.0</td>\n      <td>0.0</td>\n      <td>0.0</td>\n      <td>0.0</td>\n      <td>0.0</td>\n      <td>0.768577</td>\n      <td>1.0</td>\n    </tr>\n    <tr>\n      <th>2</th>\n      <td>serviciosbys.com/paypal.cgi.bin.get-into.herf....</td>\n      <td>10000000</td>\n      <td>0.0</td>\n      <td>0.0</td>\n      <td>14</td>\n      <td>73.500000</td>\n      <td>72.642857</td>\n      <td>0.0</td>\n      <td>0.0</td>\n      <td>0.0</td>\n      <td>0.0</td>\n      <td>0.0</td>\n      <td>0.726582</td>\n      <td>1.0</td>\n    </tr>\n    <tr>\n      <th>3</th>\n      <td>mail.printakid.com/www.online.americanexpress....</td>\n      <td>10000000</td>\n      <td>0.0</td>\n      <td>0.0</td>\n      <td>6</td>\n      <td>562.000000</td>\n      <td>590.666667</td>\n      <td>0.0</td>\n      <td>0.0</td>\n      <td>0.0</td>\n      <td>0.0</td>\n      <td>0.0</td>\n      <td>0.859640</td>\n      <td>1.0</td>\n    </tr>\n    <tr>\n      <th>4</th>\n      <td>thewhiskeydregs.com/wp-content/themes/widescre...</td>\n      <td>10000000</td>\n      <td>0.0</td>\n      <td>0.0</td>\n      <td>8</td>\n      <td>29.000000</td>\n      <td>24.125000</td>\n      <td>0.0</td>\n      <td>0.0</td>\n      <td>0.0</td>\n      <td>0.0</td>\n      <td>0.0</td>\n      <td>0.748971</td>\n      <td>1.0</td>\n    </tr>\n    <tr>\n      <th>5</th>\n      <td>smilesvoegol.servebbs.org/voegol.php</td>\n      <td>10000000</td>\n      <td>0.0</td>\n      <td>0.0</td>\n      <td>2</td>\n      <td>223.500000</td>\n      <td>234.000000</td>\n      <td>0.0</td>\n      <td>0.0</td>\n      <td>0.0</td>\n      <td>0.0</td>\n      <td>0.0</td>\n      <td>0.852227</td>\n      <td>1.0</td>\n    </tr>\n  </tbody>\n</table>\n</div>"
     },
     "metadata": {},
     "output_type": "display_data"
    }
   ],
   "source": [
    "print('PhisStorm data 96k:')\n",
    "phish_storm_chaste = pd.read_csv(\n",
    "    PHISH_STORM_PATH\n",
    ")\n",
    "phish_storm = phish_storm_chaste[phish_storm_chaste.label != 1.0]\n",
    "drop_list = ['label', 'ranking']\n",
    "phish_storm = phish_storm.drop(\n",
    "    drop_list,\n",
    "    axis='columns'\n",
    ")\n",
    "print(\n",
    "    \"\\nAll rows with '1.0' label were dropped.\",\n",
    "    \"\\n\\nThe following columns were dropped:\",\n",
    "    drop_list,\n",
    ")\n",
    "display(phish_storm_chaste.head(6))\n",
    "del phish_storm_chaste, drop_list"
   ],
   "metadata": {
    "collapsed": false,
    "pycharm": {
     "name": "#%%\n"
    }
   }
  },
  {
   "cell_type": "code",
   "execution_count": 12,
   "outputs": [
    {
     "data": {
      "text/plain": "        domain main_category  main_category_confidence ip_add geo_loc who_is  \\\n0   google.com           NaN                       NaN    NaN     NaN    NaN   \n1  youtube.com           NaN                       NaN    NaN     NaN    NaN   \n2    tmall.com           NaN                       NaN    NaN     NaN    NaN   \n3    baidu.com           NaN                       NaN    NaN     NaN    NaN   \n4       qq.com           NaN                       NaN    NaN     NaN    NaN   \n\n   js_len  js_obf_len  mld_res  mld.ps_res  card_rem  ratio_Rrem  ratio_Arem  \\\n0     NaN         NaN      NaN         NaN       NaN         NaN         NaN   \n1     NaN         NaN      NaN         NaN       NaN         NaN         NaN   \n2     NaN         NaN      NaN         NaN       NaN         NaN         NaN   \n3     NaN         NaN      NaN         NaN       NaN         NaN         NaN   \n4     NaN         NaN      NaN         NaN       NaN         NaN         NaN   \n\n   jaccard_RR  jaccard_RA  jaccard_AR  jaccard_AA  jaccard_ARrd  jaccard_ARrem  \n0         NaN         NaN         NaN         NaN           NaN            NaN  \n1         NaN         NaN         NaN         NaN           NaN            NaN  \n2         NaN         NaN         NaN         NaN           NaN            NaN  \n3         NaN         NaN         NaN         NaN           NaN            NaN  \n4         NaN         NaN         NaN         NaN           NaN            NaN  ",
      "text/html": "<div>\n<style scoped>\n    .dataframe tbody tr th:only-of-type {\n        vertical-align: middle;\n    }\n\n    .dataframe tbody tr th {\n        vertical-align: top;\n    }\n\n    .dataframe thead th {\n        text-align: right;\n    }\n</style>\n<table border=\"1\" class=\"dataframe\">\n  <thead>\n    <tr style=\"text-align: right;\">\n      <th></th>\n      <th>domain</th>\n      <th>main_category</th>\n      <th>main_category_confidence</th>\n      <th>ip_add</th>\n      <th>geo_loc</th>\n      <th>who_is</th>\n      <th>js_len</th>\n      <th>js_obf_len</th>\n      <th>mld_res</th>\n      <th>mld.ps_res</th>\n      <th>card_rem</th>\n      <th>ratio_Rrem</th>\n      <th>ratio_Arem</th>\n      <th>jaccard_RR</th>\n      <th>jaccard_RA</th>\n      <th>jaccard_AR</th>\n      <th>jaccard_AA</th>\n      <th>jaccard_ARrd</th>\n      <th>jaccard_ARrem</th>\n    </tr>\n  </thead>\n  <tbody>\n    <tr>\n      <th>0</th>\n      <td>google.com</td>\n      <td>NaN</td>\n      <td>NaN</td>\n      <td>NaN</td>\n      <td>NaN</td>\n      <td>NaN</td>\n      <td>NaN</td>\n      <td>NaN</td>\n      <td>NaN</td>\n      <td>NaN</td>\n      <td>NaN</td>\n      <td>NaN</td>\n      <td>NaN</td>\n      <td>NaN</td>\n      <td>NaN</td>\n      <td>NaN</td>\n      <td>NaN</td>\n      <td>NaN</td>\n      <td>NaN</td>\n    </tr>\n    <tr>\n      <th>1</th>\n      <td>youtube.com</td>\n      <td>NaN</td>\n      <td>NaN</td>\n      <td>NaN</td>\n      <td>NaN</td>\n      <td>NaN</td>\n      <td>NaN</td>\n      <td>NaN</td>\n      <td>NaN</td>\n      <td>NaN</td>\n      <td>NaN</td>\n      <td>NaN</td>\n      <td>NaN</td>\n      <td>NaN</td>\n      <td>NaN</td>\n      <td>NaN</td>\n      <td>NaN</td>\n      <td>NaN</td>\n      <td>NaN</td>\n    </tr>\n    <tr>\n      <th>2</th>\n      <td>tmall.com</td>\n      <td>NaN</td>\n      <td>NaN</td>\n      <td>NaN</td>\n      <td>NaN</td>\n      <td>NaN</td>\n      <td>NaN</td>\n      <td>NaN</td>\n      <td>NaN</td>\n      <td>NaN</td>\n      <td>NaN</td>\n      <td>NaN</td>\n      <td>NaN</td>\n      <td>NaN</td>\n      <td>NaN</td>\n      <td>NaN</td>\n      <td>NaN</td>\n      <td>NaN</td>\n      <td>NaN</td>\n    </tr>\n    <tr>\n      <th>3</th>\n      <td>baidu.com</td>\n      <td>NaN</td>\n      <td>NaN</td>\n      <td>NaN</td>\n      <td>NaN</td>\n      <td>NaN</td>\n      <td>NaN</td>\n      <td>NaN</td>\n      <td>NaN</td>\n      <td>NaN</td>\n      <td>NaN</td>\n      <td>NaN</td>\n      <td>NaN</td>\n      <td>NaN</td>\n      <td>NaN</td>\n      <td>NaN</td>\n      <td>NaN</td>\n      <td>NaN</td>\n      <td>NaN</td>\n    </tr>\n    <tr>\n      <th>4</th>\n      <td>qq.com</td>\n      <td>NaN</td>\n      <td>NaN</td>\n      <td>NaN</td>\n      <td>NaN</td>\n      <td>NaN</td>\n      <td>NaN</td>\n      <td>NaN</td>\n      <td>NaN</td>\n      <td>NaN</td>\n      <td>NaN</td>\n      <td>NaN</td>\n      <td>NaN</td>\n      <td>NaN</td>\n      <td>NaN</td>\n      <td>NaN</td>\n      <td>NaN</td>\n      <td>NaN</td>\n      <td>NaN</td>\n    </tr>\n  </tbody>\n</table>\n</div>"
     },
     "execution_count": 12,
     "metadata": {},
     "output_type": "execute_result"
    }
   ],
   "source": [
    "good_df_to_concat = [\n",
    "    alexa1m,\n",
    "    categorized_dfe,\n",
    "    gov_poland,\n",
    "    iscx_benign,\n",
    "    kaggle_labeled,\n",
    "    mendeley_label1m,\n",
    "    mendeley_label300k,\n",
    "    moz500,\n",
    "    phish_storm,\n",
    "    poland100\n",
    "]\n",
    "URLs_good = pd.concat(good_df_to_concat,\n",
    "                      axis=0,\n",
    "                      ignore_index=True)\n",
    "URLs_good.head()"
   ],
   "metadata": {
    "collapsed": false,
    "pycharm": {
     "name": "#%%\n"
    }
   }
  }
 ],
 "metadata": {
  "kernelspec": {
   "display_name": "Python 3",
   "language": "python",
   "name": "python3"
  },
  "language_info": {
   "codemirror_mode": {
    "name": "ipython",
    "version": 2
   },
   "file_extension": ".py",
   "mimetype": "text/x-python",
   "name": "python",
   "nbconvert_exporter": "python",
   "pygments_lexer": "ipython2",
   "version": "2.7.6"
  }
 },
 "nbformat": 4,
 "nbformat_minor": 0
}