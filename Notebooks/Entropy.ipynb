{
 "cells": [
  {
   "cell_type": "markdown",
   "id": "5ecc61aa-1751-4f2e-b017-a01f6b4a64e6",
   "metadata": {},
   "source": [
    "# Obliczenie prawdopodobieństwa wystąpienia danego znaku w zbiorze danych"
   ]
  },
  {
   "cell_type": "code",
   "execution_count": 8,
   "id": "d0b97672-2f3b-4d66-a8a3-708b6ee711f6",
   "metadata": {},
   "outputs": [],
   "source": [
    "import pandas as pd\n",
    "import numpy as np\n",
    "import re"
   ]
  },
  {
   "cell_type": "code",
   "execution_count": 2,
   "id": "ab1fb425-5ee4-408f-9c5b-91ed6d42005b",
   "metadata": {},
   "outputs": [
    {
     "name": "stderr",
     "output_type": "stream",
     "text": [
      "/home/pk/miniconda3/envs/Hackathon-2021-RTFD/lib/python3.9/site-packages/numpy/lib/arraysetops.py:580: FutureWarning: elementwise comparison failed; returning scalar instead, but in the future will perform elementwise comparison\n",
      "  mask |= (ar1 == a)\n"
     ]
    }
   ],
   "source": [
    "df = pd.read_csv(\"../Data/cleaned_combined_urls.csv\", index_col=0)\n",
    "df[\"url\"] = df.url.astype(str)\n",
    "df[\"url\"] = df.url.str.lower()"
   ]
  },
  {
   "cell_type": "code",
   "execution_count": 3,
   "id": "11ef4ce2-62fe-4c75-a341-9e775f853fdb",
   "metadata": {},
   "outputs": [
    {
     "data": {
      "text/html": [
       "<div>\n",
       "<style scoped>\n",
       "    .dataframe tbody tr th:only-of-type {\n",
       "        vertical-align: middle;\n",
       "    }\n",
       "\n",
       "    .dataframe tbody tr th {\n",
       "        vertical-align: top;\n",
       "    }\n",
       "\n",
       "    .dataframe thead th {\n",
       "        text-align: right;\n",
       "    }\n",
       "</style>\n",
       "<table border=\"1\" class=\"dataframe\">\n",
       "  <thead>\n",
       "    <tr style=\"text-align: right;\">\n",
       "      <th></th>\n",
       "      <th>url</th>\n",
       "      <th>label</th>\n",
       "    </tr>\n",
       "  </thead>\n",
       "  <tbody>\n",
       "    <tr>\n",
       "      <th>0</th>\n",
       "      <td>?guid=windows updates manager</td>\n",
       "      <td>1.0</td>\n",
       "    </tr>\n",
       "    <tr>\n",
       "      <th>1</th>\n",
       "      <td>69.162.100.198/</td>\n",
       "      <td>1.0</td>\n",
       "    </tr>\n",
       "  </tbody>\n",
       "</table>\n",
       "</div>"
      ],
      "text/plain": [
       "                             url  label\n",
       "0  ?guid=windows updates manager    1.0\n",
       "1                69.162.100.198/    1.0"
      ]
     },
     "execution_count": 3,
     "metadata": {},
     "output_type": "execute_result"
    }
   ],
   "source": [
    "df.head(2) # 1 - BAD\n",
    "           # 0 - GOOD"
   ]
  },
  {
   "cell_type": "code",
   "execution_count": 4,
   "id": "35578f6d-8f61-40c4-97df-e2e31e2ae055",
   "metadata": {},
   "outputs": [],
   "source": [
    "good = df[df[\"label\"] == 1]"
   ]
  },
  {
   "cell_type": "code",
   "execution_count": 43,
   "id": "f63854c4-ce73-406b-ab9e-4ad773d9ded0",
   "metadata": {},
   "outputs": [],
   "source": [
    "letter_count = {}\n",
    "i = 0\n",
    "cleaner = re.compile(r\"\"\"[^a-z0-9/;,.\\'\\[\\]@&%1#$*()\\\\]+\"\"\")\n",
    "\n",
    "for row in good.url.to_numpy():\n",
    "    row = cleaner.sub('', row)\n",
    "    for letter in row:\n",
    "        if letter not in letter_count.keys():\n",
    "            letter_count[letter] = 1\n",
    "        else:\n",
    "            letter_count[letter] += 1\n",
    "        i += 1"
   ]
  },
  {
   "cell_type": "code",
   "execution_count": 44,
   "id": "b3865073-e619-4c27-86fb-fda40f4d283f",
   "metadata": {},
   "outputs": [],
   "source": [
    "letter_prop = {}\n",
    "\n",
    "for key in letter_count:\n",
    "    letter_prop[key] = letter_count[key] / i"
   ]
  },
  {
   "cell_type": "code",
   "execution_count": 48,
   "id": "ba2939b9-1bc7-405b-9193-de7f9b2a20a1",
   "metadata": {},
   "outputs": [
    {
     "data": {
      "text/plain": [
       "{'g': 0.017823195816706855,\n",
       " 'u': 0.019656863921083692,\n",
       " 'i': 0.04282234162349053,\n",
       " 'd': 0.02362298601231347,\n",
       " 'w': 0.06868367734904952,\n",
       " 'n': 0.04192416654368707,\n",
       " 'o': 0.05917547697301064,\n",
       " 's': 0.04087732549559563,\n",
       " 'p': 0.047038663571700494,\n",
       " 'a': 0.04921073758433189,\n",
       " 't': 0.07547396818911765,\n",
       " 'e': 0.05859317164000978,\n",
       " 'm': 0.03821830076858004,\n",
       " 'r': 0.03626613607334285,\n",
       " '6': 0.005261345563926245,\n",
       " '9': 0.004489300290958807,\n",
       " '.': 0.06449691896747548,\n",
       " '1': 0.0074827325750036165,\n",
       " '2': 0.007503935952713802,\n",
       " '0': 0.006426077392086318,\n",
       " '8': 0.00587551654457156,\n",
       " '/': 0.05952224307019093,\n",
       " 'b': 0.018622381413143332,\n",
       " 'c': 0.049838478726711724,\n",
       " 'z': 0.0043048914859593656,\n",
       " '3': 0.0066693710060409025,\n",
       " 'h': 0.033948061659907026,\n",
       " 'f': 0.014128719284484144,\n",
       " 'l': 0.03218672736406151,\n",
       " '7': 0.004617732178803359,\n",
       " '%': 0.0009838367257526048,\n",
       " '5': 0.0058310500324593425,\n",
       " '4': 0.006094335402540674,\n",
       " 'j': 0.0035587749148775255,\n",
       " 'y': 0.0096172463185484,\n",
       " 'x': 0.006756123111415147,\n",
       " \"'\": 0.00032895525990373425,\n",
       " 'v': 0.007133179748181417,\n",
       " '\\\\': 0.0007063753831450352,\n",
       " '&': 0.0015393652217594634,\n",
       " ';': 0.0008533450812162063,\n",
       " 'q': 0.0019404119658778284,\n",
       " 'k': 0.009749313071143269,\n",
       " '(': 1.0662269934264683e-05,\n",
       " ')': 1.0783432092608599e-05,\n",
       " ',': 9.123510523296938e-05,\n",
       " '#': 1.853781022661928e-05,\n",
       " '[': 2.7867296419100876e-06,\n",
       " ']': 2.7867296419100876e-06,\n",
       " '*': 4.361837700381007e-06,\n",
       " '$': 5.088810650444507e-06}"
      ]
     },
     "execution_count": 48,
     "metadata": {},
     "output_type": "execute_result"
    }
   ],
   "source": [
    "letter_prop"
   ]
  },
  {
   "cell_type": "code",
   "execution_count": null,
   "id": "891312ab-e485-492c-b5b8-3201bcbb474c",
   "metadata": {},
   "outputs": [],
   "source": []
  }
 ],
 "metadata": {
  "kernelspec": {
   "display_name": "Python 3",
   "language": "python",
   "name": "python3"
  },
  "language_info": {
   "codemirror_mode": {
    "name": "ipython",
    "version": 3
   },
   "file_extension": ".py",
   "mimetype": "text/x-python",
   "name": "python",
   "nbconvert_exporter": "python",
   "pygments_lexer": "ipython3",
   "version": "3.9.5"
  }
 },
 "nbformat": 4,
 "nbformat_minor": 5
}
