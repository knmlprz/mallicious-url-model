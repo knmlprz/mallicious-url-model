{
 "cells": [
  {
   "cell_type": "markdown",
   "id": "e2dce6b1-a1d0-4fbb-8d68-4f8ae312c889",
   "metadata": {
    "tags": []
   },
   "source": [
    "### **Motivation**\n",
    "\n",
    "It's not very efficient to decide whether UTF-8 characters are similar or not by hand. That was the main reason for writing a CNN classifier of all the UTF-8 symbols into 26 categories ( = 26 letters of the English alphabet). I'm not sure whether this is a good idea, but I'm excited to find out.\n",
    "\n",
    "So in this notebook, I'm trying to generate the dataset for the CNN by creating images of English letters using different fonts."
   ]
  },
  {
   "cell_type": "code",
   "execution_count": 1,
   "id": "3788e8e7-e0cd-4962-aaee-689fabf6f83c",
   "metadata": {},
   "outputs": [],
   "source": [
    "import os\n",
    "import string\n",
    "\n",
    "import matplotlib.pyplot as plt\n",
    "import pandas as pd"
   ]
  },
  {
   "cell_type": "code",
   "execution_count": 2,
   "id": "6ceb0dc2-d8ed-499b-8c71-14c63f63471b",
   "metadata": {},
   "outputs": [],
   "source": [
    "REBUILD_DATABASE = True"
   ]
  },
  {
   "cell_type": "code",
   "execution_count": 3,
   "id": "0514d847-25b8-49a4-bd5a-6add20bb89d5",
   "metadata": {},
   "outputs": [
    {
     "data": {
      "text/plain": [
       "['.ipynb_checkpoints', 'fonts.txt', 'generate_letters_dataset.ipynb']"
      ]
     },
     "execution_count": 3,
     "metadata": {},
     "output_type": "execute_result"
    }
   ],
   "source": [
    "os.makedirs(\"../../Data/Letters/\", exist_ok=True)\n",
    "os.listdir()"
   ]
  },
  {
   "cell_type": "code",
   "execution_count": 4,
   "id": "84868d34-7a69-436f-9eda-396bc9c118c2",
   "metadata": {},
   "outputs": [
    {
     "data": {
      "text/html": [
       "<div>\n",
       "<style scoped>\n",
       "    .dataframe tbody tr th:only-of-type {\n",
       "        vertical-align: middle;\n",
       "    }\n",
       "\n",
       "    .dataframe tbody tr th {\n",
       "        vertical-align: top;\n",
       "    }\n",
       "\n",
       "    .dataframe thead th {\n",
       "        text-align: right;\n",
       "    }\n",
       "</style>\n",
       "<table border=\"1\" class=\"dataframe\">\n",
       "  <thead>\n",
       "    <tr style=\"text-align: right;\">\n",
       "      <th></th>\n",
       "      <th>fontname</th>\n",
       "    </tr>\n",
       "  </thead>\n",
       "  <tbody>\n",
       "    <tr>\n",
       "      <th>0</th>\n",
       "      <td>Algerian</td>\n",
       "    </tr>\n",
       "    <tr>\n",
       "      <th>1</th>\n",
       "      <td>Arial</td>\n",
       "    </tr>\n",
       "    <tr>\n",
       "      <th>2</th>\n",
       "      <td>Arial Rounded MT Bold</td>\n",
       "    </tr>\n",
       "    <tr>\n",
       "      <th>3</th>\n",
       "      <td>Bahnschrift</td>\n",
       "    </tr>\n",
       "    <tr>\n",
       "      <th>4</th>\n",
       "      <td>Baskerville Old Face</td>\n",
       "    </tr>\n",
       "  </tbody>\n",
       "</table>\n",
       "</div>"
      ],
      "text/plain": [
       "                fontname\n",
       "0               Algerian\n",
       "1                  Arial\n",
       "2  Arial Rounded MT Bold\n",
       "3            Bahnschrift\n",
       "4   Baskerville Old Face"
      ]
     },
     "execution_count": 4,
     "metadata": {},
     "output_type": "execute_result"
    }
   ],
   "source": [
    "fonts = pd.read_table(\"fonts.txt\", names=[\"fontname\"])\n",
    "fonts.head()"
   ]
  },
  {
   "cell_type": "code",
   "execution_count": 5,
   "id": "6b96b592-4ebb-4874-8807-0739937b5c39",
   "metadata": {},
   "outputs": [
    {
     "data": {
      "image/png": "[encoded data removed]",
      "text/plain": [
       "<Figure size 72x72 with 1 Axes>"
      ]
     },
     "metadata": {
      "needs_background": "light"
     },
     "output_type": "display_data"
    }
   ],
   "source": [
    "fontdict = {\n",
    "    \"name\": \"Arial Rounded MT Bold\", \n",
    "    \"size\": \"64\",\n",
    "    \"style\": \"italic\",\n",
    "    \"weight\": \"bold\",\n",
    "}\n",
    "\n",
    "fig, ax = plt.subplots(figsize=[1, 1])\n",
    "ax.text(0.5, 0.5, \n",
    "        \"W\", \n",
    "        fontdict,\n",
    "        verticalalignment=\"center\",\n",
    "        horizontalalignment=\"center\",)\n",
    "ax.axis(\"off\")\n",
    "# plt.savefig(\"../../Data/Letters/test.jpg\", \n",
    "#             dpi=32, \n",
    "#             facecolor=\"white\", \n",
    "#             pil_kwargs={'quality': 80})"
   ]
  },
  {
   "cell_type": "code",
   "execution_count": 6,
   "id": "a13e86b0-951a-47d4-98b5-6e489270f8fa",
   "metadata": {},
   "outputs": [],
   "source": [
    "if REBUILD_DATABASE:\n",
    "    letter_counter = 0\n",
    "    for letter in string.ascii_letters:\n",
    "        os.makedirs(f\"../../Data/Letters/{letter}/\", exist_ok=True)\n",
    "        for font in fonts.fontname:\n",
    "    #         for style in ['normal', 'italic']:\n",
    "    #             for weight in ['light', 'normal', 'bold']:\n",
    "\n",
    "            fontdict = {\n",
    "                \"name\": font, \n",
    "                \"size\": \"64\",\n",
    "                \"style\": \"normal\",\n",
    "                \"weight\": \"normal\",\n",
    "            }\n",
    "\n",
    "            fig, ax = plt.subplots(figsize=[1, 1])\n",
    "            ax.text(0.5, 0.5, \n",
    "                    letter, \n",
    "                    fontdict,\n",
    "                    verticalalignment=\"center\",\n",
    "                    horizontalalignment=\"center\")\n",
    "\n",
    "            ax.axis(\"off\")\n",
    "            plt.savefig(\n",
    "                f\"../../Data/Letters/{letter}/\"\n",
    "                f\"{letter}_{letter_counter}.jpg\", \n",
    "                dpi=32, \n",
    "                facecolor=\"white\", \n",
    "                pil_kwargs={'quality': 80}\n",
    "            )\n",
    "            fig.clear()\n",
    "            plt.close(fig)\n",
    "            letter_counter += 1\n"
   ]
  },
  {
   "cell_type": "code",
   "execution_count": null,
   "id": "e7bf6e47-1dc9-493a-b081-4d2d15a4a0b8",
   "metadata": {},
   "outputs": [],
   "source": []
  }
 ],
 "metadata": {
  "kernelspec": {
   "display_name": "Python 3 (ipykernel)",
   "language": "python",
   "name": "python3"
  },
  "language_info": {
   "codemirror_mode": {
    "name": "ipython",
    "version": 3
   },
   "file_extension": ".py",
   "mimetype": "text/x-python",
   "name": "python",
   "nbconvert_exporter": "python",
   "pygments_lexer": "ipython3",
   "version": "3.7.10"
  }
 },
 "nbformat": 4,
 "nbformat_minor": 5
}
