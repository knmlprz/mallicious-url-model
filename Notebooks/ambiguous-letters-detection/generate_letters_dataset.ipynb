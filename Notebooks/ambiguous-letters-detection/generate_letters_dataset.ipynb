{
 "cells": [
  {
   "cell_type": "markdown",
   "id": "e2dce6b1-a1d0-4fbb-8d68-4f8ae312c889",
   "metadata": {
    "tags": []
   },
   "source": [
    "### **Motivation**\n",
    "\n",
    "It's not very efficient to decide whether UTF-8 characters are similar or not by hand. That was the main reason for writing a CNN classifier of all the UTF-8 symbols into 26 categories ( = 26 letters of the English alphabet). I'm not sure whether this is a good idea, but I'm excited to find out.\n",
    "\n",
    "So in this notebook, I'm trying to generate the dataset for the CNN by creating images of English letters using different fonts."
   ]
  },
  {
   "cell_type": "code",
   "execution_count": 9,
   "id": "3788e8e7-e0cd-4962-aaee-689fabf6f83c",
   "metadata": {},
   "outputs": [],
   "source": [
    "import matplotlib.pyplot as plt\n",
    "import pandas as pd\n",
    "import os"
   ]
  },
  {
   "cell_type": "code",
   "execution_count": null,
   "id": "0514d847-25b8-49a4-bd5a-6add20bb89d5",
   "metadata": {},
   "outputs": [
    {
     "data": {
      "text/plain": [
       "['.ipynb_checkpoints', 'fonts.txt', 'generate_letters_dataset.ipynb']"
      ]
     },
     "execution_count": 2,
     "metadata": {},
     "output_type": "execute_result"
    }
   ],
   "source": [
    "os.listdir()"
   ]
  },
  {
   "cell_type": "code",
   "execution_count": 121,
   "id": "84868d34-7a69-436f-9eda-396bc9c118c2",
   "metadata": {},
   "outputs": [
    {
     "data": {
      "text/html": [
       "<div>\n",
       "<style scoped>\n",
       "    .dataframe tbody tr th:only-of-type {\n",
       "        vertical-align: middle;\n",
       "    }\n",
       "\n",
       "    .dataframe tbody tr th {\n",
       "        vertical-align: top;\n",
       "    }\n",
       "\n",
       "    .dataframe thead th {\n",
       "        text-align: right;\n",
       "    }\n",
       "</style>\n",
       "<table border=\"1\" class=\"dataframe\">\n",
       "  <thead>\n",
       "    <tr style=\"text-align: right;\">\n",
       "      <th></th>\n",
       "      <th>fontname</th>\n",
       "    </tr>\n",
       "  </thead>\n",
       "  <tbody>\n",
       "    <tr>\n",
       "      <th>0</th>\n",
       "      <td>Agency FB</td>\n",
       "    </tr>\n",
       "    <tr>\n",
       "      <th>1</th>\n",
       "      <td>Algerian</td>\n",
       "    </tr>\n",
       "    <tr>\n",
       "      <th>2</th>\n",
       "      <td>Arial</td>\n",
       "    </tr>\n",
       "    <tr>\n",
       "      <th>3</th>\n",
       "      <td>Arial Rounded MT Bold</td>\n",
       "    </tr>\n",
       "    <tr>\n",
       "      <th>4</th>\n",
       "      <td>Bahnschrift</td>\n",
       "    </tr>\n",
       "    <tr>\n",
       "      <th>5</th>\n",
       "      <td>Baskerville Old Face</td>\n",
       "    </tr>\n",
       "    <tr>\n",
       "      <th>6</th>\n",
       "      <td>Bauhaus 93</td>\n",
       "    </tr>\n",
       "    <tr>\n",
       "      <th>7</th>\n",
       "      <td>Bell MT</td>\n",
       "    </tr>\n",
       "    <tr>\n",
       "      <th>8</th>\n",
       "      <td>Berlin Sans FB</td>\n",
       "    </tr>\n",
       "    <tr>\n",
       "      <th>9</th>\n",
       "      <td>Berlin Sans FB Demi</td>\n",
       "    </tr>\n",
       "    <tr>\n",
       "      <th>10</th>\n",
       "      <td>Bernard MT Condensed</td>\n",
       "    </tr>\n",
       "    <tr>\n",
       "      <th>11</th>\n",
       "      <td>Blackadder ITC</td>\n",
       "    </tr>\n",
       "    <tr>\n",
       "      <th>12</th>\n",
       "      <td>Bodoni MT</td>\n",
       "    </tr>\n",
       "    <tr>\n",
       "      <th>13</th>\n",
       "      <td>Book Antiqua</td>\n",
       "    </tr>\n",
       "    <tr>\n",
       "      <th>14</th>\n",
       "      <td>Bookman Old Style</td>\n",
       "    </tr>\n",
       "    <tr>\n",
       "      <th>15</th>\n",
       "      <td>Bradley Hand ITC</td>\n",
       "    </tr>\n",
       "    <tr>\n",
       "      <th>16</th>\n",
       "      <td>Britannic Bold</td>\n",
       "    </tr>\n",
       "    <tr>\n",
       "      <th>17</th>\n",
       "      <td>Broadway</td>\n",
       "    </tr>\n",
       "    <tr>\n",
       "      <th>18</th>\n",
       "      <td>Brush Script MT</td>\n",
       "    </tr>\n",
       "    <tr>\n",
       "      <th>19</th>\n",
       "      <td>Calibri</td>\n",
       "    </tr>\n",
       "  </tbody>\n",
       "</table>\n",
       "</div>"
      ],
      "text/plain": [
       "                 fontname\n",
       "0               Agency FB\n",
       "1                Algerian\n",
       "2                   Arial\n",
       "3   Arial Rounded MT Bold\n",
       "4             Bahnschrift\n",
       "5    Baskerville Old Face\n",
       "6              Bauhaus 93\n",
       "7                 Bell MT\n",
       "8          Berlin Sans FB\n",
       "9     Berlin Sans FB Demi\n",
       "10   Bernard MT Condensed\n",
       "11         Blackadder ITC\n",
       "12              Bodoni MT\n",
       "13           Book Antiqua\n",
       "14      Bookman Old Style\n",
       "15       Bradley Hand ITC\n",
       "16         Britannic Bold\n",
       "17               Broadway\n",
       "18        Brush Script MT\n",
       "19                Calibri"
      ]
     },
     "execution_count": 121,
     "metadata": {},
     "output_type": "execute_result"
    }
   ],
   "source": [
    "fonts = pd.read_table(\"fonts.txt\", names=[\"fontname\"])\n",
    "fonts.head(20)"
   ]
  },
  {
   "cell_type": "code",
   "execution_count": 125,
   "id": "6b96b592-4ebb-4874-8807-0739937b5c39",
   "metadata": {},
   "outputs": [
    {
     "data": {
      "text/plain": [
       "Text(0.5, 0.5, 'Agency FB')"
      ]
     },
     "execution_count": 125,
     "metadata": {},
     "output_type": "execute_result"
    },
    {
     "data": {
      "image/png": "[encoded data removed]",
      "text/plain": [
       "<Figure size 432x288 with 1 Axes>"
      ]
     },
     "metadata": {
      "needs_background": "light"
     },
     "output_type": "display_data"
    }
   ],
   "source": [
    "fontdict = {\n",
    "    \"name\": \"Agency FB\", \n",
    "    \"size\": \"25\",\n",
    "    \"stretch\": \"extra-expanded\",\n",
    "    \"style\": \"italic\",\n",
    "    \"variant\": \"small-caps\",\n",
    "    \"weight\": \"bold\",\n",
    "}\n",
    "\n",
    "fig, ax = plt.subplots()\n",
    "ax.text(0.5, 0.5, \n",
    "        \"Agency FB\", \n",
    "        fontdict,\n",
    "        verticalalignment=\"center\",\n",
    "        horizontalalignment=\"center\",)"
   ]
  },
  {
   "cell_type": "code",
   "execution_count": null,
   "id": "a13e86b0-951a-47d4-98b5-6e489270f8fa",
   "metadata": {},
   "outputs": [],
   "source": []
  }
 ],
 "metadata": {
  "kernelspec": {
   "display_name": "Python 3 (ipykernel)",
   "language": "python",
   "name": "python3"
  },
  "language_info": {
   "codemirror_mode": {
    "name": "ipython",
    "version": 3
   },
   "file_extension": ".py",
   "mimetype": "text/x-python",
   "name": "python",
   "nbconvert_exporter": "python",
   "pygments_lexer": "ipython3",
   "version": "3.8.10"
  }
 },
 "nbformat": 4,
 "nbformat_minor": 5
}
