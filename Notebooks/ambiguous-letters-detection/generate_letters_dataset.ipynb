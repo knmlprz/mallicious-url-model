{
 "cells": [
  {
   "cell_type": "markdown",
   "id": "e2dce6b1-a1d0-4fbb-8d68-4f8ae312c889",
   "metadata": {
    "tags": []
   },
   "source": [
    "### **Motivation**\n",
    "\n",
    "It's not very efficient to decide whether UTF-8 characters are similar or not by hand. That was the main reason for writing a CNN classifier of all the UTF-8 symbols into 26 categories ( = 26 letters of the English alphabet). I'm not sure whether this is a good idea, but I'm excited to find out.\n",
    "\n",
    "So in this notebook, I'm trying to generate the dataset for the CNN by creating images of English letters using different fonts."
   ]
  },
  {
   "cell_type": "code",
   "execution_count": null,
   "id": "84868d34-7a69-436f-9eda-396bc9c118c2",
   "metadata": {},
   "outputs": [],
   "source": []
  }
 ],
 "metadata": {
  "kernelspec": {
   "display_name": "Python 3 (ipykernel)",
   "language": "python",
   "name": "python3"
  },
  "language_info": {
   "codemirror_mode": {
    "name": "ipython",
    "version": 3
   },
   "file_extension": ".py",
   "mimetype": "text/x-python",
   "name": "python",
   "nbconvert_exporter": "python",
   "pygments_lexer": "ipython3",
   "version": "3.8.10"
  }
 },
 "nbformat": 4,
 "nbformat_minor": 5
}
