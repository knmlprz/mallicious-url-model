{
 "cells": [
  {
   "cell_type": "code",
   "execution_count": 1,
   "id": "2a8e028b-d1fb-4fe2-8e0b-702bf4e12967",
   "metadata": {},
   "outputs": [
    {
     "name": "stdout",
     "output_type": "stream",
     "text": [
      "Is cuda enabled? YES\n"
     ]
    }
   ],
   "source": [
    "import os\n",
    "import string\n",
    "from collections import OrderedDict\n",
    "from datetime import datetime\n",
    "\n",
    "import numpy as np\n",
    "import matplotlib.pyplot as plt\n",
    "import cv2\n",
    "from tqdm import tqdm\n",
    "\n",
    "import torch\n",
    "import torch.nn as nn\n",
    "import torch.optim as optim\n",
    "import torch.nn.functional as F\n",
    "import torchvision.transforms as transforms\n",
    "\n",
    "from torchvision.utils import save_image\n",
    "from torch.utils.data import DataLoader\n",
    "from torchvision import datasets\n",
    "from torch.autograd import Variable\n",
    "\n",
    "\n",
    "cuda = True if torch.cuda.is_available() else False\n",
    "print(\"Is cuda enabled?\", \"YES\" if cuda else \"NO\")"
   ]
  },
  {
   "cell_type": "code",
   "execution_count": 2,
   "id": "c9700788-d674-4a86-b317-e59506c8b72b",
   "metadata": {},
   "outputs": [],
   "source": [
    "REBUILD_DATA = False\n",
    "\n",
    "IMG_SIZE = 32\n",
    "FOLDER_PATH = \"../../Data/Letters/\"\n",
    "CLASSES = list(string.ascii_lowercase)\n",
    "LABEL_COUNT = len(CLASSES)\n",
    "LABELS = dict(zip(CLASSES, np.arange(LABEL_COUNT)))"
   ]
  },
  {
   "cell_type": "code",
   "execution_count": 3,
   "id": "b8d7522a-00bd-44ca-8d29-c1d75e342676",
   "metadata": {},
   "outputs": [
    {
     "name": "stdout",
     "output_type": "stream",
     "text": [
      "\n",
      "training_data.shape = (7436, 32, 32)\n"
     ]
    }
   ],
   "source": [
    "def rgb2gray(rgb):\n",
    "    return np.dot(rgb[...,:3], [0.2989, 0.5870, 0.1140])\n",
    "\n",
    "\n",
    "class DogsVSCats():\n",
    "    classes_counts = dict(zip(CLASSES, np.zeros(LABEL_COUNT, dtype=\"int32\")))\n",
    "    training_X = []\n",
    "    training_y = []\n",
    "    \n",
    "    def make_training_data(self):\n",
    "        for label in LABELS:\n",
    "            print(label, end=\" \")\n",
    "            for f in os.listdir(FOLDER_PATH + label):\n",
    "                path = os.path.join(FOLDER_PATH + label, f)\n",
    "                img = rgb2gray(plt.imread(path))\n",
    "                self.training_X.append(img)\n",
    "                self.training_y.append(np.eye(LABEL_COUNT)[LABELS[label]])\n",
    "                self.classes_counts[label] += 1\n",
    "        self.training_X = np.array(self.training_X)\n",
    "        self.training_y = np.array(self.training_y)\n",
    "        shuffled_order = np.random.default_rng().permutation(self.training_X.shape[0])\n",
    "        np.save(\"training_images.npy\", self.training_X[shuffled_order])\n",
    "        np.save(\"training_labels.npy\", self.training_y[shuffled_order])\n",
    "\n",
    "if REBUILD_DATA:\n",
    "    dogsvscats = DogsVSCats()\n",
    "    dogsvscats.make_training_data()\n",
    "    print(\"\\n\", dogsvscats.classes_counts)\n",
    "\n",
    "training_X = np.load(\"training_images.npy\", allow_pickle=True)\n",
    "training_y = np.load(\"training_labels.npy\", allow_pickle=True)\n",
    "print(f\"\\ntraining_data.shape = {training_X.shape}\")"
   ]
  },
  {
   "cell_type": "code",
   "execution_count": 4,
   "id": "a47cc8cb-949d-4f00-b95c-cbac4a504364",
   "metadata": {},
   "outputs": [
    {
     "data": {
      "text/plain": [
       "(array([[254.9745, 254.9745, 254.9745, ..., 254.9745, 254.9745, 254.9745],\n",
       "        [254.9745, 254.9745, 254.9745, ..., 254.9745, 254.9745, 254.9745],\n",
       "        [254.9745, 254.9745, 254.9745, ..., 254.9745, 254.9745, 254.9745],\n",
       "        ...,\n",
       "        [254.9745, 254.9745, 254.9745, ..., 254.9745, 254.9745, 254.9745],\n",
       "        [254.9745, 254.9745, 254.9745, ..., 254.9745, 254.9745, 254.9745],\n",
       "        [254.9745, 254.9745, 254.9745, ..., 254.9745, 254.9745, 254.9745]]),\n",
       " array([0., 1., 0., 0., 0., 0., 0., 0., 0., 0., 0., 0., 0., 0., 0., 0., 0.,\n",
       "        0., 0., 0., 0., 0., 0., 0., 0., 0.]))"
      ]
     },
     "execution_count": 4,
     "metadata": {},
     "output_type": "execute_result"
    }
   ],
   "source": [
    "training_X[0], training_y[0]"
   ]
  },
  {
   "cell_type": "code",
   "execution_count": 5,
   "id": "fb637880-fe10-4267-af22-b1649b7558a4",
   "metadata": {},
   "outputs": [],
   "source": [
    "class Net(nn.Module):\n",
    "    \n",
    "    def __init__(self):\n",
    "        super().__init__()\n",
    "        \n",
    "        self.conv1 = nn.Conv2d(\n",
    "            in_channels=1, \n",
    "            out_channels=32, \n",
    "            kernel_size=5,\n",
    "            stride=1,\n",
    "            padding=2\n",
    "        )\n",
    "        self.conv2 = nn.Conv2d(32, 64, 5, 1, 2)\n",
    "        self.conv3 = nn.Conv2d(64, 128, 5, 1, 2)\n",
    "        \n",
    "        self._out_dim = 128 * int(np.floor(IMG_SIZE / 2 ** 3) ** 2)\n",
    "        # 128 - n-channels; IMG_SIZE - input dim; 2 - pool dim; 3 - k-pools; 2 - an image is like a square\n",
    "        \n",
    "        self.fc1 = nn.Linear(self._out_dim, 512)\n",
    "        self.fc2 = nn.Linear(512, 26)\n",
    "    \n",
    "    def forward(self, x):\n",
    "        x = F.relu(self.conv1(x))\n",
    "        x = F.max_pool2d(x, (2,2))\n",
    "        x = F.relu(self.conv2(x))\n",
    "        x = F.max_pool2d(x, (2,2))\n",
    "        x = F.relu(self.conv3(x))\n",
    "        x = F.max_pool2d(x, (2,2))\n",
    "        \n",
    "        x = x.view(-1, self._out_dim)\n",
    "        x = F.relu(self.fc1(x))\n",
    "        x = self.fc2(x)\n",
    "        return F.softmax(x, dim=1)"
   ]
  },
  {
   "cell_type": "code",
   "execution_count": 6,
   "id": "e434f27b-18e3-43fb-853d-14bf53b9896d",
   "metadata": {},
   "outputs": [
    {
     "data": {
      "text/plain": [
       "2048"
      ]
     },
     "execution_count": 6,
     "metadata": {},
     "output_type": "execute_result"
    }
   ],
   "source": [
    "net = Net()\n",
    "net._out_dim"
   ]
  },
  {
   "cell_type": "code",
   "execution_count": 7,
   "id": "d638c346-9fe8-42ec-bc4b-d7f41cc1afb2",
   "metadata": {},
   "outputs": [
    {
     "name": "stdout",
     "output_type": "stream",
     "text": [
      "Test size: 743\n",
      "Train size: 6693\n"
     ]
    }
   ],
   "source": [
    "TEST_RATIO = 0.1\n",
    "\n",
    "optimizer = optim.Adam(net.parameters(), lr=1e-4)\n",
    "loss_function = nn.MSELoss()\n",
    "\n",
    "training_X = training_X / 127.5 - 1\n",
    "training_y = training_y\n",
    "X = torch.Tensor(training_X).view(-1, IMG_SIZE, IMG_SIZE)\n",
    "y = torch.Tensor(training_y)\n",
    "\n",
    "test_size = int(len(X) * TEST_RATIO)\n",
    "print(f\"Test size: {test_size}\")\n",
    "print(f\"Train size: {len(training_X) - test_size}\")"
   ]
  },
  {
   "cell_type": "code",
   "execution_count": 8,
   "id": "0561423d-671d-4507-ac6a-2075d337dc74",
   "metadata": {},
   "outputs": [],
   "source": [
    "def split_data(in_data, part_size):\n",
    "    return in_data[-part_size:], in_data[:-part_size]"
   ]
  },
  {
   "cell_type": "code",
   "execution_count": 9,
   "id": "19d314fd-abfe-44ea-9c2e-0eb517534343",
   "metadata": {},
   "outputs": [
    {
     "name": "stdout",
     "output_type": "stream",
     "text": [
      "len(train_X) = 6693\n",
      "len(test_X) = 743\n"
     ]
    }
   ],
   "source": [
    "test_X, train_X = split_data(X, test_size)\n",
    "test_y, train_y = split_data(y, test_size)\n",
    "\n",
    "print(f\"len(train_X) = {len(train_X)}\")\n",
    "print(f\"len(test_X) = {len(test_X)}\")"
   ]
  },
  {
   "cell_type": "code",
   "execution_count": 10,
   "id": "2545eb92-ac11-4ba0-b83a-f078ffb4de6b",
   "metadata": {},
   "outputs": [],
   "source": [
    "def validate(X, y):\n",
    "    with torch.no_grad():\n",
    "        real_class = torch.argmax(y, dim=1)\n",
    "        net_out = net(X.view(X.shape[0], 1, IMG_SIZE, IMG_SIZE))\n",
    "        predicted_class = torch.argmax(net_out, dim=1)\n",
    "        acc = np.sum(predicted_class.numpy() == real_class.numpy()) / real_class.shape[0]\n",
    "    return acc * 100"
   ]
  },
  {
   "cell_type": "code",
   "execution_count": 11,
   "id": "854cc625-be26-48b6-88b1-398d512e6f8e",
   "metadata": {
    "tags": []
   },
   "outputs": [
    {
     "name": "stderr",
     "output_type": "stream",
     "text": [
      "  0%|                                                                                                   | 0/32 [00:00<?, ?it/s]/home/vitalii/miniconda3/envs/pytorch/lib/python3.9/site-packages/torch/nn/functional.py:718: UserWarning: Named tensors and all their associated APIs are an experimental feature and subject to change. Please do not use them for anything important until they are released as stable. (Triggered internally at  /opt/conda/conda-bld/pytorch_1623448255797/work/c10/core/TensorImpl.h:1156.)\n",
      "  return torch.max_pool2d(input, kernel_size, stride, padding, dilation, ceil_mode)\n",
      "100%|██████████████████████████████████████████████████████████████████████████████████████████| 32/32 [01:43<00:00,  3.24s/it]"
     ]
    },
    {
     "name": "stdout",
     "output_type": "stream",
     "text": [
      "Final loss: 0.004698547068983316\n",
      "Final accuracy: 86.94%\n"
     ]
    },
    {
     "name": "stderr",
     "output_type": "stream",
     "text": [
      "\n"
     ]
    }
   ],
   "source": [
    "BATCH_SIZE = 60\n",
    "VALIDATION_RATIO = 0.2\n",
    "EPOCHS = 32\n",
    "\n",
    "validation_size = int(len(X) * VALIDATION_RATIO)\n",
    "loss_log = []\n",
    "accuracy_log = []\n",
    "stable_accuracy_log = []\n",
    "for epoch in tqdm(range(EPOCHS)):\n",
    "    shuffled_order = torch.randperm(len(train_X))\n",
    "    validation_X, train_iter_X = split_data(train_X[shuffled_order], validation_size)\n",
    "    validation_y, train_iter_y = split_data(train_y[shuffled_order], validation_size)\n",
    "    \n",
    "    for i in range(0, len(train_iter_X), BATCH_SIZE):\n",
    "        batch_X = train_iter_X[i:i + BATCH_SIZE].view(-1, 1, IMG_SIZE, IMG_SIZE)\n",
    "        batch_y = train_iter_y[i:i + BATCH_SIZE]\n",
    "        \n",
    "        net.zero_grad()\n",
    "        outputs = net(batch_X)\n",
    "        loss = loss_function(outputs, batch_y)\n",
    "        loss.backward()\n",
    "        optimizer.step()\n",
    "        \n",
    "    loss_log.append(loss.item())\n",
    "    accuracy_log.append(validate(validation_X, validation_y))  \n",
    "    stable_accuracy_log.append(validate(test_X, test_y))  \n",
    "    \n",
    "        \n",
    "print(f\"Final loss: {loss.item()}\")\n",
    "print(f\"Final accuracy: {validate(test_X, test_y):.2f}%\")"
   ]
  },
  {
   "cell_type": "code",
   "execution_count": 12,
   "id": "f3b2eb1c-6f2a-41f0-9855-70ab6828b1ef",
   "metadata": {},
   "outputs": [
    {
     "name": "stdout",
     "output_type": "stream",
     "text": [
      "Final accuracy: 86.94%\n"
     ]
    }
   ],
   "source": [
    "print(f\"Final accuracy: {validate(test_X, test_y):.2f}%\")"
   ]
  },
  {
   "cell_type": "code",
   "execution_count": 13,
   "id": "17df49e3-5281-4abd-9345-ae64fc3c7055",
   "metadata": {},
   "outputs": [
    {
     "data": {
      "text/plain": [
       "<matplotlib.collections.PathCollection at 0x7fafdc543df0>"
      ]
     },
     "execution_count": 13,
     "metadata": {},
     "output_type": "execute_result"
    },
    {
     "data": {
      "image/png": "[encoded data removed]",
      "text/plain": [
       "<Figure size 720x480 with 2 Axes>"
      ]
     },
     "metadata": {
      "needs_background": "light"
     },
     "output_type": "display_data"
    }
   ],
   "source": [
    "plt.rcParams['figure.dpi'] =  120\n",
    "\n",
    "fig, ax = plt.subplots()\n",
    "\n",
    "ax.plot(np.arange(len(loss_log)), loss_log)\n",
    "\n",
    "ax2 = plt.twinx(ax)\n",
    "ax2.scatter(np.arange(len(accuracy_log)), accuracy_log, \n",
    "            color=\"green\")\n",
    "\n",
    "ax2.scatter(np.arange(len(stable_accuracy_log)), stable_accuracy_log, \n",
    "           color=\"orange\")\n"
   ]
  },
  {
   "cell_type": "code",
   "execution_count": 14,
   "id": "52cc6de1-cf1d-4216-bc95-14ee3eaa9efd",
   "metadata": {},
   "outputs": [
    {
     "data": {
      "text/plain": [
       "<Figure size 720x480 with 0 Axes>"
      ]
     },
     "metadata": {},
     "output_type": "display_data"
    }
   ],
   "source": [
    "plt.savefig(\"training_v3.png\")"
   ]
  },
  {
   "cell_type": "code",
   "execution_count": 34,
   "id": "a6eaa04b-e0e5-40a6-839c-4fdfafbd640b",
   "metadata": {},
   "outputs": [
    {
     "name": "stdout",
     "output_type": "stream",
     "text": [
      "Predicted values:\t ['Q' 'W' 'P' 'G' 'Q' 'F' 'U' 'L' 'Q' 'Q' 'A' 'R' 'J' 'A' 'V' 'K' 'R' 'T' 'N' 'L']\n",
      "Origingal values:\t ['Q' 'W' 'P' 'G' 'Q' 'F' 'U' 'L' 'Q' 'Q' 'A' 'R' 'J' 'A' 'V' 'K' 'R' 'T' 'N' 'L']\n"
     ]
    },
    {
     "data": {
      "image/png": "[encoded data removed]",
      "text/plain": [
       "<Figure size 720x480 with 20 Axes>"
      ]
     },
     "metadata": {
      "needs_background": "light"
     },
     "output_type": "display_data"
    }
   ],
   "source": [
    "def show_examples(n_examples=20):\n",
    "    rng = np.random.default_rng()\n",
    "    ex_ind = rng.integers(low=0, high=training_X.shape[0], size=n_examples)\n",
    "    \n",
    "    example_X = torch.Tensor(training_X[ex_ind]).view(n_examples, 1, IMG_SIZE, IMG_SIZE)\n",
    "    with torch.no_grad():\n",
    "        net_out = net(example_X)\n",
    "    \n",
    "    predicted_letters = np.array([string.ascii_uppercase[j] for j in torch.argmax(net_out, dim=1)])\n",
    "    real_letters = np.array([string.ascii_uppercase[j] for j in np.argmax(training_y[ex_ind], axis=1)])\n",
    "    \n",
    "    missed_indices = np.where(predicted_letters != real_letters)[0]\n",
    "    \n",
    "    fig, ax = plt.subplots(1,n_examples)\n",
    "    for i, ind in enumerate(ex_ind):\n",
    "        ax[i].imshow(training_X[ind])\n",
    "        ax[i].axis(\"off\")\n",
    "        if i in missed_indices:\n",
    "            ax[i].set_title(predicted_letters[i], c=\"#FD5E53\")\n",
    "        else:\n",
    "            ax[i].set_title(predicted_letters[i], c=\"#21BF73\")\n",
    "            \n",
    "    np.set_printoptions(linewidth=100)\n",
    "    print(f\"Predicted values:\\t {predicted_letters}\")\n",
    "    print(f\"Origingal values:\\t {real_letters}\")\n",
    "    np.set_printoptions(linewidth=75)\n",
    "\n",
    "    \n",
    "show_examples()"
   ]
  },
  {
   "cell_type": "code",
   "execution_count": null,
   "id": "ffdf2ca3-8423-43df-ad8b-b2836f6ed18c",
   "metadata": {},
   "outputs": [],
   "source": []
  }
 ],
 "metadata": {
  "kernelspec": {
   "display_name": "Python 3 (ipykernel)",
   "language": "python",
   "name": "python3"
  },
  "language_info": {
   "codemirror_mode": {
    "name": "ipython",
    "version": 3
   },
   "file_extension": ".py",
   "mimetype": "text/x-python",
   "name": "python",
   "nbconvert_exporter": "python",
   "pygments_lexer": "ipython3",
   "version": "3.9.6"
  }
 },
 "nbformat": 4,
 "nbformat_minor": 5
}
