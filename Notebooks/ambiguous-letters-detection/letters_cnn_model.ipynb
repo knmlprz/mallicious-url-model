{
 "cells": [
  {
   "cell_type": "code",
   "execution_count": 1,
   "id": "2a8e028b-d1fb-4fe2-8e0b-702bf4e12967",
   "metadata": {},
   "outputs": [
    {
     "name": "stdout",
     "output_type": "stream",
     "text": [
      "Is cuda enabled? YES\n"
     ]
    }
   ],
   "source": [
    "import os\n",
    "import string\n",
    "from collections import OrderedDict\n",
    "from datetime import datetime\n",
    "\n",
    "import numpy as np\n",
    "import matplotlib.pyplot as plt\n",
    "import cv2\n",
    "from tqdm import tqdm\n",
    "\n",
    "import torch\n",
    "import torch.nn as nn\n",
    "import torch.optim as optim\n",
    "import torch.nn.functional as F\n",
    "import torchvision.transforms as transforms\n",
    "\n",
    "from torchvision.utils import save_image\n",
    "from torch.utils.data import DataLoader\n",
    "from torchvision import datasets\n",
    "from torch.autograd import Variable\n",
    "\n",
    "\n",
    "cuda = True if torch.cuda.is_available() else False\n",
    "print(\"Is cuda enabled?\", \"YES\" if cuda else \"NO\")"
   ]
  },
  {
   "cell_type": "code",
   "execution_count": 2,
   "id": "c9700788-d674-4a86-b317-e59506c8b72b",
   "metadata": {},
   "outputs": [],
   "source": [
    "REBUILD_DATA = False\n",
    "\n",
    "IMG_SIZE = 32\n",
    "FOLDER_PATH = \"../../Data/Letters/\"\n",
    "CLASSES = os.listdir(FOLDER_PATH)\n",
    "LABEL_COUNT = len(CLASSES)\n",
    "LABELS = dict(zip(CLASSES, np.arange(LABEL_COUNT)))"
   ]
  },
  {
   "cell_type": "code",
   "execution_count": 3,
   "id": "b8d7522a-00bd-44ca-8d29-c1d75e342676",
   "metadata": {},
   "outputs": [
    {
     "name": "stdout",
     "output_type": "stream",
     "text": [
      "\n",
      "training_data.shape = (7436, 2)\n"
     ]
    }
   ],
   "source": [
    "def rgb2gray(rgb):\n",
    "    return np.dot(rgb[...,:3], [0.2989, 0.5870, 0.1140])\n",
    "\n",
    "\n",
    "class DogsVSCats():\n",
    "    classes_counts = dict(zip(CLASSES, np.zeros(LABEL_COUNT, dtype=\"int32\")))\n",
    "    training_data = []\n",
    "    \n",
    "    def make_training_data(self):\n",
    "        for label in LABELS:\n",
    "            print(label, end=\" \")\n",
    "            for f in os.listdir(FOLDER_PATH + label):\n",
    "                path = os.path.join(FOLDER_PATH + label, f)\n",
    "                img = rgb2gray(plt.imread(path))\n",
    "                self.training_data.append([img, np.eye(LABEL_COUNT)[LABELS[label]]])\n",
    "                self.classes_counts[label] += 1\n",
    "        self.training_data = np.array(self.training_data, dtype=object)\n",
    "        np.random.shuffle(self.training_data)\n",
    "        np.save(\"training_data.npy\", self.training_data)       \n",
    "        \n",
    "\n",
    "if REBUILD_DATA:\n",
    "    dogsvscats = DogsVSCats()\n",
    "    dogsvscats.make_training_data()\n",
    "    print(\"\\n\", dogsvscats.classes_counts)\n",
    "\n",
    "training_data = np.load(\"training_data.npy\", allow_pickle=True)\n",
    "print(f\"\\ntraining_data.shape = {training_data.shape}\")"
   ]
  },
  {
   "cell_type": "code",
   "execution_count": 4,
   "id": "a47cc8cb-949d-4f00-b95c-cbac4a504364",
   "metadata": {},
   "outputs": [
    {
     "data": {
      "text/plain": [
       "array([array([[254.9745, 254.9745, 254.9745, ..., 251.9748, 254.9745, 249.975 ],\n",
       "              [248.9751, 249.975 , 254.9745, ..., 251.9748, 254.9745, 254.9745],\n",
       "              [254.9745, 254.9745, 248.9751, ..., 254.9745, 246.9753, 242.9757],\n",
       "              ...,\n",
       "              [254.9745, 254.9745, 254.9745, ..., 254.9745, 254.9745, 254.9745],\n",
       "              [254.9745, 254.9745, 254.9745, ..., 254.9745, 254.9745, 254.9745],\n",
       "              [254.9745, 254.9745, 254.9745, ..., 254.9745, 254.9745, 254.9745]]),\n",
       "       array([0., 0., 0., 0., 0., 0., 0., 0., 0., 0., 0., 0., 0., 1., 0., 0., 0.,\n",
       "              0., 0., 0., 0., 0., 0., 0., 0., 0.])                               ],\n",
       "      dtype=object)"
      ]
     },
     "execution_count": 4,
     "metadata": {},
     "output_type": "execute_result"
    }
   ],
   "source": [
    "training_data[0]"
   ]
  },
  {
   "cell_type": "code",
   "execution_count": 5,
   "id": "a6eaa04b-e0e5-40a6-839c-4fdfafbd640b",
   "metadata": {},
   "outputs": [
    {
     "data": {
      "text/plain": [
       "['O', 'W', 'O', 'F', 'F', 'K', 'D', 'P', 'X', 'R']"
      ]
     },
     "execution_count": 5,
     "metadata": {},
     "output_type": "execute_result"
    },
    {
     "data": {
      "image/png": "[encoded data removed]",
      "text/plain": [
       "<Figure size 900x600 with 10 Axes>"
      ]
     },
     "metadata": {
      "needs_background": "light"
     },
     "output_type": "display_data"
    }
   ],
   "source": [
    "n_examples = 10\n",
    "\n",
    "plt.rcParams['figure.dpi'] =  150\n",
    "rng = np.random.default_rng()\n",
    "ex_ind = rng.integers(low=0, high=training_data.shape[0], size=n_examples)\n",
    "\n",
    "fig, ax = plt.subplots(1,n_examples)\n",
    "\n",
    "for i, ind in enumerate(ex_ind):\n",
    "    ax[i].imshow(training_data[ind][0], cmap=\"gray\")\n",
    "    ax[i].axis(\"off\")\n",
    "[CLASSES[np.where(training_data[i][1])[0][0]].upper() for i in ex_ind]"
   ]
  },
  {
   "cell_type": "code",
   "execution_count": 6,
   "id": "fb637880-fe10-4267-af22-b1649b7558a4",
   "metadata": {},
   "outputs": [],
   "source": [
    "class Net(nn.Module):\n",
    "    \n",
    "    def __init__(self):\n",
    "        super().__init__()\n",
    "        \n",
    "        self.conv1 = nn.Conv2d(\n",
    "            in_channels=1, \n",
    "            out_channels=32, \n",
    "            kernel_size=5,\n",
    "            stride=1,\n",
    "            padding=2\n",
    "        )\n",
    "        self.conv2 = nn.Conv2d(32, 64, 5, 1, 2)\n",
    "        self.conv3 = nn.Conv2d(64, 128, 5, 1, 2)\n",
    "        \n",
    "        self._out_dim = 128 * int(np.floor(IMG_SIZE / 2 ** 3) ** 2)\n",
    "        # 128 - n-channels; IMG_SIZE - input dim; 2 - pool dim; 3 - k-pools; 2 - an image is like a square\n",
    "        \n",
    "        self.fc1 = nn.Linear(self._out_dim, 512)\n",
    "        self.fc2 = nn.Linear(512, 26)\n",
    "    \n",
    "    def forward(self, x):\n",
    "        x = F.relu(self.conv1(x))\n",
    "        x = F.max_pool2d(x, (2,2))\n",
    "        x = F.relu(self.conv2(x))\n",
    "        x = F.max_pool2d(x, (2,2))\n",
    "        x = F.relu(self.conv3(x))\n",
    "        x = F.max_pool2d(x, (2,2))\n",
    "        \n",
    "        x = x.view(-1, self._out_dim)\n",
    "        x = F.relu(self.fc1(x))\n",
    "        x = self.fc2(x)\n",
    "        return F.softmax(x, dim=1)"
   ]
  },
  {
   "cell_type": "code",
   "execution_count": 7,
   "id": "e434f27b-18e3-43fb-853d-14bf53b9896d",
   "metadata": {},
   "outputs": [
    {
     "data": {
      "text/plain": [
       "2048"
      ]
     },
     "execution_count": 7,
     "metadata": {},
     "output_type": "execute_result"
    }
   ],
   "source": [
    "net = Net()\n",
    "net._out_dim"
   ]
  },
  {
   "cell_type": "code",
   "execution_count": 8,
   "id": "d638c346-9fe8-42ec-bc4b-d7f41cc1afb2",
   "metadata": {},
   "outputs": [
    {
     "name": "stdout",
     "output_type": "stream",
     "text": [
      "Validation size: 743\n"
     ]
    }
   ],
   "source": [
    "optimizer = optim.Adam(net.parameters(), lr=1e-4)\n",
    "loss_function = nn.MSELoss()\n",
    "\n",
    "training_data = training_data / 128.0 - 1\n",
    "X = torch.Tensor([i[0] for i in training_data]).view(-1, IMG_SIZE, IMG_SIZE)\n",
    "y = torch.Tensor([i[1] for i in training_data])\n",
    "\n",
    "VAL_PCT = 0.1\n",
    "val_size = int(len(X) * VAL_PCT)\n",
    "print(f\"Validation size: {val_size}\")"
   ]
  },
  {
   "cell_type": "code",
   "execution_count": 9,
   "id": "19d314fd-abfe-44ea-9c2e-0eb517534343",
   "metadata": {},
   "outputs": [
    {
     "name": "stdout",
     "output_type": "stream",
     "text": [
      "len(train_X) = 6693\n",
      "len(test_X) = 743\n"
     ]
    }
   ],
   "source": [
    "train_X = X[:-val_size]\n",
    "train_y = y[:-val_size]\n",
    "\n",
    "test_X = X[-val_size:]\n",
    "test_y = y[-val_size:]\n",
    "\n",
    "print(f\"len(train_X) = {len(train_X)}\")\n",
    "print(f\"len(test_X) = {len(test_X)}\")"
   ]
  },
  {
   "cell_type": "code",
   "execution_count": 39,
   "id": "854cc625-be26-48b6-88b1-398d512e6f8e",
   "metadata": {},
   "outputs": [
    {
     "name": "stderr",
     "output_type": "stream",
     "text": [
      " 68%|██████████████████████████████████████████████████████▉                          | 76/112 [00:04<00:02, 16.25it/s]\n"
     ]
    },
    {
     "ename": "KeyboardInterrupt",
     "evalue": "",
     "output_type": "error",
     "traceback": [
      "\u001b[1;31m---------------------------------------------------------------------------\u001b[0m",
      "\u001b[1;31mKeyboardInterrupt\u001b[0m                         Traceback (most recent call last)",
      "\u001b[1;32m~\\AppData\\Local\\Temp/ipykernel_7944/4002456819.py\u001b[0m in \u001b[0;36m<module>\u001b[1;34m\u001b[0m\n\u001b[0;32m     11\u001b[0m         \u001b[0moutputs\u001b[0m \u001b[1;33m=\u001b[0m \u001b[0mnet\u001b[0m\u001b[1;33m(\u001b[0m\u001b[0mbatch_X\u001b[0m\u001b[1;33m)\u001b[0m\u001b[1;33m\u001b[0m\u001b[1;33m\u001b[0m\u001b[0m\n\u001b[0;32m     12\u001b[0m         \u001b[0mloss\u001b[0m \u001b[1;33m=\u001b[0m \u001b[0mloss_function\u001b[0m\u001b[1;33m(\u001b[0m\u001b[0moutputs\u001b[0m\u001b[1;33m,\u001b[0m \u001b[0mbatch_y\u001b[0m\u001b[1;33m)\u001b[0m\u001b[1;33m\u001b[0m\u001b[1;33m\u001b[0m\u001b[0m\n\u001b[1;32m---> 13\u001b[1;33m         \u001b[0mloss\u001b[0m\u001b[1;33m.\u001b[0m\u001b[0mbackward\u001b[0m\u001b[1;33m(\u001b[0m\u001b[1;33m)\u001b[0m\u001b[1;33m\u001b[0m\u001b[1;33m\u001b[0m\u001b[0m\n\u001b[0m\u001b[0;32m     14\u001b[0m         \u001b[0moptimizer\u001b[0m\u001b[1;33m.\u001b[0m\u001b[0mstep\u001b[0m\u001b[1;33m(\u001b[0m\u001b[1;33m)\u001b[0m\u001b[1;33m\u001b[0m\u001b[1;33m\u001b[0m\u001b[0m\n\u001b[0;32m     15\u001b[0m \u001b[1;33m\u001b[0m\u001b[0m\n",
      "\u001b[1;32m~\\miniconda3\\envs\\jupyter-pytorch\\lib\\site-packages\\torch\\_tensor.py\u001b[0m in \u001b[0;36mbackward\u001b[1;34m(self, gradient, retain_graph, create_graph, inputs)\u001b[0m\n\u001b[0;32m    253\u001b[0m                 \u001b[0mcreate_graph\u001b[0m\u001b[1;33m=\u001b[0m\u001b[0mcreate_graph\u001b[0m\u001b[1;33m,\u001b[0m\u001b[1;33m\u001b[0m\u001b[1;33m\u001b[0m\u001b[0m\n\u001b[0;32m    254\u001b[0m                 inputs=inputs)\n\u001b[1;32m--> 255\u001b[1;33m         \u001b[0mtorch\u001b[0m\u001b[1;33m.\u001b[0m\u001b[0mautograd\u001b[0m\u001b[1;33m.\u001b[0m\u001b[0mbackward\u001b[0m\u001b[1;33m(\u001b[0m\u001b[0mself\u001b[0m\u001b[1;33m,\u001b[0m \u001b[0mgradient\u001b[0m\u001b[1;33m,\u001b[0m \u001b[0mretain_graph\u001b[0m\u001b[1;33m,\u001b[0m \u001b[0mcreate_graph\u001b[0m\u001b[1;33m,\u001b[0m \u001b[0minputs\u001b[0m\u001b[1;33m=\u001b[0m\u001b[0minputs\u001b[0m\u001b[1;33m)\u001b[0m\u001b[1;33m\u001b[0m\u001b[1;33m\u001b[0m\u001b[0m\n\u001b[0m\u001b[0;32m    256\u001b[0m \u001b[1;33m\u001b[0m\u001b[0m\n\u001b[0;32m    257\u001b[0m     \u001b[1;32mdef\u001b[0m \u001b[0mregister_hook\u001b[0m\u001b[1;33m(\u001b[0m\u001b[0mself\u001b[0m\u001b[1;33m,\u001b[0m \u001b[0mhook\u001b[0m\u001b[1;33m)\u001b[0m\u001b[1;33m:\u001b[0m\u001b[1;33m\u001b[0m\u001b[1;33m\u001b[0m\u001b[0m\n",
      "\u001b[1;32m~\\miniconda3\\envs\\jupyter-pytorch\\lib\\site-packages\\torch\\autograd\\__init__.py\u001b[0m in \u001b[0;36mbackward\u001b[1;34m(tensors, grad_tensors, retain_graph, create_graph, grad_variables, inputs)\u001b[0m\n\u001b[0;32m    147\u001b[0m     Variable._execution_engine.run_backward(\n\u001b[0;32m    148\u001b[0m         \u001b[0mtensors\u001b[0m\u001b[1;33m,\u001b[0m \u001b[0mgrad_tensors_\u001b[0m\u001b[1;33m,\u001b[0m \u001b[0mretain_graph\u001b[0m\u001b[1;33m,\u001b[0m \u001b[0mcreate_graph\u001b[0m\u001b[1;33m,\u001b[0m \u001b[0minputs\u001b[0m\u001b[1;33m,\u001b[0m\u001b[1;33m\u001b[0m\u001b[1;33m\u001b[0m\u001b[0m\n\u001b[1;32m--> 149\u001b[1;33m         allow_unreachable=True, accumulate_grad=True)  # allow_unreachable flag\n\u001b[0m\u001b[0;32m    150\u001b[0m \u001b[1;33m\u001b[0m\u001b[0m\n\u001b[0;32m    151\u001b[0m \u001b[1;33m\u001b[0m\u001b[0m\n",
      "\u001b[1;31mKeyboardInterrupt\u001b[0m: "
     ]
    }
   ],
   "source": [
    "BATCH_SIZE = 60\n",
    "EPOCHS = 10\n",
    "\n",
    "loss_log = []\n",
    "for epoch in range(EPOCHS):\n",
    "    for i in tqdm(range(0, len(train_X), BATCH_SIZE)):\n",
    "        batch_X = train_X[i:i + BATCH_SIZE].view(-1, 1, IMG_SIZE, IMG_SIZE)\n",
    "        batch_y = train_y[i:i + BATCH_SIZE]\n",
    "        \n",
    "        net.zero_grad()\n",
    "        outputs = net(batch_X)\n",
    "        loss = loss_function(outputs, batch_y)\n",
    "        loss.backward()\n",
    "        optimizer.step()\n",
    "        \n",
    "        loss_log.append(loss.item())\n",
    "        \n",
    "print(loss.item())"
   ]
  },
  {
   "cell_type": "code",
   "execution_count": 35,
   "id": "ebb3c6cc-dd31-4f7f-bc20-6157d5f5f0c1",
   "metadata": {},
   "outputs": [
    {
     "data": {
      "text/plain": [
       "26"
      ]
     },
     "execution_count": 36,
     "metadata": {},
     "output_type": "execute_result"
    }
   ],
   "source": [
    "print(len(torch.argmax(outputs, dim=1)))"
   ]
  },
  {
   "cell_type": "code",
   "execution_count": 24,
   "id": "26b6eb2d-7495-4103-b1ec-58b42bec16ad",
   "metadata": {},
   "outputs": [
    {
     "name": "stderr",
     "output_type": "stream",
     "text": [
      "100%|██████████████████████████████████████████████████████████████████████████████| 743/743 [00:00<00:00, 1190.35it/s]"
     ]
    },
    {
     "name": "stdout",
     "output_type": "stream",
     "text": [
      "Accuracy: 89.1\n"
     ]
    },
    {
     "name": "stderr",
     "output_type": "stream",
     "text": [
      "\n"
     ]
    }
   ],
   "source": [
    "correct = 0\n",
    "total = 0\n",
    "with torch.no_grad():\n",
    "    for i in tqdm(range(len(test_X))):\n",
    "        real_class = torch.argmax(test_y[i])\n",
    "        net_out = net(test_X[i].view(-1, 1, IMG_SIZE, IMG_SIZE))\n",
    "        predicted_class = torch.argmax(net_out)\n",
    "#         print(f\"Top net_outs: {net_out.sort()[:5]}\")\n",
    "        if predicted_class == real_class:\n",
    "            correct += 1\n",
    "        total += 1\n",
    "print(\"Accuracy:\", round(correct/total, 3) * 100)"
   ]
  },
  {
   "cell_type": "code",
   "execution_count": 23,
   "id": "17df49e3-5281-4abd-9345-ae64fc3c7055",
   "metadata": {},
   "outputs": [
    {
     "data": {
      "text/plain": [
       "<matplotlib.collections.PathCollection at 0x2152a6962c8>"
      ]
     },
     "execution_count": 23,
     "metadata": {},
     "output_type": "execute_result"
    },
    {
     "data": {
      "image/png": "[encoded data removed]",
      "text/plain": [
       "<Figure size 900x600 with 1 Axes>"
      ]
     },
     "metadata": {
      "needs_background": "light"
     },
     "output_type": "display_data"
    }
   ],
   "source": [
    "fig, ax = plt.subplots()\n",
    "ax.scatter(np.arange(len(loss_log)), loss_log)\n"
   ]
  },
  {
   "cell_type": "code",
   "execution_count": null,
   "id": "52cc6de1-cf1d-4216-bc95-14ee3eaa9efd",
   "metadata": {},
   "outputs": [],
   "source": []
  }
 ],
 "metadata": {
  "kernelspec": {
   "display_name": "Python 3 (ipykernel)",
   "language": "python",
   "name": "python3"
  },
  "language_info": {
   "codemirror_mode": {
    "name": "ipython",
    "version": 3
   },
   "file_extension": ".py",
   "mimetype": "text/x-python",
   "name": "python",
   "nbconvert_exporter": "python",
   "pygments_lexer": "ipython3",
   "version": "3.7.10"
  }
 },
 "nbformat": 4,
 "nbformat_minor": 5
}
