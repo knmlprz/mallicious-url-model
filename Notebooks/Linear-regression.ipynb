{
 "cells": [
  {
   "cell_type": "code",
   "execution_count": 5,
   "id": "717d0493-1702-486d-82ac-daad4d130ef4",
   "metadata": {},
   "outputs": [],
   "source": [
    "# importing some useful libraries\n",
    "import pandas as pd\n",
    "import numpy as np\n",
    "import matplotlib.pyplot as plt\n",
    "import seaborn as sns  \n",
    "import time \n",
    "\n",
    "from sklearn.metrics import classification_report\n",
    "from sklearn.metrics import confusion_matrix\n",
    "from nltk.tokenize import RegexpTokenizer  \n",
    "from nltk.stem.snowball import SnowballStemmer\n",
    "from sklearn.feature_extraction.text import CountVectorizer  \n",
    "from sklearn.pipeline import make_pipeline\n",
    "\n",
    "from sklearn.model_selection import train_test_split\n",
    "from sklearn.linear_model import LogisticRegression\n",
    "\n",
    "\n",
    "from PIL import Image\n",
    "from wordcloud import WordCloud, STOPWORDS, ImageColorGenerator\n",
    "import pickle "
   ]
  },
  {
   "cell_type": "markdown",
   "id": "217ae9cf-d960-4126-ab95-82bdacbbef33",
   "metadata": {},
   "source": [
    "# Wczytywanie danych"
   ]
  },
  {
   "cell_type": "code",
   "execution_count": 102,
   "id": "1c014a61-53e0-4b90-a00d-3055b4554654",
   "metadata": {},
   "outputs": [
    {
     "data": {
      "text/html": [
       "<div>\n",
       "<style scoped>\n",
       "    .dataframe tbody tr th:only-of-type {\n",
       "        vertical-align: middle;\n",
       "    }\n",
       "\n",
       "    .dataframe tbody tr th {\n",
       "        vertical-align: top;\n",
       "    }\n",
       "\n",
       "    .dataframe thead th {\n",
       "        text-align: right;\n",
       "    }\n",
       "</style>\n",
       "<table border=\"1\" class=\"dataframe\">\n",
       "  <thead>\n",
       "    <tr style=\"text-align: right;\">\n",
       "      <th></th>\n",
       "      <th>url</th>\n",
       "    </tr>\n",
       "    <tr>\n",
       "      <th>label</th>\n",
       "      <th></th>\n",
       "    </tr>\n",
       "  </thead>\n",
       "  <tbody>\n",
       "    <tr>\n",
       "      <th>bad</th>\n",
       "      <td>75643</td>\n",
       "    </tr>\n",
       "    <tr>\n",
       "      <th>good</th>\n",
       "      <td>344821</td>\n",
       "    </tr>\n",
       "  </tbody>\n",
       "</table>\n",
       "</div>"
      ],
      "text/plain": [
       "          url\n",
       "label        \n",
       "bad     75643\n",
       "good   344821"
      ]
     },
     "execution_count": 102,
     "metadata": {},
     "output_type": "execute_result"
    }
   ],
   "source": [
    "kaggle = pd.read_csv(\"../Data/URLs-mixed/kaggle_labeled.csv\")\n",
    "kaggle.head(2) # url label\n",
    "kaggle.groupby(\"label\").count()"
   ]
  },
  {
   "cell_type": "markdown",
   "id": "b4ce42ee-c6a3-48f9-9f8a-bf751ad5651a",
   "metadata": {},
   "source": [
    "## Dane polska"
   ]
  },
  {
   "cell_type": "code",
   "execution_count": 100,
   "id": "64cd3a3e-dece-4fdb-9899-fd116d30c283",
   "metadata": {},
   "outputs": [
    {
     "data": {
      "text/html": [
       "<div>\n",
       "<style scoped>\n",
       "    .dataframe tbody tr th:only-of-type {\n",
       "        vertical-align: middle;\n",
       "    }\n",
       "\n",
       "    .dataframe tbody tr th {\n",
       "        vertical-align: top;\n",
       "    }\n",
       "\n",
       "    .dataframe thead th {\n",
       "        text-align: right;\n",
       "    }\n",
       "</style>\n",
       "<table border=\"1\" class=\"dataframe\">\n",
       "  <thead>\n",
       "    <tr style=\"text-align: right;\">\n",
       "      <th></th>\n",
       "      <th>url</th>\n",
       "    </tr>\n",
       "  </thead>\n",
       "  <tbody>\n",
       "    <tr>\n",
       "      <th>0</th>\n",
       "      <td>http://1bcz.wp.mil.pl</td>\n",
       "    </tr>\n",
       "    <tr>\n",
       "      <th>1</th>\n",
       "      <td>http://1bdm.wp.mil.pl/pl/28.html</td>\n",
       "    </tr>\n",
       "    <tr>\n",
       "      <th>2</th>\n",
       "      <td>www.1bsp.wp.mil.pl</td>\n",
       "    </tr>\n",
       "    <tr>\n",
       "      <th>3</th>\n",
       "      <td>pulawypz.6.e-bip.pl</td>\n",
       "    </tr>\n",
       "    <tr>\n",
       "      <th>4</th>\n",
       "      <td>https://lo1.gizycko.edu.pl/</td>\n",
       "    </tr>\n",
       "    <tr>\n",
       "      <th>...</th>\n",
       "      <td>...</td>\n",
       "    </tr>\n",
       "    <tr>\n",
       "      <th>69521</th>\n",
       "      <td>https://www.gov.pl/web/hayastan</td>\n",
       "    </tr>\n",
       "    <tr>\n",
       "      <th>69522</th>\n",
       "      <td>https://www.gov.pl/web/hanguk</td>\n",
       "    </tr>\n",
       "    <tr>\n",
       "      <th>69523</th>\n",
       "      <td>https://www.gov.pl/web/nippon</td>\n",
       "    </tr>\n",
       "    <tr>\n",
       "      <th>69524</th>\n",
       "      <td>https://www.gov.pl/web/zhongguo</td>\n",
       "    </tr>\n",
       "    <tr>\n",
       "      <th>69525</th>\n",
       "      <td>http://zup-ornontowice.pl/bip/</td>\n",
       "    </tr>\n",
       "  </tbody>\n",
       "</table>\n",
       "<p>69526 rows × 1 columns</p>\n",
       "</div>"
      ],
      "text/plain": [
       "                                     url\n",
       "0                  http://1bcz.wp.mil.pl\n",
       "1       http://1bdm.wp.mil.pl/pl/28.html\n",
       "2                     www.1bsp.wp.mil.pl\n",
       "3                    pulawypz.6.e-bip.pl\n",
       "4            https://lo1.gizycko.edu.pl/\n",
       "...                                  ...\n",
       "69521   https://www.gov.pl/web/hayastan \n",
       "69522     https://www.gov.pl/web/hanguk \n",
       "69523     https://www.gov.pl/web/nippon \n",
       "69524   https://www.gov.pl/web/zhongguo \n",
       "69525     http://zup-ornontowice.pl/bip/\n",
       "\n",
       "[69526 rows x 1 columns]"
      ]
     },
     "execution_count": 100,
     "metadata": {},
     "output_type": "execute_result"
    }
   ],
   "source": [
    "gov = pd.read_csv(\"../Data/URLs-good/gov_poland.csv\", skiprows=2, sep=';', usecols=[1], names=[\"url\"])\n",
    "gov"
   ]
  },
  {
   "cell_type": "code",
   "execution_count": 68,
   "id": "93363980-63c4-4248-b443-e5e684f05814",
   "metadata": {},
   "outputs": [
    {
     "name": "stderr",
     "output_type": "stream",
     "text": [
      "<ipython-input-68-54ffad72cc5d>:3: FutureWarning: The default value of regex will change from True to False in a future version.\n",
      "  gov[\"url\"] = gov[\"url\"].str.replace(\"www.\",\"\")\n"
     ]
    },
    {
     "data": {
      "text/html": [
       "<div>\n",
       "<style scoped>\n",
       "    .dataframe tbody tr th:only-of-type {\n",
       "        vertical-align: middle;\n",
       "    }\n",
       "\n",
       "    .dataframe tbody tr th {\n",
       "        vertical-align: top;\n",
       "    }\n",
       "\n",
       "    .dataframe thead th {\n",
       "        text-align: right;\n",
       "    }\n",
       "</style>\n",
       "<table border=\"1\" class=\"dataframe\">\n",
       "  <thead>\n",
       "    <tr style=\"text-align: right;\">\n",
       "      <th></th>\n",
       "      <th>url</th>\n",
       "      <th>label</th>\n",
       "    </tr>\n",
       "  </thead>\n",
       "  <tbody>\n",
       "    <tr>\n",
       "      <th>0</th>\n",
       "      <td>1bcz.wp.mil.pl</td>\n",
       "      <td>good</td>\n",
       "    </tr>\n",
       "    <tr>\n",
       "      <th>1</th>\n",
       "      <td>1bdm.wp.mil.pl/pl/28.html</td>\n",
       "      <td>good</td>\n",
       "    </tr>\n",
       "  </tbody>\n",
       "</table>\n",
       "</div>"
      ],
      "text/plain": [
       "                         url label\n",
       "0             1bcz.wp.mil.pl  good\n",
       "1  1bdm.wp.mil.pl/pl/28.html  good"
      ]
     },
     "execution_count": 68,
     "metadata": {},
     "output_type": "execute_result"
    }
   ],
   "source": [
    "gov[\"url\"] = gov[\"url\"].str.replace(\"https://\",\"\")\n",
    "gov[\"url\"] = gov[\"url\"].str.replace(\"http://\",\"\")\n",
    "gov[\"url\"] = gov[\"url\"].str.replace(\"www.\",\"\")\n",
    "gov[\"url\"] = gov[\"url\"].astype(str)\n",
    "gov[\"label\"] = \"good\"\n",
    "gov.head(2)"
   ]
  },
  {
   "cell_type": "markdown",
   "id": "c5af40f9-8217-4e63-a5f0-93b8c7236b5f",
   "metadata": {},
   "source": [
    "## Dane cert"
   ]
  },
  {
   "cell_type": "code",
   "execution_count": 101,
   "id": "495adb11-c2da-4894-9669-7d352fef866e",
   "metadata": {},
   "outputs": [
    {
     "data": {
      "text/html": [
       "<div>\n",
       "<style scoped>\n",
       "    .dataframe tbody tr th:only-of-type {\n",
       "        vertical-align: middle;\n",
       "    }\n",
       "\n",
       "    .dataframe tbody tr th {\n",
       "        vertical-align: top;\n",
       "    }\n",
       "\n",
       "    .dataframe thead th {\n",
       "        text-align: right;\n",
       "    }\n",
       "</style>\n",
       "<table border=\"1\" class=\"dataframe\">\n",
       "  <thead>\n",
       "    <tr style=\"text-align: right;\">\n",
       "      <th></th>\n",
       "      <th>url</th>\n",
       "    </tr>\n",
       "  </thead>\n",
       "  <tbody>\n",
       "    <tr>\n",
       "      <th>0</th>\n",
       "      <td>008753331120.com</td>\n",
       "    </tr>\n",
       "    <tr>\n",
       "      <th>1</th>\n",
       "      <td>02-wiadomosci.com.pl</td>\n",
       "    </tr>\n",
       "    <tr>\n",
       "      <th>2</th>\n",
       "      <td>03e1i.csb.app</td>\n",
       "    </tr>\n",
       "    <tr>\n",
       "      <th>3</th>\n",
       "      <td>0b8cc331813049912.temporary.link</td>\n",
       "    </tr>\n",
       "    <tr>\n",
       "      <th>4</th>\n",
       "      <td>0lx.group</td>\n",
       "    </tr>\n",
       "    <tr>\n",
       "      <th>...</th>\n",
       "      <td>...</td>\n",
       "    </tr>\n",
       "    <tr>\n",
       "      <th>15372</th>\n",
       "      <td>zwrocsluch.site</td>\n",
       "    </tr>\n",
       "    <tr>\n",
       "      <th>15373</th>\n",
       "      <td>zycienieuslaneluksusem.website</td>\n",
       "    </tr>\n",
       "    <tr>\n",
       "      <th>15374</th>\n",
       "      <td>zyciezdnianadzien.cyou</td>\n",
       "    </tr>\n",
       "    <tr>\n",
       "      <th>15375</th>\n",
       "      <td>zyjesiedlatakichhchwil.website</td>\n",
       "    </tr>\n",
       "    <tr>\n",
       "      <th>15376</th>\n",
       "      <td>zyzlk.com</td>\n",
       "    </tr>\n",
       "  </tbody>\n",
       "</table>\n",
       "<p>15377 rows × 1 columns</p>\n",
       "</div>"
      ],
      "text/plain": [
       "                                    url\n",
       "0                      008753331120.com\n",
       "1                  02-wiadomosci.com.pl\n",
       "2                         03e1i.csb.app\n",
       "3      0b8cc331813049912.temporary.link\n",
       "4                             0lx.group\n",
       "...                                 ...\n",
       "15372                   zwrocsluch.site\n",
       "15373    zycienieuslaneluksusem.website\n",
       "15374            zyciezdnianadzien.cyou\n",
       "15375    zyjesiedlatakichhchwil.website\n",
       "15376                         zyzlk.com\n",
       "\n",
       "[15377 rows x 1 columns]"
      ]
     },
     "execution_count": 101,
     "metadata": {},
     "output_type": "execute_result"
    }
   ],
   "source": [
    "cert = pd.read_csv(\"https://hole.cert.pl/domains/domains.txt\", names=[\"url\"])\n",
    "cert"
   ]
  },
  {
   "cell_type": "code",
   "execution_count": 83,
   "id": "0d07a82c-a3f0-4d60-b094-0ecf13af6142",
   "metadata": {},
   "outputs": [
    {
     "data": {
      "text/html": [
       "<div>\n",
       "<style scoped>\n",
       "    .dataframe tbody tr th:only-of-type {\n",
       "        vertical-align: middle;\n",
       "    }\n",
       "\n",
       "    .dataframe tbody tr th {\n",
       "        vertical-align: top;\n",
       "    }\n",
       "\n",
       "    .dataframe thead th {\n",
       "        text-align: right;\n",
       "    }\n",
       "</style>\n",
       "<table border=\"1\" class=\"dataframe\">\n",
       "  <thead>\n",
       "    <tr style=\"text-align: right;\">\n",
       "      <th></th>\n",
       "      <th>url</th>\n",
       "      <th>label</th>\n",
       "    </tr>\n",
       "  </thead>\n",
       "  <tbody>\n",
       "    <tr>\n",
       "      <th>0</th>\n",
       "      <td>008753331120.com</td>\n",
       "      <td>bad</td>\n",
       "    </tr>\n",
       "    <tr>\n",
       "      <th>1</th>\n",
       "      <td>02-wiadomosci.com.pl</td>\n",
       "      <td>bad</td>\n",
       "    </tr>\n",
       "  </tbody>\n",
       "</table>\n",
       "</div>"
      ],
      "text/plain": [
       "                    url label\n",
       "0      008753331120.com   bad\n",
       "1  02-wiadomosci.com.pl   bad"
      ]
     },
     "execution_count": 83,
     "metadata": {},
     "output_type": "execute_result"
    }
   ],
   "source": [
    "cert[\"url\"] = cert[\"url\"].astype(str)\n",
    "cert[\"label\"] = \"bad\"\n",
    "cert.head(2)"
   ]
  },
  {
   "cell_type": "code",
   "execution_count": 103,
   "id": "149b6ade-6a8c-4910-b5c9-217f7193f349",
   "metadata": {},
   "outputs": [
    {
     "data": {
      "text/html": [
       "<div>\n",
       "<style scoped>\n",
       "    .dataframe tbody tr th:only-of-type {\n",
       "        vertical-align: middle;\n",
       "    }\n",
       "\n",
       "    .dataframe tbody tr th {\n",
       "        vertical-align: top;\n",
       "    }\n",
       "\n",
       "    .dataframe thead th {\n",
       "        text-align: right;\n",
       "    }\n",
       "</style>\n",
       "<table border=\"1\" class=\"dataframe\">\n",
       "  <thead>\n",
       "    <tr style=\"text-align: right;\">\n",
       "      <th></th>\n",
       "      <th>url</th>\n",
       "    </tr>\n",
       "    <tr>\n",
       "      <th>label</th>\n",
       "      <th></th>\n",
       "    </tr>\n",
       "  </thead>\n",
       "  <tbody>\n",
       "    <tr>\n",
       "      <th>bad</th>\n",
       "      <td>75643</td>\n",
       "    </tr>\n",
       "    <tr>\n",
       "      <th>good</th>\n",
       "      <td>344821</td>\n",
       "    </tr>\n",
       "  </tbody>\n",
       "</table>\n",
       "</div>"
      ],
      "text/plain": [
       "          url\n",
       "label        \n",
       "bad     75643\n",
       "good   344821"
      ]
     },
     "execution_count": 103,
     "metadata": {},
     "output_type": "execute_result"
    }
   ],
   "source": [
    "df = pd.concat([kaggle,gov,cert])\n",
    "df.groupby(\"label\").count()"
   ]
  },
  {
   "cell_type": "markdown",
   "id": "68aa1bab-f9bd-4d75-9694-1e2b2173d2fb",
   "metadata": {},
   "source": [
    "# Trenowanie modelu"
   ]
  },
  {
   "cell_type": "code",
   "execution_count": 86,
   "id": "aacb4899-a7c6-4c1e-9218-66bc7b948049",
   "metadata": {},
   "outputs": [
    {
     "name": "stdout",
     "output_type": "stream",
     "text": [
      "Getting words tokenized ...\n",
      "Time taken 2.010560700000042 sec\n"
     ]
    }
   ],
   "source": [
    "## RegexpTokenizer\n",
    "tokenizer = RegexpTokenizer(r'[A-Za-z]+')\n",
    "# Tokenizing all the rows \n",
    "print('Getting words tokenized ...')\n",
    "t0= time.perf_counter()\n",
    "df['text_tokenized'] = df.url.map(lambda t: tokenizer.tokenize(t))\n",
    "t1 = time.perf_counter() - t0\n",
    "print('Time taken',t1 ,'sec')\n",
    "\n",
    "## SnowballStemmer\n",
    "stemmer = SnowballStemmer(\"english\") # choose a language\n",
    "# Getting all the stemmed words\n",
    "df['text_stemmed'] = df['text_tokenized'].map(lambda l: [stemmer.stem(word) for word in l])\n",
    "\n",
    "# Joining all the stemmmed words.\n",
    "df['text_sent'] = df['text_stemmed'].map(lambda l: ' '.join(l))\n",
    "\n",
    "## Creating model\n",
    "cv = CountVectorizer()\n",
    "feature = cv.fit_transform(df.text_sent) #transform all text which we tokenize and stemed\n",
    "\n",
    "trainX, testX, trainY, testY = train_test_split(feature, df.label)"
   ]
  },
  {
   "cell_type": "code",
   "execution_count": 87,
   "id": "64924ae0-27ea-47cd-ba6b-5ed049c84814",
   "metadata": {},
   "outputs": [
    {
     "name": "stderr",
     "output_type": "stream",
     "text": [
      "c:\\users\\piotr\\pycharmprojects\\hackathon-2021-rtfd\\venv\\lib\\site-packages\\sklearn\\linear_model\\_sag.py:328: ConvergenceWarning: The max_iter was reached which means the coef_ did not converge\n",
      "  warnings.warn(\"The max_iter was reached which means \"\n"
     ]
    },
    {
     "name": "stdout",
     "output_type": "stream",
     "text": [
      "Score:  0.9674054139623239\n"
     ]
    }
   ],
   "source": [
    "## LogisticRegression\n",
    "lr = LogisticRegression(solver='saga',max_iter=350)\n",
    "lr.fit(trainX,trainY)\n",
    "\n",
    "print(\"Score: \",lr.score(testX,testY))"
   ]
  },
  {
   "cell_type": "code",
   "execution_count": 98,
   "id": "c6cbf8aa-364a-4706-969e-3042c4af1c32",
   "metadata": {},
   "outputs": [
    {
     "data": {
      "text/plain": [
       "array(['good'], dtype=object)"
      ]
     },
     "execution_count": 98,
     "metadata": {},
     "output_type": "execute_result"
    }
   ],
   "source": [
    "lr.predict(cv.transform([' '.join([stemmer.stem(word) for word in tokenizer.tokenize(\"1bcz.wp.mil.pl\")])]))"
   ]
  },
  {
   "cell_type": "code",
   "execution_count": 92,
   "id": "fe6cb77a-6cdf-4661-bfd8-da0bd02ace6f",
   "metadata": {},
   "outputs": [
    {
     "data": {
      "text/plain": [
       "['a', 'egro', 'pl']"
      ]
     },
     "execution_count": 92,
     "metadata": {},
     "output_type": "execute_result"
    }
   ],
   "source": [
    "tokenizer.tokenize(\"a11egro.pl\")"
   ]
  },
  {
   "cell_type": "code",
   "execution_count": 97,
   "id": "4af69a27-2fd9-4d27-85e1-b7ad4d6899a3",
   "metadata": {},
   "outputs": [
    {
     "data": {
      "text/plain": [
       "<1x290653 sparse matrix of type '<class 'numpy.int64'>'\n",
       "\twith 4 stored elements in Compressed Sparse Row format>"
      ]
     },
     "execution_count": 97,
     "metadata": {},
     "output_type": "execute_result"
    }
   ],
   "source": [
    "cv.transform([' '.join([stemmer.stem(word) for word in tokenizer.tokenize(\"1bcz.wp.mil.pl\")])])"
   ]
  },
  {
   "cell_type": "code",
   "execution_count": null,
   "id": "2b5a13b2-c8a1-4517-a1a3-247e467cecd8",
   "metadata": {},
   "outputs": [],
   "source": []
  }
 ],
 "metadata": {
  "kernelspec": {
   "display_name": "Python 3",
   "language": "python",
   "name": "python3"
  },
  "language_info": {
   "codemirror_mode": {
    "name": "ipython",
    "version": 3
   },
   "file_extension": ".py",
   "mimetype": "text/x-python",
   "name": "python",
   "nbconvert_exporter": "python",
   "pygments_lexer": "ipython3",
   "version": "3.9.5"
  }
 },
 "nbformat": 4,
 "nbformat_minor": 5
}
