{
 "cells": [
  {
   "cell_type": "code",
   "execution_count": 1,
   "id": "717d0493-1702-486d-82ac-daad4d130ef4",
   "metadata": {},
   "outputs": [
    {
     "name": "stdout",
     "output_type": "stream",
     "text": [
      "Populating the interactive namespace from numpy and matplotlib\n"
     ]
    }
   ],
   "source": [
    "# importing some useful libraries\n",
    "import pandas as pd\n",
    "%pylab inline\n",
    "import time \n",
    "\n",
    "from sklearn.metrics import classification_report\n",
    "from sklearn.metrics import confusion_matrix\n",
    "from nltk.tokenize import RegexpTokenizer  \n",
    "from nltk.stem.snowball import SnowballStemmer\n",
    "from sklearn.feature_extraction.text import CountVectorizer  \n",
    "from sklearn.pipeline import make_pipeline\n",
    "\n",
    "from sklearn.model_selection import train_test_split\n",
    "from sklearn.linear_model import LogisticRegression\n",
    "\n",
    "\n",
    "from PIL import Image"
   ]
  },
  {
   "cell_type": "code",
   "execution_count": 2,
   "id": "a07417ba-996b-450a-b7ec-7b5c2ad44fd0",
   "metadata": {},
   "outputs": [],
   "source": [
    "MODEL_FILE = \"../Dumps/model-combined-URLs.sav\"\n",
    "SCALER_FILE = \"../Dumps/scaler-combined-URLs.sav\"\n",
    "ENCODER_FILE = \"../Dumps/encoder-combined-URLs.sav\"\n",
    "\n",
    "URL_REGEX = (\"^((?P<scheme>[^:/?#]+):(?=//))?(//)?(((?P<login>[^:]+)\" + \n",
    "    \"(?::(?P<password>[^@]+)?)?@)?(?P<host>[^@/?#:]*)(?::(?P<port>\\d+)?)?)?\" + \n",
    "    \"(?P<path>[^?#]*)(\\?(?P<query>[^#]*))?(#(?P<fragment>.*))?\")"
   ]
  },
  {
   "cell_type": "markdown",
   "id": "217ae9cf-d960-4126-ab95-82bdacbbef33",
   "metadata": {},
   "source": [
    "# Wczytywanie danych"
   ]
  },
  {
   "cell_type": "code",
   "execution_count": 73,
   "id": "149b6ade-6a8c-4910-b5c9-217f7193f349",
   "metadata": {},
   "outputs": [
    {
     "name": "stderr",
     "output_type": "stream",
     "text": [
      "C:\\Users\\vital\\miniconda3\\envs\\Hackathon2021\\lib\\site-packages\\numpy\\lib\\arraysetops.py:583: FutureWarning: elementwise comparison failed; returning scalar instead, but in the future will perform elementwise comparison\n",
      "  mask |= (ar1 == a)\n"
     ]
    },
    {
     "data": {
      "text/html": [
       "<div>\n",
       "<style scoped>\n",
       "    .dataframe tbody tr th:only-of-type {\n",
       "        vertical-align: middle;\n",
       "    }\n",
       "\n",
       "    .dataframe tbody tr th {\n",
       "        vertical-align: top;\n",
       "    }\n",
       "\n",
       "    .dataframe thead th {\n",
       "        text-align: right;\n",
       "    }\n",
       "</style>\n",
       "<table border=\"1\" class=\"dataframe\">\n",
       "  <thead>\n",
       "    <tr style=\"text-align: right;\">\n",
       "      <th></th>\n",
       "      <th>url</th>\n",
       "      <th>label</th>\n",
       "    </tr>\n",
       "  </thead>\n",
       "  <tbody>\n",
       "    <tr>\n",
       "      <th>0</th>\n",
       "      <td>?guid=Windows Updates Manager</td>\n",
       "      <td>1.0</td>\n",
       "    </tr>\n",
       "    <tr>\n",
       "      <th>1</th>\n",
       "      <td>69.162.100.198/</td>\n",
       "      <td>1.0</td>\n",
       "    </tr>\n",
       "  </tbody>\n",
       "</table>\n",
       "</div>"
      ],
      "text/plain": [
       "                             url  label\n",
       "0  ?guid=Windows Updates Manager    1.0\n",
       "1                69.162.100.198/    1.0"
      ]
     },
     "execution_count": 73,
     "metadata": {},
     "output_type": "execute_result"
    }
   ],
   "source": [
    "df = pd.read_csv(\"../Data/cleaned_combined_urls.csv\", index_col=0)\n",
    "df.head(2)"
   ]
  },
  {
   "cell_type": "code",
   "execution_count": 74,
   "id": "aebb3320-6d2f-4239-a0b1-80d818d0ac8d",
   "metadata": {},
   "outputs": [],
   "source": [
    "df[\"url\"] = df.url.astype(str)"
   ]
  },
  {
   "cell_type": "markdown",
   "id": "9f135a43-6b50-43d7-8bbd-05687b8310ab",
   "metadata": {},
   "source": [
    "## Czyszczenie danych"
   ]
  },
  {
   "cell_type": "code",
   "execution_count": 75,
   "id": "43ab7461-93ac-41d1-b3e0-b4efe55ee970",
   "metadata": {},
   "outputs": [
    {
     "name": "stdout",
     "output_type": "stream",
     "text": [
      "(1958842, 2)\n",
      "(1958842, 2)\n"
     ]
    }
   ],
   "source": [
    "print(df.shape)\n",
    "print(df[df.url.str.count(\".\") > 0].shape)"
   ]
  },
  {
   "cell_type": "code",
   "execution_count": 76,
   "id": "8f86b2da-5988-4c7c-9cfb-43f9564b0aa2",
   "metadata": {},
   "outputs": [
    {
     "name": "stdout",
     "output_type": "stream",
     "text": [
      "(1958842, 9)\n"
     ]
    },
    {
     "data": {
      "text/html": [
       "<div>\n",
       "<style scoped>\n",
       "    .dataframe tbody tr th:only-of-type {\n",
       "        vertical-align: middle;\n",
       "    }\n",
       "\n",
       "    .dataframe tbody tr th {\n",
       "        vertical-align: top;\n",
       "    }\n",
       "\n",
       "    .dataframe thead th {\n",
       "        text-align: right;\n",
       "    }\n",
       "</style>\n",
       "<table border=\"1\" class=\"dataframe\">\n",
       "  <thead>\n",
       "    <tr style=\"text-align: right;\">\n",
       "      <th></th>\n",
       "      <th>url</th>\n",
       "      <th>label</th>\n",
       "      <th>scheme</th>\n",
       "      <th>user</th>\n",
       "      <th>host</th>\n",
       "      <th>port</th>\n",
       "      <th>path</th>\n",
       "      <th>query</th>\n",
       "      <th>fragment</th>\n",
       "    </tr>\n",
       "  </thead>\n",
       "  <tbody>\n",
       "    <tr>\n",
       "      <th>0</th>\n",
       "      <td>?guid=Windows Updates Manager</td>\n",
       "      <td>1.0</td>\n",
       "      <td>NaN</td>\n",
       "      <td>NaN</td>\n",
       "      <td></td>\n",
       "      <td>NaN</td>\n",
       "      <td></td>\n",
       "      <td>guid=Windows Updates Manager</td>\n",
       "      <td>NaN</td>\n",
       "    </tr>\n",
       "    <tr>\n",
       "      <th>1</th>\n",
       "      <td>69.162.100.198/</td>\n",
       "      <td>1.0</td>\n",
       "      <td>NaN</td>\n",
       "      <td>NaN</td>\n",
       "      <td>69.162.100.198</td>\n",
       "      <td>NaN</td>\n",
       "      <td>/</td>\n",
       "      <td>NaN</td>\n",
       "      <td>NaN</td>\n",
       "    </tr>\n",
       "    <tr>\n",
       "      <th>2</th>\n",
       "      <td>babicz123.ddns.net/</td>\n",
       "      <td>1.0</td>\n",
       "      <td>NaN</td>\n",
       "      <td>NaN</td>\n",
       "      <td>babicz123.ddns.net</td>\n",
       "      <td>NaN</td>\n",
       "      <td>/</td>\n",
       "      <td>NaN</td>\n",
       "      <td>NaN</td>\n",
       "    </tr>\n",
       "    <tr>\n",
       "      <th>3</th>\n",
       "      <td>highpowerresources.com</td>\n",
       "      <td>1.0</td>\n",
       "      <td>NaN</td>\n",
       "      <td>NaN</td>\n",
       "      <td>highpowerresources.com</td>\n",
       "      <td>NaN</td>\n",
       "      <td></td>\n",
       "      <td>NaN</td>\n",
       "      <td>NaN</td>\n",
       "    </tr>\n",
       "    <tr>\n",
       "      <th>4</th>\n",
       "      <td>intent.nofrillspace.com/users/web11_focus/380...</td>\n",
       "      <td>1.0</td>\n",
       "      <td>NaN</td>\n",
       "      <td>NaN</td>\n",
       "      <td>intent.nofrillspace.com</td>\n",
       "      <td>NaN</td>\n",
       "      <td>/users/web11_focus/3807/space.gif</td>\n",
       "      <td>NaN</td>\n",
       "      <td>NaN</td>\n",
       "    </tr>\n",
       "  </tbody>\n",
       "</table>\n",
       "</div>"
      ],
      "text/plain": [
       "                                                 url  label scheme user  \\\n",
       "0                      ?guid=Windows Updates Manager    1.0    NaN  NaN   \n",
       "1                                    69.162.100.198/    1.0    NaN  NaN   \n",
       "2                                babicz123.ddns.net/    1.0    NaN  NaN   \n",
       "3                             highpowerresources.com    1.0    NaN  NaN   \n",
       "4   intent.nofrillspace.com/users/web11_focus/380...    1.0    NaN  NaN   \n",
       "\n",
       "                       host port                               path  \\\n",
       "0                            NaN                                      \n",
       "1            69.162.100.198  NaN                                  /   \n",
       "2        babicz123.ddns.net  NaN                                  /   \n",
       "3    highpowerresources.com  NaN                                      \n",
       "4   intent.nofrillspace.com  NaN  /users/web11_focus/3807/space.gif   \n",
       "\n",
       "                          query fragment  \n",
       "0  guid=Windows Updates Manager      NaN  \n",
       "1                           NaN      NaN  \n",
       "2                           NaN      NaN  \n",
       "3                           NaN      NaN  \n",
       "4                           NaN      NaN  "
      ]
     },
     "execution_count": 76,
     "metadata": {},
     "output_type": "execute_result"
    }
   ],
   "source": [
    "url_parse_groups = [\"scheme\", 4, \"host\", \"port\", \"path\", \"query\", \"fragment\"]\n",
    "df = pd.concat(\n",
    "    [df, df.url.str.extract(URL_REGEX)[url_parse_groups]],\n",
    "    axis=1\n",
    ")    \n",
    "print(df.shape)\n",
    "df.columns = [\"url\", \"label\", \"scheme\", \"user\", \"host\", \"port\", \"path\", \"query\", \"fragment\"]\n",
    "df.head()"
   ]
  },
  {
   "cell_type": "code",
   "execution_count": 77,
   "id": "81a5fc87-f9d6-45e2-a984-9e629c94e590",
   "metadata": {},
   "outputs": [
    {
     "data": {
      "text/html": [
       "<div>\n",
       "<style scoped>\n",
       "    .dataframe tbody tr th:only-of-type {\n",
       "        vertical-align: middle;\n",
       "    }\n",
       "\n",
       "    .dataframe tbody tr th {\n",
       "        vertical-align: top;\n",
       "    }\n",
       "\n",
       "    .dataframe thead th {\n",
       "        text-align: right;\n",
       "    }\n",
       "</style>\n",
       "<table border=\"1\" class=\"dataframe\">\n",
       "  <thead>\n",
       "    <tr style=\"text-align: right;\">\n",
       "      <th></th>\n",
       "      <th>url</th>\n",
       "      <th>scheme</th>\n",
       "      <th>user</th>\n",
       "      <th>host</th>\n",
       "      <th>port</th>\n",
       "      <th>path</th>\n",
       "      <th>query</th>\n",
       "      <th>fragment</th>\n",
       "    </tr>\n",
       "    <tr>\n",
       "      <th>label</th>\n",
       "      <th></th>\n",
       "      <th></th>\n",
       "      <th></th>\n",
       "      <th></th>\n",
       "      <th></th>\n",
       "      <th></th>\n",
       "      <th></th>\n",
       "      <th></th>\n",
       "    </tr>\n",
       "  </thead>\n",
       "  <tbody>\n",
       "    <tr>\n",
       "      <th>0.0</th>\n",
       "      <td>1725805</td>\n",
       "      <td>963664</td>\n",
       "      <td>0</td>\n",
       "      <td>1725805</td>\n",
       "      <td>182</td>\n",
       "      <td>1725805</td>\n",
       "      <td>19340</td>\n",
       "      <td>518</td>\n",
       "    </tr>\n",
       "    <tr>\n",
       "      <th>1.0</th>\n",
       "      <td>233037</td>\n",
       "      <td>154514</td>\n",
       "      <td>0</td>\n",
       "      <td>233037</td>\n",
       "      <td>1121</td>\n",
       "      <td>233037</td>\n",
       "      <td>10189</td>\n",
       "      <td>135</td>\n",
       "    </tr>\n",
       "  </tbody>\n",
       "</table>\n",
       "</div>"
      ],
      "text/plain": [
       "           url  scheme  user     host  port     path  query  fragment\n",
       "label                                                                \n",
       "0.0    1725805  963664     0  1725805   182  1725805  19340       518\n",
       "1.0     233037  154514     0   233037  1121   233037  10189       135"
      ]
     },
     "execution_count": 77,
     "metadata": {},
     "output_type": "execute_result"
    }
   ],
   "source": [
    "df.groupby(\"label\").count()"
   ]
  },
  {
   "cell_type": "markdown",
   "id": "1b8335e6-9b41-4371-9215-e805e04c8a83",
   "metadata": {},
   "source": [
    "## Obliczanie metryk"
   ]
  },
  {
   "cell_type": "markdown",
   "id": "94be1819-73b5-4895-95f7-13ed990d82a3",
   "metadata": {},
   "source": [
    "### Popularność domeny"
   ]
  },
  {
   "cell_type": "code",
   "execution_count": 78,
   "id": "b111f06a-c39a-4930-aedf-c092d54a1c58",
   "metadata": {},
   "outputs": [
    {
     "data": {
      "text/html": [
       "<div>\n",
       "<style scoped>\n",
       "    .dataframe tbody tr th:only-of-type {\n",
       "        vertical-align: middle;\n",
       "    }\n",
       "\n",
       "    .dataframe tbody tr th {\n",
       "        vertical-align: top;\n",
       "    }\n",
       "\n",
       "    .dataframe thead th {\n",
       "        text-align: right;\n",
       "    }\n",
       "</style>\n",
       "<table border=\"1\" class=\"dataframe\">\n",
       "  <thead>\n",
       "    <tr style=\"text-align: right;\">\n",
       "      <th></th>\n",
       "      <th>url</th>\n",
       "      <th>label</th>\n",
       "      <th>scheme</th>\n",
       "      <th>user</th>\n",
       "      <th>host</th>\n",
       "      <th>port</th>\n",
       "      <th>path</th>\n",
       "      <th>query</th>\n",
       "      <th>fragment</th>\n",
       "      <th>tld</th>\n",
       "      <th>count</th>\n",
       "    </tr>\n",
       "  </thead>\n",
       "  <tbody>\n",
       "    <tr>\n",
       "      <th>0</th>\n",
       "      <td>?guid=Windows Updates Manager</td>\n",
       "      <td>1.0</td>\n",
       "      <td>NaN</td>\n",
       "      <td>NaN</td>\n",
       "      <td></td>\n",
       "      <td>NaN</td>\n",
       "      <td></td>\n",
       "      <td>guid=Windows Updates Manager</td>\n",
       "      <td>NaN</td>\n",
       "      <td></td>\n",
       "      <td>16</td>\n",
       "    </tr>\n",
       "    <tr>\n",
       "      <th>1</th>\n",
       "      <td>250sb.com./jynvmx</td>\n",
       "      <td>1.0</td>\n",
       "      <td>NaN</td>\n",
       "      <td>NaN</td>\n",
       "      <td>250sb.com.</td>\n",
       "      <td>NaN</td>\n",
       "      <td>/jynvmx</td>\n",
       "      <td>NaN</td>\n",
       "      <td>NaN</td>\n",
       "      <td></td>\n",
       "      <td>16</td>\n",
       "    </tr>\n",
       "    <tr>\n",
       "      <th>2</th>\n",
       "      <td>asseveravronnakiewietsblom.shopdentalsupply.com.</td>\n",
       "      <td>1.0</td>\n",
       "      <td>NaN</td>\n",
       "      <td>NaN</td>\n",
       "      <td>asseveravronnakiewietsblom.shopdentalsupply.com.</td>\n",
       "      <td>NaN</td>\n",
       "      <td></td>\n",
       "      <td>NaN</td>\n",
       "      <td>NaN</td>\n",
       "      <td></td>\n",
       "      <td>16</td>\n",
       "    </tr>\n",
       "    <tr>\n",
       "      <th>3</th>\n",
       "      <td>bkent.net./Doc/simple5.htm</td>\n",
       "      <td>0.0</td>\n",
       "      <td>NaN</td>\n",
       "      <td>NaN</td>\n",
       "      <td>bkent.net.</td>\n",
       "      <td>NaN</td>\n",
       "      <td>/Doc/simple5.htm</td>\n",
       "      <td>NaN</td>\n",
       "      <td>NaN</td>\n",
       "      <td></td>\n",
       "      <td>16</td>\n",
       "    </tr>\n",
       "    <tr>\n",
       "      <th>4</th>\n",
       "      <td>komunistycznymi.afshinnejad.com.</td>\n",
       "      <td>1.0</td>\n",
       "      <td>NaN</td>\n",
       "      <td>NaN</td>\n",
       "      <td>komunistycznymi.afshinnejad.com.</td>\n",
       "      <td>NaN</td>\n",
       "      <td></td>\n",
       "      <td>NaN</td>\n",
       "      <td>NaN</td>\n",
       "      <td></td>\n",
       "      <td>16</td>\n",
       "    </tr>\n",
       "    <tr>\n",
       "      <th>5</th>\n",
       "      <td>http://medicalofficeoutsourcing.com.</td>\n",
       "      <td>0.0</td>\n",
       "      <td>http</td>\n",
       "      <td>NaN</td>\n",
       "      <td>medicalofficeoutsourcing.com.</td>\n",
       "      <td>NaN</td>\n",
       "      <td></td>\n",
       "      <td>NaN</td>\n",
       "      <td>NaN</td>\n",
       "      <td></td>\n",
       "      <td>16</td>\n",
       "    </tr>\n",
       "    <tr>\n",
       "      <th>6</th>\n",
       "      <td>nubeculaminor-blossgestellter.f-oaks.com.</td>\n",
       "      <td>1.0</td>\n",
       "      <td>NaN</td>\n",
       "      <td>NaN</td>\n",
       "      <td>nubeculaminor-blossgestellter.f-oaks.com.</td>\n",
       "      <td>NaN</td>\n",
       "      <td></td>\n",
       "      <td>NaN</td>\n",
       "      <td>NaN</td>\n",
       "      <td></td>\n",
       "      <td>16</td>\n",
       "    </tr>\n",
       "    <tr>\n",
       "      <th>7</th>\n",
       "      <td>perverselymotorbikes.shopmedicalgloves.com.</td>\n",
       "      <td>1.0</td>\n",
       "      <td>NaN</td>\n",
       "      <td>NaN</td>\n",
       "      <td>perverselymotorbikes.shopmedicalgloves.com.</td>\n",
       "      <td>NaN</td>\n",
       "      <td></td>\n",
       "      <td>NaN</td>\n",
       "      <td>NaN</td>\n",
       "      <td></td>\n",
       "      <td>16</td>\n",
       "    </tr>\n",
       "    <tr>\n",
       "      <th>8</th>\n",
       "      <td>pseudoalcaligenes.nhconstruction.com.</td>\n",
       "      <td>1.0</td>\n",
       "      <td>NaN</td>\n",
       "      <td>NaN</td>\n",
       "      <td>pseudoalcaligenes.nhconstruction.com.</td>\n",
       "      <td>NaN</td>\n",
       "      <td></td>\n",
       "      <td>NaN</td>\n",
       "      <td>NaN</td>\n",
       "      <td></td>\n",
       "      <td>16</td>\n",
       "    </tr>\n",
       "    <tr>\n",
       "      <th>9</th>\n",
       "      <td>ssl-allegro.comuf.com./allegro.html</td>\n",
       "      <td>1.0</td>\n",
       "      <td>NaN</td>\n",
       "      <td>NaN</td>\n",
       "      <td>ssl-allegro.comuf.com.</td>\n",
       "      <td>NaN</td>\n",
       "      <td>/allegro.html</td>\n",
       "      <td>NaN</td>\n",
       "      <td>NaN</td>\n",
       "      <td></td>\n",
       "      <td>16</td>\n",
       "    </tr>\n",
       "  </tbody>\n",
       "</table>\n",
       "</div>"
      ],
      "text/plain": [
       "                                                url  label scheme user  \\\n",
       "0                     ?guid=Windows Updates Manager    1.0    NaN  NaN   \n",
       "1                                 250sb.com./jynvmx    1.0    NaN  NaN   \n",
       "2  asseveravronnakiewietsblom.shopdentalsupply.com.    1.0    NaN  NaN   \n",
       "3                        bkent.net./Doc/simple5.htm    0.0    NaN  NaN   \n",
       "4                  komunistycznymi.afshinnejad.com.    1.0    NaN  NaN   \n",
       "5              http://medicalofficeoutsourcing.com.    0.0   http  NaN   \n",
       "6         nubeculaminor-blossgestellter.f-oaks.com.    1.0    NaN  NaN   \n",
       "7       perverselymotorbikes.shopmedicalgloves.com.    1.0    NaN  NaN   \n",
       "8             pseudoalcaligenes.nhconstruction.com.    1.0    NaN  NaN   \n",
       "9               ssl-allegro.comuf.com./allegro.html    1.0    NaN  NaN   \n",
       "\n",
       "                                               host port              path  \\\n",
       "0                                                    NaN                     \n",
       "1                                        250sb.com.  NaN           /jynvmx   \n",
       "2  asseveravronnakiewietsblom.shopdentalsupply.com.  NaN                     \n",
       "3                                        bkent.net.  NaN  /Doc/simple5.htm   \n",
       "4                  komunistycznymi.afshinnejad.com.  NaN                     \n",
       "5                     medicalofficeoutsourcing.com.  NaN                     \n",
       "6         nubeculaminor-blossgestellter.f-oaks.com.  NaN                     \n",
       "7       perverselymotorbikes.shopmedicalgloves.com.  NaN                     \n",
       "8             pseudoalcaligenes.nhconstruction.com.  NaN                     \n",
       "9                            ssl-allegro.comuf.com.  NaN     /allegro.html   \n",
       "\n",
       "                          query fragment tld  count  \n",
       "0  guid=Windows Updates Manager      NaN         16  \n",
       "1                           NaN      NaN         16  \n",
       "2                           NaN      NaN         16  \n",
       "3                           NaN      NaN         16  \n",
       "4                           NaN      NaN         16  \n",
       "5                           NaN      NaN         16  \n",
       "6                           NaN      NaN         16  \n",
       "7                           NaN      NaN         16  \n",
       "8                           NaN      NaN         16  \n",
       "9                           NaN      NaN         16  "
      ]
     },
     "execution_count": 78,
     "metadata": {},
     "output_type": "execute_result"
    }
   ],
   "source": [
    "df['tld'] = df.host.str.split(\".\").apply(lambda x : x[-1])\n",
    "count = df.groupby([\"tld\"]).count().reset_index().iloc[:, [0,1]]\n",
    "count.columns = [\"tld\", \"count\"]\n",
    "df = df.merge(count, on=[\"tld\"])\n",
    "df.head(10)"
   ]
  },
  {
   "cell_type": "markdown",
   "id": "068a8fd9-21c5-410b-96c2-6240a0083b20",
   "metadata": {},
   "source": [
    "### Pozostałe"
   ]
  },
  {
   "cell_type": "code",
   "execution_count": 27,
   "id": "cdd95e58-a2dc-4a2b-960a-8e8a4889e745",
   "metadata": {},
   "outputs": [],
   "source": [
    "import re\n",
    "import ipaddress\n",
    "\n",
    "def count_special_symbols(domain):\n",
    "    counter = 0\n",
    "    for char in domain:\n",
    "        if char.isalpha() or char.isdigit():\n",
    "            continue\n",
    "        else:\n",
    "            counter += 1\n",
    "    return counter\n",
    "\n",
    "def count_digits(domain):\n",
    "    counter = 0\n",
    "    for char in domain:\n",
    "        if char.isdigit():\n",
    "            counter += 1\n",
    "    return counter\n",
    "\n",
    "def count_digit_letter(domain):\n",
    "    \"\"\"Zlicza kombinacje litera cyfra\"\"\"\n",
    "    res = re.findall(\"[A-Za-z][0-9]\", domain)\n",
    "    return len(res)\n",
    "\n",
    "def count_sus(domain):\n",
    "    res = re.findall(\"https|http|www\", domain)\n",
    "    return len(res)\n",
    "\n",
    "def has_a(domain):\n",
    "    \"\"\"Sprawdza czy domain ma @\"\"\"\n",
    "    res = re.findall(\"@\", domain)\n",
    "    return len(res)\n",
    "\n",
    "def has_pref_or_suff(domain):\n",
    "    \"\"\"Sprawdza czy domain ma -\"\"\"\n",
    "    res = re.findall(\"-\", domain)\n",
    "    return len(res)\n",
    "\n",
    "def is_ipv4(string):\n",
    "    try:\n",
    "        ipaddress.IPv4Network(string)\n",
    "        return True\n",
    "    except ValueError:\n",
    "        return False"
   ]
  },
  {
   "cell_type": "code",
   "execution_count": 28,
   "id": "1b86caff-98d9-46b6-b9c3-506d5d7b2b27",
   "metadata": {},
   "outputs": [],
   "source": [
    "def calculate_metrics(df_):\n",
    "    ##### Schema\n",
    "    schema = df_.schema\n",
    "    schema = schema.fillna(\"n\")\n",
    "    schema = schema.replace({\"https\": 1, \"http\": 0, \"n\": 0.5, 'none': 0.5, 'hhtp': 0, 'nttps': 1, \"htpps\": 1, \"htps\": 1, \"htt\": 0})\n",
    "    schema = schema.astype('float64')\n",
    "    \n",
    "    #### Host\n",
    "    host = df_.host\n",
    "    host_len = host.apply(lambda x : len(x)) # Długość \n",
    "    host_subdomains_count = host.apply(lambda x : x.count('.')) # Ilość subdomen\n",
    "    host_subdomains_mean_len = host.apply(lambda x : (len(x)-x.count('.'))/x.count('.')) # Średnia długość domen\n",
    "    host_digit = host.apply(lambda x : count_digits(x)) # Ilość cyfr\n",
    "    host_nspecial = host.apply(lambda x : count_special_symbols(x) - x.count('.')) # Ilość znaków specjalnych - kropki\n",
    "    host_first_len = host.apply(lambda x : len(x.split('.')[0])) # Długość pierwszej subdomeny\n",
    "    host_digit_letter_count = host.apply(lambda x : count_digit_letter(x)) # Ilość kombinacji litera-cyfra\n",
    "    host_has_a = host.apply(lambda x : has_a(x)) # Sprawdza czy host ma @\n",
    "    host_pref_suf_number = host.apply(lambda x : has_pref_or_suff(x)) # Sprawdza czy ma -\n",
    "    host_is_ipv4 = host.apply(lambda x : is_ipv4(x)) # Sprawdza czy host to adres ipv4s\n",
    "    \n",
    "\n",
    "    return np.array([schema, host_len, host_subdomains_count, host_subdomains_mean_len, host_digit, host_nspecial, host_first_len, host_digit_letter_count, host_has_a, host_pref_suf_number, host_is_ipv4]).T"
   ]
  },
  {
   "cell_type": "code",
   "execution_count": 29,
   "id": "decee3fa-d127-4aad-bde5-0f1f932b08a8",
   "metadata": {},
   "outputs": [
    {
     "data": {
      "text/plain": [
       "array([[ 1., 14.,  2., ...,  0.,  0.,  0.],\n",
       "       [ 1., 15.,  2., ...,  0.,  0.,  0.],\n",
       "       [ 1., 13.,  2., ...,  0.,  0.,  0.],\n",
       "       ...,\n",
       "       [ 1., 23.,  1., ...,  0.,  0.,  0.],\n",
       "       [ 0., 15.,  2., ...,  0.,  0.,  0.],\n",
       "       [ 0., 16.,  3., ...,  0.,  1.,  0.]])"
      ]
     },
     "execution_count": 29,
     "metadata": {},
     "output_type": "execute_result"
    }
   ],
   "source": [
    "calculate_metrics(df)"
   ]
  },
  {
   "cell_type": "markdown",
   "id": "edae9bfe-d36c-48d6-8784-2cfe3a77d785",
   "metadata": {},
   "source": [
    "# Trenowanie modelu"
   ]
  },
  {
   "cell_type": "code",
   "execution_count": 30,
   "id": "d44656e1-415c-4608-902c-5fa0dc31135d",
   "metadata": {},
   "outputs": [],
   "source": [
    "from sklearn.linear_model import LogisticRegression\n",
    "from sklearn.metrics import classification_report\n",
    "from sklearn.metrics import confusion_matrix\n",
    "from sklearn.model_selection import train_test_split\n",
    "from sklearn.preprocessing import StandardScaler\n",
    "from sklearn import metrics\n",
    "sc = StandardScaler()\n",
    "\n",
    "dane = df"
   ]
  },
  {
   "cell_type": "code",
   "execution_count": 31,
   "id": "0eb212d6-e31a-4494-b63d-4e50c8531703",
   "metadata": {},
   "outputs": [
    {
     "data": {
      "text/html": [
       "<div>\n",
       "<style scoped>\n",
       "    .dataframe tbody tr th:only-of-type {\n",
       "        vertical-align: middle;\n",
       "    }\n",
       "\n",
       "    .dataframe tbody tr th {\n",
       "        vertical-align: top;\n",
       "    }\n",
       "\n",
       "    .dataframe thead th {\n",
       "        text-align: right;\n",
       "    }\n",
       "</style>\n",
       "<table border=\"1\" class=\"dataframe\">\n",
       "  <thead>\n",
       "    <tr style=\"text-align: right;\">\n",
       "      <th></th>\n",
       "      <th>index</th>\n",
       "      <th>url</th>\n",
       "      <th>label</th>\n",
       "      <th>parsed_url</th>\n",
       "      <th>schema</th>\n",
       "      <th>auth</th>\n",
       "      <th>host</th>\n",
       "      <th>port</th>\n",
       "      <th>path</th>\n",
       "      <th>query</th>\n",
       "      <th>fragment</th>\n",
       "      <th>enc</th>\n",
       "    </tr>\n",
       "  </thead>\n",
       "  <tbody>\n",
       "    <tr>\n",
       "      <th>45378</th>\n",
       "      <td>0</td>\n",
       "      <td>inpost.pl-paydelivery.cyou</td>\n",
       "      <td>bad</td>\n",
       "      <td>(None, None, inpost.pl-paydelivery.cyou, None,...</td>\n",
       "      <td>None</td>\n",
       "      <td>None</td>\n",
       "      <td>inpost.pl-paydelivery.cyou</td>\n",
       "      <td>NaN</td>\n",
       "      <td>None</td>\n",
       "      <td>None</td>\n",
       "      <td>None</td>\n",
       "      <td>0</td>\n",
       "    </tr>\n",
       "    <tr>\n",
       "      <th>45379</th>\n",
       "      <td>1</td>\n",
       "      <td>inpost.pl-paydelivery.work</td>\n",
       "      <td>bad</td>\n",
       "      <td>(None, None, inpost.pl-paydelivery.work, None,...</td>\n",
       "      <td>None</td>\n",
       "      <td>None</td>\n",
       "      <td>inpost.pl-paydelivery.work</td>\n",
       "      <td>NaN</td>\n",
       "      <td>None</td>\n",
       "      <td>None</td>\n",
       "      <td>None</td>\n",
       "      <td>0</td>\n",
       "    </tr>\n",
       "    <tr>\n",
       "      <th>45380</th>\n",
       "      <td>2</td>\n",
       "      <td>inpost.pl-paydelivery.xyz</td>\n",
       "      <td>bad</td>\n",
       "      <td>(None, None, inpost.pl-paydelivery.xyz, None, ...</td>\n",
       "      <td>None</td>\n",
       "      <td>None</td>\n",
       "      <td>inpost.pl-paydelivery.xyz</td>\n",
       "      <td>NaN</td>\n",
       "      <td>None</td>\n",
       "      <td>None</td>\n",
       "      <td>None</td>\n",
       "      <td>0</td>\n",
       "    </tr>\n",
       "    <tr>\n",
       "      <th>45381</th>\n",
       "      <td>3</td>\n",
       "      <td>www.inpost.new-pl-oferta.cyou</td>\n",
       "      <td>bad</td>\n",
       "      <td>(None, None, www.inpost.new-pl-oferta.cyou, No...</td>\n",
       "      <td>None</td>\n",
       "      <td>None</td>\n",
       "      <td>www.inpost.new-pl-oferta.cyou</td>\n",
       "      <td>NaN</td>\n",
       "      <td>None</td>\n",
       "      <td>None</td>\n",
       "      <td>None</td>\n",
       "      <td>0</td>\n",
       "    </tr>\n",
       "    <tr>\n",
       "      <th>45382</th>\n",
       "      <td>4</td>\n",
       "      <td>inpost.new-pl-oferta.casa</td>\n",
       "      <td>bad</td>\n",
       "      <td>(None, None, inpost.new-pl-oferta.casa, None, ...</td>\n",
       "      <td>None</td>\n",
       "      <td>None</td>\n",
       "      <td>inpost.new-pl-oferta.casa</td>\n",
       "      <td>NaN</td>\n",
       "      <td>None</td>\n",
       "      <td>None</td>\n",
       "      <td>None</td>\n",
       "      <td>0</td>\n",
       "    </tr>\n",
       "    <tr>\n",
       "      <th>...</th>\n",
       "      <td>...</td>\n",
       "      <td>...</td>\n",
       "      <td>...</td>\n",
       "      <td>...</td>\n",
       "      <td>...</td>\n",
       "      <td>...</td>\n",
       "      <td>...</td>\n",
       "      <td>...</td>\n",
       "      <td>...</td>\n",
       "      <td>...</td>\n",
       "      <td>...</td>\n",
       "      <td>...</td>\n",
       "    </tr>\n",
       "    <tr>\n",
       "      <th>45373</th>\n",
       "      <td>35373</td>\n",
       "      <td>https://lastpass.com/signup2.php?ac=1&amp;from_uri...</td>\n",
       "      <td>good</td>\n",
       "      <td>(https, None, lastpass.com, None, /signup2.php...</td>\n",
       "      <td>https</td>\n",
       "      <td>None</td>\n",
       "      <td>lastpass.com</td>\n",
       "      <td>NaN</td>\n",
       "      <td>/signup2.php</td>\n",
       "      <td>ac=1&amp;from_uri=%2Fsignup2.php%3Fac%3D1%26from_u...</td>\n",
       "      <td>None</td>\n",
       "      <td>1</td>\n",
       "    </tr>\n",
       "    <tr>\n",
       "      <th>45374</th>\n",
       "      <td>35374</td>\n",
       "      <td>https://lastpass.com/signup2.php?ac=1&amp;from_uri...</td>\n",
       "      <td>good</td>\n",
       "      <td>(https, None, lastpass.com, None, /signup2.php...</td>\n",
       "      <td>https</td>\n",
       "      <td>None</td>\n",
       "      <td>lastpass.com</td>\n",
       "      <td>NaN</td>\n",
       "      <td>/signup2.php</td>\n",
       "      <td>ac=1&amp;from_uri=%2Fsignup2.php%3Fac%3D1%26from_u...</td>\n",
       "      <td>None</td>\n",
       "      <td>1</td>\n",
       "    </tr>\n",
       "    <tr>\n",
       "      <th>45375</th>\n",
       "      <td>35375</td>\n",
       "      <td>https://lastpass.com/signup2.php?ac=1&amp;from_uri...</td>\n",
       "      <td>good</td>\n",
       "      <td>(https, None, lastpass.com, None, /signup2.php...</td>\n",
       "      <td>https</td>\n",
       "      <td>None</td>\n",
       "      <td>lastpass.com</td>\n",
       "      <td>NaN</td>\n",
       "      <td>/signup2.php</td>\n",
       "      <td>ac=1&amp;from_uri=%2Fsignup2.php%3Fac%3D1%26from_u...</td>\n",
       "      <td>None</td>\n",
       "      <td>1</td>\n",
       "    </tr>\n",
       "    <tr>\n",
       "      <th>45376</th>\n",
       "      <td>35376</td>\n",
       "      <td>https://lastpass.com/signup2.php?ac=1&amp;from_uri...</td>\n",
       "      <td>good</td>\n",
       "      <td>(https, None, lastpass.com, None, /signup2.php...</td>\n",
       "      <td>https</td>\n",
       "      <td>None</td>\n",
       "      <td>lastpass.com</td>\n",
       "      <td>NaN</td>\n",
       "      <td>/signup2.php</td>\n",
       "      <td>ac=1&amp;from_uri=%2Fsignup2.php%3Fac%3D1%26from_u...</td>\n",
       "      <td>None</td>\n",
       "      <td>1</td>\n",
       "    </tr>\n",
       "    <tr>\n",
       "      <th>45377</th>\n",
       "      <td>35377</td>\n",
       "      <td>https://asana.com/guide/videos/%22//fast.wisti...</td>\n",
       "      <td>good</td>\n",
       "      <td>(https, None, asana.com, None, /guide/videos/%...</td>\n",
       "      <td>https</td>\n",
       "      <td>None</td>\n",
       "      <td>asana.com</td>\n",
       "      <td>NaN</td>\n",
       "      <td>/guide/videos/%22//fast.wistia.net/embed/ifram...</td>\n",
       "      <td>plugin%5Bchapters%5D%5Bch_1_title%5D=Intro%3A%...</td>\n",
       "      <td>None</td>\n",
       "      <td>1</td>\n",
       "    </tr>\n",
       "  </tbody>\n",
       "</table>\n",
       "<p>60653 rows × 12 columns</p>\n",
       "</div>"
      ],
      "text/plain": [
       "       index                                                url label  \\\n",
       "45378      0                         inpost.pl-paydelivery.cyou   bad   \n",
       "45379      1                         inpost.pl-paydelivery.work   bad   \n",
       "45380      2                          inpost.pl-paydelivery.xyz   bad   \n",
       "45381      3                      www.inpost.new-pl-oferta.cyou   bad   \n",
       "45382      4                          inpost.new-pl-oferta.casa   bad   \n",
       "...      ...                                                ...   ...   \n",
       "45373  35373  https://lastpass.com/signup2.php?ac=1&from_uri...  good   \n",
       "45374  35374  https://lastpass.com/signup2.php?ac=1&from_uri...  good   \n",
       "45375  35375  https://lastpass.com/signup2.php?ac=1&from_uri...  good   \n",
       "45376  35376  https://lastpass.com/signup2.php?ac=1&from_uri...  good   \n",
       "45377  35377  https://asana.com/guide/videos/%22//fast.wisti...  good   \n",
       "\n",
       "                                              parsed_url schema  auth  \\\n",
       "45378  (None, None, inpost.pl-paydelivery.cyou, None,...   None  None   \n",
       "45379  (None, None, inpost.pl-paydelivery.work, None,...   None  None   \n",
       "45380  (None, None, inpost.pl-paydelivery.xyz, None, ...   None  None   \n",
       "45381  (None, None, www.inpost.new-pl-oferta.cyou, No...   None  None   \n",
       "45382  (None, None, inpost.new-pl-oferta.casa, None, ...   None  None   \n",
       "...                                                  ...    ...   ...   \n",
       "45373  (https, None, lastpass.com, None, /signup2.php...  https  None   \n",
       "45374  (https, None, lastpass.com, None, /signup2.php...  https  None   \n",
       "45375  (https, None, lastpass.com, None, /signup2.php...  https  None   \n",
       "45376  (https, None, lastpass.com, None, /signup2.php...  https  None   \n",
       "45377  (https, None, asana.com, None, /guide/videos/%...  https  None   \n",
       "\n",
       "                                host  port  \\\n",
       "45378     inpost.pl-paydelivery.cyou   NaN   \n",
       "45379     inpost.pl-paydelivery.work   NaN   \n",
       "45380      inpost.pl-paydelivery.xyz   NaN   \n",
       "45381  www.inpost.new-pl-oferta.cyou   NaN   \n",
       "45382      inpost.new-pl-oferta.casa   NaN   \n",
       "...                              ...   ...   \n",
       "45373                   lastpass.com   NaN   \n",
       "45374                   lastpass.com   NaN   \n",
       "45375                   lastpass.com   NaN   \n",
       "45376                   lastpass.com   NaN   \n",
       "45377                      asana.com   NaN   \n",
       "\n",
       "                                                    path  \\\n",
       "45378                                               None   \n",
       "45379                                               None   \n",
       "45380                                               None   \n",
       "45381                                               None   \n",
       "45382                                               None   \n",
       "...                                                  ...   \n",
       "45373                                       /signup2.php   \n",
       "45374                                       /signup2.php   \n",
       "45375                                       /signup2.php   \n",
       "45376                                       /signup2.php   \n",
       "45377  /guide/videos/%22//fast.wistia.net/embed/ifram...   \n",
       "\n",
       "                                                   query fragment  enc  \n",
       "45378                                               None     None    0  \n",
       "45379                                               None     None    0  \n",
       "45380                                               None     None    0  \n",
       "45381                                               None     None    0  \n",
       "45382                                               None     None    0  \n",
       "...                                                  ...      ...  ...  \n",
       "45373  ac=1&from_uri=%2Fsignup2.php%3Fac%3D1%26from_u...     None    1  \n",
       "45374  ac=1&from_uri=%2Fsignup2.php%3Fac%3D1%26from_u...     None    1  \n",
       "45375  ac=1&from_uri=%2Fsignup2.php%3Fac%3D1%26from_u...     None    1  \n",
       "45376  ac=1&from_uri=%2Fsignup2.php%3Fac%3D1%26from_u...     None    1  \n",
       "45377  plugin%5Bchapters%5D%5Bch_1_title%5D=Intro%3A%...     None    1  \n",
       "\n",
       "[60653 rows x 12 columns]"
      ]
     },
     "execution_count": 31,
     "metadata": {},
     "output_type": "execute_result"
    }
   ],
   "source": [
    "from sklearn import preprocessing\n",
    "\n",
    "balanced_df = pd.concat([dane[dane.label == 'bad'],dane[dane.label == 'good'].iloc[1:100000,:]])\n",
    "le = preprocessing.LabelEncoder()\n",
    "le.fit(balanced_df.label)\n",
    "balanced_df[\"enc\"] = le.transform(balanced_df.label)\n",
    "balanced_df"
   ]
  },
  {
   "cell_type": "code",
   "execution_count": 32,
   "id": "55fd4309-6af9-4c92-8c1b-b126cae5beee",
   "metadata": {},
   "outputs": [
    {
     "data": {
      "text/plain": [
       "array([[ 0.5, 26. ,  2. , ...,  0. ,  1. ,  0. ],\n",
       "       [ 0.5, 26. ,  2. , ...,  0. ,  1. ,  0. ],\n",
       "       [ 0.5, 25. ,  2. , ...,  0. ,  1. ,  0. ],\n",
       "       ...,\n",
       "       [ 1. , 12. ,  1. , ...,  0. ,  0. ,  0. ],\n",
       "       [ 1. , 12. ,  1. , ...,  0. ,  0. ,  0. ],\n",
       "       [ 1. ,  9. ,  1. , ...,  0. ,  0. ,  0. ]])"
      ]
     },
     "execution_count": 32,
     "metadata": {},
     "output_type": "execute_result"
    }
   ],
   "source": [
    "features = calculate_metrics(balanced_df)\n",
    "features"
   ]
  },
  {
   "cell_type": "code",
   "execution_count": 33,
   "id": "0085c16e-b0b0-49e4-b911-76c8c23d9cc5",
   "metadata": {},
   "outputs": [],
   "source": [
    "trainX, testX, trainY, testY = train_test_split(features, balanced_df.enc, test_size=0.2)\n",
    "trainX = sc.fit_transform(trainX)\n",
    "testX = sc.transform(testX)"
   ]
  },
  {
   "cell_type": "markdown",
   "id": "5dcb239c-5cd7-4bee-8e1d-3a8033b9000c",
   "metadata": {},
   "source": [
    "# Wektory wspierające"
   ]
  },
  {
   "cell_type": "code",
   "execution_count": 34,
   "id": "4bd5ab46-4645-48d9-824a-7cab93bdcf52",
   "metadata": {},
   "outputs": [
    {
     "name": "stdout",
     "output_type": "stream",
     "text": [
      "[LibSVM]"
     ]
    },
    {
     "data": {
      "text/plain": [
       "SVC(verbose=True)"
      ]
     },
     "execution_count": 34,
     "metadata": {},
     "output_type": "execute_result"
    }
   ],
   "source": [
    "from sklearn import svm\n",
    "\n",
    "clf = svm.SVC(verbose=True)\n",
    "clf.fit(trainX, trainY)"
   ]
  },
  {
   "cell_type": "code",
   "execution_count": 35,
   "id": "360a3b9b-b6ed-4c1e-9fd7-6cc2bb8db2bc",
   "metadata": {},
   "outputs": [
    {
     "data": {
      "text/plain": [
       "0.990602588409859"
      ]
     },
     "execution_count": 35,
     "metadata": {},
     "output_type": "execute_result"
    }
   ],
   "source": [
    "clf.score(testX, testY)"
   ]
  },
  {
   "cell_type": "code",
   "execution_count": 36,
   "id": "8687af43-88ac-4bb4-88a2-c8880d597806",
   "metadata": {},
   "outputs": [
    {
     "data": {
      "text/plain": [
       "0.9987789987789988"
      ]
     },
     "execution_count": 36,
     "metadata": {},
     "output_type": "execute_result"
    }
   ],
   "source": [
    "clf.score(testX[testY == 1], testY[testY == 1]) # Dane dobre = 1"
   ]
  },
  {
   "cell_type": "code",
   "execution_count": 37,
   "id": "836869bd-9bc3-451d-b3f5-bf898f23c62d",
   "metadata": {},
   "outputs": [
    {
     "data": {
      "text/plain": [
       "0.9670083279948751"
      ]
     },
     "execution_count": 37,
     "metadata": {},
     "output_type": "execute_result"
    }
   ],
   "source": [
    "clf.score(testX[testY == 0], testY[testY == 0]) # Dane złe = 1"
   ]
  },
  {
   "cell_type": "code",
   "execution_count": 38,
   "id": "8229cd0f-eb98-4188-9d5d-d46d8b246832",
   "metadata": {},
   "outputs": [],
   "source": [
    "#clf.predict(sc.transform(calculate_metrics(pd.DataFrame([\"shbwgen.blogspot.com\t\"], columns = [\"url\"]))))"
   ]
  },
  {
   "cell_type": "markdown",
   "id": "90a5f6d2-2eb0-4998-9ebd-3940c8e574e8",
   "metadata": {},
   "source": [
    "# Drzewo losowe"
   ]
  },
  {
   "cell_type": "code",
   "execution_count": 52,
   "id": "130bbe5e-1d83-4b0e-af9a-10f9e20a5e61",
   "metadata": {},
   "outputs": [
    {
     "name": "stderr",
     "output_type": "stream",
     "text": [
      "[Parallel(n_jobs=1)]: Using backend SequentialBackend with 1 concurrent workers.\n",
      "[Parallel(n_jobs=1)]: Done 100 out of 100 | elapsed:    0.7s finished\n"
     ]
    },
    {
     "data": {
      "text/plain": [
       "RandomForestClassifier(max_depth=3, min_samples_leaf=2, random_state=0,\n",
       "                       verbose=1)"
      ]
     },
     "execution_count": 52,
     "metadata": {},
     "output_type": "execute_result"
    }
   ],
   "source": [
    "from sklearn.ensemble import RandomForestClassifier\n",
    "clf2 = RandomForestClassifier(max_depth=3, random_state=0, min_samples_split=2, min_samples_leaf=2,verbose=1)\n",
    "clf2.fit(trainX, trainY)"
   ]
  },
  {
   "cell_type": "code",
   "execution_count": 53,
   "id": "2199a1f3-f5ec-4b96-9459-6e447c59e6dd",
   "metadata": {},
   "outputs": [
    {
     "name": "stderr",
     "output_type": "stream",
     "text": [
      "[Parallel(n_jobs=1)]: Using backend SequentialBackend with 1 concurrent workers.\n",
      "[Parallel(n_jobs=1)]: Done 100 out of 100 | elapsed:    0.0s finished\n"
     ]
    },
    {
     "data": {
      "text/plain": [
       "0.9209463358338142"
      ]
     },
     "execution_count": 53,
     "metadata": {},
     "output_type": "execute_result"
    }
   ],
   "source": [
    "clf2.score(testX, testY)"
   ]
  },
  {
   "cell_type": "code",
   "execution_count": 54,
   "id": "84f1eb7e-9f2b-440a-95f5-b6816de43c0f",
   "metadata": {},
   "outputs": [
    {
     "name": "stderr",
     "output_type": "stream",
     "text": [
      "[Parallel(n_jobs=1)]: Using backend SequentialBackend with 1 concurrent workers.\n",
      "[Parallel(n_jobs=1)]: Done 100 out of 100 | elapsed:    0.0s finished\n"
     ]
    },
    {
     "data": {
      "text/plain": [
       "0.9839637248396372"
      ]
     },
     "execution_count": 54,
     "metadata": {},
     "output_type": "execute_result"
    }
   ],
   "source": [
    "clf2.score(testX[testY == 1], testY[testY == 1]) # Dane dobre"
   ]
  },
  {
   "cell_type": "code",
   "execution_count": 55,
   "id": "1ab7c9ac-898a-4ec8-b35c-3837897fca9c",
   "metadata": {},
   "outputs": [
    {
     "name": "stderr",
     "output_type": "stream",
     "text": [
      "[Parallel(n_jobs=1)]: Using backend SequentialBackend with 1 concurrent workers.\n",
      "[Parallel(n_jobs=1)]: Done 100 out of 100 | elapsed:    0.0s finished\n"
     ]
    },
    {
     "data": {
      "text/plain": [
       "0.7364842991259307"
      ]
     },
     "execution_count": 55,
     "metadata": {},
     "output_type": "execute_result"
    }
   ],
   "source": [
    "clf2.score(testX[testY == 0], testY[testY == 0]) # Dane złe"
   ]
  },
  {
   "cell_type": "code",
   "execution_count": 39,
   "id": "85563564-c754-4fb5-a5cc-1d8f0101f787",
   "metadata": {},
   "outputs": [],
   "source": [
    "def transform(url):\n",
    "    d = pd.DataFrame([url], columns = ['url'])\n",
    "    d['parsed_url'] = d.url.apply(lambda x : parseurl(x))\n",
    "    u = d.url.apply(lambda x : list(parseurl(x)))\n",
    "    d['schema'] = u.apply(lambda x : x[0])\n",
    "    d['auth'] = u.apply(lambda x : x[1])\n",
    "    d['host'] = u.apply(lambda x : x[2])\n",
    "    d['port'] = u.apply(lambda x : x[3])\n",
    "    d['path'] = u.apply(lambda x : x[4])\n",
    "    d['query'] = u.apply(lambda x : x[5])\n",
    "    d['fragment'] = u.apply(lambda x : x[6])\n",
    "    return d"
   ]
  },
  {
   "cell_type": "code",
   "execution_count": 40,
   "id": "393f5cf5-5064-40f4-a0a0-a04ce16b3ec6",
   "metadata": {},
   "outputs": [
    {
     "data": {
      "text/html": [
       "<div>\n",
       "<style scoped>\n",
       "    .dataframe tbody tr th:only-of-type {\n",
       "        vertical-align: middle;\n",
       "    }\n",
       "\n",
       "    .dataframe tbody tr th {\n",
       "        vertical-align: top;\n",
       "    }\n",
       "\n",
       "    .dataframe thead th {\n",
       "        text-align: right;\n",
       "    }\n",
       "</style>\n",
       "<table border=\"1\" class=\"dataframe\">\n",
       "  <thead>\n",
       "    <tr style=\"text-align: right;\">\n",
       "      <th></th>\n",
       "      <th>url</th>\n",
       "      <th>parsed_url</th>\n",
       "      <th>schema</th>\n",
       "      <th>auth</th>\n",
       "      <th>host</th>\n",
       "      <th>port</th>\n",
       "      <th>path</th>\n",
       "      <th>query</th>\n",
       "      <th>fragment</th>\n",
       "    </tr>\n",
       "  </thead>\n",
       "  <tbody>\n",
       "    <tr>\n",
       "      <th>0</th>\n",
       "      <td>allegro.pl</td>\n",
       "      <td>(None, None, allegro.pl, None, None, None, None)</td>\n",
       "      <td>None</td>\n",
       "      <td>None</td>\n",
       "      <td>allegro.pl</td>\n",
       "      <td>None</td>\n",
       "      <td>None</td>\n",
       "      <td>None</td>\n",
       "      <td>None</td>\n",
       "    </tr>\n",
       "  </tbody>\n",
       "</table>\n",
       "</div>"
      ],
      "text/plain": [
       "          url                                        parsed_url schema  auth  \\\n",
       "0  allegro.pl  (None, None, allegro.pl, None, None, None, None)   None  None   \n",
       "\n",
       "         host  port  path query fragment  \n",
       "0  allegro.pl  None  None  None     None  "
      ]
     },
     "execution_count": 40,
     "metadata": {},
     "output_type": "execute_result"
    }
   ],
   "source": [
    "transform(\"allegro.pl\")"
   ]
  },
  {
   "cell_type": "markdown",
   "id": "93bfabcd-1116-40d7-aa1f-2eac6ab6f304",
   "metadata": {},
   "source": [
    "# Podsumowanie\n",
    "Model w obecnym stanie jest w stanie rozpoznać proste podmiany i działa szybko, jak dla mnie nadaje się do wrzucenia."
   ]
  },
  {
   "cell_type": "code",
   "execution_count": 41,
   "id": "61ad5330-dff5-4b7b-bc56-c9871a0b7615",
   "metadata": {},
   "outputs": [
    {
     "data": {
      "text/plain": [
       "array([1])"
      ]
     },
     "execution_count": 41,
     "metadata": {},
     "output_type": "execute_result"
    }
   ],
   "source": [
    "clf.predict(sc.transform(calculate_metrics(transform(\"https://allegro.pl\"))))"
   ]
  },
  {
   "cell_type": "code",
   "execution_count": 42,
   "id": "3d829c1d-4cfc-4c6d-a629-2b795b3c6413",
   "metadata": {},
   "outputs": [
    {
     "data": {
      "text/plain": [
       "array([0])"
      ]
     },
     "execution_count": 42,
     "metadata": {},
     "output_type": "execute_result"
    }
   ],
   "source": [
    "clf.predict(sc.transform(calculate_metrics(transform(\"https://a11egro.pl\"))))"
   ]
  },
  {
   "cell_type": "markdown",
   "id": "1de4f5da-43d0-496e-a63d-7da928c88af2",
   "metadata": {},
   "source": [
    "# Zapisanie modelu"
   ]
  },
  {
   "cell_type": "code",
   "execution_count": 45,
   "id": "e491eac7-597a-48c8-9cc1-c000fb2f4bf4",
   "metadata": {},
   "outputs": [
    {
     "data": {
      "text/plain": [
       "['../Dumps/encoder.sav']"
      ]
     },
     "execution_count": 45,
     "metadata": {},
     "output_type": "execute_result"
    }
   ],
   "source": [
    "import joblib\n",
    "\n",
    "joblib.dump(clf, model_file) # SVM\n",
    "joblib.dump(sc, scaler_file) # StandardScaler\n",
    "joblib.dump(le, encoder_file) # LabelEncoder"
   ]
  }
 ],
 "metadata": {
  "kernelspec": {
   "display_name": "Python 3",
   "language": "python",
   "name": "python3"
  },
  "language_info": {
   "codemirror_mode": {
    "name": "ipython",
    "version": 3
   },
   "file_extension": ".py",
   "mimetype": "text/x-python",
   "name": "python",
   "nbconvert_exporter": "python",
   "pygments_lexer": "ipython3",
   "version": "3.9.4"
  }
 },
 "nbformat": 4,
 "nbformat_minor": 5
}
