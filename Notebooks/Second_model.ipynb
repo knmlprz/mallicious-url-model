{
 "cells": [
  {
   "cell_type": "code",
   "execution_count": 1,
   "id": "717d0493-1702-486d-82ac-daad4d130ef4",
   "metadata": {},
   "outputs": [],
   "source": [
    "# importing some useful libraries\n",
    "import pandas as pd\n",
    "import numpy as np\n",
    "import matplotlib.pyplot as plt\n",
    "import seaborn as sns  \n",
    "import time \n",
    "\n",
    "from sklearn.metrics import classification_report\n",
    "from sklearn.metrics import confusion_matrix\n",
    "from nltk.tokenize import RegexpTokenizer  \n",
    "from nltk.stem.snowball import SnowballStemmer\n",
    "from sklearn.feature_extraction.text import CountVectorizer  \n",
    "from sklearn.pipeline import make_pipeline\n",
    "\n",
    "from sklearn.model_selection import train_test_split\n",
    "from sklearn.linear_model import LogisticRegression\n",
    "\n",
    "\n",
    "from PIL import Image\n",
    "from wordcloud import WordCloud, STOPWORDS, ImageColorGenerator\n",
    "import pickle "
   ]
  },
  {
   "cell_type": "markdown",
   "id": "217ae9cf-d960-4126-ab95-82bdacbbef33",
   "metadata": {},
   "source": [
    "# Wczytywanie danych"
   ]
  },
  {
   "cell_type": "code",
   "execution_count": 2,
   "id": "1c014a61-53e0-4b90-a00d-3055b4554654",
   "metadata": {},
   "outputs": [
    {
     "name": "stdout",
     "output_type": "stream",
     "text": [
      "<class 'pandas.core.frame.DataFrame'>\n",
      "RangeIndex: 420464 entries, 0 to 420463\n",
      "Data columns (total 2 columns):\n",
      " #   Column  Non-Null Count   Dtype \n",
      "---  ------  --------------   ----- \n",
      " 0   url     420464 non-null  object\n",
      " 1   label   420464 non-null  object\n",
      "dtypes: object(2)\n",
      "memory usage: 6.4+ MB\n"
     ]
    }
   ],
   "source": [
    "kaggle = pd.read_csv(\"../Data/URLs-mixed/kaggle_labeled.csv\")\n",
    "kaggle.info()"
   ]
  },
  {
   "cell_type": "markdown",
   "id": "b4ce42ee-c6a3-48f9-9f8a-bf751ad5651a",
   "metadata": {},
   "source": [
    "## Dane polska"
   ]
  },
  {
   "cell_type": "code",
   "execution_count": 3,
   "id": "64cd3a3e-dece-4fdb-9899-fd116d30c283",
   "metadata": {},
   "outputs": [
    {
     "data": {
      "text/html": [
       "<div>\n",
       "<style scoped>\n",
       "    .dataframe tbody tr th:only-of-type {\n",
       "        vertical-align: middle;\n",
       "    }\n",
       "\n",
       "    .dataframe tbody tr th {\n",
       "        vertical-align: top;\n",
       "    }\n",
       "\n",
       "    .dataframe thead th {\n",
       "        text-align: right;\n",
       "    }\n",
       "</style>\n",
       "<table border=\"1\" class=\"dataframe\">\n",
       "  <thead>\n",
       "    <tr style=\"text-align: right;\">\n",
       "      <th></th>\n",
       "      <th>url</th>\n",
       "    </tr>\n",
       "  </thead>\n",
       "  <tbody>\n",
       "    <tr>\n",
       "      <th>0</th>\n",
       "      <td>http://1bcz.wp.mil.pl</td>\n",
       "    </tr>\n",
       "    <tr>\n",
       "      <th>1</th>\n",
       "      <td>http://1bdm.wp.mil.pl/pl/28.html</td>\n",
       "    </tr>\n",
       "  </tbody>\n",
       "</table>\n",
       "</div>"
      ],
      "text/plain": [
       "                                url\n",
       "0             http://1bcz.wp.mil.pl\n",
       "1  http://1bdm.wp.mil.pl/pl/28.html"
      ]
     },
     "execution_count": 3,
     "metadata": {},
     "output_type": "execute_result"
    }
   ],
   "source": [
    "gov = pd.read_csv(\"../Data/URLs-good/gov_poland.csv\", skiprows=2, sep=';', usecols=[1], names=[\"url\"])\n",
    "gov.head(2)"
   ]
  },
  {
   "cell_type": "code",
   "execution_count": 4,
   "id": "93363980-63c4-4248-b443-e5e684f05814",
   "metadata": {},
   "outputs": [
    {
     "data": {
      "text/html": [
       "<div>\n",
       "<style scoped>\n",
       "    .dataframe tbody tr th:only-of-type {\n",
       "        vertical-align: middle;\n",
       "    }\n",
       "\n",
       "    .dataframe tbody tr th {\n",
       "        vertical-align: top;\n",
       "    }\n",
       "\n",
       "    .dataframe thead th {\n",
       "        text-align: right;\n",
       "    }\n",
       "</style>\n",
       "<table border=\"1\" class=\"dataframe\">\n",
       "  <thead>\n",
       "    <tr style=\"text-align: right;\">\n",
       "      <th></th>\n",
       "      <th>url</th>\n",
       "      <th>label</th>\n",
       "    </tr>\n",
       "  </thead>\n",
       "  <tbody>\n",
       "    <tr>\n",
       "      <th>0</th>\n",
       "      <td>http://1bcz.wp.mil.pl</td>\n",
       "      <td>good</td>\n",
       "    </tr>\n",
       "    <tr>\n",
       "      <th>1</th>\n",
       "      <td>http://1bdm.wp.mil.pl/pl/28.html</td>\n",
       "      <td>good</td>\n",
       "    </tr>\n",
       "  </tbody>\n",
       "</table>\n",
       "</div>"
      ],
      "text/plain": [
       "                                url label\n",
       "0             http://1bcz.wp.mil.pl  good\n",
       "1  http://1bdm.wp.mil.pl/pl/28.html  good"
      ]
     },
     "execution_count": 4,
     "metadata": {},
     "output_type": "execute_result"
    }
   ],
   "source": [
    "gov[\"url\"] = gov[\"url\"].astype(str)\n",
    "gov[\"label\"] = \"good\"\n",
    "gov.head(2)"
   ]
  },
  {
   "cell_type": "markdown",
   "id": "c5af40f9-8217-4e63-a5f0-93b8c7236b5f",
   "metadata": {},
   "source": [
    "## Dane cert"
   ]
  },
  {
   "cell_type": "code",
   "execution_count": 5,
   "id": "495adb11-c2da-4894-9669-7d352fef866e",
   "metadata": {},
   "outputs": [
    {
     "data": {
      "text/html": [
       "<div>\n",
       "<style scoped>\n",
       "    .dataframe tbody tr th:only-of-type {\n",
       "        vertical-align: middle;\n",
       "    }\n",
       "\n",
       "    .dataframe tbody tr th {\n",
       "        vertical-align: top;\n",
       "    }\n",
       "\n",
       "    .dataframe thead th {\n",
       "        text-align: right;\n",
       "    }\n",
       "</style>\n",
       "<table border=\"1\" class=\"dataframe\">\n",
       "  <thead>\n",
       "    <tr style=\"text-align: right;\">\n",
       "      <th></th>\n",
       "      <th>url</th>\n",
       "    </tr>\n",
       "  </thead>\n",
       "  <tbody>\n",
       "    <tr>\n",
       "      <th>0</th>\n",
       "      <td>008753331120.com</td>\n",
       "    </tr>\n",
       "    <tr>\n",
       "      <th>1</th>\n",
       "      <td>02-wiadomosci.com.pl</td>\n",
       "    </tr>\n",
       "  </tbody>\n",
       "</table>\n",
       "</div>"
      ],
      "text/plain": [
       "                    url\n",
       "0      008753331120.com\n",
       "1  02-wiadomosci.com.pl"
      ]
     },
     "execution_count": 5,
     "metadata": {},
     "output_type": "execute_result"
    }
   ],
   "source": [
    "cert = pd.read_csv(\"https://hole.cert.pl/domains/domains.txt\", names=[\"url\"])\n",
    "cert.head(2)"
   ]
  },
  {
   "cell_type": "code",
   "execution_count": 6,
   "id": "0d07a82c-a3f0-4d60-b094-0ecf13af6142",
   "metadata": {},
   "outputs": [
    {
     "data": {
      "text/html": [
       "<div>\n",
       "<style scoped>\n",
       "    .dataframe tbody tr th:only-of-type {\n",
       "        vertical-align: middle;\n",
       "    }\n",
       "\n",
       "    .dataframe tbody tr th {\n",
       "        vertical-align: top;\n",
       "    }\n",
       "\n",
       "    .dataframe thead th {\n",
       "        text-align: right;\n",
       "    }\n",
       "</style>\n",
       "<table border=\"1\" class=\"dataframe\">\n",
       "  <thead>\n",
       "    <tr style=\"text-align: right;\">\n",
       "      <th></th>\n",
       "      <th>url</th>\n",
       "      <th>label</th>\n",
       "    </tr>\n",
       "  </thead>\n",
       "  <tbody>\n",
       "    <tr>\n",
       "      <th>0</th>\n",
       "      <td>008753331120.com</td>\n",
       "      <td>bad</td>\n",
       "    </tr>\n",
       "    <tr>\n",
       "      <th>1</th>\n",
       "      <td>02-wiadomosci.com.pl</td>\n",
       "      <td>bad</td>\n",
       "    </tr>\n",
       "  </tbody>\n",
       "</table>\n",
       "</div>"
      ],
      "text/plain": [
       "                    url label\n",
       "0      008753331120.com   bad\n",
       "1  02-wiadomosci.com.pl   bad"
      ]
     },
     "execution_count": 6,
     "metadata": {},
     "output_type": "execute_result"
    }
   ],
   "source": [
    "cert[\"url\"] = cert[\"url\"].astype(str)\n",
    "cert[\"label\"] = \"bad\"\n",
    "cert.head(2)"
   ]
  },
  {
   "cell_type": "code",
   "execution_count": 7,
   "id": "149b6ade-6a8c-4910-b5c9-217f7193f349",
   "metadata": {},
   "outputs": [
    {
     "data": {
      "text/html": [
       "<div>\n",
       "<style scoped>\n",
       "    .dataframe tbody tr th:only-of-type {\n",
       "        vertical-align: middle;\n",
       "    }\n",
       "\n",
       "    .dataframe tbody tr th {\n",
       "        vertical-align: top;\n",
       "    }\n",
       "\n",
       "    .dataframe thead th {\n",
       "        text-align: right;\n",
       "    }\n",
       "</style>\n",
       "<table border=\"1\" class=\"dataframe\">\n",
       "  <thead>\n",
       "    <tr style=\"text-align: right;\">\n",
       "      <th></th>\n",
       "      <th>url</th>\n",
       "      <th>label</th>\n",
       "    </tr>\n",
       "  </thead>\n",
       "  <tbody>\n",
       "    <tr>\n",
       "      <th>0</th>\n",
       "      <td>diaryofagameaddict.com</td>\n",
       "      <td>bad</td>\n",
       "    </tr>\n",
       "    <tr>\n",
       "      <th>1</th>\n",
       "      <td>espdesign.com.au</td>\n",
       "      <td>bad</td>\n",
       "    </tr>\n",
       "  </tbody>\n",
       "</table>\n",
       "</div>"
      ],
      "text/plain": [
       "                      url label\n",
       "0  diaryofagameaddict.com   bad\n",
       "1        espdesign.com.au   bad"
      ]
     },
     "execution_count": 7,
     "metadata": {},
     "output_type": "execute_result"
    }
   ],
   "source": [
    "df = pd.concat([kaggle,gov,cert])\n",
    "df.head(2)"
   ]
  },
  {
   "cell_type": "code",
   "execution_count": 8,
   "id": "aebb3320-6d2f-4239-a0b1-80d818d0ac8d",
   "metadata": {},
   "outputs": [],
   "source": [
    "df[\"url\"] = df.url.astype(str)"
   ]
  },
  {
   "cell_type": "markdown",
   "id": "68aa1bab-f9bd-4d75-9694-1e2b2173d2fb",
   "metadata": {},
   "source": [
    "# Trenowanie modelu"
   ]
  },
  {
   "cell_type": "markdown",
   "id": "9f135a43-6b50-43d7-8bbd-05687b8310ab",
   "metadata": {},
   "source": [
    "## Czyszczenie danych"
   ]
  },
  {
   "cell_type": "code",
   "execution_count": 126,
   "id": "5a963f18-d6b8-4274-af5a-245ca1e1b02b",
   "metadata": {},
   "outputs": [],
   "source": [
    "from urllib3.util import parse_url\n",
    "import re\n",
    "\n",
    "def parseurl(url):\n",
    "    try:\n",
    "        url = url.translate({'[': None, ']': None})\n",
    "        url = parse_url(url)\n",
    "        return str(url.host)\n",
    "    except Exception as e:\n",
    "        if \"//\" in url:\n",
    "            url = url.split(\"//\")[1]\n",
    "        url = url[:url.find(\"/\")]\n",
    "        return str(url)\n",
    "    \n",
    "def parseurl2(url):\n",
    "    try:\n",
    "        url = url.translate({'[': \"\", ']': \"\"})\n",
    "        h = re.search(\"https?:?//\", url)\n",
    "        if h is not None:\n",
    "            url = url[:h.start()] + url[h.end():]\n",
    "        url = str(parse_url(url).host)\n",
    "        \n",
    "        if url.count('.') == 0:\n",
    "            return np.nan\n",
    "        else:\n",
    "            return url\n",
    "    except:\n",
    "        return np.nan"
   ]
  },
  {
   "cell_type": "code",
   "execution_count": 127,
   "id": "67ed2fb6-1f6f-4437-8a87-ef91803d48f6",
   "metadata": {},
   "outputs": [],
   "source": [
    "df[\"url\"] = df[\"url\"].astype(str)\n",
    "df[\"parsed_url\"] = df.url.apply(parseurl2)"
   ]
  },
  {
   "cell_type": "code",
   "execution_count": 128,
   "id": "15a15337-98b7-4446-bb60-1083a1c6189f",
   "metadata": {},
   "outputs": [],
   "source": [
    "df.dropna(inplace=True)"
   ]
  },
  {
   "cell_type": "code",
   "execution_count": 129,
   "id": "ef825eb4-6dec-4134-a53e-83a92517e642",
   "metadata": {},
   "outputs": [],
   "source": [
    "good_domains = df[df[\"label\"] == \"good\"]\n",
    "bad = df[df[\"label\"] == \"bad\"]"
   ]
  },
  {
   "cell_type": "code",
   "execution_count": 130,
   "id": "4ad8fc8e-6237-428a-8478-09a1124b6872",
   "metadata": {},
   "outputs": [
    {
     "data": {
      "text/html": [
       "<div>\n",
       "<style scoped>\n",
       "    .dataframe tbody tr th:only-of-type {\n",
       "        vertical-align: middle;\n",
       "    }\n",
       "\n",
       "    .dataframe tbody tr th {\n",
       "        vertical-align: top;\n",
       "    }\n",
       "\n",
       "    .dataframe thead th {\n",
       "        text-align: right;\n",
       "    }\n",
       "</style>\n",
       "<table border=\"1\" class=\"dataframe\">\n",
       "  <thead>\n",
       "    <tr style=\"text-align: right;\">\n",
       "      <th></th>\n",
       "      <th>url</th>\n",
       "      <th>label</th>\n",
       "      <th>parsed_url</th>\n",
       "    </tr>\n",
       "  </thead>\n",
       "  <tbody>\n",
       "    <tr>\n",
       "      <th>0</th>\n",
       "      <td>diaryofagameaddict.com</td>\n",
       "      <td>bad</td>\n",
       "      <td>diaryofagameaddict.com</td>\n",
       "    </tr>\n",
       "    <tr>\n",
       "      <th>1</th>\n",
       "      <td>espdesign.com.au</td>\n",
       "      <td>bad</td>\n",
       "      <td>espdesign.com.au</td>\n",
       "    </tr>\n",
       "    <tr>\n",
       "      <th>2</th>\n",
       "      <td>iamagameaddict.com</td>\n",
       "      <td>bad</td>\n",
       "      <td>iamagameaddict.com</td>\n",
       "    </tr>\n",
       "    <tr>\n",
       "      <th>3</th>\n",
       "      <td>kalantzis.net</td>\n",
       "      <td>bad</td>\n",
       "      <td>kalantzis.net</td>\n",
       "    </tr>\n",
       "    <tr>\n",
       "      <th>4</th>\n",
       "      <td>slightlyoffcenter.net</td>\n",
       "      <td>bad</td>\n",
       "      <td>slightlyoffcenter.net</td>\n",
       "    </tr>\n",
       "  </tbody>\n",
       "</table>\n",
       "</div>"
      ],
      "text/plain": [
       "                      url label              parsed_url\n",
       "0  diaryofagameaddict.com   bad  diaryofagameaddict.com\n",
       "1        espdesign.com.au   bad        espdesign.com.au\n",
       "2      iamagameaddict.com   bad      iamagameaddict.com\n",
       "3           kalantzis.net   bad           kalantzis.net\n",
       "4   slightlyoffcenter.net   bad   slightlyoffcenter.net"
      ]
     },
     "execution_count": 130,
     "metadata": {},
     "output_type": "execute_result"
    }
   ],
   "source": [
    "df.head(5)"
   ]
  },
  {
   "cell_type": "code",
   "execution_count": 131,
   "id": "81a5fc87-f9d6-45e2-a984-9e629c94e590",
   "metadata": {},
   "outputs": [
    {
     "data": {
      "text/html": [
       "<div>\n",
       "<style scoped>\n",
       "    .dataframe tbody tr th:only-of-type {\n",
       "        vertical-align: middle;\n",
       "    }\n",
       "\n",
       "    .dataframe tbody tr th {\n",
       "        vertical-align: top;\n",
       "    }\n",
       "\n",
       "    .dataframe thead th {\n",
       "        text-align: right;\n",
       "    }\n",
       "</style>\n",
       "<table border=\"1\" class=\"dataframe\">\n",
       "  <thead>\n",
       "    <tr style=\"text-align: right;\">\n",
       "      <th></th>\n",
       "      <th>url</th>\n",
       "      <th>parsed_url</th>\n",
       "    </tr>\n",
       "    <tr>\n",
       "      <th>label</th>\n",
       "      <th></th>\n",
       "      <th></th>\n",
       "    </tr>\n",
       "  </thead>\n",
       "  <tbody>\n",
       "    <tr>\n",
       "      <th>bad</th>\n",
       "      <td>91508</td>\n",
       "      <td>91508</td>\n",
       "    </tr>\n",
       "    <tr>\n",
       "      <th>good</th>\n",
       "      <td>414286</td>\n",
       "      <td>414286</td>\n",
       "    </tr>\n",
       "  </tbody>\n",
       "</table>\n",
       "</div>"
      ],
      "text/plain": [
       "          url  parsed_url\n",
       "label                    \n",
       "bad     91508       91508\n",
       "good   414286      414286"
      ]
     },
     "execution_count": 131,
     "metadata": {},
     "output_type": "execute_result"
    }
   ],
   "source": [
    "df.groupby(\"label\").count()"
   ]
  },
  {
   "cell_type": "markdown",
   "id": "1b8335e6-9b41-4371-9215-e805e04c8a83",
   "metadata": {},
   "source": [
    "## Obliczanie metryk"
   ]
  },
  {
   "cell_type": "code",
   "execution_count": 61,
   "id": "cdd95e58-a2dc-4a2b-960a-8e8a4889e745",
   "metadata": {},
   "outputs": [],
   "source": [
    "def count_special_symbols(domain):\n",
    "    counter = 0\n",
    "    for char in domain:\n",
    "        if char.isalpha() or char.isdigit():\n",
    "            continue\n",
    "        else:\n",
    "            counter += 1\n",
    "    return counter\n",
    "\n",
    "\n",
    "def count_digits(domain):\n",
    "    counter = 0\n",
    "    for char in domain:\n",
    "        if char.isdigit():\n",
    "            counter += 1\n",
    "    return counter\n"
   ]
  },
  {
   "cell_type": "code",
   "execution_count": 136,
   "id": "1b86caff-98d9-46b6-b9c3-506d5d7b2b27",
   "metadata": {},
   "outputs": [],
   "source": [
    "def calculate_metrics(df_):\n",
    "    \n",
    "    series = df_[\"url\"]\n",
    "    # Długość\n",
    "    length = series.apply(lambda x : len(x))\n",
    "    \n",
    "    # Ilość subdomen\n",
    "    nsubdomains = series.apply(lambda x : x.count('.'))\n",
    "    \n",
    "    # Średnia długość subdomen\n",
    "    meanlensubdomains = series.apply(lambda x : (len(x)-x.count('.'))/x.count('.'))\n",
    "    \n",
    "    # Ilość cyfr\n",
    "    ndigits = series.apply(lambda x : count_digits(x))\n",
    "    \n",
    "    # Ilość znaków specjalnych - kropki\n",
    "    nspecial = series.apply(lambda x : count_special_symbols(x) - x.count('.'))\n",
    "    \n",
    "    # Długość pierwszej ostatniej subdomeny\n",
    "    lastlen = series.apply(lambda x : len(x.split('.')[0]))\n",
    "    \n",
    "    # Popularność domeny\n",
    "    #df_[\"top\"] = df_[\"url\"].apply(lambda x : x.split('.')[-1])\n",
    "    #popularity =  df_.apply(lambda x : len( df_[(df_[\"top\"] == x.top) ]) , axis=1)\n",
    "    \n",
    "    return np.array([length, nsubdomains, meanlensubdomains, ndigits, nspecial, lastlen]).T"
   ]
  },
  {
   "cell_type": "markdown",
   "id": "edae9bfe-d36c-48d6-8784-2cfe3a77d785",
   "metadata": {},
   "source": [
    "# Trenowanie modelu"
   ]
  },
  {
   "cell_type": "code",
   "execution_count": 138,
   "id": "d44656e1-415c-4608-902c-5fa0dc31135d",
   "metadata": {},
   "outputs": [],
   "source": [
    "from sklearn.linear_model import LogisticRegression\n",
    "from sklearn.metrics import classification_report\n",
    "from sklearn.metrics import confusion_matrix\n",
    "from sklearn.model_selection import train_test_split\n",
    "\n",
    "dane = pd.DataFrame(df.iloc[:,[1,2]])\n",
    "dane.columns = [\"label\", \"url\"]\n",
    "features = calculate_metrics(dane)"
   ]
  },
  {
   "cell_type": "code",
   "execution_count": 140,
   "id": "84899692-c245-4651-ad8d-a96555cb9da3",
   "metadata": {},
   "outputs": [],
   "source": [
    "trainX, testX, trainY, testY = train_test_split(features, dane.label)"
   ]
  },
  {
   "cell_type": "code",
   "execution_count": 141,
   "id": "19e5cfb4-6f99-4744-92f9-0d4663d3d6d2",
   "metadata": {},
   "outputs": [
    {
     "name": "stdout",
     "output_type": "stream",
     "text": [
      "Score:  0.8314893751631093\n"
     ]
    }
   ],
   "source": [
    "## LogisticRegression\n",
    "lr = LogisticRegression(solver='saga',max_iter=350)\n",
    "lr.fit(trainX,trainY)\n",
    "\n",
    "print(\"Score: \",lr.score(testX,testY))"
   ]
  },
  {
   "cell_type": "code",
   "execution_count": 18,
   "id": "b2fb7772-fbf3-48d9-99b9-6c6fe60b6432",
   "metadata": {},
   "outputs": [],
   "source": [
    "from multiprocessing import  Pool\n",
    "import random\n",
    "def parallelize_dataframe(df__, func, n_cores=4):\n",
    "    df_split = np.array_split(df__, n_cores)\n",
    "    pool = Pool(n_cores)\n",
    "    df_ = pd.concat(pool.map(func, df_split))\n",
    "    pool.close()\n",
    "    pool.join()\n",
    "    return df_"
   ]
  },
  {
   "cell_type": "code",
   "execution_count": null,
   "id": "5daa1cc9-b73c-4498-9ef0-a21d647ebd9d",
   "metadata": {},
   "outputs": [],
   "source": [
    "get_best_lev_match(data)"
   ]
  },
  {
   "cell_type": "code",
   "execution_count": null,
   "id": "3cb5e20e-d31f-49cb-a720-7068f0c3843a",
   "metadata": {},
   "outputs": [],
   "source": [
    "train = parallelize_dataframe(data, get_best_lev_match,n_cores=16)"
   ]
  },
  {
   "cell_type": "code",
   "execution_count": 74,
   "id": "61943da9-5332-4bfc-8f37-4e5e1915a75c",
   "metadata": {},
   "outputs": [
    {
     "data": {
      "text/plain": [
       "Url(scheme=None, auth=None, host='pm137lodz.wikom.pl', port=None, path=None, query=None, fragment=None)"
      ]
     },
     "execution_count": 74,
     "metadata": {},
     "output_type": "execute_result"
    }
   ],
   "source": [
    "parse_url(\"pm137lodz.wikom.pl\")"
   ]
  },
  {
   "cell_type": "code",
   "execution_count": 95,
   "id": "b91357f8-45f6-43f9-954a-adbdbc96693c",
   "metadata": {},
   "outputs": [],
   "source": [
    "re.search(\"https?:?\\/\\/\", \"pm137lodz.wikom.pl\")"
   ]
  },
  {
   "cell_type": "code",
   "execution_count": null,
   "id": "abfd7753-f187-4f05-bed9-2b28cc7d4d01",
   "metadata": {},
   "outputs": [],
   "source": []
  }
 ],
 "metadata": {
  "kernelspec": {
   "display_name": "Python 3",
   "language": "python",
   "name": "python3"
  },
  "language_info": {
   "codemirror_mode": {
    "name": "ipython",
    "version": 3
   },
   "file_extension": ".py",
   "mimetype": "text/x-python",
   "name": "python",
   "nbconvert_exporter": "python",
   "pygments_lexer": "ipython3",
   "version": "3.9.5"
  }
 },
 "nbformat": 4,
 "nbformat_minor": 5
}
