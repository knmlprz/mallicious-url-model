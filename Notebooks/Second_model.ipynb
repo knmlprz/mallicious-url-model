{
 "cells": [
  {
   "cell_type": "code",
   "execution_count": 1,
   "id": "717d0493-1702-486d-82ac-daad4d130ef4",
   "metadata": {},
   "outputs": [],
   "source": [
    "# importing some useful libraries\n",
    "import pandas as pd\n",
    "import numpy as np\n",
    "import matplotlib.pyplot as plt\n",
    "import seaborn as sns  \n",
    "import time \n",
    "\n",
    "from sklearn.metrics import classification_report\n",
    "from sklearn.metrics import confusion_matrix\n",
    "from nltk.tokenize import RegexpTokenizer  \n",
    "from nltk.stem.snowball import SnowballStemmer\n",
    "from sklearn.feature_extraction.text import CountVectorizer  \n",
    "from sklearn.pipeline import make_pipeline\n",
    "\n",
    "from sklearn.model_selection import train_test_split\n",
    "from sklearn.linear_model import LogisticRegression\n",
    "\n",
    "\n",
    "from PIL import Image\n",
    "from wordcloud import WordCloud, STOPWORDS, ImageColorGenerator\n",
    "import pickle "
   ]
  },
  {
   "cell_type": "code",
   "execution_count": 2,
   "id": "a07417ba-996b-450a-b7ec-7b5c2ad44fd0",
   "metadata": {},
   "outputs": [],
   "source": [
    "model_file = \"../Dumps/model.sav\"\n",
    "scaler_file = \"../Dumps/scaler.sav\"\n",
    "encoder_file = \"../Dumps/encoder.sav\""
   ]
  },
  {
   "cell_type": "markdown",
   "id": "217ae9cf-d960-4126-ab95-82bdacbbef33",
   "metadata": {},
   "source": [
    "# Wczytywanie danych"
   ]
  },
  {
   "cell_type": "code",
   "execution_count": 3,
   "id": "1c014a61-53e0-4b90-a00d-3055b4554654",
   "metadata": {},
   "outputs": [
    {
     "name": "stdout",
     "output_type": "stream",
     "text": [
      "<class 'pandas.core.frame.DataFrame'>\n",
      "RangeIndex: 420464 entries, 0 to 420463\n",
      "Data columns (total 2 columns):\n",
      " #   Column  Non-Null Count   Dtype \n",
      "---  ------  --------------   ----- \n",
      " 0   url     420464 non-null  object\n",
      " 1   label   420464 non-null  object\n",
      "dtypes: object(2)\n",
      "memory usage: 6.4+ MB\n"
     ]
    }
   ],
   "source": [
    "kaggle = pd.read_csv(\"../Data/URLs-mixed/kaggle_labeled.csv\")\n",
    "kaggle.info()"
   ]
  },
  {
   "cell_type": "code",
   "execution_count": 4,
   "id": "03035d80-a30c-42bf-911f-c0fb4f2f29f1",
   "metadata": {},
   "outputs": [
    {
     "data": {
      "text/html": [
       "<div>\n",
       "<style scoped>\n",
       "    .dataframe tbody tr th:only-of-type {\n",
       "        vertical-align: middle;\n",
       "    }\n",
       "\n",
       "    .dataframe tbody tr th {\n",
       "        vertical-align: top;\n",
       "    }\n",
       "\n",
       "    .dataframe thead th {\n",
       "        text-align: right;\n",
       "    }\n",
       "</style>\n",
       "<table border=\"1\" class=\"dataframe\">\n",
       "  <thead>\n",
       "    <tr style=\"text-align: right;\">\n",
       "      <th></th>\n",
       "      <th>url</th>\n",
       "      <th>label</th>\n",
       "    </tr>\n",
       "  </thead>\n",
       "  <tbody>\n",
       "    <tr>\n",
       "      <th>0</th>\n",
       "      <td>diaryofagameaddict.com</td>\n",
       "      <td>bad</td>\n",
       "    </tr>\n",
       "    <tr>\n",
       "      <th>1</th>\n",
       "      <td>espdesign.com.au</td>\n",
       "      <td>bad</td>\n",
       "    </tr>\n",
       "    <tr>\n",
       "      <th>2</th>\n",
       "      <td>iamagameaddict.com</td>\n",
       "      <td>bad</td>\n",
       "    </tr>\n",
       "    <tr>\n",
       "      <th>3</th>\n",
       "      <td>kalantzis.net</td>\n",
       "      <td>bad</td>\n",
       "    </tr>\n",
       "    <tr>\n",
       "      <th>4</th>\n",
       "      <td>slightlyoffcenter.net</td>\n",
       "      <td>bad</td>\n",
       "    </tr>\n",
       "  </tbody>\n",
       "</table>\n",
       "</div>"
      ],
      "text/plain": [
       "                      url label\n",
       "0  diaryofagameaddict.com   bad\n",
       "1        espdesign.com.au   bad\n",
       "2      iamagameaddict.com   bad\n",
       "3           kalantzis.net   bad\n",
       "4   slightlyoffcenter.net   bad"
      ]
     },
     "execution_count": 4,
     "metadata": {},
     "output_type": "execute_result"
    }
   ],
   "source": [
    "kaggle.head()"
   ]
  },
  {
   "cell_type": "markdown",
   "id": "b4ce42ee-c6a3-48f9-9f8a-bf751ad5651a",
   "metadata": {},
   "source": [
    "## Dane polska"
   ]
  },
  {
   "cell_type": "code",
   "execution_count": 5,
   "id": "64cd3a3e-dece-4fdb-9899-fd116d30c283",
   "metadata": {},
   "outputs": [
    {
     "data": {
      "text/html": [
       "<div>\n",
       "<style scoped>\n",
       "    .dataframe tbody tr th:only-of-type {\n",
       "        vertical-align: middle;\n",
       "    }\n",
       "\n",
       "    .dataframe tbody tr th {\n",
       "        vertical-align: top;\n",
       "    }\n",
       "\n",
       "    .dataframe thead th {\n",
       "        text-align: right;\n",
       "    }\n",
       "</style>\n",
       "<table border=\"1\" class=\"dataframe\">\n",
       "  <thead>\n",
       "    <tr style=\"text-align: right;\">\n",
       "      <th></th>\n",
       "      <th>url</th>\n",
       "    </tr>\n",
       "  </thead>\n",
       "  <tbody>\n",
       "    <tr>\n",
       "      <th>0</th>\n",
       "      <td>http://1bcz.wp.mil.pl</td>\n",
       "    </tr>\n",
       "    <tr>\n",
       "      <th>1</th>\n",
       "      <td>http://1bdm.wp.mil.pl/pl/28.html</td>\n",
       "    </tr>\n",
       "  </tbody>\n",
       "</table>\n",
       "</div>"
      ],
      "text/plain": [
       "                                url\n",
       "0             http://1bcz.wp.mil.pl\n",
       "1  http://1bdm.wp.mil.pl/pl/28.html"
      ]
     },
     "execution_count": 5,
     "metadata": {},
     "output_type": "execute_result"
    }
   ],
   "source": [
    "gov = pd.read_csv(\"../Data/URLs-good/gov_poland.csv\", skiprows=2, sep=';', usecols=[1], names=[\"url\"])\n",
    "gov.head(2)"
   ]
  },
  {
   "cell_type": "code",
   "execution_count": 6,
   "id": "93363980-63c4-4248-b443-e5e684f05814",
   "metadata": {},
   "outputs": [
    {
     "data": {
      "text/html": [
       "<div>\n",
       "<style scoped>\n",
       "    .dataframe tbody tr th:only-of-type {\n",
       "        vertical-align: middle;\n",
       "    }\n",
       "\n",
       "    .dataframe tbody tr th {\n",
       "        vertical-align: top;\n",
       "    }\n",
       "\n",
       "    .dataframe thead th {\n",
       "        text-align: right;\n",
       "    }\n",
       "</style>\n",
       "<table border=\"1\" class=\"dataframe\">\n",
       "  <thead>\n",
       "    <tr style=\"text-align: right;\">\n",
       "      <th></th>\n",
       "      <th>url</th>\n",
       "      <th>label</th>\n",
       "    </tr>\n",
       "  </thead>\n",
       "  <tbody>\n",
       "    <tr>\n",
       "      <th>0</th>\n",
       "      <td>http://1bcz.wp.mil.pl</td>\n",
       "      <td>good</td>\n",
       "    </tr>\n",
       "    <tr>\n",
       "      <th>1</th>\n",
       "      <td>http://1bdm.wp.mil.pl/pl/28.html</td>\n",
       "      <td>good</td>\n",
       "    </tr>\n",
       "  </tbody>\n",
       "</table>\n",
       "</div>"
      ],
      "text/plain": [
       "                                url label\n",
       "0             http://1bcz.wp.mil.pl  good\n",
       "1  http://1bdm.wp.mil.pl/pl/28.html  good"
      ]
     },
     "execution_count": 6,
     "metadata": {},
     "output_type": "execute_result"
    }
   ],
   "source": [
    "gov[\"url\"] = gov[\"url\"].astype(str)\n",
    "gov[\"label\"] = \"good\"\n",
    "gov.head(2)"
   ]
  },
  {
   "cell_type": "markdown",
   "id": "c5af40f9-8217-4e63-a5f0-93b8c7236b5f",
   "metadata": {},
   "source": [
    "## Dane cert"
   ]
  },
  {
   "cell_type": "code",
   "execution_count": 7,
   "id": "495adb11-c2da-4894-9669-7d352fef866e",
   "metadata": {},
   "outputs": [
    {
     "data": {
      "text/html": [
       "<div>\n",
       "<style scoped>\n",
       "    .dataframe tbody tr th:only-of-type {\n",
       "        vertical-align: middle;\n",
       "    }\n",
       "\n",
       "    .dataframe tbody tr th {\n",
       "        vertical-align: top;\n",
       "    }\n",
       "\n",
       "    .dataframe thead th {\n",
       "        text-align: right;\n",
       "    }\n",
       "</style>\n",
       "<table border=\"1\" class=\"dataframe\">\n",
       "  <thead>\n",
       "    <tr style=\"text-align: right;\">\n",
       "      <th></th>\n",
       "      <th>url</th>\n",
       "    </tr>\n",
       "  </thead>\n",
       "  <tbody>\n",
       "    <tr>\n",
       "      <th>0</th>\n",
       "      <td>008753331120.com</td>\n",
       "    </tr>\n",
       "    <tr>\n",
       "      <th>1</th>\n",
       "      <td>02-wiadomosci.com.pl</td>\n",
       "    </tr>\n",
       "  </tbody>\n",
       "</table>\n",
       "</div>"
      ],
      "text/plain": [
       "                    url\n",
       "0      008753331120.com\n",
       "1  02-wiadomosci.com.pl"
      ]
     },
     "execution_count": 7,
     "metadata": {},
     "output_type": "execute_result"
    }
   ],
   "source": [
    "cert = pd.read_csv(\"https://hole.cert.pl/domains/domains.txt\", names=[\"url\"])\n",
    "cert.head(2)"
   ]
  },
  {
   "cell_type": "code",
   "execution_count": 8,
   "id": "0d07a82c-a3f0-4d60-b094-0ecf13af6142",
   "metadata": {},
   "outputs": [
    {
     "data": {
      "text/html": [
       "<div>\n",
       "<style scoped>\n",
       "    .dataframe tbody tr th:only-of-type {\n",
       "        vertical-align: middle;\n",
       "    }\n",
       "\n",
       "    .dataframe tbody tr th {\n",
       "        vertical-align: top;\n",
       "    }\n",
       "\n",
       "    .dataframe thead th {\n",
       "        text-align: right;\n",
       "    }\n",
       "</style>\n",
       "<table border=\"1\" class=\"dataframe\">\n",
       "  <thead>\n",
       "    <tr style=\"text-align: right;\">\n",
       "      <th></th>\n",
       "      <th>url</th>\n",
       "      <th>label</th>\n",
       "    </tr>\n",
       "  </thead>\n",
       "  <tbody>\n",
       "    <tr>\n",
       "      <th>0</th>\n",
       "      <td>008753331120.com</td>\n",
       "      <td>bad</td>\n",
       "    </tr>\n",
       "    <tr>\n",
       "      <th>1</th>\n",
       "      <td>02-wiadomosci.com.pl</td>\n",
       "      <td>bad</td>\n",
       "    </tr>\n",
       "  </tbody>\n",
       "</table>\n",
       "</div>"
      ],
      "text/plain": [
       "                    url label\n",
       "0      008753331120.com   bad\n",
       "1  02-wiadomosci.com.pl   bad"
      ]
     },
     "execution_count": 8,
     "metadata": {},
     "output_type": "execute_result"
    }
   ],
   "source": [
    "cert[\"url\"] = cert[\"url\"].astype(str)\n",
    "cert[\"label\"] = \"bad\"\n",
    "cert.head(2)"
   ]
  },
  {
   "cell_type": "markdown",
   "id": "2167512c-8a68-492e-bd15-e852229e7b11",
   "metadata": {},
   "source": [
    "## Dane alexa"
   ]
  },
  {
   "cell_type": "code",
   "execution_count": 9,
   "id": "2e98b6e4-f523-46fa-a4ea-2e5c7f06ee7b",
   "metadata": {},
   "outputs": [
    {
     "data": {
      "text/html": [
       "<div>\n",
       "<style scoped>\n",
       "    .dataframe tbody tr th:only-of-type {\n",
       "        vertical-align: middle;\n",
       "    }\n",
       "\n",
       "    .dataframe tbody tr th {\n",
       "        vertical-align: top;\n",
       "    }\n",
       "\n",
       "    .dataframe thead th {\n",
       "        text-align: right;\n",
       "    }\n",
       "</style>\n",
       "<table border=\"1\" class=\"dataframe\">\n",
       "  <thead>\n",
       "    <tr style=\"text-align: right;\">\n",
       "      <th></th>\n",
       "      <th>url</th>\n",
       "      <th>label</th>\n",
       "    </tr>\n",
       "  </thead>\n",
       "  <tbody>\n",
       "    <tr>\n",
       "      <th>1</th>\n",
       "      <td>https://www.google.com</td>\n",
       "      <td>good</td>\n",
       "    </tr>\n",
       "    <tr>\n",
       "      <th>2</th>\n",
       "      <td>https://www.youtube.com</td>\n",
       "      <td>good</td>\n",
       "    </tr>\n",
       "    <tr>\n",
       "      <th>3</th>\n",
       "      <td>https://www.tmall.com</td>\n",
       "      <td>good</td>\n",
       "    </tr>\n",
       "    <tr>\n",
       "      <th>4</th>\n",
       "      <td>https://www.baidu.com</td>\n",
       "      <td>good</td>\n",
       "    </tr>\n",
       "    <tr>\n",
       "      <th>5</th>\n",
       "      <td>https://www.qq.com</td>\n",
       "      <td>good</td>\n",
       "    </tr>\n",
       "  </tbody>\n",
       "</table>\n",
       "</div>"
      ],
      "text/plain": [
       "                       url label\n",
       "1   https://www.google.com  good\n",
       "2  https://www.youtube.com  good\n",
       "3    https://www.tmall.com  good\n",
       "4    https://www.baidu.com  good\n",
       "5       https://www.qq.com  good"
      ]
     },
     "execution_count": 9,
     "metadata": {},
     "output_type": "execute_result"
    }
   ],
   "source": [
    "alexa = pd.read_csv(\"../Data/URLs-good/alexa1m.csv\", names=[\"url\"])\n",
    "alexa = alexa.iloc[0:10000,:]\n",
    "alexa[\"url\"] = alexa[\"url\"].apply(lambda x : \"https://www.\" + x)\n",
    "alexa[\"label\"] = \"good\"\n",
    "alexa.head(5)"
   ]
  },
  {
   "cell_type": "markdown",
   "id": "2bbea1a4-ed8b-414e-a921-21ee3a7995e7",
   "metadata": {},
   "source": [
    "## Dane ISCX"
   ]
  },
  {
   "cell_type": "code",
   "execution_count": 10,
   "id": "95dfc878-3e3f-4c84-95eb-2a7484e02b34",
   "metadata": {},
   "outputs": [
    {
     "data": {
      "text/html": [
       "<div>\n",
       "<style scoped>\n",
       "    .dataframe tbody tr th:only-of-type {\n",
       "        vertical-align: middle;\n",
       "    }\n",
       "\n",
       "    .dataframe tbody tr th {\n",
       "        vertical-align: top;\n",
       "    }\n",
       "\n",
       "    .dataframe thead th {\n",
       "        text-align: right;\n",
       "    }\n",
       "</style>\n",
       "<table border=\"1\" class=\"dataframe\">\n",
       "  <thead>\n",
       "    <tr style=\"text-align: right;\">\n",
       "      <th></th>\n",
       "      <th>url</th>\n",
       "      <th>label</th>\n",
       "    </tr>\n",
       "  </thead>\n",
       "  <tbody>\n",
       "    <tr>\n",
       "      <th>0</th>\n",
       "      <td>http://1337x.to/torrent/1048648/American-Snipe...</td>\n",
       "      <td>good</td>\n",
       "    </tr>\n",
       "    <tr>\n",
       "      <th>1</th>\n",
       "      <td>http://1337x.to/torrent/1110018/Blackhat-2015-...</td>\n",
       "      <td>good</td>\n",
       "    </tr>\n",
       "    <tr>\n",
       "      <th>2</th>\n",
       "      <td>http://1337x.to/torrent/1122940/Blackhat-2015-...</td>\n",
       "      <td>good</td>\n",
       "    </tr>\n",
       "    <tr>\n",
       "      <th>3</th>\n",
       "      <td>http://1337x.to/torrent/1124395/Fast-and-Furio...</td>\n",
       "      <td>good</td>\n",
       "    </tr>\n",
       "    <tr>\n",
       "      <th>4</th>\n",
       "      <td>http://1337x.to/torrent/1145504/Avengers-Age-o...</td>\n",
       "      <td>good</td>\n",
       "    </tr>\n",
       "    <tr>\n",
       "      <th>...</th>\n",
       "      <td>...</td>\n",
       "      <td>...</td>\n",
       "    </tr>\n",
       "    <tr>\n",
       "      <th>35373</th>\n",
       "      <td>https://lastpass.com/signup2.php?ac=1&amp;from_uri...</td>\n",
       "      <td>good</td>\n",
       "    </tr>\n",
       "    <tr>\n",
       "      <th>35374</th>\n",
       "      <td>https://lastpass.com/signup2.php?ac=1&amp;from_uri...</td>\n",
       "      <td>good</td>\n",
       "    </tr>\n",
       "    <tr>\n",
       "      <th>35375</th>\n",
       "      <td>https://lastpass.com/signup2.php?ac=1&amp;from_uri...</td>\n",
       "      <td>good</td>\n",
       "    </tr>\n",
       "    <tr>\n",
       "      <th>35376</th>\n",
       "      <td>https://lastpass.com/signup2.php?ac=1&amp;from_uri...</td>\n",
       "      <td>good</td>\n",
       "    </tr>\n",
       "    <tr>\n",
       "      <th>35377</th>\n",
       "      <td>https://asana.com/guide/videos/%22//fast.wisti...</td>\n",
       "      <td>good</td>\n",
       "    </tr>\n",
       "  </tbody>\n",
       "</table>\n",
       "<p>35378 rows × 2 columns</p>\n",
       "</div>"
      ],
      "text/plain": [
       "                                                     url label\n",
       "0      http://1337x.to/torrent/1048648/American-Snipe...  good\n",
       "1      http://1337x.to/torrent/1110018/Blackhat-2015-...  good\n",
       "2      http://1337x.to/torrent/1122940/Blackhat-2015-...  good\n",
       "3      http://1337x.to/torrent/1124395/Fast-and-Furio...  good\n",
       "4      http://1337x.to/torrent/1145504/Avengers-Age-o...  good\n",
       "...                                                  ...   ...\n",
       "35373  https://lastpass.com/signup2.php?ac=1&from_uri...  good\n",
       "35374  https://lastpass.com/signup2.php?ac=1&from_uri...  good\n",
       "35375  https://lastpass.com/signup2.php?ac=1&from_uri...  good\n",
       "35376  https://lastpass.com/signup2.php?ac=1&from_uri...  good\n",
       "35377  https://asana.com/guide/videos/%22//fast.wisti...  good\n",
       "\n",
       "[35378 rows x 2 columns]"
      ]
     },
     "execution_count": 10,
     "metadata": {},
     "output_type": "execute_result"
    }
   ],
   "source": [
    "iscx = pd.read_csv(\"../Data/URLs-good/ISCX_benign.csv\", names=[\"url\"])\n",
    "iscx['label'] = \"good\"\n",
    "iscx"
   ]
  },
  {
   "cell_type": "code",
   "execution_count": 11,
   "id": "db793c12-7701-46fd-be8b-4fefa8e5b740",
   "metadata": {},
   "outputs": [
    {
     "data": {
      "text/html": [
       "<div>\n",
       "<style scoped>\n",
       "    .dataframe tbody tr th:only-of-type {\n",
       "        vertical-align: middle;\n",
       "    }\n",
       "\n",
       "    .dataframe tbody tr th {\n",
       "        vertical-align: top;\n",
       "    }\n",
       "\n",
       "    .dataframe thead th {\n",
       "        text-align: right;\n",
       "    }\n",
       "</style>\n",
       "<table border=\"1\" class=\"dataframe\">\n",
       "  <thead>\n",
       "    <tr style=\"text-align: right;\">\n",
       "      <th></th>\n",
       "      <th>url</th>\n",
       "      <th>label</th>\n",
       "    </tr>\n",
       "  </thead>\n",
       "  <tbody>\n",
       "    <tr>\n",
       "      <th>0</th>\n",
       "      <td>inpost.pl-paydelivery.cyou</td>\n",
       "      <td>bad</td>\n",
       "    </tr>\n",
       "    <tr>\n",
       "      <th>1</th>\n",
       "      <td>inpost.pl-paydelivery.work</td>\n",
       "      <td>bad</td>\n",
       "    </tr>\n",
       "    <tr>\n",
       "      <th>2</th>\n",
       "      <td>inpost.pl-paydelivery.xyz</td>\n",
       "      <td>bad</td>\n",
       "    </tr>\n",
       "    <tr>\n",
       "      <th>3</th>\n",
       "      <td>www.inpost.new-pl-oferta.cyou</td>\n",
       "      <td>bad</td>\n",
       "    </tr>\n",
       "    <tr>\n",
       "      <th>4</th>\n",
       "      <td>inpost.new-pl-oferta.casa</td>\n",
       "      <td>bad</td>\n",
       "    </tr>\n",
       "    <tr>\n",
       "      <th>...</th>\n",
       "      <td>...</td>\n",
       "      <td>...</td>\n",
       "    </tr>\n",
       "    <tr>\n",
       "      <th>15271</th>\n",
       "      <td>https://www.vdtpt.com/login.php</td>\n",
       "      <td>bad</td>\n",
       "    </tr>\n",
       "    <tr>\n",
       "      <th>15272</th>\n",
       "      <td>https://login-live-comjobmen.s3.us-east-2.amaz...</td>\n",
       "      <td>bad</td>\n",
       "    </tr>\n",
       "    <tr>\n",
       "      <th>15273</th>\n",
       "      <td>https://pssmedicareworkshop.com/login.php?cmd=...</td>\n",
       "      <td>bad</td>\n",
       "    </tr>\n",
       "    <tr>\n",
       "      <th>15274</th>\n",
       "      <td>http://bsmcing.lh52.cn/</td>\n",
       "      <td>bad</td>\n",
       "    </tr>\n",
       "    <tr>\n",
       "      <th>15275</th>\n",
       "      <td>http://www.mu.fg-jp.vip/</td>\n",
       "      <td>bad</td>\n",
       "    </tr>\n",
       "  </tbody>\n",
       "</table>\n",
       "<p>15276 rows × 2 columns</p>\n",
       "</div>"
      ],
      "text/plain": [
       "                                                     url label\n",
       "0                             inpost.pl-paydelivery.cyou   bad\n",
       "1                             inpost.pl-paydelivery.work   bad\n",
       "2                              inpost.pl-paydelivery.xyz   bad\n",
       "3                          www.inpost.new-pl-oferta.cyou   bad\n",
       "4                              inpost.new-pl-oferta.casa   bad\n",
       "...                                                  ...   ...\n",
       "15271                    https://www.vdtpt.com/login.php   bad\n",
       "15272  https://login-live-comjobmen.s3.us-east-2.amaz...   bad\n",
       "15273  https://pssmedicareworkshop.com/login.php?cmd=...   bad\n",
       "15274                            http://bsmcing.lh52.cn/   bad\n",
       "15275                           http://www.mu.fg-jp.vip/   bad\n",
       "\n",
       "[15276 rows x 2 columns]"
      ]
     },
     "execution_count": 11,
     "metadata": {},
     "output_type": "execute_result"
    }
   ],
   "source": [
    "bad = pd.read_csv(\"../Data/unique_bad_links.csv\")\n",
    "bad = pd.DataFrame(bad.domain)\n",
    "bad.columns = ['url']\n",
    "bad['label'] = \"bad\"\n",
    "bad"
   ]
  },
  {
   "cell_type": "markdown",
   "id": "2e8964c9-110b-420c-9aab-44294cc7d3a4",
   "metadata": {},
   "source": [
    "## Łączenie danych"
   ]
  },
  {
   "cell_type": "code",
   "execution_count": 12,
   "id": "149b6ade-6a8c-4910-b5c9-217f7193f349",
   "metadata": {},
   "outputs": [
    {
     "data": {
      "text/html": [
       "<div>\n",
       "<style scoped>\n",
       "    .dataframe tbody tr th:only-of-type {\n",
       "        vertical-align: middle;\n",
       "    }\n",
       "\n",
       "    .dataframe tbody tr th {\n",
       "        vertical-align: top;\n",
       "    }\n",
       "\n",
       "    .dataframe thead th {\n",
       "        text-align: right;\n",
       "    }\n",
       "</style>\n",
       "<table border=\"1\" class=\"dataframe\">\n",
       "  <thead>\n",
       "    <tr style=\"text-align: right;\">\n",
       "      <th></th>\n",
       "      <th>url</th>\n",
       "      <th>label</th>\n",
       "    </tr>\n",
       "  </thead>\n",
       "  <tbody>\n",
       "    <tr>\n",
       "      <th>1</th>\n",
       "      <td>https://www.google.com</td>\n",
       "      <td>good</td>\n",
       "    </tr>\n",
       "    <tr>\n",
       "      <th>2</th>\n",
       "      <td>https://www.youtube.com</td>\n",
       "      <td>good</td>\n",
       "    </tr>\n",
       "  </tbody>\n",
       "</table>\n",
       "</div>"
      ],
      "text/plain": [
       "                       url label\n",
       "1   https://www.google.com  good\n",
       "2  https://www.youtube.com  good"
      ]
     },
     "execution_count": 12,
     "metadata": {},
     "output_type": "execute_result"
    }
   ],
   "source": [
    "df = pd.concat([alexa, iscx, bad])\n",
    "df.head(2)"
   ]
  },
  {
   "cell_type": "code",
   "execution_count": 13,
   "id": "aebb3320-6d2f-4239-a0b1-80d818d0ac8d",
   "metadata": {},
   "outputs": [],
   "source": [
    "df[\"url\"] = df.url.astype(str)"
   ]
  },
  {
   "cell_type": "markdown",
   "id": "68aa1bab-f9bd-4d75-9694-1e2b2173d2fb",
   "metadata": {},
   "source": [
    "# Trenowanie modelu"
   ]
  },
  {
   "cell_type": "markdown",
   "id": "c5147e20-db3a-4a04-b5d3-06fc72407ccd",
   "metadata": {},
   "source": [
    "Ciekawe: niektóre linki zaczynają się od **http** co jest bardzo podejrzane. "
   ]
  },
  {
   "cell_type": "code",
   "execution_count": 14,
   "id": "12fd67e8-bfe3-4e68-b722-e585780432de",
   "metadata": {},
   "outputs": [],
   "source": [
    "#df = df[df[\"url\"].str.startswith(\"http\")].reset_index()"
   ]
  },
  {
   "cell_type": "markdown",
   "id": "9f135a43-6b50-43d7-8bbd-05687b8310ab",
   "metadata": {},
   "source": [
    "## Czyszczenie danych"
   ]
  },
  {
   "cell_type": "code",
   "execution_count": 15,
   "id": "5a963f18-d6b8-4274-af5a-245ca1e1b02b",
   "metadata": {},
   "outputs": [],
   "source": [
    "from urllib3.util import parse_url\n",
    "import re\n",
    "\n",
    "def parseurl(url):\n",
    "    try:\n",
    "        url = url.translate({'[': None, ']': None})\n",
    "        url = parse_url(url)\n",
    "        return url\n",
    "    except Exception as e:\n",
    "        return np.nan\n",
    "    \n",
    "def parseurl2(url):\n",
    "    try:\n",
    "        url = url.translate({'[': \"\", ']': \"\"})\n",
    "        h = re.search(\"https?:?//\", url)\n",
    "        if h is not None:\n",
    "            url = url[:h.start()] + url[h.end():]\n",
    "        url = str(parse_url(url).host)\n",
    "        \n",
    "        if url.count('.') == 0:\n",
    "            return np.nan\n",
    "        else:\n",
    "            return url\n",
    "    except:\n",
    "        return np.nan\n",
    "    "
   ]
  },
  {
   "cell_type": "code",
   "execution_count": 16,
   "id": "43ab7461-93ac-41d1-b3e0-b4efe55ee970",
   "metadata": {},
   "outputs": [],
   "source": [
    "df['parsed_url'] = df.url.apply(lambda x : parseurl(x))"
   ]
  },
  {
   "cell_type": "code",
   "execution_count": 17,
   "id": "dbfe011b-b144-433b-9c99-990c3493dcc1",
   "metadata": {},
   "outputs": [
    {
     "data": {
      "text/html": [
       "<div>\n",
       "<style scoped>\n",
       "    .dataframe tbody tr th:only-of-type {\n",
       "        vertical-align: middle;\n",
       "    }\n",
       "\n",
       "    .dataframe tbody tr th {\n",
       "        vertical-align: top;\n",
       "    }\n",
       "\n",
       "    .dataframe thead th {\n",
       "        text-align: right;\n",
       "    }\n",
       "</style>\n",
       "<table border=\"1\" class=\"dataframe\">\n",
       "  <thead>\n",
       "    <tr style=\"text-align: right;\">\n",
       "      <th></th>\n",
       "      <th>url</th>\n",
       "      <th>parsed_url</th>\n",
       "    </tr>\n",
       "    <tr>\n",
       "      <th>label</th>\n",
       "      <th></th>\n",
       "      <th></th>\n",
       "    </tr>\n",
       "  </thead>\n",
       "  <tbody>\n",
       "    <tr>\n",
       "      <th>bad</th>\n",
       "      <td>15276</td>\n",
       "      <td>15276</td>\n",
       "    </tr>\n",
       "    <tr>\n",
       "      <th>good</th>\n",
       "      <td>45378</td>\n",
       "      <td>45378</td>\n",
       "    </tr>\n",
       "  </tbody>\n",
       "</table>\n",
       "</div>"
      ],
      "text/plain": [
       "         url  parsed_url\n",
       "label                   \n",
       "bad    15276       15276\n",
       "good   45378       45378"
      ]
     },
     "execution_count": 17,
     "metadata": {},
     "output_type": "execute_result"
    }
   ],
   "source": [
    "df.groupby(\"label\").count()"
   ]
  },
  {
   "cell_type": "code",
   "execution_count": 18,
   "id": "654b2429-3e06-459a-b72e-6c9fbbb52828",
   "metadata": {},
   "outputs": [],
   "source": [
    "df.dropna(inplace=True)"
   ]
  },
  {
   "cell_type": "code",
   "execution_count": 19,
   "id": "43958731-2f88-48d3-a930-3210310f5c1a",
   "metadata": {},
   "outputs": [],
   "source": [
    "df = df.reset_index()"
   ]
  },
  {
   "cell_type": "code",
   "execution_count": 20,
   "id": "e6c88cc6-7d77-42cf-834c-56cd89da5439",
   "metadata": {},
   "outputs": [],
   "source": [
    "u = df.url.apply(lambda x : list(parseurl(x)))"
   ]
  },
  {
   "cell_type": "code",
   "execution_count": 21,
   "id": "03377fff-4c14-4f14-a267-14b6865e84b2",
   "metadata": {},
   "outputs": [
    {
     "data": {
      "text/plain": [
       "Url(scheme='https', auth=None, host='goog.lp', port=None, path=None, query=None, fragment=None)"
      ]
     },
     "execution_count": 21,
     "metadata": {},
     "output_type": "execute_result"
    }
   ],
   "source": [
    "parseurl(\"https://goog.lp\")"
   ]
  },
  {
   "cell_type": "code",
   "execution_count": 22,
   "id": "8f86b2da-5988-4c7c-9cfb-43f9564b0aa2",
   "metadata": {},
   "outputs": [],
   "source": [
    "df['schema'] = u.apply(lambda x : x[0])\n",
    "df['auth'] = u.apply(lambda x : x[1])\n",
    "df['host'] = u.apply(lambda x : x[2])\n",
    "df['port'] = u.apply(lambda x : x[3])\n",
    "df['path'] = u.apply(lambda x : x[4])\n",
    "df['query'] = u.apply(lambda x : x[5])\n",
    "df['fragment'] = u.apply(lambda x : x[6])"
   ]
  },
  {
   "cell_type": "code",
   "execution_count": 23,
   "id": "966b055a-d563-4a7c-9168-f546b0aec25d",
   "metadata": {},
   "outputs": [],
   "source": [
    "df = df[df['host'].notna()]"
   ]
  },
  {
   "cell_type": "code",
   "execution_count": 24,
   "id": "10fafce2-3d1a-46aa-95c1-cbd02ab48fb2",
   "metadata": {},
   "outputs": [
    {
     "data": {
      "text/html": [
       "<div>\n",
       "<style scoped>\n",
       "    .dataframe tbody tr th:only-of-type {\n",
       "        vertical-align: middle;\n",
       "    }\n",
       "\n",
       "    .dataframe tbody tr th {\n",
       "        vertical-align: top;\n",
       "    }\n",
       "\n",
       "    .dataframe thead th {\n",
       "        text-align: right;\n",
       "    }\n",
       "</style>\n",
       "<table border=\"1\" class=\"dataframe\">\n",
       "  <thead>\n",
       "    <tr style=\"text-align: right;\">\n",
       "      <th></th>\n",
       "      <th>index</th>\n",
       "      <th>url</th>\n",
       "      <th>label</th>\n",
       "      <th>parsed_url</th>\n",
       "      <th>schema</th>\n",
       "      <th>auth</th>\n",
       "      <th>host</th>\n",
       "      <th>port</th>\n",
       "      <th>path</th>\n",
       "      <th>query</th>\n",
       "      <th>fragment</th>\n",
       "    </tr>\n",
       "  </thead>\n",
       "  <tbody>\n",
       "    <tr>\n",
       "      <th>0</th>\n",
       "      <td>1</td>\n",
       "      <td>https://www.google.com</td>\n",
       "      <td>good</td>\n",
       "      <td>(https, None, www.google.com, None, None, None...</td>\n",
       "      <td>https</td>\n",
       "      <td>None</td>\n",
       "      <td>www.google.com</td>\n",
       "      <td>NaN</td>\n",
       "      <td>None</td>\n",
       "      <td>None</td>\n",
       "      <td>None</td>\n",
       "    </tr>\n",
       "    <tr>\n",
       "      <th>1</th>\n",
       "      <td>2</td>\n",
       "      <td>https://www.youtube.com</td>\n",
       "      <td>good</td>\n",
       "      <td>(https, None, www.youtube.com, None, None, Non...</td>\n",
       "      <td>https</td>\n",
       "      <td>None</td>\n",
       "      <td>www.youtube.com</td>\n",
       "      <td>NaN</td>\n",
       "      <td>None</td>\n",
       "      <td>None</td>\n",
       "      <td>None</td>\n",
       "    </tr>\n",
       "    <tr>\n",
       "      <th>2</th>\n",
       "      <td>3</td>\n",
       "      <td>https://www.tmall.com</td>\n",
       "      <td>good</td>\n",
       "      <td>(https, None, www.tmall.com, None, None, None,...</td>\n",
       "      <td>https</td>\n",
       "      <td>None</td>\n",
       "      <td>www.tmall.com</td>\n",
       "      <td>NaN</td>\n",
       "      <td>None</td>\n",
       "      <td>None</td>\n",
       "      <td>None</td>\n",
       "    </tr>\n",
       "    <tr>\n",
       "      <th>3</th>\n",
       "      <td>4</td>\n",
       "      <td>https://www.baidu.com</td>\n",
       "      <td>good</td>\n",
       "      <td>(https, None, www.baidu.com, None, None, None,...</td>\n",
       "      <td>https</td>\n",
       "      <td>None</td>\n",
       "      <td>www.baidu.com</td>\n",
       "      <td>NaN</td>\n",
       "      <td>None</td>\n",
       "      <td>None</td>\n",
       "      <td>None</td>\n",
       "    </tr>\n",
       "    <tr>\n",
       "      <th>4</th>\n",
       "      <td>5</td>\n",
       "      <td>https://www.qq.com</td>\n",
       "      <td>good</td>\n",
       "      <td>(https, None, www.qq.com, None, None, None, None)</td>\n",
       "      <td>https</td>\n",
       "      <td>None</td>\n",
       "      <td>www.qq.com</td>\n",
       "      <td>NaN</td>\n",
       "      <td>None</td>\n",
       "      <td>None</td>\n",
       "      <td>None</td>\n",
       "    </tr>\n",
       "  </tbody>\n",
       "</table>\n",
       "</div>"
      ],
      "text/plain": [
       "   index                      url label  \\\n",
       "0      1   https://www.google.com  good   \n",
       "1      2  https://www.youtube.com  good   \n",
       "2      3    https://www.tmall.com  good   \n",
       "3      4    https://www.baidu.com  good   \n",
       "4      5       https://www.qq.com  good   \n",
       "\n",
       "                                          parsed_url schema  auth  \\\n",
       "0  (https, None, www.google.com, None, None, None...  https  None   \n",
       "1  (https, None, www.youtube.com, None, None, Non...  https  None   \n",
       "2  (https, None, www.tmall.com, None, None, None,...  https  None   \n",
       "3  (https, None, www.baidu.com, None, None, None,...  https  None   \n",
       "4  (https, None, www.qq.com, None, None, None, None)  https  None   \n",
       "\n",
       "              host  port  path query fragment  \n",
       "0   www.google.com   NaN  None  None     None  \n",
       "1  www.youtube.com   NaN  None  None     None  \n",
       "2    www.tmall.com   NaN  None  None     None  \n",
       "3    www.baidu.com   NaN  None  None     None  \n",
       "4       www.qq.com   NaN  None  None     None  "
      ]
     },
     "execution_count": 24,
     "metadata": {},
     "output_type": "execute_result"
    }
   ],
   "source": [
    "df.head(5)"
   ]
  },
  {
   "cell_type": "code",
   "execution_count": 25,
   "id": "81a5fc87-f9d6-45e2-a984-9e629c94e590",
   "metadata": {},
   "outputs": [
    {
     "data": {
      "text/html": [
       "<div>\n",
       "<style scoped>\n",
       "    .dataframe tbody tr th:only-of-type {\n",
       "        vertical-align: middle;\n",
       "    }\n",
       "\n",
       "    .dataframe tbody tr th {\n",
       "        vertical-align: top;\n",
       "    }\n",
       "\n",
       "    .dataframe thead th {\n",
       "        text-align: right;\n",
       "    }\n",
       "</style>\n",
       "<table border=\"1\" class=\"dataframe\">\n",
       "  <thead>\n",
       "    <tr style=\"text-align: right;\">\n",
       "      <th></th>\n",
       "      <th>index</th>\n",
       "      <th>url</th>\n",
       "      <th>parsed_url</th>\n",
       "      <th>schema</th>\n",
       "      <th>auth</th>\n",
       "      <th>host</th>\n",
       "      <th>port</th>\n",
       "      <th>path</th>\n",
       "      <th>query</th>\n",
       "      <th>fragment</th>\n",
       "    </tr>\n",
       "    <tr>\n",
       "      <th>label</th>\n",
       "      <th></th>\n",
       "      <th></th>\n",
       "      <th></th>\n",
       "      <th></th>\n",
       "      <th></th>\n",
       "      <th></th>\n",
       "      <th></th>\n",
       "      <th></th>\n",
       "      <th></th>\n",
       "      <th></th>\n",
       "    </tr>\n",
       "  </thead>\n",
       "  <tbody>\n",
       "    <tr>\n",
       "      <th>bad</th>\n",
       "      <td>15276</td>\n",
       "      <td>15276</td>\n",
       "      <td>15276</td>\n",
       "      <td>2102</td>\n",
       "      <td>0</td>\n",
       "      <td>15276</td>\n",
       "      <td>1</td>\n",
       "      <td>2102</td>\n",
       "      <td>319</td>\n",
       "      <td>3</td>\n",
       "    </tr>\n",
       "    <tr>\n",
       "      <th>good</th>\n",
       "      <td>45378</td>\n",
       "      <td>45378</td>\n",
       "      <td>45378</td>\n",
       "      <td>45378</td>\n",
       "      <td>0</td>\n",
       "      <td>45378</td>\n",
       "      <td>0</td>\n",
       "      <td>35378</td>\n",
       "      <td>9675</td>\n",
       "      <td>0</td>\n",
       "    </tr>\n",
       "  </tbody>\n",
       "</table>\n",
       "</div>"
      ],
      "text/plain": [
       "       index    url  parsed_url  schema  auth   host  port   path  query  \\\n",
       "label                                                                      \n",
       "bad    15276  15276       15276    2102     0  15276     1   2102    319   \n",
       "good   45378  45378       45378   45378     0  45378     0  35378   9675   \n",
       "\n",
       "       fragment  \n",
       "label            \n",
       "bad           3  \n",
       "good          0  "
      ]
     },
     "execution_count": 25,
     "metadata": {},
     "output_type": "execute_result"
    }
   ],
   "source": [
    "df.groupby(\"label\").count()"
   ]
  },
  {
   "cell_type": "markdown",
   "id": "1b8335e6-9b41-4371-9215-e805e04c8a83",
   "metadata": {},
   "source": [
    "## Obliczanie metryk"
   ]
  },
  {
   "cell_type": "markdown",
   "id": "94be1819-73b5-4895-95f7-13ed990d82a3",
   "metadata": {},
   "source": [
    "### Popularność domeny"
   ]
  },
  {
   "cell_type": "markdown",
   "id": "503481cd-8506-4ef5-a1fd-f21207326fab",
   "metadata": {},
   "source": [
    "df['domain'] = df[\"url\"].str.split('.', n=1, expand=True)[1]\n",
    "count = df.groupby([\"domain\"]).count().reset_index().iloc[:, [0,1]]\n",
    "count.columns = [\"domain\", \"count\"]\n",
    "df= df.merge(count,on=[\"domain\"])"
   ]
  },
  {
   "cell_type": "code",
   "execution_count": 26,
   "id": "7f4590d5-0546-4069-a1de-ba80ba0260d1",
   "metadata": {},
   "outputs": [
    {
     "data": {
      "text/html": [
       "<div>\n",
       "<style scoped>\n",
       "    .dataframe tbody tr th:only-of-type {\n",
       "        vertical-align: middle;\n",
       "    }\n",
       "\n",
       "    .dataframe tbody tr th {\n",
       "        vertical-align: top;\n",
       "    }\n",
       "\n",
       "    .dataframe thead th {\n",
       "        text-align: right;\n",
       "    }\n",
       "</style>\n",
       "<table border=\"1\" class=\"dataframe\">\n",
       "  <thead>\n",
       "    <tr style=\"text-align: right;\">\n",
       "      <th></th>\n",
       "      <th>index</th>\n",
       "      <th>url</th>\n",
       "      <th>label</th>\n",
       "      <th>parsed_url</th>\n",
       "      <th>schema</th>\n",
       "      <th>auth</th>\n",
       "      <th>host</th>\n",
       "      <th>port</th>\n",
       "      <th>path</th>\n",
       "      <th>query</th>\n",
       "      <th>fragment</th>\n",
       "    </tr>\n",
       "  </thead>\n",
       "  <tbody>\n",
       "    <tr>\n",
       "      <th>0</th>\n",
       "      <td>1</td>\n",
       "      <td>https://www.google.com</td>\n",
       "      <td>good</td>\n",
       "      <td>(https, None, www.google.com, None, None, None...</td>\n",
       "      <td>https</td>\n",
       "      <td>None</td>\n",
       "      <td>www.google.com</td>\n",
       "      <td>NaN</td>\n",
       "      <td>None</td>\n",
       "      <td>None</td>\n",
       "      <td>None</td>\n",
       "    </tr>\n",
       "    <tr>\n",
       "      <th>1</th>\n",
       "      <td>2</td>\n",
       "      <td>https://www.youtube.com</td>\n",
       "      <td>good</td>\n",
       "      <td>(https, None, www.youtube.com, None, None, Non...</td>\n",
       "      <td>https</td>\n",
       "      <td>None</td>\n",
       "      <td>www.youtube.com</td>\n",
       "      <td>NaN</td>\n",
       "      <td>None</td>\n",
       "      <td>None</td>\n",
       "      <td>None</td>\n",
       "    </tr>\n",
       "    <tr>\n",
       "      <th>2</th>\n",
       "      <td>3</td>\n",
       "      <td>https://www.tmall.com</td>\n",
       "      <td>good</td>\n",
       "      <td>(https, None, www.tmall.com, None, None, None,...</td>\n",
       "      <td>https</td>\n",
       "      <td>None</td>\n",
       "      <td>www.tmall.com</td>\n",
       "      <td>NaN</td>\n",
       "      <td>None</td>\n",
       "      <td>None</td>\n",
       "      <td>None</td>\n",
       "    </tr>\n",
       "    <tr>\n",
       "      <th>3</th>\n",
       "      <td>4</td>\n",
       "      <td>https://www.baidu.com</td>\n",
       "      <td>good</td>\n",
       "      <td>(https, None, www.baidu.com, None, None, None,...</td>\n",
       "      <td>https</td>\n",
       "      <td>None</td>\n",
       "      <td>www.baidu.com</td>\n",
       "      <td>NaN</td>\n",
       "      <td>None</td>\n",
       "      <td>None</td>\n",
       "      <td>None</td>\n",
       "    </tr>\n",
       "    <tr>\n",
       "      <th>4</th>\n",
       "      <td>5</td>\n",
       "      <td>https://www.qq.com</td>\n",
       "      <td>good</td>\n",
       "      <td>(https, None, www.qq.com, None, None, None, None)</td>\n",
       "      <td>https</td>\n",
       "      <td>None</td>\n",
       "      <td>www.qq.com</td>\n",
       "      <td>NaN</td>\n",
       "      <td>None</td>\n",
       "      <td>None</td>\n",
       "      <td>None</td>\n",
       "    </tr>\n",
       "    <tr>\n",
       "      <th>...</th>\n",
       "      <td>...</td>\n",
       "      <td>...</td>\n",
       "      <td>...</td>\n",
       "      <td>...</td>\n",
       "      <td>...</td>\n",
       "      <td>...</td>\n",
       "      <td>...</td>\n",
       "      <td>...</td>\n",
       "      <td>...</td>\n",
       "      <td>...</td>\n",
       "      <td>...</td>\n",
       "    </tr>\n",
       "    <tr>\n",
       "      <th>60649</th>\n",
       "      <td>15271</td>\n",
       "      <td>https://www.vdtpt.com/login.php</td>\n",
       "      <td>bad</td>\n",
       "      <td>(https, None, www.vdtpt.com, None, /login.php,...</td>\n",
       "      <td>https</td>\n",
       "      <td>None</td>\n",
       "      <td>www.vdtpt.com</td>\n",
       "      <td>NaN</td>\n",
       "      <td>/login.php</td>\n",
       "      <td>None</td>\n",
       "      <td>None</td>\n",
       "    </tr>\n",
       "    <tr>\n",
       "      <th>60650</th>\n",
       "      <td>15272</td>\n",
       "      <td>https://login-live-comjobmen.s3.us-east-2.amaz...</td>\n",
       "      <td>bad</td>\n",
       "      <td>(https, None, login-live-comjobmen.s3.us-east-...</td>\n",
       "      <td>https</td>\n",
       "      <td>None</td>\n",
       "      <td>login-live-comjobmen.s3.us-east-2.amazonaws.com</td>\n",
       "      <td>NaN</td>\n",
       "      <td>/milanion/index.html</td>\n",
       "      <td>None</td>\n",
       "      <td>None</td>\n",
       "    </tr>\n",
       "    <tr>\n",
       "      <th>60651</th>\n",
       "      <td>15273</td>\n",
       "      <td>https://pssmedicareworkshop.com/login.php?cmd=...</td>\n",
       "      <td>bad</td>\n",
       "      <td>(https, None, pssmedicareworkshop.com, None, /...</td>\n",
       "      <td>https</td>\n",
       "      <td>None</td>\n",
       "      <td>pssmedicareworkshop.com</td>\n",
       "      <td>NaN</td>\n",
       "      <td>/login.php</td>\n",
       "      <td>cmd=login_submit&amp;id=f5462a2ff7fcc421c4026f9829...</td>\n",
       "      <td>None</td>\n",
       "    </tr>\n",
       "    <tr>\n",
       "      <th>60652</th>\n",
       "      <td>15274</td>\n",
       "      <td>http://bsmcing.lh52.cn/</td>\n",
       "      <td>bad</td>\n",
       "      <td>(http, None, bsmcing.lh52.cn, None, /, None, N...</td>\n",
       "      <td>http</td>\n",
       "      <td>None</td>\n",
       "      <td>bsmcing.lh52.cn</td>\n",
       "      <td>NaN</td>\n",
       "      <td>/</td>\n",
       "      <td>None</td>\n",
       "      <td>None</td>\n",
       "    </tr>\n",
       "    <tr>\n",
       "      <th>60653</th>\n",
       "      <td>15275</td>\n",
       "      <td>http://www.mu.fg-jp.vip/</td>\n",
       "      <td>bad</td>\n",
       "      <td>(http, None, www.mu.fg-jp.vip, None, /, None, ...</td>\n",
       "      <td>http</td>\n",
       "      <td>None</td>\n",
       "      <td>www.mu.fg-jp.vip</td>\n",
       "      <td>NaN</td>\n",
       "      <td>/</td>\n",
       "      <td>None</td>\n",
       "      <td>None</td>\n",
       "    </tr>\n",
       "  </tbody>\n",
       "</table>\n",
       "<p>60654 rows × 11 columns</p>\n",
       "</div>"
      ],
      "text/plain": [
       "       index                                                url label  \\\n",
       "0          1                             https://www.google.com  good   \n",
       "1          2                            https://www.youtube.com  good   \n",
       "2          3                              https://www.tmall.com  good   \n",
       "3          4                              https://www.baidu.com  good   \n",
       "4          5                                 https://www.qq.com  good   \n",
       "...      ...                                                ...   ...   \n",
       "60649  15271                    https://www.vdtpt.com/login.php   bad   \n",
       "60650  15272  https://login-live-comjobmen.s3.us-east-2.amaz...   bad   \n",
       "60651  15273  https://pssmedicareworkshop.com/login.php?cmd=...   bad   \n",
       "60652  15274                            http://bsmcing.lh52.cn/   bad   \n",
       "60653  15275                           http://www.mu.fg-jp.vip/   bad   \n",
       "\n",
       "                                              parsed_url schema  auth  \\\n",
       "0      (https, None, www.google.com, None, None, None...  https  None   \n",
       "1      (https, None, www.youtube.com, None, None, Non...  https  None   \n",
       "2      (https, None, www.tmall.com, None, None, None,...  https  None   \n",
       "3      (https, None, www.baidu.com, None, None, None,...  https  None   \n",
       "4      (https, None, www.qq.com, None, None, None, None)  https  None   \n",
       "...                                                  ...    ...   ...   \n",
       "60649  (https, None, www.vdtpt.com, None, /login.php,...  https  None   \n",
       "60650  (https, None, login-live-comjobmen.s3.us-east-...  https  None   \n",
       "60651  (https, None, pssmedicareworkshop.com, None, /...  https  None   \n",
       "60652  (http, None, bsmcing.lh52.cn, None, /, None, N...   http  None   \n",
       "60653  (http, None, www.mu.fg-jp.vip, None, /, None, ...   http  None   \n",
       "\n",
       "                                                  host  port  \\\n",
       "0                                       www.google.com   NaN   \n",
       "1                                      www.youtube.com   NaN   \n",
       "2                                        www.tmall.com   NaN   \n",
       "3                                        www.baidu.com   NaN   \n",
       "4                                           www.qq.com   NaN   \n",
       "...                                                ...   ...   \n",
       "60649                                    www.vdtpt.com   NaN   \n",
       "60650  login-live-comjobmen.s3.us-east-2.amazonaws.com   NaN   \n",
       "60651                          pssmedicareworkshop.com   NaN   \n",
       "60652                                  bsmcing.lh52.cn   NaN   \n",
       "60653                                 www.mu.fg-jp.vip   NaN   \n",
       "\n",
       "                       path  \\\n",
       "0                      None   \n",
       "1                      None   \n",
       "2                      None   \n",
       "3                      None   \n",
       "4                      None   \n",
       "...                     ...   \n",
       "60649            /login.php   \n",
       "60650  /milanion/index.html   \n",
       "60651            /login.php   \n",
       "60652                     /   \n",
       "60653                     /   \n",
       "\n",
       "                                                   query fragment  \n",
       "0                                                   None     None  \n",
       "1                                                   None     None  \n",
       "2                                                   None     None  \n",
       "3                                                   None     None  \n",
       "4                                                   None     None  \n",
       "...                                                  ...      ...  \n",
       "60649                                               None     None  \n",
       "60650                                               None     None  \n",
       "60651  cmd=login_submit&id=f5462a2ff7fcc421c4026f9829...     None  \n",
       "60652                                               None     None  \n",
       "60653                                               None     None  \n",
       "\n",
       "[60654 rows x 11 columns]"
      ]
     },
     "execution_count": 26,
     "metadata": {},
     "output_type": "execute_result"
    }
   ],
   "source": [
    "df"
   ]
  },
  {
   "cell_type": "markdown",
   "id": "068a8fd9-21c5-410b-96c2-6240a0083b20",
   "metadata": {},
   "source": [
    "### Pozostałe"
   ]
  },
  {
   "cell_type": "code",
   "execution_count": 27,
   "id": "cdd95e58-a2dc-4a2b-960a-8e8a4889e745",
   "metadata": {},
   "outputs": [],
   "source": [
    "import re\n",
    "import ipaddress\n",
    "\n",
    "def count_special_symbols(domain):\n",
    "    counter = 0\n",
    "    for char in domain:\n",
    "        if char.isalpha() or char.isdigit():\n",
    "            continue\n",
    "        else:\n",
    "            counter += 1\n",
    "    return counter\n",
    "\n",
    "def count_digits(domain):\n",
    "    counter = 0\n",
    "    for char in domain:\n",
    "        if char.isdigit():\n",
    "            counter += 1\n",
    "    return counter\n",
    "\n",
    "def count_digit_letter(domain):\n",
    "    \"\"\"Zlicza kombinacje litera cyfra\"\"\"\n",
    "    res = re.findall(\"[A-Za-z][0-9]\", domain)\n",
    "    return len(res)\n",
    "\n",
    "def count_sus(domain):\n",
    "    res = re.findall(\"https|http|www\", domain)\n",
    "    return len(res)\n",
    "\n",
    "def has_a(domain):\n",
    "    \"\"\"Sprawdza czy domain ma @\"\"\"\n",
    "    res = re.findall(\"@\", domain)\n",
    "    return len(res)\n",
    "\n",
    "def has_pref_or_suff(domain):\n",
    "    \"\"\"Sprawdza czy domain ma -\"\"\"\n",
    "    res = re.findall(\"-\", domain)\n",
    "    return len(res)\n",
    "\n",
    "def is_ipv4(string):\n",
    "    try:\n",
    "        ipaddress.IPv4Network(string)\n",
    "        return True\n",
    "    except ValueError:\n",
    "        return False"
   ]
  },
  {
   "cell_type": "code",
   "execution_count": 28,
   "id": "1b86caff-98d9-46b6-b9c3-506d5d7b2b27",
   "metadata": {},
   "outputs": [],
   "source": [
    "def calculate_metrics(df_):\n",
    "    ##### Schema\n",
    "    schema = df_.schema\n",
    "    schema = schema.fillna(\"n\")\n",
    "    schema = schema.replace({\"https\": 1, \"http\": 0, \"n\": 0.5, 'none': 0.5, 'hhtp': 0, 'nttps': 1, \"htpps\": 1, \"htps\": 1, \"htt\": 0})\n",
    "    schema = schema.astype('float64')\n",
    "    \n",
    "    #### Host\n",
    "    host = df_.host\n",
    "    host_len = host.apply(lambda x : len(x)) # Długość \n",
    "    host_subdomains_count = host.apply(lambda x : x.count('.')) # Ilość subdomen\n",
    "    host_subdomains_mean_len = host.apply(lambda x : (len(x)-x.count('.'))/x.count('.')) # Średnia długość domen\n",
    "    host_digit = host.apply(lambda x : count_digits(x)) # Ilość cyfr\n",
    "    host_nspecial = host.apply(lambda x : count_special_symbols(x) - x.count('.')) # Ilość znaków specjalnych - kropki\n",
    "    host_first_len = host.apply(lambda x : len(x.split('.')[0])) # Długość pierwszej subdomeny\n",
    "    host_digit_letter_count = host.apply(lambda x : count_digit_letter(x)) # Ilość kombinacji litera-cyfra\n",
    "    host_has_a = host.apply(lambda x : has_a(x)) # Sprawdza czy host ma @\n",
    "    host_pref_suf_number = host.apply(lambda x : has_pref_or_suff(x)) # Sprawdza czy ma -\n",
    "    host_is_ipv4 = host.apply(lambda x : is_ipv4(x)) # Sprawdza czy host to adres ipv4s\n",
    "    \n",
    "\n",
    "    return np.array([schema, host_len, host_subdomains_count, host_subdomains_mean_len, host_digit, host_nspecial, host_first_len, host_digit_letter_count, host_has_a, host_pref_suf_number, host_is_ipv4]).T"
   ]
  },
  {
   "cell_type": "code",
   "execution_count": 29,
   "id": "decee3fa-d127-4aad-bde5-0f1f932b08a8",
   "metadata": {},
   "outputs": [
    {
     "data": {
      "text/plain": [
       "array([[ 1., 14.,  2., ...,  0.,  0.,  0.],\n",
       "       [ 1., 15.,  2., ...,  0.,  0.,  0.],\n",
       "       [ 1., 13.,  2., ...,  0.,  0.,  0.],\n",
       "       ...,\n",
       "       [ 1., 23.,  1., ...,  0.,  0.,  0.],\n",
       "       [ 0., 15.,  2., ...,  0.,  0.,  0.],\n",
       "       [ 0., 16.,  3., ...,  0.,  1.,  0.]])"
      ]
     },
     "execution_count": 29,
     "metadata": {},
     "output_type": "execute_result"
    }
   ],
   "source": [
    "calculate_metrics(df)"
   ]
  },
  {
   "cell_type": "markdown",
   "id": "edae9bfe-d36c-48d6-8784-2cfe3a77d785",
   "metadata": {},
   "source": [
    "# Trenowanie modelu"
   ]
  },
  {
   "cell_type": "code",
   "execution_count": 30,
   "id": "d44656e1-415c-4608-902c-5fa0dc31135d",
   "metadata": {},
   "outputs": [],
   "source": [
    "from sklearn.linear_model import LogisticRegression\n",
    "from sklearn.metrics import classification_report\n",
    "from sklearn.metrics import confusion_matrix\n",
    "from sklearn.model_selection import train_test_split\n",
    "from sklearn.preprocessing import StandardScaler\n",
    "from sklearn import metrics\n",
    "sc = StandardScaler()\n",
    "\n",
    "dane = df"
   ]
  },
  {
   "cell_type": "code",
   "execution_count": 31,
   "id": "0eb212d6-e31a-4494-b63d-4e50c8531703",
   "metadata": {},
   "outputs": [
    {
     "data": {
      "text/html": [
       "<div>\n",
       "<style scoped>\n",
       "    .dataframe tbody tr th:only-of-type {\n",
       "        vertical-align: middle;\n",
       "    }\n",
       "\n",
       "    .dataframe tbody tr th {\n",
       "        vertical-align: top;\n",
       "    }\n",
       "\n",
       "    .dataframe thead th {\n",
       "        text-align: right;\n",
       "    }\n",
       "</style>\n",
       "<table border=\"1\" class=\"dataframe\">\n",
       "  <thead>\n",
       "    <tr style=\"text-align: right;\">\n",
       "      <th></th>\n",
       "      <th>index</th>\n",
       "      <th>url</th>\n",
       "      <th>label</th>\n",
       "      <th>parsed_url</th>\n",
       "      <th>schema</th>\n",
       "      <th>auth</th>\n",
       "      <th>host</th>\n",
       "      <th>port</th>\n",
       "      <th>path</th>\n",
       "      <th>query</th>\n",
       "      <th>fragment</th>\n",
       "      <th>enc</th>\n",
       "    </tr>\n",
       "  </thead>\n",
       "  <tbody>\n",
       "    <tr>\n",
       "      <th>45378</th>\n",
       "      <td>0</td>\n",
       "      <td>inpost.pl-paydelivery.cyou</td>\n",
       "      <td>bad</td>\n",
       "      <td>(None, None, inpost.pl-paydelivery.cyou, None,...</td>\n",
       "      <td>None</td>\n",
       "      <td>None</td>\n",
       "      <td>inpost.pl-paydelivery.cyou</td>\n",
       "      <td>NaN</td>\n",
       "      <td>None</td>\n",
       "      <td>None</td>\n",
       "      <td>None</td>\n",
       "      <td>0</td>\n",
       "    </tr>\n",
       "    <tr>\n",
       "      <th>45379</th>\n",
       "      <td>1</td>\n",
       "      <td>inpost.pl-paydelivery.work</td>\n",
       "      <td>bad</td>\n",
       "      <td>(None, None, inpost.pl-paydelivery.work, None,...</td>\n",
       "      <td>None</td>\n",
       "      <td>None</td>\n",
       "      <td>inpost.pl-paydelivery.work</td>\n",
       "      <td>NaN</td>\n",
       "      <td>None</td>\n",
       "      <td>None</td>\n",
       "      <td>None</td>\n",
       "      <td>0</td>\n",
       "    </tr>\n",
       "    <tr>\n",
       "      <th>45380</th>\n",
       "      <td>2</td>\n",
       "      <td>inpost.pl-paydelivery.xyz</td>\n",
       "      <td>bad</td>\n",
       "      <td>(None, None, inpost.pl-paydelivery.xyz, None, ...</td>\n",
       "      <td>None</td>\n",
       "      <td>None</td>\n",
       "      <td>inpost.pl-paydelivery.xyz</td>\n",
       "      <td>NaN</td>\n",
       "      <td>None</td>\n",
       "      <td>None</td>\n",
       "      <td>None</td>\n",
       "      <td>0</td>\n",
       "    </tr>\n",
       "    <tr>\n",
       "      <th>45381</th>\n",
       "      <td>3</td>\n",
       "      <td>www.inpost.new-pl-oferta.cyou</td>\n",
       "      <td>bad</td>\n",
       "      <td>(None, None, www.inpost.new-pl-oferta.cyou, No...</td>\n",
       "      <td>None</td>\n",
       "      <td>None</td>\n",
       "      <td>www.inpost.new-pl-oferta.cyou</td>\n",
       "      <td>NaN</td>\n",
       "      <td>None</td>\n",
       "      <td>None</td>\n",
       "      <td>None</td>\n",
       "      <td>0</td>\n",
       "    </tr>\n",
       "    <tr>\n",
       "      <th>45382</th>\n",
       "      <td>4</td>\n",
       "      <td>inpost.new-pl-oferta.casa</td>\n",
       "      <td>bad</td>\n",
       "      <td>(None, None, inpost.new-pl-oferta.casa, None, ...</td>\n",
       "      <td>None</td>\n",
       "      <td>None</td>\n",
       "      <td>inpost.new-pl-oferta.casa</td>\n",
       "      <td>NaN</td>\n",
       "      <td>None</td>\n",
       "      <td>None</td>\n",
       "      <td>None</td>\n",
       "      <td>0</td>\n",
       "    </tr>\n",
       "    <tr>\n",
       "      <th>...</th>\n",
       "      <td>...</td>\n",
       "      <td>...</td>\n",
       "      <td>...</td>\n",
       "      <td>...</td>\n",
       "      <td>...</td>\n",
       "      <td>...</td>\n",
       "      <td>...</td>\n",
       "      <td>...</td>\n",
       "      <td>...</td>\n",
       "      <td>...</td>\n",
       "      <td>...</td>\n",
       "      <td>...</td>\n",
       "    </tr>\n",
       "    <tr>\n",
       "      <th>45373</th>\n",
       "      <td>35373</td>\n",
       "      <td>https://lastpass.com/signup2.php?ac=1&amp;from_uri...</td>\n",
       "      <td>good</td>\n",
       "      <td>(https, None, lastpass.com, None, /signup2.php...</td>\n",
       "      <td>https</td>\n",
       "      <td>None</td>\n",
       "      <td>lastpass.com</td>\n",
       "      <td>NaN</td>\n",
       "      <td>/signup2.php</td>\n",
       "      <td>ac=1&amp;from_uri=%2Fsignup2.php%3Fac%3D1%26from_u...</td>\n",
       "      <td>None</td>\n",
       "      <td>1</td>\n",
       "    </tr>\n",
       "    <tr>\n",
       "      <th>45374</th>\n",
       "      <td>35374</td>\n",
       "      <td>https://lastpass.com/signup2.php?ac=1&amp;from_uri...</td>\n",
       "      <td>good</td>\n",
       "      <td>(https, None, lastpass.com, None, /signup2.php...</td>\n",
       "      <td>https</td>\n",
       "      <td>None</td>\n",
       "      <td>lastpass.com</td>\n",
       "      <td>NaN</td>\n",
       "      <td>/signup2.php</td>\n",
       "      <td>ac=1&amp;from_uri=%2Fsignup2.php%3Fac%3D1%26from_u...</td>\n",
       "      <td>None</td>\n",
       "      <td>1</td>\n",
       "    </tr>\n",
       "    <tr>\n",
       "      <th>45375</th>\n",
       "      <td>35375</td>\n",
       "      <td>https://lastpass.com/signup2.php?ac=1&amp;from_uri...</td>\n",
       "      <td>good</td>\n",
       "      <td>(https, None, lastpass.com, None, /signup2.php...</td>\n",
       "      <td>https</td>\n",
       "      <td>None</td>\n",
       "      <td>lastpass.com</td>\n",
       "      <td>NaN</td>\n",
       "      <td>/signup2.php</td>\n",
       "      <td>ac=1&amp;from_uri=%2Fsignup2.php%3Fac%3D1%26from_u...</td>\n",
       "      <td>None</td>\n",
       "      <td>1</td>\n",
       "    </tr>\n",
       "    <tr>\n",
       "      <th>45376</th>\n",
       "      <td>35376</td>\n",
       "      <td>https://lastpass.com/signup2.php?ac=1&amp;from_uri...</td>\n",
       "      <td>good</td>\n",
       "      <td>(https, None, lastpass.com, None, /signup2.php...</td>\n",
       "      <td>https</td>\n",
       "      <td>None</td>\n",
       "      <td>lastpass.com</td>\n",
       "      <td>NaN</td>\n",
       "      <td>/signup2.php</td>\n",
       "      <td>ac=1&amp;from_uri=%2Fsignup2.php%3Fac%3D1%26from_u...</td>\n",
       "      <td>None</td>\n",
       "      <td>1</td>\n",
       "    </tr>\n",
       "    <tr>\n",
       "      <th>45377</th>\n",
       "      <td>35377</td>\n",
       "      <td>https://asana.com/guide/videos/%22//fast.wisti...</td>\n",
       "      <td>good</td>\n",
       "      <td>(https, None, asana.com, None, /guide/videos/%...</td>\n",
       "      <td>https</td>\n",
       "      <td>None</td>\n",
       "      <td>asana.com</td>\n",
       "      <td>NaN</td>\n",
       "      <td>/guide/videos/%22//fast.wistia.net/embed/ifram...</td>\n",
       "      <td>plugin%5Bchapters%5D%5Bch_1_title%5D=Intro%3A%...</td>\n",
       "      <td>None</td>\n",
       "      <td>1</td>\n",
       "    </tr>\n",
       "  </tbody>\n",
       "</table>\n",
       "<p>60653 rows × 12 columns</p>\n",
       "</div>"
      ],
      "text/plain": [
       "       index                                                url label  \\\n",
       "45378      0                         inpost.pl-paydelivery.cyou   bad   \n",
       "45379      1                         inpost.pl-paydelivery.work   bad   \n",
       "45380      2                          inpost.pl-paydelivery.xyz   bad   \n",
       "45381      3                      www.inpost.new-pl-oferta.cyou   bad   \n",
       "45382      4                          inpost.new-pl-oferta.casa   bad   \n",
       "...      ...                                                ...   ...   \n",
       "45373  35373  https://lastpass.com/signup2.php?ac=1&from_uri...  good   \n",
       "45374  35374  https://lastpass.com/signup2.php?ac=1&from_uri...  good   \n",
       "45375  35375  https://lastpass.com/signup2.php?ac=1&from_uri...  good   \n",
       "45376  35376  https://lastpass.com/signup2.php?ac=1&from_uri...  good   \n",
       "45377  35377  https://asana.com/guide/videos/%22//fast.wisti...  good   \n",
       "\n",
       "                                              parsed_url schema  auth  \\\n",
       "45378  (None, None, inpost.pl-paydelivery.cyou, None,...   None  None   \n",
       "45379  (None, None, inpost.pl-paydelivery.work, None,...   None  None   \n",
       "45380  (None, None, inpost.pl-paydelivery.xyz, None, ...   None  None   \n",
       "45381  (None, None, www.inpost.new-pl-oferta.cyou, No...   None  None   \n",
       "45382  (None, None, inpost.new-pl-oferta.casa, None, ...   None  None   \n",
       "...                                                  ...    ...   ...   \n",
       "45373  (https, None, lastpass.com, None, /signup2.php...  https  None   \n",
       "45374  (https, None, lastpass.com, None, /signup2.php...  https  None   \n",
       "45375  (https, None, lastpass.com, None, /signup2.php...  https  None   \n",
       "45376  (https, None, lastpass.com, None, /signup2.php...  https  None   \n",
       "45377  (https, None, asana.com, None, /guide/videos/%...  https  None   \n",
       "\n",
       "                                host  port  \\\n",
       "45378     inpost.pl-paydelivery.cyou   NaN   \n",
       "45379     inpost.pl-paydelivery.work   NaN   \n",
       "45380      inpost.pl-paydelivery.xyz   NaN   \n",
       "45381  www.inpost.new-pl-oferta.cyou   NaN   \n",
       "45382      inpost.new-pl-oferta.casa   NaN   \n",
       "...                              ...   ...   \n",
       "45373                   lastpass.com   NaN   \n",
       "45374                   lastpass.com   NaN   \n",
       "45375                   lastpass.com   NaN   \n",
       "45376                   lastpass.com   NaN   \n",
       "45377                      asana.com   NaN   \n",
       "\n",
       "                                                    path  \\\n",
       "45378                                               None   \n",
       "45379                                               None   \n",
       "45380                                               None   \n",
       "45381                                               None   \n",
       "45382                                               None   \n",
       "...                                                  ...   \n",
       "45373                                       /signup2.php   \n",
       "45374                                       /signup2.php   \n",
       "45375                                       /signup2.php   \n",
       "45376                                       /signup2.php   \n",
       "45377  /guide/videos/%22//fast.wistia.net/embed/ifram...   \n",
       "\n",
       "                                                   query fragment  enc  \n",
       "45378                                               None     None    0  \n",
       "45379                                               None     None    0  \n",
       "45380                                               None     None    0  \n",
       "45381                                               None     None    0  \n",
       "45382                                               None     None    0  \n",
       "...                                                  ...      ...  ...  \n",
       "45373  ac=1&from_uri=%2Fsignup2.php%3Fac%3D1%26from_u...     None    1  \n",
       "45374  ac=1&from_uri=%2Fsignup2.php%3Fac%3D1%26from_u...     None    1  \n",
       "45375  ac=1&from_uri=%2Fsignup2.php%3Fac%3D1%26from_u...     None    1  \n",
       "45376  ac=1&from_uri=%2Fsignup2.php%3Fac%3D1%26from_u...     None    1  \n",
       "45377  plugin%5Bchapters%5D%5Bch_1_title%5D=Intro%3A%...     None    1  \n",
       "\n",
       "[60653 rows x 12 columns]"
      ]
     },
     "execution_count": 31,
     "metadata": {},
     "output_type": "execute_result"
    }
   ],
   "source": [
    "from sklearn import preprocessing\n",
    "\n",
    "balanced_df = pd.concat([dane[dane.label == 'bad'],dane[dane.label == 'good'].iloc[1:100000,:]])\n",
    "le = preprocessing.LabelEncoder()\n",
    "le.fit(balanced_df.label)\n",
    "balanced_df[\"enc\"] = le.transform(balanced_df.label)\n",
    "balanced_df"
   ]
  },
  {
   "cell_type": "code",
   "execution_count": 32,
   "id": "55fd4309-6af9-4c92-8c1b-b126cae5beee",
   "metadata": {},
   "outputs": [
    {
     "data": {
      "text/plain": [
       "array([[ 0.5, 26. ,  2. , ...,  0. ,  1. ,  0. ],\n",
       "       [ 0.5, 26. ,  2. , ...,  0. ,  1. ,  0. ],\n",
       "       [ 0.5, 25. ,  2. , ...,  0. ,  1. ,  0. ],\n",
       "       ...,\n",
       "       [ 1. , 12. ,  1. , ...,  0. ,  0. ,  0. ],\n",
       "       [ 1. , 12. ,  1. , ...,  0. ,  0. ,  0. ],\n",
       "       [ 1. ,  9. ,  1. , ...,  0. ,  0. ,  0. ]])"
      ]
     },
     "execution_count": 32,
     "metadata": {},
     "output_type": "execute_result"
    }
   ],
   "source": [
    "features = calculate_metrics(balanced_df)\n",
    "features"
   ]
  },
  {
   "cell_type": "code",
   "execution_count": 33,
   "id": "0085c16e-b0b0-49e4-b911-76c8c23d9cc5",
   "metadata": {},
   "outputs": [],
   "source": [
    "trainX, testX, trainY, testY = train_test_split(features, balanced_df.enc, test_size=0.2)\n",
    "trainX = sc.fit_transform(trainX)\n",
    "testX = sc.transform(testX)"
   ]
  },
  {
   "cell_type": "markdown",
   "id": "5dcb239c-5cd7-4bee-8e1d-3a8033b9000c",
   "metadata": {},
   "source": [
    "# Wektory wspierające"
   ]
  },
  {
   "cell_type": "code",
   "execution_count": 34,
   "id": "4bd5ab46-4645-48d9-824a-7cab93bdcf52",
   "metadata": {},
   "outputs": [
    {
     "name": "stdout",
     "output_type": "stream",
     "text": [
      "[LibSVM]"
     ]
    },
    {
     "data": {
      "text/plain": [
       "SVC(verbose=True)"
      ]
     },
     "execution_count": 34,
     "metadata": {},
     "output_type": "execute_result"
    }
   ],
   "source": [
    "from sklearn import svm\n",
    "\n",
    "clf = svm.SVC(verbose=True)\n",
    "clf.fit(trainX, trainY)"
   ]
  },
  {
   "cell_type": "code",
   "execution_count": 35,
   "id": "360a3b9b-b6ed-4c1e-9fd7-6cc2bb8db2bc",
   "metadata": {},
   "outputs": [
    {
     "data": {
      "text/plain": [
       "0.990602588409859"
      ]
     },
     "execution_count": 35,
     "metadata": {},
     "output_type": "execute_result"
    }
   ],
   "source": [
    "clf.score(testX, testY)"
   ]
  },
  {
   "cell_type": "code",
   "execution_count": 36,
   "id": "8687af43-88ac-4bb4-88a2-c8880d597806",
   "metadata": {},
   "outputs": [
    {
     "data": {
      "text/plain": [
       "0.9987789987789988"
      ]
     },
     "execution_count": 36,
     "metadata": {},
     "output_type": "execute_result"
    }
   ],
   "source": [
    "clf.score(testX[testY == 1], testY[testY == 1]) # Dane dobre = 1"
   ]
  },
  {
   "cell_type": "code",
   "execution_count": 37,
   "id": "836869bd-9bc3-451d-b3f5-bf898f23c62d",
   "metadata": {},
   "outputs": [
    {
     "data": {
      "text/plain": [
       "0.9670083279948751"
      ]
     },
     "execution_count": 37,
     "metadata": {},
     "output_type": "execute_result"
    }
   ],
   "source": [
    "clf.score(testX[testY == 0], testY[testY == 0]) # Dane złe = 1"
   ]
  },
  {
   "cell_type": "code",
   "execution_count": 38,
   "id": "8229cd0f-eb98-4188-9d5d-d46d8b246832",
   "metadata": {},
   "outputs": [],
   "source": [
    "#clf.predict(sc.transform(calculate_metrics(pd.DataFrame([\"shbwgen.blogspot.com\t\"], columns = [\"url\"]))))"
   ]
  },
  {
   "cell_type": "markdown",
   "id": "90a5f6d2-2eb0-4998-9ebd-3940c8e574e8",
   "metadata": {},
   "source": [
    "# Drzewo losowe"
   ]
  },
  {
   "cell_type": "code",
   "execution_count": 52,
   "id": "130bbe5e-1d83-4b0e-af9a-10f9e20a5e61",
   "metadata": {},
   "outputs": [
    {
     "name": "stderr",
     "output_type": "stream",
     "text": [
      "[Parallel(n_jobs=1)]: Using backend SequentialBackend with 1 concurrent workers.\n",
      "[Parallel(n_jobs=1)]: Done 100 out of 100 | elapsed:    0.7s finished\n"
     ]
    },
    {
     "data": {
      "text/plain": [
       "RandomForestClassifier(max_depth=3, min_samples_leaf=2, random_state=0,\n",
       "                       verbose=1)"
      ]
     },
     "execution_count": 52,
     "metadata": {},
     "output_type": "execute_result"
    }
   ],
   "source": [
    "from sklearn.ensemble import RandomForestClassifier\n",
    "clf2 = RandomForestClassifier(max_depth=3, random_state=0, min_samples_split=2, min_samples_leaf=2,verbose=1)\n",
    "clf2.fit(trainX, trainY)"
   ]
  },
  {
   "cell_type": "code",
   "execution_count": 53,
   "id": "2199a1f3-f5ec-4b96-9459-6e447c59e6dd",
   "metadata": {},
   "outputs": [
    {
     "name": "stderr",
     "output_type": "stream",
     "text": [
      "[Parallel(n_jobs=1)]: Using backend SequentialBackend with 1 concurrent workers.\n",
      "[Parallel(n_jobs=1)]: Done 100 out of 100 | elapsed:    0.0s finished\n"
     ]
    },
    {
     "data": {
      "text/plain": [
       "0.9209463358338142"
      ]
     },
     "execution_count": 53,
     "metadata": {},
     "output_type": "execute_result"
    }
   ],
   "source": [
    "clf2.score(testX, testY)"
   ]
  },
  {
   "cell_type": "code",
   "execution_count": 54,
   "id": "84f1eb7e-9f2b-440a-95f5-b6816de43c0f",
   "metadata": {},
   "outputs": [
    {
     "name": "stderr",
     "output_type": "stream",
     "text": [
      "[Parallel(n_jobs=1)]: Using backend SequentialBackend with 1 concurrent workers.\n",
      "[Parallel(n_jobs=1)]: Done 100 out of 100 | elapsed:    0.0s finished\n"
     ]
    },
    {
     "data": {
      "text/plain": [
       "0.9839637248396372"
      ]
     },
     "execution_count": 54,
     "metadata": {},
     "output_type": "execute_result"
    }
   ],
   "source": [
    "clf2.score(testX[testY == 1], testY[testY == 1]) # Dane dobre"
   ]
  },
  {
   "cell_type": "code",
   "execution_count": 55,
   "id": "1ab7c9ac-898a-4ec8-b35c-3837897fca9c",
   "metadata": {},
   "outputs": [
    {
     "name": "stderr",
     "output_type": "stream",
     "text": [
      "[Parallel(n_jobs=1)]: Using backend SequentialBackend with 1 concurrent workers.\n",
      "[Parallel(n_jobs=1)]: Done 100 out of 100 | elapsed:    0.0s finished\n"
     ]
    },
    {
     "data": {
      "text/plain": [
       "0.7364842991259307"
      ]
     },
     "execution_count": 55,
     "metadata": {},
     "output_type": "execute_result"
    }
   ],
   "source": [
    "clf2.score(testX[testY == 0], testY[testY == 0]) # Dane złe"
   ]
  },
  {
   "cell_type": "code",
   "execution_count": 39,
   "id": "85563564-c754-4fb5-a5cc-1d8f0101f787",
   "metadata": {},
   "outputs": [],
   "source": [
    "def transform(url):\n",
    "    d = pd.DataFrame([url], columns = ['url'])\n",
    "    d['parsed_url'] = d.url.apply(lambda x : parseurl(x))\n",
    "    u = d.url.apply(lambda x : list(parseurl(x)))\n",
    "    d['schema'] = u.apply(lambda x : x[0])\n",
    "    d['auth'] = u.apply(lambda x : x[1])\n",
    "    d['host'] = u.apply(lambda x : x[2])\n",
    "    d['port'] = u.apply(lambda x : x[3])\n",
    "    d['path'] = u.apply(lambda x : x[4])\n",
    "    d['query'] = u.apply(lambda x : x[5])\n",
    "    d['fragment'] = u.apply(lambda x : x[6])\n",
    "    return d"
   ]
  },
  {
   "cell_type": "code",
   "execution_count": 40,
   "id": "393f5cf5-5064-40f4-a0a0-a04ce16b3ec6",
   "metadata": {},
   "outputs": [
    {
     "data": {
      "text/html": [
       "<div>\n",
       "<style scoped>\n",
       "    .dataframe tbody tr th:only-of-type {\n",
       "        vertical-align: middle;\n",
       "    }\n",
       "\n",
       "    .dataframe tbody tr th {\n",
       "        vertical-align: top;\n",
       "    }\n",
       "\n",
       "    .dataframe thead th {\n",
       "        text-align: right;\n",
       "    }\n",
       "</style>\n",
       "<table border=\"1\" class=\"dataframe\">\n",
       "  <thead>\n",
       "    <tr style=\"text-align: right;\">\n",
       "      <th></th>\n",
       "      <th>url</th>\n",
       "      <th>parsed_url</th>\n",
       "      <th>schema</th>\n",
       "      <th>auth</th>\n",
       "      <th>host</th>\n",
       "      <th>port</th>\n",
       "      <th>path</th>\n",
       "      <th>query</th>\n",
       "      <th>fragment</th>\n",
       "    </tr>\n",
       "  </thead>\n",
       "  <tbody>\n",
       "    <tr>\n",
       "      <th>0</th>\n",
       "      <td>allegro.pl</td>\n",
       "      <td>(None, None, allegro.pl, None, None, None, None)</td>\n",
       "      <td>None</td>\n",
       "      <td>None</td>\n",
       "      <td>allegro.pl</td>\n",
       "      <td>None</td>\n",
       "      <td>None</td>\n",
       "      <td>None</td>\n",
       "      <td>None</td>\n",
       "    </tr>\n",
       "  </tbody>\n",
       "</table>\n",
       "</div>"
      ],
      "text/plain": [
       "          url                                        parsed_url schema  auth  \\\n",
       "0  allegro.pl  (None, None, allegro.pl, None, None, None, None)   None  None   \n",
       "\n",
       "         host  port  path query fragment  \n",
       "0  allegro.pl  None  None  None     None  "
      ]
     },
     "execution_count": 40,
     "metadata": {},
     "output_type": "execute_result"
    }
   ],
   "source": [
    "transform(\"allegro.pl\")"
   ]
  },
  {
   "cell_type": "markdown",
   "id": "93bfabcd-1116-40d7-aa1f-2eac6ab6f304",
   "metadata": {},
   "source": [
    "# Podsumowanie\n",
    "Model w obecnym stanie jest w stanie rozpoznać proste podmiany i działa szybko, jak dla mnie nadaje się do wrzucenia."
   ]
  },
  {
   "cell_type": "code",
   "execution_count": 41,
   "id": "61ad5330-dff5-4b7b-bc56-c9871a0b7615",
   "metadata": {},
   "outputs": [
    {
     "data": {
      "text/plain": [
       "array([1])"
      ]
     },
     "execution_count": 41,
     "metadata": {},
     "output_type": "execute_result"
    }
   ],
   "source": [
    "clf.predict(sc.transform(calculate_metrics(transform(\"https://allegro.pl\"))))"
   ]
  },
  {
   "cell_type": "code",
   "execution_count": 42,
   "id": "3d829c1d-4cfc-4c6d-a629-2b795b3c6413",
   "metadata": {},
   "outputs": [
    {
     "data": {
      "text/plain": [
       "array([0])"
      ]
     },
     "execution_count": 42,
     "metadata": {},
     "output_type": "execute_result"
    }
   ],
   "source": [
    "clf.predict(sc.transform(calculate_metrics(transform(\"https://a11egro.pl\"))))"
   ]
  },
  {
   "cell_type": "markdown",
   "id": "1de4f5da-43d0-496e-a63d-7da928c88af2",
   "metadata": {},
   "source": [
    "# Zapisanie modelu"
   ]
  },
  {
   "cell_type": "code",
   "execution_count": 45,
   "id": "e491eac7-597a-48c8-9cc1-c000fb2f4bf4",
   "metadata": {},
   "outputs": [
    {
     "data": {
      "text/plain": [
       "['../Dumps/encoder.sav']"
      ]
     },
     "execution_count": 45,
     "metadata": {},
     "output_type": "execute_result"
    }
   ],
   "source": [
    "import joblib\n",
    "\n",
    "joblib.dump(clf, model_file) # SVM\n",
    "joblib.dump(sc, scaler_file) # StandardScaler\n",
    "joblib.dump(le, encoder_file) # LabelEncoder"
   ]
  }
 ],
 "metadata": {
  "kernelspec": {
   "display_name": "Python 3",
   "language": "python",
   "name": "python3"
  },
  "language_info": {
   "codemirror_mode": {
    "name": "ipython",
    "version": 3
   },
   "file_extension": ".py",
   "mimetype": "text/x-python",
   "name": "python",
   "nbconvert_exporter": "python",
   "pygments_lexer": "ipython3",
   "version": "3.9.5"
  }
 },
 "nbformat": 4,
 "nbformat_minor": 5
}
