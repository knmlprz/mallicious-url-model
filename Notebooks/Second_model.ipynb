{
 "cells": [
  {
   "cell_type": "code",
   "execution_count": 1,
   "id": "717d0493-1702-486d-82ac-daad4d130ef4",
   "metadata": {},
   "outputs": [],
   "source": [
    "# importing some useful libraries\n",
    "import pandas as pd\n",
    "import numpy as np\n",
    "import matplotlib.pyplot as plt\n",
    "import seaborn as sns  \n",
    "import time \n",
    "\n",
    "from sklearn.metrics import classification_report\n",
    "from sklearn.metrics import confusion_matrix\n",
    "from nltk.tokenize import RegexpTokenizer  \n",
    "from nltk.stem.snowball import SnowballStemmer\n",
    "from sklearn.feature_extraction.text import CountVectorizer  \n",
    "from sklearn.pipeline import make_pipeline\n",
    "\n",
    "from sklearn.model_selection import train_test_split\n",
    "from sklearn.linear_model import LogisticRegression\n",
    "\n",
    "\n",
    "from PIL import Image\n",
    "from wordcloud import WordCloud, STOPWORDS, ImageColorGenerator\n",
    "import pickle "
   ]
  },
  {
   "cell_type": "markdown",
   "id": "217ae9cf-d960-4126-ab95-82bdacbbef33",
   "metadata": {},
   "source": [
    "# Wczytywanie danych"
   ]
  },
  {
   "cell_type": "code",
   "execution_count": 2,
   "id": "1c014a61-53e0-4b90-a00d-3055b4554654",
   "metadata": {},
   "outputs": [
    {
     "data": {
      "text/html": [
       "<div>\n",
       "<style scoped>\n",
       "    .dataframe tbody tr th:only-of-type {\n",
       "        vertical-align: middle;\n",
       "    }\n",
       "\n",
       "    .dataframe tbody tr th {\n",
       "        vertical-align: top;\n",
       "    }\n",
       "\n",
       "    .dataframe thead th {\n",
       "        text-align: right;\n",
       "    }\n",
       "</style>\n",
       "<table border=\"1\" class=\"dataframe\">\n",
       "  <thead>\n",
       "    <tr style=\"text-align: right;\">\n",
       "      <th></th>\n",
       "      <th>url</th>\n",
       "      <th>label</th>\n",
       "    </tr>\n",
       "  </thead>\n",
       "  <tbody>\n",
       "    <tr>\n",
       "      <th>0</th>\n",
       "      <td>diaryofagameaddict.com</td>\n",
       "      <td>bad</td>\n",
       "    </tr>\n",
       "    <tr>\n",
       "      <th>1</th>\n",
       "      <td>espdesign.com.au</td>\n",
       "      <td>bad</td>\n",
       "    </tr>\n",
       "  </tbody>\n",
       "</table>\n",
       "</div>"
      ],
      "text/plain": [
       "                      url label\n",
       "0  diaryofagameaddict.com   bad\n",
       "1        espdesign.com.au   bad"
      ]
     },
     "execution_count": 2,
     "metadata": {},
     "output_type": "execute_result"
    }
   ],
   "source": [
    "kaggle = pd.read_csv(\"../Data/URLs-mixed/kaggle_labeled.csv\")\n",
    "kaggle.head(2) # url label"
   ]
  },
  {
   "cell_type": "markdown",
   "id": "b4ce42ee-c6a3-48f9-9f8a-bf751ad5651a",
   "metadata": {},
   "source": [
    "## Dane polska"
   ]
  },
  {
   "cell_type": "code",
   "execution_count": 18,
   "id": "64cd3a3e-dece-4fdb-9899-fd116d30c283",
   "metadata": {},
   "outputs": [
    {
     "data": {
      "text/html": [
       "<div>\n",
       "<style scoped>\n",
       "    .dataframe tbody tr th:only-of-type {\n",
       "        vertical-align: middle;\n",
       "    }\n",
       "\n",
       "    .dataframe tbody tr th {\n",
       "        vertical-align: top;\n",
       "    }\n",
       "\n",
       "    .dataframe thead th {\n",
       "        text-align: right;\n",
       "    }\n",
       "</style>\n",
       "<table border=\"1\" class=\"dataframe\">\n",
       "  <thead>\n",
       "    <tr style=\"text-align: right;\">\n",
       "      <th></th>\n",
       "      <th>url</th>\n",
       "    </tr>\n",
       "  </thead>\n",
       "  <tbody>\n",
       "    <tr>\n",
       "      <th>0</th>\n",
       "      <td>http://1bcz.wp.mil.pl</td>\n",
       "    </tr>\n",
       "    <tr>\n",
       "      <th>1</th>\n",
       "      <td>http://1bdm.wp.mil.pl/pl/28.html</td>\n",
       "    </tr>\n",
       "  </tbody>\n",
       "</table>\n",
       "</div>"
      ],
      "text/plain": [
       "                                url\n",
       "0             http://1bcz.wp.mil.pl\n",
       "1  http://1bdm.wp.mil.pl/pl/28.html"
      ]
     },
     "execution_count": 18,
     "metadata": {},
     "output_type": "execute_result"
    }
   ],
   "source": [
    "gov = pd.read_csv(\"../Data/URLs-good/gov_poland.csv\", skiprows=2, sep=';', usecols=[1], names=[\"url\"])\n",
    "gov.head(2)"
   ]
  },
  {
   "cell_type": "code",
   "execution_count": 19,
   "id": "93363980-63c4-4248-b443-e5e684f05814",
   "metadata": {},
   "outputs": [
    {
     "data": {
      "text/html": [
       "<div>\n",
       "<style scoped>\n",
       "    .dataframe tbody tr th:only-of-type {\n",
       "        vertical-align: middle;\n",
       "    }\n",
       "\n",
       "    .dataframe tbody tr th {\n",
       "        vertical-align: top;\n",
       "    }\n",
       "\n",
       "    .dataframe thead th {\n",
       "        text-align: right;\n",
       "    }\n",
       "</style>\n",
       "<table border=\"1\" class=\"dataframe\">\n",
       "  <thead>\n",
       "    <tr style=\"text-align: right;\">\n",
       "      <th></th>\n",
       "      <th>url</th>\n",
       "      <th>label</th>\n",
       "    </tr>\n",
       "  </thead>\n",
       "  <tbody>\n",
       "    <tr>\n",
       "      <th>0</th>\n",
       "      <td>http://1bcz.wp.mil.pl</td>\n",
       "      <td>good</td>\n",
       "    </tr>\n",
       "    <tr>\n",
       "      <th>1</th>\n",
       "      <td>http://1bdm.wp.mil.pl/pl/28.html</td>\n",
       "      <td>good</td>\n",
       "    </tr>\n",
       "  </tbody>\n",
       "</table>\n",
       "</div>"
      ],
      "text/plain": [
       "                                url label\n",
       "0             http://1bcz.wp.mil.pl  good\n",
       "1  http://1bdm.wp.mil.pl/pl/28.html  good"
      ]
     },
     "execution_count": 19,
     "metadata": {},
     "output_type": "execute_result"
    }
   ],
   "source": [
    "gov[\"url\"] = gov[\"url\"].astype(str)\n",
    "gov[\"label\"] = \"good\"\n",
    "gov.head(2)"
   ]
  },
  {
   "cell_type": "markdown",
   "id": "c5af40f9-8217-4e63-a5f0-93b8c7236b5f",
   "metadata": {},
   "source": [
    "## Dane cert"
   ]
  },
  {
   "cell_type": "code",
   "execution_count": 20,
   "id": "495adb11-c2da-4894-9669-7d352fef866e",
   "metadata": {},
   "outputs": [
    {
     "data": {
      "text/html": [
       "<div>\n",
       "<style scoped>\n",
       "    .dataframe tbody tr th:only-of-type {\n",
       "        vertical-align: middle;\n",
       "    }\n",
       "\n",
       "    .dataframe tbody tr th {\n",
       "        vertical-align: top;\n",
       "    }\n",
       "\n",
       "    .dataframe thead th {\n",
       "        text-align: right;\n",
       "    }\n",
       "</style>\n",
       "<table border=\"1\" class=\"dataframe\">\n",
       "  <thead>\n",
       "    <tr style=\"text-align: right;\">\n",
       "      <th></th>\n",
       "      <th>url</th>\n",
       "    </tr>\n",
       "  </thead>\n",
       "  <tbody>\n",
       "    <tr>\n",
       "      <th>0</th>\n",
       "      <td>008753331120.com</td>\n",
       "    </tr>\n",
       "    <tr>\n",
       "      <th>1</th>\n",
       "      <td>02-wiadomosci.com.pl</td>\n",
       "    </tr>\n",
       "  </tbody>\n",
       "</table>\n",
       "</div>"
      ],
      "text/plain": [
       "                    url\n",
       "0      008753331120.com\n",
       "1  02-wiadomosci.com.pl"
      ]
     },
     "execution_count": 20,
     "metadata": {},
     "output_type": "execute_result"
    }
   ],
   "source": [
    "cert = pd.read_csv(\"https://hole.cert.pl/domains/domains.txt\", names=[\"url\"])\n",
    "cert.head(2)"
   ]
  },
  {
   "cell_type": "code",
   "execution_count": 21,
   "id": "0d07a82c-a3f0-4d60-b094-0ecf13af6142",
   "metadata": {},
   "outputs": [
    {
     "data": {
      "text/html": [
       "<div>\n",
       "<style scoped>\n",
       "    .dataframe tbody tr th:only-of-type {\n",
       "        vertical-align: middle;\n",
       "    }\n",
       "\n",
       "    .dataframe tbody tr th {\n",
       "        vertical-align: top;\n",
       "    }\n",
       "\n",
       "    .dataframe thead th {\n",
       "        text-align: right;\n",
       "    }\n",
       "</style>\n",
       "<table border=\"1\" class=\"dataframe\">\n",
       "  <thead>\n",
       "    <tr style=\"text-align: right;\">\n",
       "      <th></th>\n",
       "      <th>url</th>\n",
       "      <th>label</th>\n",
       "    </tr>\n",
       "  </thead>\n",
       "  <tbody>\n",
       "    <tr>\n",
       "      <th>0</th>\n",
       "      <td>008753331120.com</td>\n",
       "      <td>bad</td>\n",
       "    </tr>\n",
       "    <tr>\n",
       "      <th>1</th>\n",
       "      <td>02-wiadomosci.com.pl</td>\n",
       "      <td>bad</td>\n",
       "    </tr>\n",
       "  </tbody>\n",
       "</table>\n",
       "</div>"
      ],
      "text/plain": [
       "                    url label\n",
       "0      008753331120.com   bad\n",
       "1  02-wiadomosci.com.pl   bad"
      ]
     },
     "execution_count": 21,
     "metadata": {},
     "output_type": "execute_result"
    }
   ],
   "source": [
    "cert[\"url\"] = cert[\"url\"].astype(str)\n",
    "cert[\"label\"] = \"bad\"\n",
    "cert.head(2)"
   ]
  },
  {
   "cell_type": "code",
   "execution_count": 22,
   "id": "149b6ade-6a8c-4910-b5c9-217f7193f349",
   "metadata": {},
   "outputs": [
    {
     "data": {
      "text/html": [
       "<div>\n",
       "<style scoped>\n",
       "    .dataframe tbody tr th:only-of-type {\n",
       "        vertical-align: middle;\n",
       "    }\n",
       "\n",
       "    .dataframe tbody tr th {\n",
       "        vertical-align: top;\n",
       "    }\n",
       "\n",
       "    .dataframe thead th {\n",
       "        text-align: right;\n",
       "    }\n",
       "</style>\n",
       "<table border=\"1\" class=\"dataframe\">\n",
       "  <thead>\n",
       "    <tr style=\"text-align: right;\">\n",
       "      <th></th>\n",
       "      <th>url</th>\n",
       "      <th>label</th>\n",
       "    </tr>\n",
       "  </thead>\n",
       "  <tbody>\n",
       "    <tr>\n",
       "      <th>0</th>\n",
       "      <td>diaryofagameaddict.com</td>\n",
       "      <td>bad</td>\n",
       "    </tr>\n",
       "    <tr>\n",
       "      <th>1</th>\n",
       "      <td>espdesign.com.au</td>\n",
       "      <td>bad</td>\n",
       "    </tr>\n",
       "  </tbody>\n",
       "</table>\n",
       "</div>"
      ],
      "text/plain": [
       "                      url label\n",
       "0  diaryofagameaddict.com   bad\n",
       "1        espdesign.com.au   bad"
      ]
     },
     "execution_count": 22,
     "metadata": {},
     "output_type": "execute_result"
    }
   ],
   "source": [
    "df = pd.concat([kaggle,gov,cert])\n",
    "df.head(2)"
   ]
  },
  {
   "cell_type": "code",
   "execution_count": 128,
   "id": "aebb3320-6d2f-4239-a0b1-80d818d0ac8d",
   "metadata": {},
   "outputs": [],
   "source": [
    "df[\"url\"] = df.url.astype(str)"
   ]
  },
  {
   "cell_type": "markdown",
   "id": "68aa1bab-f9bd-4d75-9694-1e2b2173d2fb",
   "metadata": {},
   "source": [
    "# Trenowanie modelu"
   ]
  },
  {
   "cell_type": "code",
   "execution_count": 130,
   "id": "da9919e3-1f62-46eb-a72e-0d47719962c9",
   "metadata": {},
   "outputs": [],
   "source": [
    "def count_special_symbols(domain):\n",
    "    counter = 0\n",
    "    for char in domain:\n",
    "        if char.isalpha() or char.isdigit():\n",
    "            continue\n",
    "        else:\n",
    "            counter += 1\n",
    "    return counter\n",
    "\n",
    "\n",
    "def count_digits(domain):\n",
    "    counter = 0\n",
    "    for char in domain:\n",
    "        if char.isdigit():\n",
    "            counter += 1\n",
    "    return counter"
   ]
  },
  {
   "cell_type": "code",
   "execution_count": 153,
   "id": "5a963f18-d6b8-4274-af5a-245ca1e1b02b",
   "metadata": {},
   "outputs": [],
   "source": [
    "from urllib3.util import parse_url\n",
    "def parseurl(url):\n",
    "    try:\n",
    "        url = url.replace(\"[\",\"\")\n",
    "        url = url.replace(\"]\",\"\")\n",
    "        url = parse_url(url)\n",
    "        return str(url.host)\n",
    "    except Exception as e:\n",
    "        if \"//\" in url:\n",
    "            url = url.split(\"//\")[1]\n",
    "        url = url[:url.find(\"/\")]\n",
    "        return str(url)"
   ]
  },
  {
   "cell_type": "code",
   "execution_count": 155,
   "id": "67ed2fb6-1f6f-4437-8a87-ef91803d48f6",
   "metadata": {},
   "outputs": [],
   "source": [
    "df[\"parsed_url\"] = df.url.apply(parseurl)"
   ]
  },
  {
   "cell_type": "code",
   "execution_count": 164,
   "id": "ef825eb4-6dec-4134-a53e-83a92517e642",
   "metadata": {},
   "outputs": [],
   "source": [
    "good = df[df[\"label\"] == \"good\"]\n",
    "bad = df[df[\"label\"] == \"bad\"]"
   ]
  },
  {
   "cell_type": "code",
   "execution_count": 165,
   "id": "36415afe-932b-47e0-9bc3-9630b50a6e98",
   "metadata": {},
   "outputs": [],
   "source": [
    "data = pd.DataFrame(df.iloc[1:200,2])"
   ]
  },
  {
   "cell_type": "code",
   "execution_count": 166,
   "id": "d03278cd-2ce5-4298-a73b-98a3d67afb37",
   "metadata": {},
   "outputs": [],
   "source": [
    "data.columns = [\"url\"]"
   ]
  },
  {
   "cell_type": "code",
   "execution_count": 169,
   "id": "008a6f53-98f4-47b9-be32-3797b9187cf7",
   "metadata": {},
   "outputs": [],
   "source": [
    "import Levenshtein\n",
    "\n",
    "def get_best_lev_match(good_domains: pd.DataFrame,domains: pd.DataFrame):\n",
    "    \"\"\"\n",
    "    Calculates Levenshtein distance of given string to all domains in top-100 polish database and returns best domain\n",
    "    and it's score.\n",
    "\n",
    "    Returns\n",
    "    -------\n",
    "\n",
    "    \"\"\"\n",
    "\n",
    "    known_domains = pd.DataFrame(good_domains['parsed_url'].str.split(\".\", n=1, expand=True)[0])\n",
    "    known_domains.columns = [\"url\"]\n",
    "\n",
    "    return domains.apply(lambda y: known_domains.iloc[\n",
    "        known_domains.apply(lambda x: Levenshtein.jaro_winkler(y['url'], x['url'], 0.25), axis=1).idxmax()\n",
    "    ], axis=1)"
   ]
  },
  {
   "cell_type": "code",
   "execution_count": 170,
   "id": "3cb5e20e-d31f-49cb-a720-7068f0c3843a",
   "metadata": {},
   "outputs": [
    {
     "data": {
      "text/html": [
       "<div>\n",
       "<style scoped>\n",
       "    .dataframe tbody tr th:only-of-type {\n",
       "        vertical-align: middle;\n",
       "    }\n",
       "\n",
       "    .dataframe tbody tr th {\n",
       "        vertical-align: top;\n",
       "    }\n",
       "\n",
       "    .dataframe thead th {\n",
       "        text-align: right;\n",
       "    }\n",
       "</style>\n",
       "<table border=\"1\" class=\"dataframe\">\n",
       "  <thead>\n",
       "    <tr style=\"text-align: right;\">\n",
       "      <th></th>\n",
       "      <th>url</th>\n",
       "    </tr>\n",
       "  </thead>\n",
       "  <tbody>\n",
       "    <tr>\n",
       "      <th>1</th>\n",
       "      <td>people</td>\n",
       "    </tr>\n",
       "    <tr>\n",
       "      <th>2</th>\n",
       "      <td>sports</td>\n",
       "    </tr>\n",
       "    <tr>\n",
       "      <th>3</th>\n",
       "      <td>ontheradio</td>\n",
       "    </tr>\n",
       "    <tr>\n",
       "      <th>4</th>\n",
       "      <td>archive</td>\n",
       "    </tr>\n",
       "    <tr>\n",
       "      <th>5</th>\n",
       "      <td>big12sports</td>\n",
       "    </tr>\n",
       "    <tr>\n",
       "      <th>...</th>\n",
       "      <td>...</td>\n",
       "    </tr>\n",
       "    <tr>\n",
       "      <th>195</th>\n",
       "      <td>facebook</td>\n",
       "    </tr>\n",
       "    <tr>\n",
       "      <th>196</th>\n",
       "      <td>halloweenmovie</td>\n",
       "    </tr>\n",
       "    <tr>\n",
       "      <th>197</th>\n",
       "      <td>www</td>\n",
       "    </tr>\n",
       "    <tr>\n",
       "      <th>198</th>\n",
       "      <td>tripadvisor</td>\n",
       "    </tr>\n",
       "    <tr>\n",
       "      <th>199</th>\n",
       "      <td>allwrightsite</td>\n",
       "    </tr>\n",
       "  </tbody>\n",
       "</table>\n",
       "<p>199 rows × 1 columns</p>\n",
       "</div>"
      ],
      "text/plain": [
       "                url\n",
       "1            people\n",
       "2            sports\n",
       "3        ontheradio\n",
       "4           archive\n",
       "5       big12sports\n",
       "..              ...\n",
       "195        facebook\n",
       "196  halloweenmovie\n",
       "197             www\n",
       "198     tripadvisor\n",
       "199   allwrightsite\n",
       "\n",
       "[199 rows x 1 columns]"
      ]
     },
     "execution_count": 170,
     "metadata": {},
     "output_type": "execute_result"
    }
   ],
   "source": [
    "get_best_lev_match(good, data)"
   ]
  },
  {
   "cell_type": "code",
   "execution_count": null,
   "id": "26b6a666-7d18-4ef3-b2e5-9667668dcc7e",
   "metadata": {},
   "outputs": [],
   "source": [
    "known_domains.apply(lambda x: Levenshtein.jaro_winkler(good.iloc[1,1], x['url'], 0.25), axis=1).idxmax()"
   ]
  },
  {
   "cell_type": "code",
   "execution_count": 151,
   "id": "3265e959-6fed-463f-8290-dae6d106047d",
   "metadata": {},
   "outputs": [
    {
     "data": {
      "text/plain": [
       "42767              01453\n",
       "42768            015fb31\n",
       "42769            02bee66\n",
       "42770            02ec0a3\n",
       "42771             032255\n",
       "              ...       \n",
       "69521              https\n",
       "69522              https\n",
       "69523              https\n",
       "69524              https\n",
       "69525    zup-ornontowice\n",
       "Name: url, Length: 414347, dtype: object"
      ]
     },
     "execution_count": 151,
     "metadata": {},
     "output_type": "execute_result"
    }
   ],
   "source": [
    "known_domains[\"url\"]"
   ]
  }
 ],
 "metadata": {
  "kernelspec": {
   "display_name": "Python 3",
   "language": "python",
   "name": "python3"
  },
  "language_info": {
   "codemirror_mode": {
    "name": "ipython",
    "version": 3
   },
   "file_extension": ".py",
   "mimetype": "text/x-python",
   "name": "python",
   "nbconvert_exporter": "python",
   "pygments_lexer": "ipython3",
   "version": "3.9.5"
  }
 },
 "nbformat": 4,
 "nbformat_minor": 5
}
