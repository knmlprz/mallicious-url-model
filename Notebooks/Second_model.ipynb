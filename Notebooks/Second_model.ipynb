{
 "cells": [
  {
   "cell_type": "code",
   "execution_count": 138,
   "id": "717d0493-1702-486d-82ac-daad4d130ef4",
   "metadata": {},
   "outputs": [],
   "source": [
    "# importing some useful libraries\n",
    "import pandas as pd\n",
    "import numpy as np\n",
    "import matplotlib.pyplot as plt\n",
    "import seaborn as sns  \n",
    "import time \n",
    "\n",
    "from sklearn.metrics import classification_report\n",
    "from sklearn.metrics import confusion_matrix\n",
    "from nltk.tokenize import RegexpTokenizer  \n",
    "from nltk.stem.snowball import SnowballStemmer\n",
    "from sklearn.feature_extraction.text import CountVectorizer  \n",
    "from sklearn.pipeline import make_pipeline\n",
    "\n",
    "from sklearn.model_selection import train_test_split\n",
    "from sklearn.linear_model import LogisticRegression\n",
    "\n",
    "\n",
    "from PIL import Image\n",
    "from wordcloud import WordCloud, STOPWORDS, ImageColorGenerator\n",
    "import pickle "
   ]
  },
  {
   "cell_type": "markdown",
   "id": "217ae9cf-d960-4126-ab95-82bdacbbef33",
   "metadata": {},
   "source": [
    "# Wczytywanie danych"
   ]
  },
  {
   "cell_type": "code",
   "execution_count": 139,
   "id": "1c014a61-53e0-4b90-a00d-3055b4554654",
   "metadata": {},
   "outputs": [
    {
     "name": "stdout",
     "output_type": "stream",
     "text": [
      "<class 'pandas.core.frame.DataFrame'>\n",
      "RangeIndex: 420460 entries, 0 to 420459\n",
      "Data columns (total 2 columns):\n",
      " #   Column  Non-Null Count   Dtype \n",
      "---  ------  --------------   ----- \n",
      " 0   url     420460 non-null  object\n",
      " 1   label   420460 non-null  object\n",
      "dtypes: object(2)\n",
      "memory usage: 6.4+ MB\n"
     ]
    }
   ],
   "source": [
    "kaggle = pd.read_csv(\"../Data/URLs-mixed/kaggle_labeled.csv\")\n",
    "kaggle.info()"
   ]
  },
  {
   "cell_type": "code",
   "execution_count": 140,
   "id": "03035d80-a30c-42bf-911f-c0fb4f2f29f1",
   "metadata": {},
   "outputs": [
    {
     "data": {
      "text/html": [
       "<div>\n",
       "<style scoped>\n",
       "    .dataframe tbody tr th:only-of-type {\n",
       "        vertical-align: middle;\n",
       "    }\n",
       "\n",
       "    .dataframe tbody tr th {\n",
       "        vertical-align: top;\n",
       "    }\n",
       "\n",
       "    .dataframe thead th {\n",
       "        text-align: right;\n",
       "    }\n",
       "</style>\n",
       "<table border=\"1\" class=\"dataframe\">\n",
       "  <thead>\n",
       "    <tr style=\"text-align: right;\">\n",
       "      <th></th>\n",
       "      <th>url</th>\n",
       "      <th>label</th>\n",
       "    </tr>\n",
       "  </thead>\n",
       "  <tbody>\n",
       "    <tr>\n",
       "      <th>0</th>\n",
       "      <td>diaryofagameaddict.com</td>\n",
       "      <td>bad</td>\n",
       "    </tr>\n",
       "    <tr>\n",
       "      <th>1</th>\n",
       "      <td>espdesign.com.au</td>\n",
       "      <td>bad</td>\n",
       "    </tr>\n",
       "    <tr>\n",
       "      <th>2</th>\n",
       "      <td>iamagameaddict.com</td>\n",
       "      <td>bad</td>\n",
       "    </tr>\n",
       "    <tr>\n",
       "      <th>3</th>\n",
       "      <td>kalantzis.net</td>\n",
       "      <td>bad</td>\n",
       "    </tr>\n",
       "    <tr>\n",
       "      <th>4</th>\n",
       "      <td>slightlyoffcenter.net</td>\n",
       "      <td>bad</td>\n",
       "    </tr>\n",
       "  </tbody>\n",
       "</table>\n",
       "</div>"
      ],
      "text/plain": [
       "                      url label\n",
       "0  diaryofagameaddict.com   bad\n",
       "1        espdesign.com.au   bad\n",
       "2      iamagameaddict.com   bad\n",
       "3           kalantzis.net   bad\n",
       "4   slightlyoffcenter.net   bad"
      ]
     },
     "execution_count": 140,
     "metadata": {},
     "output_type": "execute_result"
    }
   ],
   "source": [
    "kaggle.head()"
   ]
  },
  {
   "cell_type": "markdown",
   "id": "b4ce42ee-c6a3-48f9-9f8a-bf751ad5651a",
   "metadata": {},
   "source": [
    "## Dane polska"
   ]
  },
  {
   "cell_type": "code",
   "execution_count": 141,
   "id": "64cd3a3e-dece-4fdb-9899-fd116d30c283",
   "metadata": {},
   "outputs": [
    {
     "data": {
      "text/html": [
       "<div>\n",
       "<style scoped>\n",
       "    .dataframe tbody tr th:only-of-type {\n",
       "        vertical-align: middle;\n",
       "    }\n",
       "\n",
       "    .dataframe tbody tr th {\n",
       "        vertical-align: top;\n",
       "    }\n",
       "\n",
       "    .dataframe thead th {\n",
       "        text-align: right;\n",
       "    }\n",
       "</style>\n",
       "<table border=\"1\" class=\"dataframe\">\n",
       "  <thead>\n",
       "    <tr style=\"text-align: right;\">\n",
       "      <th></th>\n",
       "      <th>url</th>\n",
       "    </tr>\n",
       "  </thead>\n",
       "  <tbody>\n",
       "    <tr>\n",
       "      <th>0</th>\n",
       "      <td>http://1bcz.wp.mil.pl</td>\n",
       "    </tr>\n",
       "    <tr>\n",
       "      <th>1</th>\n",
       "      <td>http://1bdm.wp.mil.pl/pl/28.html</td>\n",
       "    </tr>\n",
       "  </tbody>\n",
       "</table>\n",
       "</div>"
      ],
      "text/plain": [
       "                                url\n",
       "0             http://1bcz.wp.mil.pl\n",
       "1  http://1bdm.wp.mil.pl/pl/28.html"
      ]
     },
     "execution_count": 141,
     "metadata": {},
     "output_type": "execute_result"
    }
   ],
   "source": [
    "gov = pd.read_csv(\"../Data/URLs-good/gov_poland.csv\", skiprows=2, sep=';', usecols=[1], names=[\"url\"])\n",
    "gov.head(2)"
   ]
  },
  {
   "cell_type": "code",
   "execution_count": 142,
   "id": "93363980-63c4-4248-b443-e5e684f05814",
   "metadata": {},
   "outputs": [
    {
     "data": {
      "text/html": [
       "<div>\n",
       "<style scoped>\n",
       "    .dataframe tbody tr th:only-of-type {\n",
       "        vertical-align: middle;\n",
       "    }\n",
       "\n",
       "    .dataframe tbody tr th {\n",
       "        vertical-align: top;\n",
       "    }\n",
       "\n",
       "    .dataframe thead th {\n",
       "        text-align: right;\n",
       "    }\n",
       "</style>\n",
       "<table border=\"1\" class=\"dataframe\">\n",
       "  <thead>\n",
       "    <tr style=\"text-align: right;\">\n",
       "      <th></th>\n",
       "      <th>url</th>\n",
       "      <th>label</th>\n",
       "    </tr>\n",
       "  </thead>\n",
       "  <tbody>\n",
       "    <tr>\n",
       "      <th>0</th>\n",
       "      <td>http://1bcz.wp.mil.pl</td>\n",
       "      <td>good</td>\n",
       "    </tr>\n",
       "    <tr>\n",
       "      <th>1</th>\n",
       "      <td>http://1bdm.wp.mil.pl/pl/28.html</td>\n",
       "      <td>good</td>\n",
       "    </tr>\n",
       "  </tbody>\n",
       "</table>\n",
       "</div>"
      ],
      "text/plain": [
       "                                url label\n",
       "0             http://1bcz.wp.mil.pl  good\n",
       "1  http://1bdm.wp.mil.pl/pl/28.html  good"
      ]
     },
     "execution_count": 142,
     "metadata": {},
     "output_type": "execute_result"
    }
   ],
   "source": [
    "gov[\"url\"] = gov[\"url\"].astype(str)\n",
    "gov[\"label\"] = \"good\"\n",
    "gov.head(2)"
   ]
  },
  {
   "cell_type": "markdown",
   "id": "c5af40f9-8217-4e63-a5f0-93b8c7236b5f",
   "metadata": {},
   "source": [
    "## Dane cert"
   ]
  },
  {
   "cell_type": "code",
   "execution_count": 143,
   "id": "495adb11-c2da-4894-9669-7d352fef866e",
   "metadata": {},
   "outputs": [
    {
     "data": {
      "text/html": [
       "<div>\n",
       "<style scoped>\n",
       "    .dataframe tbody tr th:only-of-type {\n",
       "        vertical-align: middle;\n",
       "    }\n",
       "\n",
       "    .dataframe tbody tr th {\n",
       "        vertical-align: top;\n",
       "    }\n",
       "\n",
       "    .dataframe thead th {\n",
       "        text-align: right;\n",
       "    }\n",
       "</style>\n",
       "<table border=\"1\" class=\"dataframe\">\n",
       "  <thead>\n",
       "    <tr style=\"text-align: right;\">\n",
       "      <th></th>\n",
       "      <th>url</th>\n",
       "    </tr>\n",
       "  </thead>\n",
       "  <tbody>\n",
       "    <tr>\n",
       "      <th>0</th>\n",
       "      <td>008753331120.com</td>\n",
       "    </tr>\n",
       "    <tr>\n",
       "      <th>1</th>\n",
       "      <td>02-wiadomosci.com.pl</td>\n",
       "    </tr>\n",
       "  </tbody>\n",
       "</table>\n",
       "</div>"
      ],
      "text/plain": [
       "                    url\n",
       "0      008753331120.com\n",
       "1  02-wiadomosci.com.pl"
      ]
     },
     "execution_count": 143,
     "metadata": {},
     "output_type": "execute_result"
    }
   ],
   "source": [
    "cert = pd.read_csv(\"https://hole.cert.pl/domains/domains.txt\", names=[\"url\"])\n",
    "cert.head(2)"
   ]
  },
  {
   "cell_type": "code",
   "execution_count": 144,
   "id": "0d07a82c-a3f0-4d60-b094-0ecf13af6142",
   "metadata": {},
   "outputs": [
    {
     "data": {
      "text/html": [
       "<div>\n",
       "<style scoped>\n",
       "    .dataframe tbody tr th:only-of-type {\n",
       "        vertical-align: middle;\n",
       "    }\n",
       "\n",
       "    .dataframe tbody tr th {\n",
       "        vertical-align: top;\n",
       "    }\n",
       "\n",
       "    .dataframe thead th {\n",
       "        text-align: right;\n",
       "    }\n",
       "</style>\n",
       "<table border=\"1\" class=\"dataframe\">\n",
       "  <thead>\n",
       "    <tr style=\"text-align: right;\">\n",
       "      <th></th>\n",
       "      <th>url</th>\n",
       "      <th>label</th>\n",
       "    </tr>\n",
       "  </thead>\n",
       "  <tbody>\n",
       "    <tr>\n",
       "      <th>0</th>\n",
       "      <td>008753331120.com</td>\n",
       "      <td>bad</td>\n",
       "    </tr>\n",
       "    <tr>\n",
       "      <th>1</th>\n",
       "      <td>02-wiadomosci.com.pl</td>\n",
       "      <td>bad</td>\n",
       "    </tr>\n",
       "  </tbody>\n",
       "</table>\n",
       "</div>"
      ],
      "text/plain": [
       "                    url label\n",
       "0      008753331120.com   bad\n",
       "1  02-wiadomosci.com.pl   bad"
      ]
     },
     "execution_count": 144,
     "metadata": {},
     "output_type": "execute_result"
    }
   ],
   "source": [
    "cert[\"url\"] = cert[\"url\"].astype(str)\n",
    "cert[\"label\"] = \"bad\"\n",
    "cert.head(2)"
   ]
  },
  {
   "cell_type": "markdown",
   "id": "2167512c-8a68-492e-bd15-e852229e7b11",
   "metadata": {},
   "source": [
    "## Dane alexa"
   ]
  },
  {
   "cell_type": "code",
   "execution_count": 145,
   "id": "2e98b6e4-f523-46fa-a4ea-2e5c7f06ee7b",
   "metadata": {},
   "outputs": [
    {
     "data": {
      "text/html": [
       "<div>\n",
       "<style scoped>\n",
       "    .dataframe tbody tr th:only-of-type {\n",
       "        vertical-align: middle;\n",
       "    }\n",
       "\n",
       "    .dataframe tbody tr th {\n",
       "        vertical-align: top;\n",
       "    }\n",
       "\n",
       "    .dataframe thead th {\n",
       "        text-align: right;\n",
       "    }\n",
       "</style>\n",
       "<table border=\"1\" class=\"dataframe\">\n",
       "  <thead>\n",
       "    <tr style=\"text-align: right;\">\n",
       "      <th></th>\n",
       "      <th>url</th>\n",
       "      <th>label</th>\n",
       "    </tr>\n",
       "  </thead>\n",
       "  <tbody>\n",
       "    <tr>\n",
       "      <th>1</th>\n",
       "      <td>https://www.google.com</td>\n",
       "      <td>good</td>\n",
       "    </tr>\n",
       "    <tr>\n",
       "      <th>2</th>\n",
       "      <td>https://www.youtube.com</td>\n",
       "      <td>good</td>\n",
       "    </tr>\n",
       "    <tr>\n",
       "      <th>3</th>\n",
       "      <td>https://www.tmall.com</td>\n",
       "      <td>good</td>\n",
       "    </tr>\n",
       "    <tr>\n",
       "      <th>4</th>\n",
       "      <td>https://www.baidu.com</td>\n",
       "      <td>good</td>\n",
       "    </tr>\n",
       "    <tr>\n",
       "      <th>5</th>\n",
       "      <td>https://www.qq.com</td>\n",
       "      <td>good</td>\n",
       "    </tr>\n",
       "  </tbody>\n",
       "</table>\n",
       "</div>"
      ],
      "text/plain": [
       "                       url label\n",
       "1   https://www.google.com  good\n",
       "2  https://www.youtube.com  good\n",
       "3    https://www.tmall.com  good\n",
       "4    https://www.baidu.com  good\n",
       "5       https://www.qq.com  good"
      ]
     },
     "execution_count": 145,
     "metadata": {},
     "output_type": "execute_result"
    }
   ],
   "source": [
    "alexa = pd.read_csv(\"../Data/URLs-good/alexa1m.csv\", names=[\"url\"])\n",
    "alexa = alexa.iloc[0:10000,:]\n",
    "alexa[\"url\"] = alexa[\"url\"].apply(lambda x : \"https://www.\" + x)\n",
    "alexa[\"label\"] = \"good\"\n",
    "alexa.head(5)"
   ]
  },
  {
   "cell_type": "markdown",
   "id": "2bbea1a4-ed8b-414e-a921-21ee3a7995e7",
   "metadata": {},
   "source": [
    "## Dane ISCX"
   ]
  },
  {
   "cell_type": "code",
   "execution_count": 146,
   "id": "95dfc878-3e3f-4c84-95eb-2a7484e02b34",
   "metadata": {},
   "outputs": [
    {
     "data": {
      "text/html": [
       "<div>\n",
       "<style scoped>\n",
       "    .dataframe tbody tr th:only-of-type {\n",
       "        vertical-align: middle;\n",
       "    }\n",
       "\n",
       "    .dataframe tbody tr th {\n",
       "        vertical-align: top;\n",
       "    }\n",
       "\n",
       "    .dataframe thead th {\n",
       "        text-align: right;\n",
       "    }\n",
       "</style>\n",
       "<table border=\"1\" class=\"dataframe\">\n",
       "  <thead>\n",
       "    <tr style=\"text-align: right;\">\n",
       "      <th></th>\n",
       "      <th>url</th>\n",
       "      <th>label</th>\n",
       "    </tr>\n",
       "  </thead>\n",
       "  <tbody>\n",
       "    <tr>\n",
       "      <th>0</th>\n",
       "      <td>http://1337x.to/torrent/1048648/American-Snipe...</td>\n",
       "      <td>good</td>\n",
       "    </tr>\n",
       "    <tr>\n",
       "      <th>1</th>\n",
       "      <td>http://1337x.to/torrent/1110018/Blackhat-2015-...</td>\n",
       "      <td>good</td>\n",
       "    </tr>\n",
       "    <tr>\n",
       "      <th>2</th>\n",
       "      <td>http://1337x.to/torrent/1122940/Blackhat-2015-...</td>\n",
       "      <td>good</td>\n",
       "    </tr>\n",
       "    <tr>\n",
       "      <th>3</th>\n",
       "      <td>http://1337x.to/torrent/1124395/Fast-and-Furio...</td>\n",
       "      <td>good</td>\n",
       "    </tr>\n",
       "    <tr>\n",
       "      <th>4</th>\n",
       "      <td>http://1337x.to/torrent/1145504/Avengers-Age-o...</td>\n",
       "      <td>good</td>\n",
       "    </tr>\n",
       "    <tr>\n",
       "      <th>...</th>\n",
       "      <td>...</td>\n",
       "      <td>...</td>\n",
       "    </tr>\n",
       "    <tr>\n",
       "      <th>35373</th>\n",
       "      <td>https://lastpass.com/signup2.php?ac=1&amp;from_uri...</td>\n",
       "      <td>good</td>\n",
       "    </tr>\n",
       "    <tr>\n",
       "      <th>35374</th>\n",
       "      <td>https://lastpass.com/signup2.php?ac=1&amp;from_uri...</td>\n",
       "      <td>good</td>\n",
       "    </tr>\n",
       "    <tr>\n",
       "      <th>35375</th>\n",
       "      <td>https://lastpass.com/signup2.php?ac=1&amp;from_uri...</td>\n",
       "      <td>good</td>\n",
       "    </tr>\n",
       "    <tr>\n",
       "      <th>35376</th>\n",
       "      <td>https://lastpass.com/signup2.php?ac=1&amp;from_uri...</td>\n",
       "      <td>good</td>\n",
       "    </tr>\n",
       "    <tr>\n",
       "      <th>35377</th>\n",
       "      <td>https://asana.com/guide/videos/%22//fast.wisti...</td>\n",
       "      <td>good</td>\n",
       "    </tr>\n",
       "  </tbody>\n",
       "</table>\n",
       "<p>35378 rows × 2 columns</p>\n",
       "</div>"
      ],
      "text/plain": [
       "                                                     url label\n",
       "0      http://1337x.to/torrent/1048648/American-Snipe...  good\n",
       "1      http://1337x.to/torrent/1110018/Blackhat-2015-...  good\n",
       "2      http://1337x.to/torrent/1122940/Blackhat-2015-...  good\n",
       "3      http://1337x.to/torrent/1124395/Fast-and-Furio...  good\n",
       "4      http://1337x.to/torrent/1145504/Avengers-Age-o...  good\n",
       "...                                                  ...   ...\n",
       "35373  https://lastpass.com/signup2.php?ac=1&from_uri...  good\n",
       "35374  https://lastpass.com/signup2.php?ac=1&from_uri...  good\n",
       "35375  https://lastpass.com/signup2.php?ac=1&from_uri...  good\n",
       "35376  https://lastpass.com/signup2.php?ac=1&from_uri...  good\n",
       "35377  https://asana.com/guide/videos/%22//fast.wisti...  good\n",
       "\n",
       "[35378 rows x 2 columns]"
      ]
     },
     "execution_count": 146,
     "metadata": {},
     "output_type": "execute_result"
    }
   ],
   "source": [
    "iscx = pd.read_csv(\"../Data/URLs-good/ISCX_benign.csv\", names=[\"url\"])\n",
    "iscx['label'] = \"good\"\n",
    "iscx"
   ]
  },
  {
   "cell_type": "markdown",
   "id": "2e8964c9-110b-420c-9aab-44294cc7d3a4",
   "metadata": {},
   "source": [
    "## Łączenie danych"
   ]
  },
  {
   "cell_type": "code",
   "execution_count": 147,
   "id": "149b6ade-6a8c-4910-b5c9-217f7193f349",
   "metadata": {},
   "outputs": [
    {
     "data": {
      "text/html": [
       "<div>\n",
       "<style scoped>\n",
       "    .dataframe tbody tr th:only-of-type {\n",
       "        vertical-align: middle;\n",
       "    }\n",
       "\n",
       "    .dataframe tbody tr th {\n",
       "        vertical-align: top;\n",
       "    }\n",
       "\n",
       "    .dataframe thead th {\n",
       "        text-align: right;\n",
       "    }\n",
       "</style>\n",
       "<table border=\"1\" class=\"dataframe\">\n",
       "  <thead>\n",
       "    <tr style=\"text-align: right;\">\n",
       "      <th></th>\n",
       "      <th>url</th>\n",
       "      <th>label</th>\n",
       "    </tr>\n",
       "  </thead>\n",
       "  <tbody>\n",
       "    <tr>\n",
       "      <th>0</th>\n",
       "      <td>diaryofagameaddict.com</td>\n",
       "      <td>bad</td>\n",
       "    </tr>\n",
       "    <tr>\n",
       "      <th>1</th>\n",
       "      <td>espdesign.com.au</td>\n",
       "      <td>bad</td>\n",
       "    </tr>\n",
       "  </tbody>\n",
       "</table>\n",
       "</div>"
      ],
      "text/plain": [
       "                      url label\n",
       "0  diaryofagameaddict.com   bad\n",
       "1        espdesign.com.au   bad"
      ]
     },
     "execution_count": 147,
     "metadata": {},
     "output_type": "execute_result"
    }
   ],
   "source": [
    "df = pd.concat([kaggle,gov,cert, alexa, iscx])\n",
    "df.head(2)"
   ]
  },
  {
   "cell_type": "code",
   "execution_count": 148,
   "id": "aebb3320-6d2f-4239-a0b1-80d818d0ac8d",
   "metadata": {},
   "outputs": [],
   "source": [
    "df[\"url\"] = df.url.astype(str)"
   ]
  },
  {
   "cell_type": "markdown",
   "id": "68aa1bab-f9bd-4d75-9694-1e2b2173d2fb",
   "metadata": {},
   "source": [
    "# Trenowanie modelu"
   ]
  },
  {
   "cell_type": "markdown",
   "id": "c5147e20-db3a-4a04-b5d3-06fc72407ccd",
   "metadata": {},
   "source": [
    "Ciekawe: niektóre linki zaczynają się od **http** co jest bardzo podejrzane. "
   ]
  },
  {
   "cell_type": "code",
   "execution_count": 149,
   "id": "12fd67e8-bfe3-4e68-b722-e585780432de",
   "metadata": {},
   "outputs": [],
   "source": [
    "df = df[df[\"url\"].str.startswith(\"http\")].reset_index()"
   ]
  },
  {
   "cell_type": "markdown",
   "id": "9f135a43-6b50-43d7-8bbd-05687b8310ab",
   "metadata": {},
   "source": [
    "## Czyszczenie danych"
   ]
  },
  {
   "cell_type": "code",
   "execution_count": 150,
   "id": "5a963f18-d6b8-4274-af5a-245ca1e1b02b",
   "metadata": {},
   "outputs": [],
   "source": [
    "from urllib3.util import parse_url\n",
    "import re\n",
    "\n",
    "def parseurl(url):\n",
    "    try:\n",
    "        url = url.translate({'[': None, ']': None})\n",
    "        url = parse_url(url)\n",
    "        return url\n",
    "    except Exception as e:\n",
    "        return np.nan\n",
    "    \n",
    "def parseurl2(url):\n",
    "    try:\n",
    "        url = url.translate({'[': \"\", ']': \"\"})\n",
    "        h = re.search(\"https?:?//\", url)\n",
    "        if h is not None:\n",
    "            url = url[:h.start()] + url[h.end():]\n",
    "        url = str(parse_url(url).host)\n",
    "        \n",
    "        if url.count('.') == 0:\n",
    "            return np.nan\n",
    "        else:\n",
    "            return url\n",
    "    except:\n",
    "        return np.nan\n",
    "    "
   ]
  },
  {
   "cell_type": "code",
   "execution_count": 151,
   "id": "43ab7461-93ac-41d1-b3e0-b4efe55ee970",
   "metadata": {},
   "outputs": [],
   "source": [
    "df['parsed_url'] = df.url.apply(lambda x : parseurl(x))"
   ]
  },
  {
   "cell_type": "code",
   "execution_count": 152,
   "id": "654b2429-3e06-459a-b72e-6c9fbbb52828",
   "metadata": {},
   "outputs": [],
   "source": [
    "df.dropna(inplace=True)"
   ]
  },
  {
   "cell_type": "code",
   "execution_count": 153,
   "id": "43958731-2f88-48d3-a930-3210310f5c1a",
   "metadata": {},
   "outputs": [],
   "source": [
    "df = df.reset_index()"
   ]
  },
  {
   "cell_type": "code",
   "execution_count": 154,
   "id": "e6c88cc6-7d77-42cf-834c-56cd89da5439",
   "metadata": {},
   "outputs": [],
   "source": [
    "u = df.url.apply(lambda x : list(parseurl(x)))"
   ]
  },
  {
   "cell_type": "code",
   "execution_count": 155,
   "id": "03377fff-4c14-4f14-a267-14b6865e84b2",
   "metadata": {},
   "outputs": [
    {
     "data": {
      "text/plain": [
       "Url(scheme='https', auth=None, host='goog.lp', port=None, path=None, query=None, fragment=None)"
      ]
     },
     "execution_count": 155,
     "metadata": {},
     "output_type": "execute_result"
    }
   ],
   "source": [
    "parseurl(\"https://goog.lp\")"
   ]
  },
  {
   "cell_type": "code",
   "execution_count": 156,
   "id": "8f86b2da-5988-4c7c-9cfb-43f9564b0aa2",
   "metadata": {},
   "outputs": [],
   "source": [
    "df['schema'] = u.apply(lambda x : x[0])\n",
    "df['auth'] = u.apply(lambda x : x[1])\n",
    "df['host'] = u.apply(lambda x : x[2])\n",
    "df['port'] = u.apply(lambda x : x[3])\n",
    "df['path'] = u.apply(lambda x : x[4])\n",
    "df['query'] = u.apply(lambda x : x[5])\n",
    "df['fragment'] = u.apply(lambda x : x[6])"
   ]
  },
  {
   "cell_type": "code",
   "execution_count": 158,
   "id": "10fafce2-3d1a-46aa-95c1-cbd02ab48fb2",
   "metadata": {},
   "outputs": [
    {
     "data": {
      "text/html": [
       "<div>\n",
       "<style scoped>\n",
       "    .dataframe tbody tr th:only-of-type {\n",
       "        vertical-align: middle;\n",
       "    }\n",
       "\n",
       "    .dataframe tbody tr th {\n",
       "        vertical-align: top;\n",
       "    }\n",
       "\n",
       "    .dataframe thead th {\n",
       "        text-align: right;\n",
       "    }\n",
       "</style>\n",
       "<table border=\"1\" class=\"dataframe\">\n",
       "  <thead>\n",
       "    <tr style=\"text-align: right;\">\n",
       "      <th></th>\n",
       "      <th>level_0</th>\n",
       "      <th>index</th>\n",
       "      <th>url</th>\n",
       "      <th>label</th>\n",
       "      <th>parsed_url</th>\n",
       "      <th>schema</th>\n",
       "      <th>auth</th>\n",
       "      <th>host</th>\n",
       "      <th>port</th>\n",
       "      <th>path</th>\n",
       "      <th>query</th>\n",
       "      <th>fragment</th>\n",
       "    </tr>\n",
       "  </thead>\n",
       "  <tbody>\n",
       "    <tr>\n",
       "      <th>0</th>\n",
       "      <td>0</td>\n",
       "      <td>2628</td>\n",
       "      <td>http://www.oilchangeasheville.com/https:/www2....</td>\n",
       "      <td>bad</td>\n",
       "      <td>(http, None, www.oilchangeasheville.com, None,...</td>\n",
       "      <td>http</td>\n",
       "      <td>None</td>\n",
       "      <td>www.oilchangeasheville.com</td>\n",
       "      <td>NaN</td>\n",
       "      <td>/https:/www2.Santander.com.br/TopoEscolhaAcess...</td>\n",
       "      <td>None</td>\n",
       "      <td>None</td>\n",
       "    </tr>\n",
       "    <tr>\n",
       "      <th>1</th>\n",
       "      <td>1</td>\n",
       "      <td>2783</td>\n",
       "      <td>https-paypal.verifications-updates.com/</td>\n",
       "      <td>bad</td>\n",
       "      <td>(None, None, https-paypal.verifications-update...</td>\n",
       "      <td>None</td>\n",
       "      <td>None</td>\n",
       "      <td>https-paypal.verifications-updates.com</td>\n",
       "      <td>NaN</td>\n",
       "      <td>/</td>\n",
       "      <td>None</td>\n",
       "      <td>None</td>\n",
       "    </tr>\n",
       "    <tr>\n",
       "      <th>2</th>\n",
       "      <td>2</td>\n",
       "      <td>3511</td>\n",
       "      <td>http://leticiaaraujo.com.br/VAN-GOG.969/ATUALI...</td>\n",
       "      <td>bad</td>\n",
       "      <td>(http, None, leticiaaraujo.com.br, None, /VAN-...</td>\n",
       "      <td>http</td>\n",
       "      <td>None</td>\n",
       "      <td>leticiaaraujo.com.br</td>\n",
       "      <td>NaN</td>\n",
       "      <td>/VAN-GOG.969/ATUALIZACAO.CLIENTE.SANTANDER.ATI...</td>\n",
       "      <td>%20id=03,04,03,AM,287,10,10,000000,14,3,2016,F...</td>\n",
       "      <td>None</td>\n",
       "    </tr>\n",
       "    <tr>\n",
       "      <th>3</th>\n",
       "      <td>3</td>\n",
       "      <td>3524</td>\n",
       "      <td>http://leticiaaraujo.com.br/VAN-GOG.969/ATUALI...</td>\n",
       "      <td>bad</td>\n",
       "      <td>(http, None, leticiaaraujo.com.br, None, /VAN-...</td>\n",
       "      <td>http</td>\n",
       "      <td>None</td>\n",
       "      <td>leticiaaraujo.com.br</td>\n",
       "      <td>NaN</td>\n",
       "      <td>/VAN-GOG.969/ATUALIZACAO.CLIENTE.SANTANDER.ATI...</td>\n",
       "      <td>+id=03,04,03,AM,287,10,10,000000,14,3,2016,Fri...</td>\n",
       "      <td>None</td>\n",
       "    </tr>\n",
       "    <tr>\n",
       "      <th>4</th>\n",
       "      <td>4</td>\n",
       "      <td>4280</td>\n",
       "      <td>http://www.ime.edu.co/firmasime/Santander/pess...</td>\n",
       "      <td>bad</td>\n",
       "      <td>(http, None, www.ime.edu.co, None, /firmasime/...</td>\n",
       "      <td>http</td>\n",
       "      <td>None</td>\n",
       "      <td>www.ime.edu.co</td>\n",
       "      <td>NaN</td>\n",
       "      <td>/firmasime/Santander/pessoa-fisica/index1.php</td>\n",
       "      <td>%20id=20,37,43,PM,283,10,10,000000,10,8,2016,M...</td>\n",
       "      <td>None</td>\n",
       "    </tr>\n",
       "  </tbody>\n",
       "</table>\n",
       "</div>"
      ],
      "text/plain": [
       "   level_0  index                                                url label  \\\n",
       "0        0   2628  http://www.oilchangeasheville.com/https:/www2....   bad   \n",
       "1        1   2783            https-paypal.verifications-updates.com/   bad   \n",
       "2        2   3511  http://leticiaaraujo.com.br/VAN-GOG.969/ATUALI...   bad   \n",
       "3        3   3524  http://leticiaaraujo.com.br/VAN-GOG.969/ATUALI...   bad   \n",
       "4        4   4280  http://www.ime.edu.co/firmasime/Santander/pess...   bad   \n",
       "\n",
       "                                          parsed_url schema  auth  \\\n",
       "0  (http, None, www.oilchangeasheville.com, None,...   http  None   \n",
       "1  (None, None, https-paypal.verifications-update...   None  None   \n",
       "2  (http, None, leticiaaraujo.com.br, None, /VAN-...   http  None   \n",
       "3  (http, None, leticiaaraujo.com.br, None, /VAN-...   http  None   \n",
       "4  (http, None, www.ime.edu.co, None, /firmasime/...   http  None   \n",
       "\n",
       "                                     host  port  \\\n",
       "0              www.oilchangeasheville.com   NaN   \n",
       "1  https-paypal.verifications-updates.com   NaN   \n",
       "2                    leticiaaraujo.com.br   NaN   \n",
       "3                    leticiaaraujo.com.br   NaN   \n",
       "4                          www.ime.edu.co   NaN   \n",
       "\n",
       "                                                path  \\\n",
       "0  /https:/www2.Santander.com.br/TopoEscolhaAcess...   \n",
       "1                                                  /   \n",
       "2  /VAN-GOG.969/ATUALIZACAO.CLIENTE.SANTANDER.ATI...   \n",
       "3  /VAN-GOG.969/ATUALIZACAO.CLIENTE.SANTANDER.ATI...   \n",
       "4      /firmasime/Santander/pessoa-fisica/index1.php   \n",
       "\n",
       "                                               query fragment  \n",
       "0                                               None     None  \n",
       "1                                               None     None  \n",
       "2  %20id=03,04,03,AM,287,10,10,000000,14,3,2016,F...     None  \n",
       "3  +id=03,04,03,AM,287,10,10,000000,14,3,2016,Fri...     None  \n",
       "4  %20id=20,37,43,PM,283,10,10,000000,10,8,2016,M...     None  "
      ]
     },
     "execution_count": 158,
     "metadata": {},
     "output_type": "execute_result"
    }
   ],
   "source": [
    "df.head(5)"
   ]
  },
  {
   "cell_type": "code",
   "execution_count": 159,
   "id": "81a5fc87-f9d6-45e2-a984-9e629c94e590",
   "metadata": {},
   "outputs": [
    {
     "data": {
      "text/html": [
       "<div>\n",
       "<style scoped>\n",
       "    .dataframe tbody tr th:only-of-type {\n",
       "        vertical-align: middle;\n",
       "    }\n",
       "\n",
       "    .dataframe tbody tr th {\n",
       "        vertical-align: top;\n",
       "    }\n",
       "\n",
       "    .dataframe thead th {\n",
       "        text-align: right;\n",
       "    }\n",
       "</style>\n",
       "<table border=\"1\" class=\"dataframe\">\n",
       "  <thead>\n",
       "    <tr style=\"text-align: right;\">\n",
       "      <th></th>\n",
       "      <th>level_0</th>\n",
       "      <th>index</th>\n",
       "      <th>url</th>\n",
       "      <th>parsed_url</th>\n",
       "      <th>schema</th>\n",
       "      <th>auth</th>\n",
       "      <th>host</th>\n",
       "      <th>port</th>\n",
       "      <th>path</th>\n",
       "      <th>query</th>\n",
       "      <th>fragment</th>\n",
       "    </tr>\n",
       "    <tr>\n",
       "      <th>label</th>\n",
       "      <th></th>\n",
       "      <th></th>\n",
       "      <th></th>\n",
       "      <th></th>\n",
       "      <th></th>\n",
       "      <th></th>\n",
       "      <th></th>\n",
       "      <th></th>\n",
       "      <th></th>\n",
       "      <th></th>\n",
       "      <th></th>\n",
       "    </tr>\n",
       "  </thead>\n",
       "  <tbody>\n",
       "    <tr>\n",
       "      <th>bad</th>\n",
       "      <td>124</td>\n",
       "      <td>124</td>\n",
       "      <td>124</td>\n",
       "      <td>124</td>\n",
       "      <td>110</td>\n",
       "      <td>0</td>\n",
       "      <td>121</td>\n",
       "      <td>0</td>\n",
       "      <td>121</td>\n",
       "      <td>52</td>\n",
       "      <td>2</td>\n",
       "    </tr>\n",
       "    <tr>\n",
       "      <th>good</th>\n",
       "      <td>60381</td>\n",
       "      <td>60381</td>\n",
       "      <td>60381</td>\n",
       "      <td>60381</td>\n",
       "      <td>60375</td>\n",
       "      <td>0</td>\n",
       "      <td>60371</td>\n",
       "      <td>1</td>\n",
       "      <td>43960</td>\n",
       "      <td>10309</td>\n",
       "      <td>16</td>\n",
       "    </tr>\n",
       "  </tbody>\n",
       "</table>\n",
       "</div>"
      ],
      "text/plain": [
       "       level_0  index    url  parsed_url  schema  auth   host  port   path  \\\n",
       "label                                                                        \n",
       "bad        124    124    124         124     110     0    121     0    121   \n",
       "good     60381  60381  60381       60381   60375     0  60371     1  43960   \n",
       "\n",
       "       query  fragment  \n",
       "label                   \n",
       "bad       52         2  \n",
       "good   10309        16  "
      ]
     },
     "execution_count": 159,
     "metadata": {},
     "output_type": "execute_result"
    }
   ],
   "source": [
    "df.groupby(\"label\").count()"
   ]
  },
  {
   "cell_type": "markdown",
   "id": "1b8335e6-9b41-4371-9215-e805e04c8a83",
   "metadata": {},
   "source": [
    "## Obliczanie metryk"
   ]
  },
  {
   "cell_type": "markdown",
   "id": "94be1819-73b5-4895-95f7-13ed990d82a3",
   "metadata": {},
   "source": [
    "### Popularność domeny"
   ]
  },
  {
   "cell_type": "code",
   "execution_count": 120,
   "id": "e26f3372-674d-45a5-86b2-dd82e833af75",
   "metadata": {},
   "outputs": [],
   "source": [
    "df['domain'] = df[\"url\"].str.split('.', n=1, expand=True)[1]\n",
    "count = df.groupby([\"domain\"]).count().reset_index().iloc[:, [0,1]]\n",
    "count.columns = [\"domain\", \"count\"]\n",
    "df= df.merge(count,on=[\"domain\"])"
   ]
  },
  {
   "cell_type": "code",
   "execution_count": 121,
   "id": "7f4590d5-0546-4069-a1de-ba80ba0260d1",
   "metadata": {},
   "outputs": [
    {
     "data": {
      "text/html": [
       "<div>\n",
       "<style scoped>\n",
       "    .dataframe tbody tr th:only-of-type {\n",
       "        vertical-align: middle;\n",
       "    }\n",
       "\n",
       "    .dataframe tbody tr th {\n",
       "        vertical-align: top;\n",
       "    }\n",
       "\n",
       "    .dataframe thead th {\n",
       "        text-align: right;\n",
       "    }\n",
       "</style>\n",
       "<table border=\"1\" class=\"dataframe\">\n",
       "  <thead>\n",
       "    <tr style=\"text-align: right;\">\n",
       "      <th></th>\n",
       "      <th>url</th>\n",
       "      <th>label</th>\n",
       "      <th>parsed_url</th>\n",
       "      <th>domain</th>\n",
       "      <th>count</th>\n",
       "    </tr>\n",
       "  </thead>\n",
       "  <tbody>\n",
       "    <tr>\n",
       "      <th>0</th>\n",
       "      <td>diaryofagameaddict.com</td>\n",
       "      <td>bad</td>\n",
       "      <td>diaryofagameaddict.com</td>\n",
       "      <td>com</td>\n",
       "      <td>1613</td>\n",
       "    </tr>\n",
       "    <tr>\n",
       "      <th>1</th>\n",
       "      <td>iamagameaddict.com</td>\n",
       "      <td>bad</td>\n",
       "      <td>iamagameaddict.com</td>\n",
       "      <td>com</td>\n",
       "      <td>1613</td>\n",
       "    </tr>\n",
       "    <tr>\n",
       "      <th>2</th>\n",
       "      <td>toddscarwash.com</td>\n",
       "      <td>bad</td>\n",
       "      <td>toddscarwash.com</td>\n",
       "      <td>com</td>\n",
       "      <td>1613</td>\n",
       "    </tr>\n",
       "    <tr>\n",
       "      <th>3</th>\n",
       "      <td>tubemoviez.com</td>\n",
       "      <td>bad</td>\n",
       "      <td>tubemoviez.com</td>\n",
       "      <td>com</td>\n",
       "      <td>1613</td>\n",
       "    </tr>\n",
       "    <tr>\n",
       "      <th>4</th>\n",
       "      <td>sn-gzzx.com</td>\n",
       "      <td>bad</td>\n",
       "      <td>sn-gzzx.com</td>\n",
       "      <td>com</td>\n",
       "      <td>1613</td>\n",
       "    </tr>\n",
       "    <tr>\n",
       "      <th>...</th>\n",
       "      <td>...</td>\n",
       "      <td>...</td>\n",
       "      <td>...</td>\n",
       "      <td>...</td>\n",
       "      <td>...</td>\n",
       "    </tr>\n",
       "    <tr>\n",
       "      <th>506330</th>\n",
       "      <td>zaktualizacja-platnosci.netaidver.site</td>\n",
       "      <td>bad</td>\n",
       "      <td>zaktualizacja-platnosci.netaidver.site</td>\n",
       "      <td>netaidver.site</td>\n",
       "      <td>1</td>\n",
       "    </tr>\n",
       "    <tr>\n",
       "      <th>506331</th>\n",
       "      <td>zaktualizuj-konto.zaktualizuj4562.co.pl</td>\n",
       "      <td>bad</td>\n",
       "      <td>zaktualizuj-konto.zaktualizuj4562.co.pl</td>\n",
       "      <td>zaktualizuj4562.co.pl</td>\n",
       "      <td>1</td>\n",
       "    </tr>\n",
       "    <tr>\n",
       "      <th>506332</th>\n",
       "      <td>zaktualizuj.neftlix.tajbirds.com</td>\n",
       "      <td>bad</td>\n",
       "      <td>zaktualizuj.neftlix.tajbirds.com</td>\n",
       "      <td>neftlix.tajbirds.com</td>\n",
       "      <td>1</td>\n",
       "    </tr>\n",
       "    <tr>\n",
       "      <th>506333</th>\n",
       "      <td>zap588693-1.plesk10.zap-webspace.com</td>\n",
       "      <td>bad</td>\n",
       "      <td>zap588693-1.plesk10.zap-webspace.com</td>\n",
       "      <td>plesk10.zap-webspace.com</td>\n",
       "      <td>1</td>\n",
       "    </tr>\n",
       "    <tr>\n",
       "      <th>506334</th>\n",
       "      <td>zbyk.drl.pl</td>\n",
       "      <td>bad</td>\n",
       "      <td>zbyk.drl.pl</td>\n",
       "      <td>drl.pl</td>\n",
       "      <td>1</td>\n",
       "    </tr>\n",
       "  </tbody>\n",
       "</table>\n",
       "<p>506335 rows × 5 columns</p>\n",
       "</div>"
      ],
      "text/plain": [
       "                                            url label  \\\n",
       "0                        diaryofagameaddict.com   bad   \n",
       "1                            iamagameaddict.com   bad   \n",
       "2                              toddscarwash.com   bad   \n",
       "3                                tubemoviez.com   bad   \n",
       "4                                   sn-gzzx.com   bad   \n",
       "...                                         ...   ...   \n",
       "506330   zaktualizacja-platnosci.netaidver.site   bad   \n",
       "506331  zaktualizuj-konto.zaktualizuj4562.co.pl   bad   \n",
       "506332         zaktualizuj.neftlix.tajbirds.com   bad   \n",
       "506333     zap588693-1.plesk10.zap-webspace.com   bad   \n",
       "506334                              zbyk.drl.pl   bad   \n",
       "\n",
       "                                     parsed_url                    domain  \\\n",
       "0                        diaryofagameaddict.com                       com   \n",
       "1                            iamagameaddict.com                       com   \n",
       "2                              toddscarwash.com                       com   \n",
       "3                                tubemoviez.com                       com   \n",
       "4                                   sn-gzzx.com                       com   \n",
       "...                                         ...                       ...   \n",
       "506330   zaktualizacja-platnosci.netaidver.site            netaidver.site   \n",
       "506331  zaktualizuj-konto.zaktualizuj4562.co.pl     zaktualizuj4562.co.pl   \n",
       "506332         zaktualizuj.neftlix.tajbirds.com      neftlix.tajbirds.com   \n",
       "506333     zap588693-1.plesk10.zap-webspace.com  plesk10.zap-webspace.com   \n",
       "506334                              zbyk.drl.pl                    drl.pl   \n",
       "\n",
       "        count  \n",
       "0        1613  \n",
       "1        1613  \n",
       "2        1613  \n",
       "3        1613  \n",
       "4        1613  \n",
       "...       ...  \n",
       "506330      1  \n",
       "506331      1  \n",
       "506332      1  \n",
       "506333      1  \n",
       "506334      1  \n",
       "\n",
       "[506335 rows x 5 columns]"
      ]
     },
     "execution_count": 121,
     "metadata": {},
     "output_type": "execute_result"
    }
   ],
   "source": [
    "df"
   ]
  },
  {
   "cell_type": "markdown",
   "id": "068a8fd9-21c5-410b-96c2-6240a0083b20",
   "metadata": {},
   "source": [
    "### Pozostałe"
   ]
  },
  {
   "cell_type": "code",
   "execution_count": 15,
   "id": "cdd95e58-a2dc-4a2b-960a-8e8a4889e745",
   "metadata": {},
   "outputs": [],
   "source": [
    "def count_special_symbols(domain):\n",
    "    counter = 0\n",
    "    for char in domain:\n",
    "        if char.isalpha() or char.isdigit():\n",
    "            continue\n",
    "        else:\n",
    "            counter += 1\n",
    "    return counter\n",
    "\n",
    "\n",
    "def count_digits(domain):\n",
    "    counter = 0\n",
    "    for char in domain:\n",
    "        if char.isdigit():\n",
    "            counter += 1\n",
    "    return counter\n"
   ]
  },
  {
   "cell_type": "code",
   "execution_count": 122,
   "id": "1b86caff-98d9-46b6-b9c3-506d5d7b2b27",
   "metadata": {},
   "outputs": [],
   "source": [
    "def calculate_metrics(df_):\n",
    "    \n",
    "    series = df_[\"url\"]\n",
    "    # Długość\n",
    "    length = series.apply(lambda x : len(x))\n",
    "    \n",
    "    # Ilość subdomen\n",
    "    nsubdomains = series.apply(lambda x : x.count('.'))\n",
    "    \n",
    "    # Średnia długość subdomen\n",
    "    meanlensubdomains = series.apply(lambda x : (len(x)-x.count('.'))/x.count('.'))\n",
    "    \n",
    "    # Ilość cyfr\n",
    "    ndigits = series.apply(lambda x : count_digits(x))\n",
    "    \n",
    "    # Ilość znaków specjalnych - kropki\n",
    "    nspecial = series.apply(lambda x : count_special_symbols(x) - x.count('.'))\n",
    "    \n",
    "    # Długość pierwszej subdomeny\n",
    "    lastlen = series.apply(lambda x : len(x.split('.')[0]))\n",
    "    \n",
    "    # Popularność domeny\n",
    "\n",
    "    df_['domain'] = df_[\"url\"].str.split('.', n=1, expand=True)[1]\n",
    "    df_ = df_.merge(count,on=[\"domain\"])\n",
    "    \n",
    "    #df_[\"top\"] = df_[\"url\"].apply(lambda x : x.split('.')[-1])\n",
    "    #popularity =  df_.apply(lambda x : len( df_[(df_[\"top\"] == x.top) ]) , axis=1)\n",
    "    \n",
    "    # Polularność słów występujących\n",
    "    \n",
    "    \n",
    "    return np.array([length, nsubdomains, meanlensubdomains, ndigits, nspecial, lastlen]).T"
   ]
  },
  {
   "cell_type": "markdown",
   "id": "edae9bfe-d36c-48d6-8784-2cfe3a77d785",
   "metadata": {},
   "source": [
    "# Trenowanie modelu"
   ]
  },
  {
   "cell_type": "code",
   "execution_count": 145,
   "id": "d44656e1-415c-4608-902c-5fa0dc31135d",
   "metadata": {},
   "outputs": [],
   "source": [
    "from sklearn.linear_model import LogisticRegression\n",
    "from sklearn.metrics import classification_report\n",
    "from sklearn.metrics import confusion_matrix\n",
    "from sklearn.model_selection import train_test_split\n",
    "from sklearn.preprocessing import StandardScaler\n",
    "from sklearn import metrics\n",
    "sc = StandardScaler()\n",
    "\n",
    "dane = pd.DataFrame(df.iloc[:,[1,2]])\n",
    "dane.columns = [\"label\", \"url\"]"
   ]
  },
  {
   "cell_type": "code",
   "execution_count": 146,
   "id": "0eb212d6-e31a-4494-b63d-4e50c8531703",
   "metadata": {},
   "outputs": [
    {
     "data": {
      "text/html": [
       "<div>\n",
       "<style scoped>\n",
       "    .dataframe tbody tr th:only-of-type {\n",
       "        vertical-align: middle;\n",
       "    }\n",
       "\n",
       "    .dataframe tbody tr th {\n",
       "        vertical-align: top;\n",
       "    }\n",
       "\n",
       "    .dataframe thead th {\n",
       "        text-align: right;\n",
       "    }\n",
       "</style>\n",
       "<table border=\"1\" class=\"dataframe\">\n",
       "  <thead>\n",
       "    <tr style=\"text-align: right;\">\n",
       "      <th></th>\n",
       "      <th>label</th>\n",
       "      <th>url</th>\n",
       "      <th>enc</th>\n",
       "    </tr>\n",
       "  </thead>\n",
       "  <tbody>\n",
       "    <tr>\n",
       "      <th>0</th>\n",
       "      <td>bad</td>\n",
       "      <td>diaryofagameaddict.com</td>\n",
       "      <td>0</td>\n",
       "    </tr>\n",
       "    <tr>\n",
       "      <th>1</th>\n",
       "      <td>bad</td>\n",
       "      <td>iamagameaddict.com</td>\n",
       "      <td>0</td>\n",
       "    </tr>\n",
       "    <tr>\n",
       "      <th>2</th>\n",
       "      <td>bad</td>\n",
       "      <td>toddscarwash.com</td>\n",
       "      <td>0</td>\n",
       "    </tr>\n",
       "    <tr>\n",
       "      <th>3</th>\n",
       "      <td>bad</td>\n",
       "      <td>tubemoviez.com</td>\n",
       "      <td>0</td>\n",
       "    </tr>\n",
       "    <tr>\n",
       "      <th>4</th>\n",
       "      <td>bad</td>\n",
       "      <td>sn-gzzx.com</td>\n",
       "      <td>0</td>\n",
       "    </tr>\n",
       "    <tr>\n",
       "      <th>...</th>\n",
       "      <td>...</td>\n",
       "      <td>...</td>\n",
       "      <td>...</td>\n",
       "    </tr>\n",
       "    <tr>\n",
       "      <th>148244</th>\n",
       "      <td>good</td>\n",
       "      <td>freepages.genealogy.rootsweb.ancestry.com</td>\n",
       "      <td>1</td>\n",
       "    </tr>\n",
       "    <tr>\n",
       "      <th>148245</th>\n",
       "      <td>good</td>\n",
       "      <td>freepages.genealogy.rootsweb.ancestry.com</td>\n",
       "      <td>1</td>\n",
       "    </tr>\n",
       "    <tr>\n",
       "      <th>148246</th>\n",
       "      <td>good</td>\n",
       "      <td>freepages.genealogy.rootsweb.ancestry.com</td>\n",
       "      <td>1</td>\n",
       "    </tr>\n",
       "    <tr>\n",
       "      <th>148247</th>\n",
       "      <td>good</td>\n",
       "      <td>freepages.genealogy.rootsweb.ancestry.com</td>\n",
       "      <td>1</td>\n",
       "    </tr>\n",
       "    <tr>\n",
       "      <th>148248</th>\n",
       "      <td>good</td>\n",
       "      <td>freepages.genealogy.rootsweb.ancestry.com</td>\n",
       "      <td>1</td>\n",
       "    </tr>\n",
       "  </tbody>\n",
       "</table>\n",
       "<p>192048 rows × 3 columns</p>\n",
       "</div>"
      ],
      "text/plain": [
       "       label                                        url  enc\n",
       "0        bad                     diaryofagameaddict.com    0\n",
       "1        bad                         iamagameaddict.com    0\n",
       "2        bad                           toddscarwash.com    0\n",
       "3        bad                             tubemoviez.com    0\n",
       "4        bad                                sn-gzzx.com    0\n",
       "...      ...                                        ...  ...\n",
       "148244  good  freepages.genealogy.rootsweb.ancestry.com    1\n",
       "148245  good  freepages.genealogy.rootsweb.ancestry.com    1\n",
       "148246  good  freepages.genealogy.rootsweb.ancestry.com    1\n",
       "148247  good  freepages.genealogy.rootsweb.ancestry.com    1\n",
       "148248  good  freepages.genealogy.rootsweb.ancestry.com    1\n",
       "\n",
       "[192048 rows x 3 columns]"
      ]
     },
     "execution_count": 146,
     "metadata": {},
     "output_type": "execute_result"
    }
   ],
   "source": [
    "from sklearn import preprocessing\n",
    "\n",
    "balanced_df = pd.concat([dane[dane.label == 'bad'],dane[dane.label == 'good'].iloc[1:100000,:]])\n",
    "le = preprocessing.LabelEncoder()\n",
    "le.fit(balanced_df.label)\n",
    "balanced_df[\"enc\"] = le.transform(balanced_df.label)\n",
    "balanced_df"
   ]
  },
  {
   "cell_type": "code",
   "execution_count": 125,
   "id": "55fd4309-6af9-4c92-8c1b-b126cae5beee",
   "metadata": {},
   "outputs": [
    {
     "data": {
      "text/plain": [
       "array([[22.  ,  1.  , 21.  ,  0.  ,  0.  , 18.  ],\n",
       "       [18.  ,  1.  , 17.  ,  0.  ,  0.  , 14.  ],\n",
       "       [16.  ,  1.  , 15.  ,  0.  ,  0.  , 12.  ],\n",
       "       ...,\n",
       "       [41.  ,  4.  ,  9.25,  0.  ,  0.  ,  9.  ],\n",
       "       [41.  ,  4.  ,  9.25,  0.  ,  0.  ,  9.  ],\n",
       "       [41.  ,  4.  ,  9.25,  0.  ,  0.  ,  9.  ]])"
      ]
     },
     "execution_count": 125,
     "metadata": {},
     "output_type": "execute_result"
    }
   ],
   "source": [
    "features = calculate_metrics(balanced_df)\n",
    "features"
   ]
  },
  {
   "cell_type": "code",
   "execution_count": 160,
   "id": "0085c16e-b0b0-49e4-b911-76c8c23d9cc5",
   "metadata": {},
   "outputs": [],
   "source": [
    "trainX, testX, trainY, testY = train_test_split(features, balanced_df.enc)\n",
    "trainX = sc.fit_transform(trainX)\n",
    "testX = sc.transform(testX)"
   ]
  },
  {
   "cell_type": "markdown",
   "id": "5dcb239c-5cd7-4bee-8e1d-3a8033b9000c",
   "metadata": {},
   "source": [
    "# Wektory wspierające"
   ]
  },
  {
   "cell_type": "code",
   "execution_count": 127,
   "id": "4bd5ab46-4645-48d9-824a-7cab93bdcf52",
   "metadata": {},
   "outputs": [
    {
     "name": "stdout",
     "output_type": "stream",
     "text": [
      "[LibSVM]"
     ]
    },
    {
     "data": {
      "text/plain": [
       "SVC(verbose=True)"
      ]
     },
     "execution_count": 127,
     "metadata": {},
     "output_type": "execute_result"
    }
   ],
   "source": [
    "from sklearn import svm\n",
    "\n",
    "clf = svm.SVC(verbose=True)\n",
    "clf.fit(trainX, trainY)"
   ]
  },
  {
   "cell_type": "code",
   "execution_count": 128,
   "id": "360a3b9b-b6ed-4c1e-9fd7-6cc2bb8db2bc",
   "metadata": {},
   "outputs": [
    {
     "data": {
      "text/plain": [
       "0.67564"
      ]
     },
     "execution_count": 128,
     "metadata": {},
     "output_type": "execute_result"
    }
   ],
   "source": [
    "clf.score(testX, testY)"
   ]
  },
  {
   "cell_type": "code",
   "execution_count": 129,
   "id": "8687af43-88ac-4bb4-88a2-c8880d597806",
   "metadata": {},
   "outputs": [
    {
     "data": {
      "text/plain": [
       "0.6932590743230267"
      ]
     },
     "execution_count": 129,
     "metadata": {},
     "output_type": "execute_result"
    }
   ],
   "source": [
    "clf.score(testX[testY == 1], testY[testY == 1]) # Dane dobre = 1"
   ]
  },
  {
   "cell_type": "code",
   "execution_count": 130,
   "id": "836869bd-9bc3-451d-b3f5-bf898f23c62d",
   "metadata": {},
   "outputs": [
    {
     "data": {
      "text/plain": [
       "0.6564990611308158"
      ]
     },
     "execution_count": 130,
     "metadata": {},
     "output_type": "execute_result"
    }
   ],
   "source": [
    "clf.score(testX[testY == 0], testY[testY == 0]) # Dane złe = 1"
   ]
  },
  {
   "cell_type": "code",
   "execution_count": 117,
   "id": "8229cd0f-eb98-4188-9d5d-d46d8b246832",
   "metadata": {},
   "outputs": [
    {
     "data": {
      "text/plain": [
       "array([0])"
      ]
     },
     "execution_count": 117,
     "metadata": {},
     "output_type": "execute_result"
    }
   ],
   "source": [
    "clf.predict(sc.transform(calculate_metrics(pd.DataFrame([\"shbwgen.blogspot.com\t\"], columns = [\"url\"]))))"
   ]
  },
  {
   "cell_type": "markdown",
   "id": "90a5f6d2-2eb0-4998-9ebd-3940c8e574e8",
   "metadata": {},
   "source": [
    "# Drzewo losowe"
   ]
  },
  {
   "cell_type": "code",
   "execution_count": 161,
   "id": "130bbe5e-1d83-4b0e-af9a-10f9e20a5e61",
   "metadata": {},
   "outputs": [
    {
     "name": "stderr",
     "output_type": "stream",
     "text": [
      "[Parallel(n_jobs=1)]: Using backend SequentialBackend with 1 concurrent workers.\n",
      "[Parallel(n_jobs=1)]: Done 100 out of 100 | elapsed:    5.0s finished\n"
     ]
    },
    {
     "data": {
      "text/plain": [
       "RandomForestClassifier(criterion='entropy', max_depth=6, min_samples_leaf=2,\n",
       "                       random_state=0, verbose=1)"
      ]
     },
     "execution_count": 161,
     "metadata": {},
     "output_type": "execute_result"
    }
   ],
   "source": [
    "from sklearn.ensemble import RandomForestClassifier\n",
    "clf2 = RandomForestClassifier(max_depth=6, random_state=0, criterion=\"entropy\", min_samples_split=2, min_samples_leaf=2,verbose=1)\n",
    "clf2.fit(trainX, trainY)"
   ]
  },
  {
   "cell_type": "code",
   "execution_count": 162,
   "id": "2199a1f3-f5ec-4b96-9459-6e447c59e6dd",
   "metadata": {},
   "outputs": [
    {
     "name": "stderr",
     "output_type": "stream",
     "text": [
      "[Parallel(n_jobs=1)]: Using backend SequentialBackend with 1 concurrent workers.\n",
      "[Parallel(n_jobs=1)]: Done 100 out of 100 | elapsed:    0.3s finished\n"
     ]
    },
    {
     "data": {
      "text/plain": [
       "0.6768932766808298"
      ]
     },
     "execution_count": 162,
     "metadata": {},
     "output_type": "execute_result"
    }
   ],
   "source": [
    "clf2.score(testX, testY)"
   ]
  },
  {
   "cell_type": "code",
   "execution_count": 163,
   "id": "84f1eb7e-9f2b-440a-95f5-b6816de43c0f",
   "metadata": {},
   "outputs": [
    {
     "name": "stderr",
     "output_type": "stream",
     "text": [
      "[Parallel(n_jobs=1)]: Using backend SequentialBackend with 1 concurrent workers.\n",
      "[Parallel(n_jobs=1)]: Done 100 out of 100 | elapsed:    0.1s finished\n"
     ]
    },
    {
     "data": {
      "text/plain": [
       "0.7854372425926667"
      ]
     },
     "execution_count": 163,
     "metadata": {},
     "output_type": "execute_result"
    }
   ],
   "source": [
    "clf2.score(testX[testY == 1], testY[testY == 1]) # Dane dobre"
   ]
  },
  {
   "cell_type": "code",
   "execution_count": 164,
   "id": "1ab7c9ac-898a-4ec8-b35c-3837897fca9c",
   "metadata": {},
   "outputs": [
    {
     "name": "stderr",
     "output_type": "stream",
     "text": [
      "[Parallel(n_jobs=1)]: Using backend SequentialBackend with 1 concurrent workers.\n",
      "[Parallel(n_jobs=1)]: Done 100 out of 100 | elapsed:    0.1s finished\n"
     ]
    },
    {
     "data": {
      "text/plain": [
       "0.5588836238751467"
      ]
     },
     "execution_count": 164,
     "metadata": {},
     "output_type": "execute_result"
    }
   ],
   "source": [
    "clf2.score(testX[testY == 0], testY[testY == 0]) # Dane złe"
   ]
  },
  {
   "cell_type": "code",
   "execution_count": 179,
   "id": "85563564-c754-4fb5-a5cc-1d8f0101f787",
   "metadata": {},
   "outputs": [
    {
     "name": "stderr",
     "output_type": "stream",
     "text": [
      "[Parallel(n_jobs=1)]: Using backend SequentialBackend with 1 concurrent workers.\n",
      "[Parallel(n_jobs=1)]: Done 100 out of 100 | elapsed:    0.0s finished\n"
     ]
    },
    {
     "data": {
      "text/plain": [
       "array([0])"
      ]
     },
     "execution_count": 179,
     "metadata": {},
     "output_type": "execute_result"
    }
   ],
   "source": [
    "clf2.predict(sc.transform(calculate_metrics(pd.DataFrame([\"podroznik.pl/\"], columns = [\"url\"]))))"
   ]
  },
  {
   "cell_type": "markdown",
   "id": "20eb93d7-10ca-4de8-91ad-2bb2b8c3d2ef",
   "metadata": {},
   "source": [
    "# ŚMIECI"
   ]
  }
 ],
 "metadata": {
  "kernelspec": {
   "display_name": "Python 3",
   "language": "python",
   "name": "python3"
  },
  "language_info": {
   "codemirror_mode": {
    "name": "ipython",
    "version": 3
   },
   "file_extension": ".py",
   "mimetype": "text/x-python",
   "name": "python",
   "nbconvert_exporter": "python",
   "pygments_lexer": "ipython3",
   "version": "3.8.8"
  }
 },
 "nbformat": 4,
 "nbformat_minor": 5
}
