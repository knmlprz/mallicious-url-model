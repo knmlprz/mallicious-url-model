{
 "cells": [
  {
   "cell_type": "markdown",
   "metadata": {
    "collapsed": true,
    "pycharm": {
     "name": "#%% md\n"
    }
   },
   "source": [
    "# Bad URLs extractor\n",
    "\n",
    "---\n",
    "\n",
    "This notebook explains what exactly was kept and what was deleted from original\n",
    "datasets"
   ]
  },
  {
   "cell_type": "code",
   "execution_count": 4,
   "outputs": [
    {
     "name": "stdout",
     "output_type": "stream",
     "text": [
      "Populating the interactive namespace from numpy and matplotlib\n"
     ]
    }
   ],
   "source": [
    "%pylab inline\n",
    "import pandas as pd\n",
    "from IPython.display import display\n",
    "import bad_URLs_API\n",
    "\n",
    "# URLs-bad\n",
    "ISCX_DEFACEMENT_PATH = \"Data/URLs-bad/ISCX_defacement.csv\"\n",
    "ISCX_MALWARE_PATH = \"Data/URLs-bad/ISCX_malware.csv\"\n",
    "ISCX_PHISHING_PATH = \"Data/URLs-bad/ISCX_phishing.csv\"\n",
    "ISCX_SPAM_PATH = \"Data/URLs-bad/ISCX_spam.csv\"\n",
    "\n",
    "CERT_URL = \"https://hole.cert.pl/domains/domains.json\"\n",
    "PHISHTANK_URL = \"http://data.phishtank.com/data/online-valid.json\"\n",
    "OPENFISH_URL = \"https://openphish.com/feed.txt\"\n",
    "AA419_URL = \"https://api.aa419.org/fakesites/\"\n",
    "AA419_API_KEY = \"\"\n",
    "\n",
    "# URLs-mixed\n",
    "KAGGLE_LABELED_PATH = \"Data/URLs-mixed/kaggle_labeled.csv\"\n",
    "MENDELEY_LABEL1M_PATH = \"Data/URLs-mixed/mendeley_label1m_s.csv\"\n",
    "MENDELEY_LABEL300K_PATH = \"Data/URLs-mixed/mendeley_label300k_s.csv\"\n",
    "PHISH_STORM_PATH = \"Data/URLs-mixed/phish_storm.csv\""
   ],
   "metadata": {
    "collapsed": false,
    "pycharm": {
     "name": "#%%\n"
    }
   }
  },
  {
   "cell_type": "code",
   "execution_count": 5,
   "outputs": [
    {
     "name": "stdout",
     "output_type": "stream",
     "text": [
      "ISCX2016 defacement 96k:\n"
     ]
    },
    {
     "data": {
      "text/plain": "                                              domain\n0        http://www.sinduscongoias.com.br/index.html\n1  http://www.sinduscongoias.com.br/index.php/ins...\n2  http://www.sinduscongoias.com.br/index.php/ins...\n3  http://www.sinduscongoias.com.br/index.php/ins...\n4  http://www.sinduscongoias.com.br/index.php/ins...\n5  http://www.sinduscongoias.com.br/index.php/ins...",
      "text/html": "<div>\n<style scoped>\n    .dataframe tbody tr th:only-of-type {\n        vertical-align: middle;\n    }\n\n    .dataframe tbody tr th {\n        vertical-align: top;\n    }\n\n    .dataframe thead th {\n        text-align: right;\n    }\n</style>\n<table border=\"1\" class=\"dataframe\">\n  <thead>\n    <tr style=\"text-align: right;\">\n      <th></th>\n      <th>domain</th>\n    </tr>\n  </thead>\n  <tbody>\n    <tr>\n      <th>0</th>\n      <td>http://www.sinduscongoias.com.br/index.html</td>\n    </tr>\n    <tr>\n      <th>1</th>\n      <td>http://www.sinduscongoias.com.br/index.php/ins...</td>\n    </tr>\n    <tr>\n      <th>2</th>\n      <td>http://www.sinduscongoias.com.br/index.php/ins...</td>\n    </tr>\n    <tr>\n      <th>3</th>\n      <td>http://www.sinduscongoias.com.br/index.php/ins...</td>\n    </tr>\n    <tr>\n      <th>4</th>\n      <td>http://www.sinduscongoias.com.br/index.php/ins...</td>\n    </tr>\n    <tr>\n      <th>5</th>\n      <td>http://www.sinduscongoias.com.br/index.php/ins...</td>\n    </tr>\n  </tbody>\n</table>\n</div>"
     },
     "execution_count": 5,
     "metadata": {},
     "output_type": "execute_result"
    }
   ],
   "source": [
    "print('ISCX2016 defacement 96k:')\n",
    "iscx_defacement = pd.read_csv(\n",
    "    ISCX_DEFACEMENT_PATH,\n",
    "    names=['domain']\n",
    ")\n",
    "iscx_defacement.head(6)"
   ],
   "metadata": {
    "collapsed": false,
    "pycharm": {
     "name": "#%%\n"
    }
   }
  },
  {
   "cell_type": "code",
   "execution_count": 6,
   "outputs": [
    {
     "name": "stdout",
     "output_type": "stream",
     "text": [
      "ISCX2016 malware 11k:\n"
     ]
    },
    {
     "data": {
      "text/plain": "                                              domain\n0  http://gzzax.livechatvalue.com/chat/chatClient...\n1  http://gzzax.livechatvalue.com/chat/chatClient...\n2  http://gzzax.livechatvalue.com/chat/chatClient...\n3  http://gzzax.livechatvalue.com/chat/chatClient...\n4  http://mtsx.com.cn/UploadFiles/2011-08/admin/%...\n5  http://mtsx.com.cn/UploadFiles/2011-08/admin/%...",
      "text/html": "<div>\n<style scoped>\n    .dataframe tbody tr th:only-of-type {\n        vertical-align: middle;\n    }\n\n    .dataframe tbody tr th {\n        vertical-align: top;\n    }\n\n    .dataframe thead th {\n        text-align: right;\n    }\n</style>\n<table border=\"1\" class=\"dataframe\">\n  <thead>\n    <tr style=\"text-align: right;\">\n      <th></th>\n      <th>domain</th>\n    </tr>\n  </thead>\n  <tbody>\n    <tr>\n      <th>0</th>\n      <td>http://gzzax.livechatvalue.com/chat/chatClient...</td>\n    </tr>\n    <tr>\n      <th>1</th>\n      <td>http://gzzax.livechatvalue.com/chat/chatClient...</td>\n    </tr>\n    <tr>\n      <th>2</th>\n      <td>http://gzzax.livechatvalue.com/chat/chatClient...</td>\n    </tr>\n    <tr>\n      <th>3</th>\n      <td>http://gzzax.livechatvalue.com/chat/chatClient...</td>\n    </tr>\n    <tr>\n      <th>4</th>\n      <td>http://mtsx.com.cn/UploadFiles/2011-08/admin/%...</td>\n    </tr>\n    <tr>\n      <th>5</th>\n      <td>http://mtsx.com.cn/UploadFiles/2011-08/admin/%...</td>\n    </tr>\n  </tbody>\n</table>\n</div>"
     },
     "execution_count": 6,
     "metadata": {},
     "output_type": "execute_result"
    }
   ],
   "source": [
    "print('ISCX2016 malware 11k:')\n",
    "iscx_malware = pd.read_csv(\n",
    "    ISCX_MALWARE_PATH,\n",
    "    names=['domain']\n",
    ")\n",
    "iscx_malware.head(6)"
   ],
   "metadata": {
    "collapsed": false,
    "pycharm": {
     "name": "#%%\n"
    }
   }
  },
  {
   "cell_type": "code",
   "execution_count": 7,
   "outputs": [
    {
     "name": "stdout",
     "output_type": "stream",
     "text": [
      "ISCX2016 phishing 10k:\n"
     ]
    },
    {
     "data": {
      "text/plain": "                                              domain\n0  http://v2.email-marketing.adminsimple.com/trac...\n1  http://bid.openx.net/json?amp;amp;amp;amp;cid;...\n2  http://webmail2.centurytel.net/hwebmail/servic...\n3  http://www.google.com.ng/imgres?imgurl=http://...\n4  http://webmail2.centurytel.net/hwebmail/servic...\n5  http://www.liceonuzzi.it/cmd=_Inf/connectionSt...",
      "text/html": "<div>\n<style scoped>\n    .dataframe tbody tr th:only-of-type {\n        vertical-align: middle;\n    }\n\n    .dataframe tbody tr th {\n        vertical-align: top;\n    }\n\n    .dataframe thead th {\n        text-align: right;\n    }\n</style>\n<table border=\"1\" class=\"dataframe\">\n  <thead>\n    <tr style=\"text-align: right;\">\n      <th></th>\n      <th>domain</th>\n    </tr>\n  </thead>\n  <tbody>\n    <tr>\n      <th>0</th>\n      <td>http://v2.email-marketing.adminsimple.com/trac...</td>\n    </tr>\n    <tr>\n      <th>1</th>\n      <td>http://bid.openx.net/json?amp;amp;amp;amp;cid;...</td>\n    </tr>\n    <tr>\n      <th>2</th>\n      <td>http://webmail2.centurytel.net/hwebmail/servic...</td>\n    </tr>\n    <tr>\n      <th>3</th>\n      <td>http://www.google.com.ng/imgres?imgurl=http://...</td>\n    </tr>\n    <tr>\n      <th>4</th>\n      <td>http://webmail2.centurytel.net/hwebmail/servic...</td>\n    </tr>\n    <tr>\n      <th>5</th>\n      <td>http://www.liceonuzzi.it/cmd=_Inf/connectionSt...</td>\n    </tr>\n  </tbody>\n</table>\n</div>"
     },
     "execution_count": 7,
     "metadata": {},
     "output_type": "execute_result"
    }
   ],
   "source": [
    "print('ISCX2016 phishing 10k:')\n",
    "iscx_phishing = pd.read_csv(\n",
    "    ISCX_PHISHING_PATH,\n",
    "    names=['domain']\n",
    ")\n",
    "iscx_phishing.head(6)"
   ],
   "metadata": {
    "collapsed": false,
    "pycharm": {
     "name": "#%%\n"
    }
   }
  },
  {
   "cell_type": "code",
   "execution_count": 8,
   "outputs": [
    {
     "name": "stdout",
     "output_type": "stream",
     "text": [
      "ISCX2016 spam 10k:\n"
     ]
    },
    {
     "data": {
      "text/plain": "                                              domain\n0  http://astore.amazon.co.uk/allezvinsfrenchr/de...\n1  http://archive.salisburyjournal.co.uk/2007/3/6...\n2     http://appbasic.jettons.co.uk/links/index.html\n3  http://archive.yorkpress.co.uk/2003/11/6/25684...\n4  http://acard4u.co.uk/product_reviews.php?cPath...\n5  http://amazon.co.uk/s/ref=amb_link_22202665_32...",
      "text/html": "<div>\n<style scoped>\n    .dataframe tbody tr th:only-of-type {\n        vertical-align: middle;\n    }\n\n    .dataframe tbody tr th {\n        vertical-align: top;\n    }\n\n    .dataframe thead th {\n        text-align: right;\n    }\n</style>\n<table border=\"1\" class=\"dataframe\">\n  <thead>\n    <tr style=\"text-align: right;\">\n      <th></th>\n      <th>domain</th>\n    </tr>\n  </thead>\n  <tbody>\n    <tr>\n      <th>0</th>\n      <td>http://astore.amazon.co.uk/allezvinsfrenchr/de...</td>\n    </tr>\n    <tr>\n      <th>1</th>\n      <td>http://archive.salisburyjournal.co.uk/2007/3/6...</td>\n    </tr>\n    <tr>\n      <th>2</th>\n      <td>http://appbasic.jettons.co.uk/links/index.html</td>\n    </tr>\n    <tr>\n      <th>3</th>\n      <td>http://archive.yorkpress.co.uk/2003/11/6/25684...</td>\n    </tr>\n    <tr>\n      <th>4</th>\n      <td>http://acard4u.co.uk/product_reviews.php?cPath...</td>\n    </tr>\n    <tr>\n      <th>5</th>\n      <td>http://amazon.co.uk/s/ref=amb_link_22202665_32...</td>\n    </tr>\n  </tbody>\n</table>\n</div>"
     },
     "execution_count": 8,
     "metadata": {},
     "output_type": "execute_result"
    }
   ],
   "source": [
    "print('ISCX2016 spam 10k:')\n",
    "iscx_spam = pd.read_csv(\n",
    "    ISCX_SPAM_PATH,\n",
    "    names=['domain']\n",
    ")\n",
    "iscx_spam.head(6)"
   ],
   "metadata": {
    "collapsed": false,
    "pycharm": {
     "name": "#%%\n"
    }
   }
  },
  {
   "cell_type": "code",
   "execution_count": 9,
   "outputs": [
    {
     "name": "stdout",
     "output_type": "stream",
     "text": [
      "CERT Poland 15k:\n",
      "\n",
      "The following columns were dropped: ['RegisterPositionId', 'InsertDate', 'DeleteDate']\n"
     ]
    },
    {
     "data": {
      "text/plain": "   RegisterPositionId                        domain           InsertDate  \\\n0               14555             safety.inpost.cam  2021-04-29T18:25:08   \n1               14554  wiadomosci-j24.cleverapps.io  2021-04-29T18:25:04   \n2               14553          www.olx.kontopl.link  2021-04-29T17:57:55   \n3               14552       www.olx.kontopl.monster  2021-04-29T17:57:50   \n4               14551              olx.kontopl.link  2021-04-29T17:57:46   \n5               14550           olx.kontopl.monster  2021-04-29T17:57:36   \n\n  DeleteDate  \n0       None  \n1       None  \n2       None  \n3       None  \n4       None  \n5       None  ",
      "text/html": "<div>\n<style scoped>\n    .dataframe tbody tr th:only-of-type {\n        vertical-align: middle;\n    }\n\n    .dataframe tbody tr th {\n        vertical-align: top;\n    }\n\n    .dataframe thead th {\n        text-align: right;\n    }\n</style>\n<table border=\"1\" class=\"dataframe\">\n  <thead>\n    <tr style=\"text-align: right;\">\n      <th></th>\n      <th>RegisterPositionId</th>\n      <th>domain</th>\n      <th>InsertDate</th>\n      <th>DeleteDate</th>\n    </tr>\n  </thead>\n  <tbody>\n    <tr>\n      <th>0</th>\n      <td>14555</td>\n      <td>safety.inpost.cam</td>\n      <td>2021-04-29T18:25:08</td>\n      <td>None</td>\n    </tr>\n    <tr>\n      <th>1</th>\n      <td>14554</td>\n      <td>wiadomosci-j24.cleverapps.io</td>\n      <td>2021-04-29T18:25:04</td>\n      <td>None</td>\n    </tr>\n    <tr>\n      <th>2</th>\n      <td>14553</td>\n      <td>www.olx.kontopl.link</td>\n      <td>2021-04-29T17:57:55</td>\n      <td>None</td>\n    </tr>\n    <tr>\n      <th>3</th>\n      <td>14552</td>\n      <td>www.olx.kontopl.monster</td>\n      <td>2021-04-29T17:57:50</td>\n      <td>None</td>\n    </tr>\n    <tr>\n      <th>4</th>\n      <td>14551</td>\n      <td>olx.kontopl.link</td>\n      <td>2021-04-29T17:57:46</td>\n      <td>None</td>\n    </tr>\n    <tr>\n      <th>5</th>\n      <td>14550</td>\n      <td>olx.kontopl.monster</td>\n      <td>2021-04-29T17:57:36</td>\n      <td>None</td>\n    </tr>\n  </tbody>\n</table>\n</div>"
     },
     "metadata": {},
     "output_type": "display_data"
    }
   ],
   "source": [
    "print('CERT Poland 15k:')\n",
    "poland_cert_chaste = bad_URLs_API.PolandCERT(CERT_URL)\n",
    "drop_list = ['RegisterPositionId', 'InsertDate', 'DeleteDate']\n",
    "\n",
    "poland_cert = poland_cert_chaste.drop(drop_list, axis='columns')\n",
    "print(\n",
    "    # TODO: Probably we should delete all rows where DeleteDate exists\n",
    "    #  case now they are benign URLs.\n",
    "    # \"\\nAll rows with any 'DeleteDate' were dropped.\",\n",
    "    \"\\nThe following columns were dropped:\",\n",
    "    drop_list,\n",
    ")\n",
    "display(poland_cert_chaste.head(6))\n",
    "del poland_cert_chaste, drop_list"
   ],
   "metadata": {
    "collapsed": false,
    "pycharm": {
     "name": "#%%\n"
    }
   }
  },
  {
   "cell_type": "code",
   "execution_count": 10,
   "outputs": [
    {
     "name": "stdout",
     "output_type": "stream",
     "text": [
      "PhishTank 10k:\n",
      "\n",
      "The following columns were dropped:\n",
      " ['phish_detail_url', 'phish_id', 'submission_time', 'verification_time']\n"
     ]
    },
    {
     "data": {
      "text/plain": "   phish_id                                             domain  \\\n0   7090941                https://my.narmsinc.org/db/wggebbm/   \n1   7090933        http://about.fromnewamazoninformation.work/   \n2   7090928                       https://pay65-olx.pl/payment   \n3   7090923            https://pay65-olx.pl/track?id=458923344   \n4   7090918   https://signinmicrocheckingattserver.weebly.com/   \n5   7090891  https://wiki.oceanreeflifegame.com/wp-admin/cs...   \n\n                                    phish_detail_url  \\\n0  http://www.phishtank.com/phish_detail.php?phis...   \n1  http://www.phishtank.com/phish_detail.php?phis...   \n2  http://www.phishtank.com/phish_detail.php?phis...   \n3  http://www.phishtank.com/phish_detail.php?phis...   \n4  http://www.phishtank.com/phish_detail.php?phis...   \n5  http://www.phishtank.com/phish_detail.php?phis...   \n\n            submission_time verified         verification_time online  \\\n0 2021-04-29 21:25:33+00:00      yes 2021-04-29 21:27:15+00:00    yes   \n1 2021-04-29 21:11:01+00:00      yes 2021-04-29 21:14:40+00:00    yes   \n2 2021-04-29 21:08:52+00:00      yes 2021-04-29 21:14:40+00:00    yes   \n3 2021-04-29 21:06:50+00:00      yes 2021-04-29 21:09:06+00:00    yes   \n4 2021-04-29 21:01:18+00:00      yes 2021-04-29 21:02:51+00:00    yes   \n5 2021-04-29 20:14:34+00:00      yes 2021-04-29 20:17:26+00:00    yes   \n\n                                             details           target  \n0  [{'ip_address': '199.188.206.83', 'cidr_block'...            Other  \n1  [{'ip_address': '204.44.94.126', 'cidr_block':...            Other  \n2  [{'ip_address': '104.21.11.118', 'cidr_block':...  PKO Polish Bank  \n3  [{'ip_address': '104.21.11.118', 'cidr_block':...  PKO Polish Bank  \n4  [{'ip_address': '199.34.228.54', 'cidr_block':...            Other  \n5  [{'ip_address': '104.131.12.65', 'cidr_block':...            Other  ",
      "text/html": "<div>\n<style scoped>\n    .dataframe tbody tr th:only-of-type {\n        vertical-align: middle;\n    }\n\n    .dataframe tbody tr th {\n        vertical-align: top;\n    }\n\n    .dataframe thead th {\n        text-align: right;\n    }\n</style>\n<table border=\"1\" class=\"dataframe\">\n  <thead>\n    <tr style=\"text-align: right;\">\n      <th></th>\n      <th>phish_id</th>\n      <th>domain</th>\n      <th>phish_detail_url</th>\n      <th>submission_time</th>\n      <th>verified</th>\n      <th>verification_time</th>\n      <th>online</th>\n      <th>details</th>\n      <th>target</th>\n    </tr>\n  </thead>\n  <tbody>\n    <tr>\n      <th>0</th>\n      <td>7090941</td>\n      <td>https://my.narmsinc.org/db/wggebbm/</td>\n      <td>http://www.phishtank.com/phish_detail.php?phis...</td>\n      <td>2021-04-29 21:25:33+00:00</td>\n      <td>yes</td>\n      <td>2021-04-29 21:27:15+00:00</td>\n      <td>yes</td>\n      <td>[{'ip_address': '199.188.206.83', 'cidr_block'...</td>\n      <td>Other</td>\n    </tr>\n    <tr>\n      <th>1</th>\n      <td>7090933</td>\n      <td>http://about.fromnewamazoninformation.work/</td>\n      <td>http://www.phishtank.com/phish_detail.php?phis...</td>\n      <td>2021-04-29 21:11:01+00:00</td>\n      <td>yes</td>\n      <td>2021-04-29 21:14:40+00:00</td>\n      <td>yes</td>\n      <td>[{'ip_address': '204.44.94.126', 'cidr_block':...</td>\n      <td>Other</td>\n    </tr>\n    <tr>\n      <th>2</th>\n      <td>7090928</td>\n      <td>https://pay65-olx.pl/payment</td>\n      <td>http://www.phishtank.com/phish_detail.php?phis...</td>\n      <td>2021-04-29 21:08:52+00:00</td>\n      <td>yes</td>\n      <td>2021-04-29 21:14:40+00:00</td>\n      <td>yes</td>\n      <td>[{'ip_address': '104.21.11.118', 'cidr_block':...</td>\n      <td>PKO Polish Bank</td>\n    </tr>\n    <tr>\n      <th>3</th>\n      <td>7090923</td>\n      <td>https://pay65-olx.pl/track?id=458923344</td>\n      <td>http://www.phishtank.com/phish_detail.php?phis...</td>\n      <td>2021-04-29 21:06:50+00:00</td>\n      <td>yes</td>\n      <td>2021-04-29 21:09:06+00:00</td>\n      <td>yes</td>\n      <td>[{'ip_address': '104.21.11.118', 'cidr_block':...</td>\n      <td>PKO Polish Bank</td>\n    </tr>\n    <tr>\n      <th>4</th>\n      <td>7090918</td>\n      <td>https://signinmicrocheckingattserver.weebly.com/</td>\n      <td>http://www.phishtank.com/phish_detail.php?phis...</td>\n      <td>2021-04-29 21:01:18+00:00</td>\n      <td>yes</td>\n      <td>2021-04-29 21:02:51+00:00</td>\n      <td>yes</td>\n      <td>[{'ip_address': '199.34.228.54', 'cidr_block':...</td>\n      <td>Other</td>\n    </tr>\n    <tr>\n      <th>5</th>\n      <td>7090891</td>\n      <td>https://wiki.oceanreeflifegame.com/wp-admin/cs...</td>\n      <td>http://www.phishtank.com/phish_detail.php?phis...</td>\n      <td>2021-04-29 20:14:34+00:00</td>\n      <td>yes</td>\n      <td>2021-04-29 20:17:26+00:00</td>\n      <td>yes</td>\n      <td>[{'ip_address': '104.131.12.65', 'cidr_block':...</td>\n      <td>Other</td>\n    </tr>\n  </tbody>\n</table>\n</div>"
     },
     "metadata": {},
     "output_type": "display_data"
    }
   ],
   "source": [
    "print('PhishTank 10k:')\n",
    "phish_tank_chaste = bad_URLs_API.PhishTank(PHISHTANK_URL)\n",
    "drop_list = ['phish_detail_url',\n",
    "             'phish_id',\n",
    "             'submission_time',\n",
    "             'verification_time']\n",
    "\n",
    "phish_tank = phish_tank_chaste.drop(drop_list, axis='columns')\n",
    "print(\n",
    "    \"\\nThe following columns were dropped:\\n\",\n",
    "    drop_list,\n",
    ")\n",
    "display(phish_tank_chaste.head(6))\n",
    "del phish_tank_chaste, drop_list"
   ],
   "metadata": {
    "collapsed": false,
    "pycharm": {
     "name": "#%%\n"
    }
   }
  },
  {
   "cell_type": "code",
   "execution_count": 11,
   "outputs": [
    {
     "name": "stdout",
     "output_type": "stream",
     "text": [
      "OpenFish 2k:\n"
     ]
    },
    {
     "data": {
      "text/plain": "                                              domain\n0  https://nathanmcguirelaw.com/c92955869504f8a1d...\n1  https://nathanmcguirelaw.com/c92955869504f8a1d...\n2  https://nathanmcguirelaw.com/a78e96857e9cc18c4...\n3  https://nathanmcguirelaw.com/a78e96857e9cc18c4...\n4  https://nathanmcguirelaw.com/cd826d9a22b9bc668...\n5  https://nathanmcguirelaw.com/cd826d9a22b9bc668...",
      "text/html": "<div>\n<style scoped>\n    .dataframe tbody tr th:only-of-type {\n        vertical-align: middle;\n    }\n\n    .dataframe tbody tr th {\n        vertical-align: top;\n    }\n\n    .dataframe thead th {\n        text-align: right;\n    }\n</style>\n<table border=\"1\" class=\"dataframe\">\n  <thead>\n    <tr style=\"text-align: right;\">\n      <th></th>\n      <th>domain</th>\n    </tr>\n  </thead>\n  <tbody>\n    <tr>\n      <th>0</th>\n      <td>https://nathanmcguirelaw.com/c92955869504f8a1d...</td>\n    </tr>\n    <tr>\n      <th>1</th>\n      <td>https://nathanmcguirelaw.com/c92955869504f8a1d...</td>\n    </tr>\n    <tr>\n      <th>2</th>\n      <td>https://nathanmcguirelaw.com/a78e96857e9cc18c4...</td>\n    </tr>\n    <tr>\n      <th>3</th>\n      <td>https://nathanmcguirelaw.com/a78e96857e9cc18c4...</td>\n    </tr>\n    <tr>\n      <th>4</th>\n      <td>https://nathanmcguirelaw.com/cd826d9a22b9bc668...</td>\n    </tr>\n    <tr>\n      <th>5</th>\n      <td>https://nathanmcguirelaw.com/cd826d9a22b9bc668...</td>\n    </tr>\n  </tbody>\n</table>\n</div>"
     },
     "execution_count": 11,
     "metadata": {},
     "output_type": "execute_result"
    }
   ],
   "source": [
    "print('OpenFish 2k:')\n",
    "open_fish = bad_URLs_API.OpenFish(OPENFISH_URL)\n",
    "open_fish.head(6)"
   ],
   "metadata": {
    "collapsed": false,
    "pycharm": {
     "name": "#%%\n"
    }
   }
  },
  {
   "cell_type": "markdown",
   "source": [
    "`bad_URLs_API.AA419().get_all()` makes about 300 requests to the server using\n",
    "only one thread. That is both, the reason why it is very slow, and why it is\n",
    "commented.\n",
    "\n",
    "`bad_URLs_API.AA419()` makes only 1 request instead.\n",
    "\n",
    "`Full-URLs-bad.*` already has first 144k domains."
   ],
   "metadata": {
    "collapsed": false,
    "pycharm": {
     "name": "#%% md\n"
    }
   }
  },
  {
   "cell_type": "code",
   "execution_count": 20,
   "outputs": [
    {
     "name": "stdout",
     "output_type": "stream",
     "text": [
      "Artists Against 419 144k:\n"
     ]
    },
    {
     "ename": "ValueError",
     "evalue": "Please, enter valid API key",
     "output_type": "error",
     "traceback": [
      "\u001B[1;31m---------------------------------------------------------------------------\u001B[0m",
      "\u001B[1;31mValueError\u001B[0m                                Traceback (most recent call last)",
      "\u001B[1;32m<ipython-input-20-a8933ed475e0>\u001B[0m in \u001B[0;36m<module>\u001B[1;34m\u001B[0m\n\u001B[0;32m      1\u001B[0m \u001B[0mprint\u001B[0m\u001B[1;33m(\u001B[0m\u001B[1;34m'Artists Against 419 144k:'\u001B[0m\u001B[1;33m)\u001B[0m\u001B[1;33m\u001B[0m\u001B[1;33m\u001B[0m\u001B[0m\n\u001B[0;32m      2\u001B[0m \u001B[1;32mif\u001B[0m \u001B[1;32mnot\u001B[0m \u001B[0mAA419_API_KEY\u001B[0m\u001B[1;33m:\u001B[0m\u001B[1;33m\u001B[0m\u001B[1;33m\u001B[0m\u001B[0m\n\u001B[1;32m----> 3\u001B[1;33m     \u001B[1;32mraise\u001B[0m \u001B[0mValueError\u001B[0m\u001B[1;33m(\u001B[0m\u001B[1;34m\"Please, enter valid API key\"\u001B[0m\u001B[1;33m)\u001B[0m\u001B[1;33m\u001B[0m\u001B[1;33m\u001B[0m\u001B[0m\n\u001B[0m\u001B[0;32m      4\u001B[0m \u001B[1;31m# aa419_chaste = bad_URLs_API.AA419(AA419_URL, AA419_API_KEY).get_all()\u001B[0m\u001B[1;33m\u001B[0m\u001B[1;33m\u001B[0m\u001B[1;33m\u001B[0m\u001B[0m\n\u001B[0;32m      5\u001B[0m \u001B[1;31m# For small tests use the following instead:\u001B[0m\u001B[1;33m\u001B[0m\u001B[1;33m\u001B[0m\u001B[1;33m\u001B[0m\u001B[0m\n",
      "\u001B[1;31mValueError\u001B[0m: Please, enter valid API key"
     ]
    }
   ],
   "source": [
    "print('Artists Against 419 144k:')\n",
    "if not AA419_API_KEY:\n",
    "    raise ValueError(\"Enter valid API key\")\n",
    "# aa419_chaste = bad_URLs_API.AA419(AA419_URL, AA419_API_KEY).get_all()\n",
    "# For small tests use the following instead:\n",
    "aa419_chaste_500 = bad_URLs_API.AA419(AA419_URL, AA419_API_KEY)\n",
    "drop_list = ['Id',\n",
    "             'Domain',\n",
    "             'DateAdded',\n",
    "             'Updated']\n",
    "\n",
    "# aa419 = aa419_chaste.drop(drop_list, axis='columns')\n",
    "aa419_500 = aa419_chaste_500.drop(drop_list, axis='columns')\n",
    "print(\n",
    "    \"\\nThe following columns were dropped:\\n\",\n",
    "    drop_list,\n",
    ")\n",
    "# display(aa419_chaste.head(6))\n",
    "# del aa419_chaste, drop_list\n",
    "display(aa419_chaste_500.head(6))\n",
    "del aa419_chaste_500, drop_list"
   ],
   "metadata": {
    "collapsed": false,
    "pycharm": {
     "name": "#%%\n"
    }
   }
  },
  {
   "cell_type": "code",
   "execution_count": 15,
   "outputs": [
    {
     "name": "stdout",
     "output_type": "stream",
     "text": [
      "Kaggle labeled 345k:\n",
      "\n",
      "All rows with 'good' label were dropped. \n",
      "'label' column was also dropped.\n",
      "\n",
      "'url' renamed to 'domain'\n",
      "\n"
     ]
    },
    {
     "data": {
      "text/plain": "                      url label\n0  diaryofagameaddict.com   bad\n1        espdesign.com.au   bad\n2      iamagameaddict.com   bad\n3           kalantzis.net   bad\n4   slightlyoffcenter.net   bad\n5        toddscarwash.com   bad",
      "text/html": "<div>\n<style scoped>\n    .dataframe tbody tr th:only-of-type {\n        vertical-align: middle;\n    }\n\n    .dataframe tbody tr th {\n        vertical-align: top;\n    }\n\n    .dataframe thead th {\n        text-align: right;\n    }\n</style>\n<table border=\"1\" class=\"dataframe\">\n  <thead>\n    <tr style=\"text-align: right;\">\n      <th></th>\n      <th>url</th>\n      <th>label</th>\n    </tr>\n  </thead>\n  <tbody>\n    <tr>\n      <th>0</th>\n      <td>diaryofagameaddict.com</td>\n      <td>bad</td>\n    </tr>\n    <tr>\n      <th>1</th>\n      <td>espdesign.com.au</td>\n      <td>bad</td>\n    </tr>\n    <tr>\n      <th>2</th>\n      <td>iamagameaddict.com</td>\n      <td>bad</td>\n    </tr>\n    <tr>\n      <th>3</th>\n      <td>kalantzis.net</td>\n      <td>bad</td>\n    </tr>\n    <tr>\n      <th>4</th>\n      <td>slightlyoffcenter.net</td>\n      <td>bad</td>\n    </tr>\n    <tr>\n      <th>5</th>\n      <td>toddscarwash.com</td>\n      <td>bad</td>\n    </tr>\n  </tbody>\n</table>\n</div>"
     },
     "metadata": {},
     "output_type": "display_data"
    }
   ],
   "source": [
    "print('Kaggle labeled 345k:')\n",
    "kaggle_labeled_chaste = pd.read_csv(\n",
    "    KAGGLE_LABELED_PATH\n",
    ")\n",
    "\n",
    "kaggle_labeled = kaggle_labeled_chaste[kaggle_labeled_chaste.label == 'bad']\\\n",
    "    .drop('label', axis='columns')\n",
    "kaggle_labeled.reset_index(drop=True,\n",
    "                           inplace=True)\n",
    "kaggle_labeled.columns = ['domain']\n",
    "\n",
    "print(\n",
    "    \"\\nAll rows with 'good' label were dropped.\",\n",
    "    \"\\n'label' column was also dropped.\"\n",
    "    \"\\n\\n'url' renamed to 'domain'\\n\"\n",
    ")\n",
    "\n",
    "display(kaggle_labeled_chaste.head(6))\n",
    "del kaggle_labeled_chaste"
   ],
   "metadata": {
    "collapsed": false,
    "pycharm": {
     "name": "#%%\n"
    }
   }
  },
  {
   "cell_type": "code",
   "execution_count": 16,
   "outputs": [
    {
     "name": "stdout",
     "output_type": "stream",
     "text": [
      "Mendeley labeled 1.2m:\n"
     ]
    },
    {
     "name": "stderr",
     "output_type": "stream",
     "text": [
      "c:\\users\\vital\\appdata\\local\\programs\\python\\python39\\lib\\site-packages\\numpy\\lib\\arraysetops.py:583: FutureWarning: elementwise comparison failed; returning scalar instead, but in the future will perform elementwise comparison\n",
      "  mask |= (ar1 == a)\n"
     ]
    },
    {
     "name": "stdout",
     "output_type": "stream",
     "text": [
      "\n",
      "All rows with 'good' label were dropped. \n",
      "\n",
      "The following columns were dropped: ['label'] \n",
      "\n",
      "'url' renamed to 'domain'\n",
      "\n"
     ]
    },
    {
     "data": {
      "text/plain": "                                        url         ip_add        geo_loc  \\\n0  http://members.tripod.com/russiastation/  42.77.221.155         Taiwan   \n1          http://www.ddj.com/cpp/184403822  3.211.202.180  United States   \n2                  http://www.naef-usa.com/   24.232.54.41      Argentina   \n3                     http://www.ff-b2b.de/   147.22.38.45  United States   \n4       http://us.imdb.com/title/tt0176269/  205.30.239.85  United States   \n5  http://efilmcritic.com/hbs.cgi?movie=311    8.28.167.23  United States   \n\n  who_is  js_len  js_obf_len label  \n0      +    58.0         0.0     +  \n1      +    52.5         0.0     +  \n2      +   103.5         0.0     +  \n3      -   720.0       532.8     -  \n4      +    46.5         0.0     +  \n5      +    39.5         0.0     +  ",
      "text/html": "<div>\n<style scoped>\n    .dataframe tbody tr th:only-of-type {\n        vertical-align: middle;\n    }\n\n    .dataframe tbody tr th {\n        vertical-align: top;\n    }\n\n    .dataframe thead th {\n        text-align: right;\n    }\n</style>\n<table border=\"1\" class=\"dataframe\">\n  <thead>\n    <tr style=\"text-align: right;\">\n      <th></th>\n      <th>url</th>\n      <th>ip_add</th>\n      <th>geo_loc</th>\n      <th>who_is</th>\n      <th>js_len</th>\n      <th>js_obf_len</th>\n      <th>label</th>\n    </tr>\n  </thead>\n  <tbody>\n    <tr>\n      <th>0</th>\n      <td>http://members.tripod.com/russiastation/</td>\n      <td>42.77.221.155</td>\n      <td>Taiwan</td>\n      <td>+</td>\n      <td>58.0</td>\n      <td>0.0</td>\n      <td>+</td>\n    </tr>\n    <tr>\n      <th>1</th>\n      <td>http://www.ddj.com/cpp/184403822</td>\n      <td>3.211.202.180</td>\n      <td>United States</td>\n      <td>+</td>\n      <td>52.5</td>\n      <td>0.0</td>\n      <td>+</td>\n    </tr>\n    <tr>\n      <th>2</th>\n      <td>http://www.naef-usa.com/</td>\n      <td>24.232.54.41</td>\n      <td>Argentina</td>\n      <td>+</td>\n      <td>103.5</td>\n      <td>0.0</td>\n      <td>+</td>\n    </tr>\n    <tr>\n      <th>3</th>\n      <td>http://www.ff-b2b.de/</td>\n      <td>147.22.38.45</td>\n      <td>United States</td>\n      <td>-</td>\n      <td>720.0</td>\n      <td>532.8</td>\n      <td>-</td>\n    </tr>\n    <tr>\n      <th>4</th>\n      <td>http://us.imdb.com/title/tt0176269/</td>\n      <td>205.30.239.85</td>\n      <td>United States</td>\n      <td>+</td>\n      <td>46.5</td>\n      <td>0.0</td>\n      <td>+</td>\n    </tr>\n    <tr>\n      <th>5</th>\n      <td>http://efilmcritic.com/hbs.cgi?movie=311</td>\n      <td>8.28.167.23</td>\n      <td>United States</td>\n      <td>+</td>\n      <td>39.5</td>\n      <td>0.0</td>\n      <td>+</td>\n    </tr>\n  </tbody>\n</table>\n</div>"
     },
     "metadata": {},
     "output_type": "display_data"
    }
   ],
   "source": [
    "print('Mendeley labeled 1.2m:')\n",
    "mendeley_label1m_chaste = pd.read_csv(\n",
    "    MENDELEY_LABEL1M_PATH,\n",
    "    index_col=0\n",
    ")\n",
    "\n",
    "mendeley_label1m = mendeley_label1m_chaste.rename(columns = {'url':'domain'})\n",
    "mendeley_label1m = mendeley_label1m[mendeley_label1m.label == '-']\n",
    "drop_list = ['label'] # + 'content', 'tld', 'https', 'url_len'\n",
    "mendeley_label1m.drop(\n",
    "    drop_list,\n",
    "    axis='columns',\n",
    "    inplace=True\n",
    ")\n",
    "mendeley_label1m.reset_index(drop=True,\n",
    "                             inplace=True)\n",
    "print(\n",
    "    \"\\nAll rows with 'good' label were dropped.\",\n",
    "    \"\\n\\nThe following columns were dropped:\",\n",
    "    drop_list,\n",
    "    \"\\n\\n'url' renamed to 'domain'\\n\"\n",
    ")\n",
    "display(mendeley_label1m_chaste.head(6))\n",
    "del mendeley_label1m_chaste"
   ],
   "metadata": {
    "collapsed": false,
    "pycharm": {
     "name": "#%%\n"
    }
   }
  },
  {
   "cell_type": "code",
   "execution_count": 17,
   "outputs": [
    {
     "name": "stdout",
     "output_type": "stream",
     "text": [
      "Mendeley labeled 300k:\n",
      "\n",
      "All rows with 'good' label were dropped. \n",
      "\n",
      "The following columns were dropped: ['label'] \n",
      "\n",
      "'url' renamed to 'domain'\n",
      "\n"
     ]
    },
    {
     "data": {
      "text/plain": "                                                 url           ip_add  \\\n0               http://www.dutchthewiz.com/freeware/    175.67.214.68   \n1                   http://www.collectiblejewels.com  188.120.171.121   \n2                        http://www.deadlinedata.com     193.51.170.1   \n3  http://www.mil.fi/maavoimat/kalustoesittely/00...     13.237.35.44   \n4           http://www.avclub.com/content/node/24539    220.193.62.89   \n5                 http://www.yellowstone.net/baptist    13.122.80.132   \n\n         geo_loc who_is  js_len  js_obf_len label  \n0          China      +    38.5         0.0     +  \n1         Sweden      -   187.0         0.0     +  \n2         France      +    31.0         0.0     +  \n3      Australia      +   152.0         0.0     +  \n4          China      +   150.0         0.0     +  \n5  United States      +   140.5         0.0     +  ",
      "text/html": "<div>\n<style scoped>\n    .dataframe tbody tr th:only-of-type {\n        vertical-align: middle;\n    }\n\n    .dataframe tbody tr th {\n        vertical-align: top;\n    }\n\n    .dataframe thead th {\n        text-align: right;\n    }\n</style>\n<table border=\"1\" class=\"dataframe\">\n  <thead>\n    <tr style=\"text-align: right;\">\n      <th></th>\n      <th>url</th>\n      <th>ip_add</th>\n      <th>geo_loc</th>\n      <th>who_is</th>\n      <th>js_len</th>\n      <th>js_obf_len</th>\n      <th>label</th>\n    </tr>\n  </thead>\n  <tbody>\n    <tr>\n      <th>0</th>\n      <td>http://www.dutchthewiz.com/freeware/</td>\n      <td>175.67.214.68</td>\n      <td>China</td>\n      <td>+</td>\n      <td>38.5</td>\n      <td>0.0</td>\n      <td>+</td>\n    </tr>\n    <tr>\n      <th>1</th>\n      <td>http://www.collectiblejewels.com</td>\n      <td>188.120.171.121</td>\n      <td>Sweden</td>\n      <td>-</td>\n      <td>187.0</td>\n      <td>0.0</td>\n      <td>+</td>\n    </tr>\n    <tr>\n      <th>2</th>\n      <td>http://www.deadlinedata.com</td>\n      <td>193.51.170.1</td>\n      <td>France</td>\n      <td>+</td>\n      <td>31.0</td>\n      <td>0.0</td>\n      <td>+</td>\n    </tr>\n    <tr>\n      <th>3</th>\n      <td>http://www.mil.fi/maavoimat/kalustoesittely/00...</td>\n      <td>13.237.35.44</td>\n      <td>Australia</td>\n      <td>+</td>\n      <td>152.0</td>\n      <td>0.0</td>\n      <td>+</td>\n    </tr>\n    <tr>\n      <th>4</th>\n      <td>http://www.avclub.com/content/node/24539</td>\n      <td>220.193.62.89</td>\n      <td>China</td>\n      <td>+</td>\n      <td>150.0</td>\n      <td>0.0</td>\n      <td>+</td>\n    </tr>\n    <tr>\n      <th>5</th>\n      <td>http://www.yellowstone.net/baptist</td>\n      <td>13.122.80.132</td>\n      <td>United States</td>\n      <td>+</td>\n      <td>140.5</td>\n      <td>0.0</td>\n      <td>+</td>\n    </tr>\n  </tbody>\n</table>\n</div>"
     },
     "metadata": {},
     "output_type": "display_data"
    }
   ],
   "source": [
    "print('Mendeley labeled 300k:')\n",
    "mendeley_label300k_chaste = pd.read_csv(\n",
    "    MENDELEY_LABEL300K_PATH,\n",
    "    index_col=0\n",
    ")\n",
    "\n",
    "mendeley_label300k = mendeley_label300k_chaste.rename(columns = {'url':'domain'})\n",
    "mendeley_label300k = mendeley_label300k[mendeley_label300k.label == '-']\n",
    "drop_list = ['label'] # + 'content', 'tld', 'https', 'url_len'\n",
    "mendeley_label300k.drop(\n",
    "    drop_list,\n",
    "    axis='columns',\n",
    "    inplace=True\n",
    ")\n",
    "mendeley_label300k.reset_index(drop=True,\n",
    "                             inplace=True)\n",
    "print(\n",
    "    \"\\nAll rows with 'good' label were dropped.\",\n",
    "    \"\\n\\nThe following columns were dropped:\",\n",
    "    drop_list,\n",
    "    \"\\n\\n'url' renamed to 'domain'\\n\"\n",
    ")\n",
    "display(mendeley_label300k_chaste.head(6))\n",
    "del mendeley_label300k_chaste, drop_list"
   ],
   "metadata": {
    "collapsed": false,
    "pycharm": {
     "name": "#%%\n"
    }
   }
  },
  {
   "cell_type": "code",
   "execution_count": 18,
   "outputs": [
    {
     "name": "stdout",
     "output_type": "stream",
     "text": [
      "PhisStorm data 96k:\n",
      "\n",
      "All rows with '0.0' label were dropped. \n",
      "\n",
      "The following columns were dropped: ['label', 'ranking']\n"
     ]
    },
    {
     "data": {
      "text/plain": "                                              domain   ranking  mld_res  \\\n0  nobell.it/70ffb52d079109dca5664cce6f317373782/...  10000000      1.0   \n1  www.dghjdgf.com/paypal.co.uk/cycgi-bin/webscrc...  10000000      0.0   \n2  serviciosbys.com/paypal.cgi.bin.get-into.herf....  10000000      0.0   \n3  mail.printakid.com/www.online.americanexpress....  10000000      0.0   \n4  thewhiskeydregs.com/wp-content/themes/widescre...  10000000      0.0   \n5               smilesvoegol.servebbs.org/voegol.php  10000000      0.0   \n\n   mld.ps_res  card_rem  ratio_Rrem  ratio_Arem  jaccard_RR  jaccard_RA  \\\n0         0.0        18  107.611111  107.277778         0.0         0.0   \n1         0.0        11  150.636364  152.272727         0.0         0.0   \n2         0.0        14   73.500000   72.642857         0.0         0.0   \n3         0.0         6  562.000000  590.666667         0.0         0.0   \n4         0.0         8   29.000000   24.125000         0.0         0.0   \n5         0.0         2  223.500000  234.000000         0.0         0.0   \n\n   jaccard_AR  jaccard_AA  jaccard_ARrd  jaccard_ARrem  label  \n0         0.0         0.0           0.8       0.795729    1.0  \n1         0.0         0.0           0.0       0.768577    1.0  \n2         0.0         0.0           0.0       0.726582    1.0  \n3         0.0         0.0           0.0       0.859640    1.0  \n4         0.0         0.0           0.0       0.748971    1.0  \n5         0.0         0.0           0.0       0.852227    1.0  ",
      "text/html": "<div>\n<style scoped>\n    .dataframe tbody tr th:only-of-type {\n        vertical-align: middle;\n    }\n\n    .dataframe tbody tr th {\n        vertical-align: top;\n    }\n\n    .dataframe thead th {\n        text-align: right;\n    }\n</style>\n<table border=\"1\" class=\"dataframe\">\n  <thead>\n    <tr style=\"text-align: right;\">\n      <th></th>\n      <th>domain</th>\n      <th>ranking</th>\n      <th>mld_res</th>\n      <th>mld.ps_res</th>\n      <th>card_rem</th>\n      <th>ratio_Rrem</th>\n      <th>ratio_Arem</th>\n      <th>jaccard_RR</th>\n      <th>jaccard_RA</th>\n      <th>jaccard_AR</th>\n      <th>jaccard_AA</th>\n      <th>jaccard_ARrd</th>\n      <th>jaccard_ARrem</th>\n      <th>label</th>\n    </tr>\n  </thead>\n  <tbody>\n    <tr>\n      <th>0</th>\n      <td>nobell.it/70ffb52d079109dca5664cce6f317373782/...</td>\n      <td>10000000</td>\n      <td>1.0</td>\n      <td>0.0</td>\n      <td>18</td>\n      <td>107.611111</td>\n      <td>107.277778</td>\n      <td>0.0</td>\n      <td>0.0</td>\n      <td>0.0</td>\n      <td>0.0</td>\n      <td>0.8</td>\n      <td>0.795729</td>\n      <td>1.0</td>\n    </tr>\n    <tr>\n      <th>1</th>\n      <td>www.dghjdgf.com/paypal.co.uk/cycgi-bin/webscrc...</td>\n      <td>10000000</td>\n      <td>0.0</td>\n      <td>0.0</td>\n      <td>11</td>\n      <td>150.636364</td>\n      <td>152.272727</td>\n      <td>0.0</td>\n      <td>0.0</td>\n      <td>0.0</td>\n      <td>0.0</td>\n      <td>0.0</td>\n      <td>0.768577</td>\n      <td>1.0</td>\n    </tr>\n    <tr>\n      <th>2</th>\n      <td>serviciosbys.com/paypal.cgi.bin.get-into.herf....</td>\n      <td>10000000</td>\n      <td>0.0</td>\n      <td>0.0</td>\n      <td>14</td>\n      <td>73.500000</td>\n      <td>72.642857</td>\n      <td>0.0</td>\n      <td>0.0</td>\n      <td>0.0</td>\n      <td>0.0</td>\n      <td>0.0</td>\n      <td>0.726582</td>\n      <td>1.0</td>\n    </tr>\n    <tr>\n      <th>3</th>\n      <td>mail.printakid.com/www.online.americanexpress....</td>\n      <td>10000000</td>\n      <td>0.0</td>\n      <td>0.0</td>\n      <td>6</td>\n      <td>562.000000</td>\n      <td>590.666667</td>\n      <td>0.0</td>\n      <td>0.0</td>\n      <td>0.0</td>\n      <td>0.0</td>\n      <td>0.0</td>\n      <td>0.859640</td>\n      <td>1.0</td>\n    </tr>\n    <tr>\n      <th>4</th>\n      <td>thewhiskeydregs.com/wp-content/themes/widescre...</td>\n      <td>10000000</td>\n      <td>0.0</td>\n      <td>0.0</td>\n      <td>8</td>\n      <td>29.000000</td>\n      <td>24.125000</td>\n      <td>0.0</td>\n      <td>0.0</td>\n      <td>0.0</td>\n      <td>0.0</td>\n      <td>0.0</td>\n      <td>0.748971</td>\n      <td>1.0</td>\n    </tr>\n    <tr>\n      <th>5</th>\n      <td>smilesvoegol.servebbs.org/voegol.php</td>\n      <td>10000000</td>\n      <td>0.0</td>\n      <td>0.0</td>\n      <td>2</td>\n      <td>223.500000</td>\n      <td>234.000000</td>\n      <td>0.0</td>\n      <td>0.0</td>\n      <td>0.0</td>\n      <td>0.0</td>\n      <td>0.0</td>\n      <td>0.852227</td>\n      <td>1.0</td>\n    </tr>\n  </tbody>\n</table>\n</div>"
     },
     "metadata": {},
     "output_type": "display_data"
    }
   ],
   "source": [
    "print('PhisStorm data 96k:')\n",
    "phish_storm_chaste = pd.read_csv(\n",
    "    PHISH_STORM_PATH\n",
    ")\n",
    "phish_storm = phish_storm_chaste[phish_storm_chaste.label == 1.0]\n",
    "drop_list = ['label', 'ranking']\n",
    "phish_storm = phish_storm.drop(\n",
    "    drop_list,\n",
    "    axis='columns'\n",
    ")\n",
    "print(\n",
    "    \"\\nAll rows with '0.0' label were dropped.\",\n",
    "    \"\\n\\nThe following columns were dropped:\",\n",
    "    drop_list,\n",
    ")\n",
    "display(phish_storm_chaste.head(6))\n",
    "del phish_storm_chaste, drop_list"
   ],
   "metadata": {
    "collapsed": false,
    "pycharm": {
     "name": "#%%\n"
    }
   }
  },
  {
   "cell_type": "code",
   "execution_count": 19,
   "outputs": [
    {
     "ename": "NameError",
     "evalue": "name 'aa419_500' is not defined",
     "output_type": "error",
     "traceback": [
      "\u001B[1;31m---------------------------------------------------------------------------\u001B[0m",
      "\u001B[1;31mNameError\u001B[0m                                 Traceback (most recent call last)",
      "\u001B[1;32m<ipython-input-19-c60ae05808e2>\u001B[0m in \u001B[0;36m<module>\u001B[1;34m\u001B[0m\n\u001B[0;32m      1\u001B[0m bad_df_to_concat = [\n\u001B[0;32m      2\u001B[0m     \u001B[1;31m# aa419,\u001B[0m\u001B[1;33m\u001B[0m\u001B[1;33m\u001B[0m\u001B[1;33m\u001B[0m\u001B[0m\n\u001B[1;32m----> 3\u001B[1;33m     \u001B[0maa419_500\u001B[0m\u001B[1;33m,\u001B[0m\u001B[1;33m\u001B[0m\u001B[1;33m\u001B[0m\u001B[0m\n\u001B[0m\u001B[0;32m      4\u001B[0m     \u001B[0miscx_defacement\u001B[0m\u001B[1;33m,\u001B[0m\u001B[1;33m\u001B[0m\u001B[1;33m\u001B[0m\u001B[0m\n\u001B[0;32m      5\u001B[0m     \u001B[0miscx_malware\u001B[0m\u001B[1;33m,\u001B[0m\u001B[1;33m\u001B[0m\u001B[1;33m\u001B[0m\u001B[0m\n",
      "\u001B[1;31mNameError\u001B[0m: name 'aa419_500' is not defined"
     ]
    }
   ],
   "source": [
    "bad_df_to_concat = [\n",
    "    # aa419,\n",
    "    aa419_500,\n",
    "    iscx_defacement,\n",
    "    iscx_malware,\n",
    "    iscx_phishing,\n",
    "    iscx_spam,\n",
    "    kaggle_labeled,\n",
    "    mendeley_label1m,\n",
    "    mendeley_label300k,\n",
    "    open_fish,\n",
    "    phish_storm,\n",
    "    phish_tank,\n",
    "    poland_cert\n",
    "]\n",
    "URLs_bad = pd.concat(bad_df_to_concat,\n",
    "                      axis=0,\n",
    "                      ignore_index=True)\n",
    "URLs_bad.head()"
   ],
   "metadata": {
    "collapsed": false,
    "pycharm": {
     "name": "#%%\n"
    }
   }
  }
 ],
 "metadata": {
  "kernelspec": {
   "display_name": "Python 3",
   "language": "python",
   "name": "python3"
  },
  "language_info": {
   "codemirror_mode": {
    "name": "ipython",
    "version": 2
   },
   "file_extension": ".py",
   "mimetype": "text/x-python",
   "name": "python",
   "nbconvert_exporter": "python",
   "pygments_lexer": "ipython2",
   "version": "2.7.6"
  }
 },
 "nbformat": 4,
 "nbformat_minor": 0
}